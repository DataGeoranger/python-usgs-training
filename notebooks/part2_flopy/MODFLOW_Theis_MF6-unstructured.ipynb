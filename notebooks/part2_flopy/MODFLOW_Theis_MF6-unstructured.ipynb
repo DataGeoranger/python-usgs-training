{
 "cells": [
  {
   "cell_type": "code",
   "execution_count": 1,
   "metadata": {},
   "outputs": [
    {
     "name": "stdout",
     "output_type": "stream",
     "text": [
      "flopy is installed in /Users/mnfienen/Documents/GIT/flopy/flopy\n"
     ]
    }
   ],
   "source": [
    "import numpy as np\n",
    "import flopy as fp\n",
    "import matplotlib.pyplot as plt\n",
    "%matplotlib inline\n",
    "import os\n",
    "from matplotlib.backends.backend_pdf import PdfPages"
   ]
  },
  {
   "cell_type": "code",
   "execution_count": 2,
   "metadata": {},
   "outputs": [],
   "source": [
    "model_dir = 'theis_flopy_mf6_unstruc'\n",
    "model_name = 'theis'\n",
    "if not os.path.exists(model_dir):\n",
    "    os.mkdir(model_dir)"
   ]
  },
  {
   "cell_type": "code",
   "execution_count": 3,
   "metadata": {},
   "outputs": [],
   "source": [
    "# create simulation\n",
    "sim = fp.mf6.MFSimulation(sim_name='theis_mf6', version='mf6', exe_name='mf6', \n",
    "                             sim_ws=model_dir)\n"
   ]
  },
  {
   "cell_type": "code",
   "execution_count": 4,
   "metadata": {},
   "outputs": [],
   "source": [
    "# create tdis package\n",
    "tdis_rc = [(86400.0, 75, 1.2)]\n",
    "tdis = fp.mf6.ModflowTdis(sim, pname='tdis', time_units='DAYS', \n",
    "                             perioddata=tdis_rc)"
   ]
  },
  {
   "cell_type": "code",
   "execution_count": 5,
   "metadata": {},
   "outputs": [],
   "source": [
    "# create gwf model\n",
    "gwf = fp.mf6.ModflowGwf(sim, modelname=model_name,\n",
    "                           model_nam_file='{}.nam'.format(model_name))\n",
    "gwf.name_file.save_flows = True"
   ]
  },
  {
   "cell_type": "code",
   "execution_count": 6,
   "metadata": {},
   "outputs": [],
   "source": [
    "# create iterative model solution and register the gwf model with it\n",
    "ims = fp.mf6.ModflowIms(sim, pname='ims', print_option='SUMMARY', \n",
    "                           complexity='SIMPLE', outer_hclose=1.e-2, \n",
    "                           outer_maximum=10, under_relaxation='NONE', \n",
    "                           inner_maximum=10, inner_hclose=1.e-4, \n",
    "                           rcloserecord=0.1, linear_acceleration='BICGSTAB', \n",
    "                           scaling_method='NONE', reordering_method='NONE', \n",
    "                           relaxation_factor=0.99)"
   ]
  },
  {
   "cell_type": "code",
   "execution_count": 7,
   "metadata": {},
   "outputs": [],
   "source": [
    "sim.register_ims_package(ims, [gwf.name])\n"
   ]
  },
  {
   "cell_type": "code",
   "execution_count": 8,
   "metadata": {},
   "outputs": [
    {
     "data": {
      "text/plain": [
       "1925.0"
      ]
     },
     "execution_count": 8,
     "metadata": {},
     "output_type": "execute_result"
    }
   ],
   "source": [
    "1001*100/52"
   ]
  },
  {
   "cell_type": "code",
   "execution_count": 9,
   "metadata": {},
   "outputs": [],
   "source": [
    "# dis\n",
    "nlay = 1\n",
    "nrow = 52\n",
    "ncol = 52\n",
    "delr = 1925\n",
    "delc = 1925\n",
    "top = 0\n",
    "botm = -1\n",
    "simfake = fp.mf6.MFSimulation(sim_name='theis_mf6', version='mf6', exe_name='mf6', \n",
    "                             sim_ws=model_dir)\n",
    "gwffake = fp.mf6.ModflowGwf(simfake, modelname=model_name,\n",
    "                           model_nam_file='{}.nam'.format(model_name))\n",
    "dis = fp.mf6.ModflowGwfdis(gwffake, nlay=nlay, nrow=nrow, ncol=ncol,\n",
    "                              delr=delr, delc=delc,\n",
    "                              top=top, botm=botm)"
   ]
  },
  {
   "cell_type": "code",
   "execution_count": 10,
   "metadata": {},
   "outputs": [],
   "source": [
    "from flopy.utils.gridgen import Gridgen \n",
    "g = Gridgen(dis, model_ws=model_dir, exe_name='gridgen')"
   ]
  },
  {
   "cell_type": "code",
   "execution_count": 11,
   "metadata": {},
   "outputs": [],
   "source": [
    "rf0shp = os.path.join(model_dir, 'rf0')\n",
    "xmin = 18 * delr\n",
    "xmax = 32 * delr\n",
    "ymin = 18 * delc\n",
    "ymax = 32 * delc\n",
    "rfpoly = [[[(xmin, ymin), (xmax, ymin), (xmax, ymax), (xmin, ymax), (xmin, ymin)]]]\n",
    "g.add_refinement_features(rfpoly, 'polygon', 1, range(nlay))\n",
    "\n",
    "rf1shp = os.path.join(model_dir, 'rf1')\n",
    "xmin = 20 * delr\n",
    "xmax = 30 * delr\n",
    "ymin = 20 * delc\n",
    "ymax = 30 * delc\n",
    "rfpoly = [[[(xmin, ymin), (xmax, ymin), (xmax, ymax), (xmin, ymax), (xmin, ymin)]]]\n",
    "g.add_refinement_features(rfpoly, 'polygon', 2, range(nlay))\n",
    "\n",
    "rf2shp = os.path.join(model_dir, 'rf2')\n",
    "xmin = 22 * delr\n",
    "xmax = 28 * delr\n",
    "ymin = 22 * delc\n",
    "ymax = 28 * delc\n",
    "rfpoly = [[[(xmin, ymin), (xmax, ymin), (xmax, ymax), (xmin, ymax), (xmin, ymin)]]]\n",
    "g.add_refinement_features(rfpoly, 'polygon', 3, range(nlay))\n",
    "\n",
    "rf3shp = os.path.join(model_dir, 'rf3')\n",
    "xmin = 24 * delr\n",
    "xmax = 26 * delr\n",
    "ymin = 24 * delc\n",
    "ymax = 26 * delc\n",
    "rfpoly = [[[(xmin, ymin), (xmax, ymin), (xmax, ymax), (xmin, ymax), (xmin, ymin)]]]\n",
    "g.add_refinement_features(rfpoly, 'polygon', 4, range(nlay))"
   ]
  },
  {
   "cell_type": "code",
   "execution_count": 12,
   "metadata": {},
   "outputs": [
    {
     "data": {
      "text/plain": [
       "<matplotlib.collections.PatchCollection at 0x117e7fa58>"
      ]
     },
     "execution_count": 12,
     "metadata": {},
     "output_type": "execute_result"
    },
    {
     "data": {
      "image/png": "[encoded data removed]",
      "text/plain": [
       "<Figure size 360x360 with 1 Axes>"
      ]
     },
     "metadata": {},
     "output_type": "display_data"
    }
   ],
   "source": [
    "fig = plt.figure(figsize=(5, 5))\n",
    "ax = fig.add_subplot(1, 1, 1, aspect='equal')\n",
    "mm = fp.plot.PlotMapView(model=gwffake)#, extent = (30 * delr,70 * delr,30 * delc, 70 * delc))\n",
    "mm.plot_grid()\n",
    "fp.plot.plot_shapefile(rf0shp, ax=ax, facecolor='blue', edgecolor='none')\n",
    "fp.plot.plot_shapefile(rf1shp, ax=ax, facecolor='yellow', edgecolor='none')\n",
    "fp.plot.plot_shapefile(rf2shp, ax=ax, facecolor='pink', edgecolor='none')\n",
    "fp.plot.plot_shapefile(rf3shp, ax=ax, facecolor='red', edgecolor='none')"
   ]
  },
  {
   "cell_type": "code",
   "execution_count": 13,
   "metadata": {},
   "outputs": [],
   "source": [
    "g.build()"
   ]
  },
  {
   "cell_type": "code",
   "execution_count": 14,
   "metadata": {},
   "outputs": [
    {
     "data": {
      "text/plain": [
       "(38500, 57750)"
      ]
     },
     "execution_count": 14,
     "metadata": {},
     "output_type": "execute_result"
    },
    {
     "data": {
      "image/png": "[encoded data removed]",
      "text/plain": [
       "<Figure size 360x360 with 1 Axes>"
      ]
     },
     "metadata": {},
     "output_type": "display_data"
    }
   ],
   "source": [
    "fig = plt.figure(figsize=(5, 5))\n",
    "ax = fig.add_subplot(1, 1, 1, aspect='equal')\n",
    "g.plot(ax, linewidth=0.5)\n",
    "plt.xlim((20*delr,30*delr))\n",
    "plt.ylim((20*delc,30*delc))"
   ]
  },
  {
   "cell_type": "code",
   "execution_count": 15,
   "metadata": {},
   "outputs": [],
   "source": [
    "gridprops = g.get_gridprops_disv()\n",
    "ncpl = gridprops['ncpl']\n",
    "top = gridprops['top']\n",
    "botm = gridprops['botm']\n",
    "nvert = gridprops['nvert']\n",
    "vertices = gridprops['vertices']\n",
    "cell2d = gridprops['cell2d']\n"
   ]
  },
  {
   "cell_type": "code",
   "execution_count": 16,
   "metadata": {},
   "outputs": [
    {
     "name": "stdout",
     "output_type": "stream",
     "text": [
      "WARNING: Unable to resolve dimension of ('gwf6', 'ic', 'griddata', 'strt', 'strt') based on shape \"nodes\".\n"
     ]
    }
   ],
   "source": [
    "# initial conditions\n",
    "ic = fp.mf6.ModflowGwfic(gwf, pname='ic', strt=0.)"
   ]
  },
  {
   "cell_type": "code",
   "execution_count": 17,
   "metadata": {},
   "outputs": [
    {
     "data": {
      "text/plain": [
       "name = theis\n",
       "model_type = gwf6\n",
       "version = mf6\n",
       "model_relative_path = .\n",
       "\n",
       "###################\n",
       "Package ic\n",
       "###################\n",
       "\n",
       "package_name = ic\n",
       "filename = theis.ic\n",
       "package_type = ic\n",
       "model_or_simulation_package = model\n",
       "model_name = theis\n",
       "\n"
      ]
     },
     "execution_count": 17,
     "metadata": {},
     "output_type": "execute_result"
    }
   ],
   "source": [
    "gwf"
   ]
  },
  {
   "cell_type": "code",
   "execution_count": 18,
   "metadata": {},
   "outputs": [],
   "source": [
    "# disv\n",
    "disv = fp.mf6.ModflowGwfdisv(gwf, nlay=nlay, ncpl=ncpl, \n",
    "                                top=0, botm=botm, \n",
    "                                nvert=nvert, vertices=vertices, \n",
    "                                cell2d=cell2d)"
   ]
  },
  {
   "cell_type": "code",
   "execution_count": 19,
   "metadata": {},
   "outputs": [
    {
     "data": {
      "text/plain": [
       "6988"
      ]
     },
     "execution_count": 19,
     "metadata": {},
     "output_type": "execute_result"
    }
   ],
   "source": [
    "len(top)"
   ]
  },
  {
   "cell_type": "code",
   "execution_count": 20,
   "metadata": {},
   "outputs": [
    {
     "data": {
      "text/plain": [
       "[(0, 962.5, 99137.5, 5, 0, 1, 2, 3, 0, None),\n",
       " (1, 2887.5, 99137.5, 5, 1, 4, 5, 2, 1, None),\n",
       " (2, 4812.5, 99137.5, 5, 4, 6, 7, 5, 4, None),\n",
       " (3, 6737.5, 99137.5, 5, 6, 8, 9, 7, 6, None),\n",
       " (4, 8662.5, 99137.5, 5, 8, 10, 11, 9, 8, None),\n",
       " (5, 10587.5, 99137.5, 5, 10, 12, 13, 11, 10, None),\n",
       " (6, 12512.5, 99137.5, 5, 12, 14, 15, 13, 12, None),\n",
       " (7, 14437.5, 99137.5, 5, 14, 16, 17, 15, 14, None),\n",
       " (8, 16362.5, 99137.5, 5, 16, 18, 19, 17, 16, None),\n",
       " (9, 18287.5, 99137.5, 5, 18, 20, 21, 19, 18, None),\n",
       " (10, 20212.5, 99137.5, 5, 20, 22, 23, 21, 20, None),\n",
       " (11, 22137.5, 99137.5, 5, 22, 24, 25, 23, 22, None),\n",
       " (12, 24062.5, 99137.5, 5, 24, 26, 27, 25, 24, None),\n",
       " (13, 25987.5, 99137.5, 5, 26, 28, 29, 27, 26, None),\n",
       " (14, 27912.5, 99137.5, 5, 28, 30, 31, 29, 28, None),\n",
       " (15, 29837.5, 99137.5, 5, 30, 32, 33, 31, 30, None),\n",
       " (16, 31762.5, 99137.5, 5, 32, 34, 35, 33, 32, None),\n",
       " (17, 33687.5, 99137.5, 5, 34, 36, 37, 35, 34, None),\n",
       " (18, 35612.5, 99137.5, 5, 36, 38, 39, 37, 36, None),\n",
       " (19, 37537.5, 99137.5, 5, 38, 40, 41, 39, 38, None),\n",
       " (20, 39462.5, 99137.5, 5, 40, 42, 43, 41, 40, None),\n",
       " (21, 41387.5, 99137.5, 5, 42, 44, 45, 43, 42, None),\n",
       " (22, 43312.5, 99137.5, 5, 44, 46, 47, 45, 44, None),\n",
       " (23, 45237.5, 99137.5, 5, 46, 48, 49, 47, 46, None),\n",
       " (24, 47162.5, 99137.5, 5, 48, 50, 51, 49, 48, None),\n",
       " (25, 49087.5, 99137.5, 5, 50, 52, 53, 51, 50, None),\n",
       " (26, 51012.5, 99137.5, 5, 52, 54, 55, 53, 52, None),\n",
       " (27, 52937.5, 99137.5, 5, 54, 56, 57, 55, 54, None),\n",
       " (28, 54862.5, 99137.5, 5, 56, 58, 59, 57, 56, None),\n",
       " (29, 56787.5, 99137.5, 5, 58, 60, 61, 59, 58, None),\n",
       " (30, 58712.5, 99137.5, 5, 60, 62, 63, 61, 60, None),\n",
       " (31, 60637.5, 99137.5, 5, 62, 64, 65, 63, 62, None),\n",
       " (32, 62562.5, 99137.5, 5, 64, 66, 67, 65, 64, None),\n",
       " (33, 64487.5, 99137.5, 5, 66, 68, 69, 67, 66, None),\n",
       " (34, 66412.5, 99137.5, 5, 68, 70, 71, 69, 68, None),\n",
       " (35, 68337.5, 99137.5, 5, 70, 72, 73, 71, 70, None),\n",
       " (36, 70262.5, 99137.5, 5, 72, 74, 75, 73, 72, None),\n",
       " (37, 72187.5, 99137.5, 5, 74, 76, 77, 75, 74, None),\n",
       " (38, 74112.5, 99137.5, 5, 76, 78, 79, 77, 76, None),\n",
       " (39, 76037.5, 99137.5, 5, 78, 80, 81, 79, 78, None),\n",
       " (40, 77962.5, 99137.5, 5, 80, 82, 83, 81, 80, None),\n",
       " (41, 79887.5, 99137.5, 5, 82, 84, 85, 83, 82, None),\n",
       " (42, 81812.5, 99137.5, 5, 84, 86, 87, 85, 84, None),\n",
       " (43, 83737.5, 99137.5, 5, 86, 88, 89, 87, 86, None),\n",
       " (44, 85662.5, 99137.5, 5, 88, 90, 91, 89, 88, None),\n",
       " (45, 87587.5, 99137.5, 5, 90, 92, 93, 91, 90, None),\n",
       " (46, 89512.5, 99137.5, 5, 92, 94, 95, 93, 92, None),\n",
       " (47, 91437.5, 99137.5, 5, 94, 96, 97, 95, 94, None),\n",
       " (48, 93362.5, 99137.5, 5, 96, 98, 99, 97, 96, None),\n",
       " (49, 95287.5, 99137.5, 5, 98, 100, 101, 99, 98, None),\n",
       " (50, 97212.5, 99137.5, 5, 100, 102, 103, 101, 100, None),\n",
       " (51, 99137.5, 99137.5, 5, 102, 104, 105, 103, 102, None),\n",
       " (52, 962.5, 97212.5, 5, 3, 2, 106, 107, 3, None),\n",
       " (53, 2887.5, 97212.5, 5, 2, 5, 108, 106, 2, None),\n",
       " (54, 4812.5, 97212.5, 5, 5, 7, 109, 108, 5, None),\n",
       " (55, 6737.5, 97212.5, 5, 7, 9, 110, 109, 7, None),\n",
       " (56, 8662.5, 97212.5, 5, 9, 11, 111, 110, 9, None),\n",
       " (57, 10587.5, 97212.5, 5, 11, 13, 112, 111, 11, None),\n",
       " (58, 12512.5, 97212.5, 5, 13, 15, 113, 112, 13, None),\n",
       " (59, 14437.5, 97212.5, 5, 15, 17, 114, 113, 15, None),\n",
       " (60, 16362.5, 97212.5, 5, 17, 19, 115, 114, 17, None),\n",
       " (61, 18287.5, 97212.5, 5, 19, 21, 116, 115, 19, None),\n",
       " (62, 20212.5, 97212.5, 5, 21, 23, 117, 116, 21, None),\n",
       " (63, 22137.5, 97212.5, 5, 23, 25, 118, 117, 23, None),\n",
       " (64, 24062.5, 97212.5, 5, 25, 27, 119, 118, 25, None),\n",
       " (65, 25987.5, 97212.5, 5, 27, 29, 120, 119, 27, None),\n",
       " (66, 27912.5, 97212.5, 5, 29, 31, 121, 120, 29, None),\n",
       " (67, 29837.5, 97212.5, 5, 31, 33, 122, 121, 31, None),\n",
       " (68, 31762.5, 97212.5, 5, 33, 35, 123, 122, 33, None),\n",
       " (69, 33687.5, 97212.5, 5, 35, 37, 124, 123, 35, None),\n",
       " (70, 35612.5, 97212.5, 5, 37, 39, 125, 124, 37, None),\n",
       " (71, 37537.5, 97212.5, 5, 39, 41, 126, 125, 39, None),\n",
       " (72, 39462.5, 97212.5, 5, 41, 43, 127, 126, 41, None),\n",
       " (73, 41387.5, 97212.5, 5, 43, 45, 128, 127, 43, None),\n",
       " (74, 43312.5, 97212.5, 5, 45, 47, 129, 128, 45, None),\n",
       " (75, 45237.5, 97212.5, 5, 47, 49, 130, 129, 47, None),\n",
       " (76, 47162.5, 97212.5, 5, 49, 51, 131, 130, 49, None),\n",
       " (77, 49087.5, 97212.5, 5, 51, 53, 132, 131, 51, None),\n",
       " (78, 51012.5, 97212.5, 5, 53, 55, 133, 132, 53, None),\n",
       " (79, 52937.5, 97212.5, 5, 55, 57, 134, 133, 55, None),\n",
       " (80, 54862.5, 97212.5, 5, 57, 59, 135, 134, 57, None),\n",
       " (81, 56787.5, 97212.5, 5, 59, 61, 136, 135, 59, None),\n",
       " (82, 58712.5, 97212.5, 5, 61, 63, 137, 136, 61, None),\n",
       " (83, 60637.5, 97212.5, 5, 63, 65, 138, 137, 63, None),\n",
       " (84, 62562.5, 97212.5, 5, 65, 67, 139, 138, 65, None),\n",
       " (85, 64487.5, 97212.5, 5, 67, 69, 140, 139, 67, None),\n",
       " (86, 66412.5, 97212.5, 5, 69, 71, 141, 140, 69, None),\n",
       " (87, 68337.5, 97212.5, 5, 71, 73, 142, 141, 71, None),\n",
       " (88, 70262.5, 97212.5, 5, 73, 75, 143, 142, 73, None),\n",
       " (89, 72187.5, 97212.5, 5, 75, 77, 144, 143, 75, None),\n",
       " (90, 74112.5, 97212.5, 5, 77, 79, 145, 144, 77, None),\n",
       " (91, 76037.5, 97212.5, 5, 79, 81, 146, 145, 79, None),\n",
       " (92, 77962.5, 97212.5, 5, 81, 83, 147, 146, 81, None),\n",
       " (93, 79887.5, 97212.5, 5, 83, 85, 148, 147, 83, None),\n",
       " (94, 81812.5, 97212.5, 5, 85, 87, 149, 148, 85, None),\n",
       " (95, 83737.5, 97212.5, 5, 87, 89, 150, 149, 87, None),\n",
       " (96, 85662.5, 97212.5, 5, 89, 91, 151, 150, 89, None),\n",
       " (97, 87587.5, 97212.5, 5, 91, 93, 152, 151, 91, None),\n",
       " (98, 89512.5, 97212.5, 5, 93, 95, 153, 152, 93, None),\n",
       " (99, 91437.5, 97212.5, 5, 95, 97, 154, 153, 95, None),\n",
       " (100, 93362.5, 97212.5, 5, 97, 99, 155, 154, 97, None),\n",
       " (101, 95287.5, 97212.5, 5, 99, 101, 156, 155, 99, None),\n",
       " (102, 97212.5, 97212.5, 5, 101, 103, 157, 156, 101, None),\n",
       " (103, 99137.5, 97212.5, 5, 103, 105, 158, 157, 103, None),\n",
       " (104, 962.5, 95287.5, 5, 107, 106, 159, 160, 107, None),\n",
       " (105, 2887.5, 95287.5, 5, 106, 108, 161, 159, 106, None),\n",
       " (106, 4812.5, 95287.5, 5, 108, 109, 162, 161, 108, None),\n",
       " (107, 6737.5, 95287.5, 5, 109, 110, 163, 162, 109, None),\n",
       " (108, 8662.5, 95287.5, 5, 110, 111, 164, 163, 110, None),\n",
       " (109, 10587.5, 95287.5, 5, 111, 112, 165, 164, 111, None),\n",
       " (110, 12512.5, 95287.5, 5, 112, 113, 166, 165, 112, None),\n",
       " (111, 14437.5, 95287.5, 5, 113, 114, 167, 166, 113, None),\n",
       " (112, 16362.5, 95287.5, 5, 114, 115, 168, 167, 114, None),\n",
       " (113, 18287.5, 95287.5, 5, 115, 116, 169, 168, 115, None),\n",
       " (114, 20212.5, 95287.5, 5, 116, 117, 170, 169, 116, None),\n",
       " (115, 22137.5, 95287.5, 5, 117, 118, 171, 170, 117, None),\n",
       " (116, 24062.5, 95287.5, 5, 118, 119, 172, 171, 118, None),\n",
       " (117, 25987.5, 95287.5, 5, 119, 120, 173, 172, 119, None),\n",
       " (118, 27912.5, 95287.5, 5, 120, 121, 174, 173, 120, None),\n",
       " (119, 29837.5, 95287.5, 5, 121, 122, 175, 174, 121, None),\n",
       " (120, 31762.5, 95287.5, 5, 122, 123, 176, 175, 122, None),\n",
       " (121, 33687.5, 95287.5, 5, 123, 124, 177, 176, 123, None),\n",
       " (122, 35612.5, 95287.5, 5, 124, 125, 178, 177, 124, None),\n",
       " (123, 37537.5, 95287.5, 5, 125, 126, 179, 178, 125, None),\n",
       " (124, 39462.5, 95287.5, 5, 126, 127, 180, 179, 126, None),\n",
       " (125, 41387.5, 95287.5, 5, 127, 128, 181, 180, 127, None),\n",
       " (126, 43312.5, 95287.5, 5, 128, 129, 182, 181, 128, None),\n",
       " (127, 45237.5, 95287.5, 5, 129, 130, 183, 182, 129, None),\n",
       " (128, 47162.5, 95287.5, 5, 130, 131, 184, 183, 130, None),\n",
       " (129, 49087.5, 95287.5, 5, 131, 132, 185, 184, 131, None),\n",
       " (130, 51012.5, 95287.5, 5, 132, 133, 186, 185, 132, None),\n",
       " (131, 52937.5, 95287.5, 5, 133, 134, 187, 186, 133, None),\n",
       " (132, 54862.5, 95287.5, 5, 134, 135, 188, 187, 134, None),\n",
       " (133, 56787.5, 95287.5, 5, 135, 136, 189, 188, 135, None),\n",
       " (134, 58712.5, 95287.5, 5, 136, 137, 190, 189, 136, None),\n",
       " (135, 60637.5, 95287.5, 5, 137, 138, 191, 190, 137, None),\n",
       " (136, 62562.5, 95287.5, 5, 138, 139, 192, 191, 138, None),\n",
       " (137, 64487.5, 95287.5, 5, 139, 140, 193, 192, 139, None),\n",
       " (138, 66412.5, 95287.5, 5, 140, 141, 194, 193, 140, None),\n",
       " (139, 68337.5, 95287.5, 5, 141, 142, 195, 194, 141, None),\n",
       " (140, 70262.5, 95287.5, 5, 142, 143, 196, 195, 142, None),\n",
       " (141, 72187.5, 95287.5, 5, 143, 144, 197, 196, 143, None),\n",
       " (142, 74112.5, 95287.5, 5, 144, 145, 198, 197, 144, None),\n",
       " (143, 76037.5, 95287.5, 5, 145, 146, 199, 198, 145, None),\n",
       " (144, 77962.5, 95287.5, 5, 146, 147, 200, 199, 146, None),\n",
       " (145, 79887.5, 95287.5, 5, 147, 148, 201, 200, 147, None),\n",
       " (146, 81812.5, 95287.5, 5, 148, 149, 202, 201, 148, None),\n",
       " (147, 83737.5, 95287.5, 5, 149, 150, 203, 202, 149, None),\n",
       " (148, 85662.5, 95287.5, 5, 150, 151, 204, 203, 150, None),\n",
       " (149, 87587.5, 95287.5, 5, 151, 152, 205, 204, 151, None),\n",
       " (150, 89512.5, 95287.5, 5, 152, 153, 206, 205, 152, None),\n",
       " (151, 91437.5, 95287.5, 5, 153, 154, 207, 206, 153, None),\n",
       " (152, 93362.5, 95287.5, 5, 154, 155, 208, 207, 154, None),\n",
       " (153, 95287.5, 95287.5, 5, 155, 156, 209, 208, 155, None),\n",
       " (154, 97212.5, 95287.5, 5, 156, 157, 210, 209, 156, None),\n",
       " (155, 99137.5, 95287.5, 5, 157, 158, 211, 210, 157, None),\n",
       " (156, 962.5, 93362.5, 5, 160, 159, 212, 213, 160, None),\n",
       " (157, 2887.5, 93362.5, 5, 159, 161, 214, 212, 159, None),\n",
       " (158, 4812.5, 93362.5, 5, 161, 162, 215, 214, 161, None),\n",
       " (159, 6737.5, 93362.5, 5, 162, 163, 216, 215, 162, None),\n",
       " (160, 8662.5, 93362.5, 5, 163, 164, 217, 216, 163, None),\n",
       " (161, 10587.5, 93362.5, 5, 164, 165, 218, 217, 164, None),\n",
       " (162, 12512.5, 93362.5, 5, 165, 166, 219, 218, 165, None),\n",
       " (163, 14437.5, 93362.5, 5, 166, 167, 220, 219, 166, None),\n",
       " (164, 16362.5, 93362.5, 5, 167, 168, 221, 220, 167, None),\n",
       " (165, 18287.5, 93362.5, 5, 168, 169, 222, 221, 168, None),\n",
       " (166, 20212.5, 93362.5, 5, 169, 170, 223, 222, 169, None),\n",
       " (167, 22137.5, 93362.5, 5, 170, 171, 224, 223, 170, None),\n",
       " (168, 24062.5, 93362.5, 5, 171, 172, 225, 224, 171, None),\n",
       " (169, 25987.5, 93362.5, 5, 172, 173, 226, 225, 172, None),\n",
       " (170, 27912.5, 93362.5, 5, 173, 174, 227, 226, 173, None),\n",
       " (171, 29837.5, 93362.5, 5, 174, 175, 228, 227, 174, None),\n",
       " (172, 31762.5, 93362.5, 5, 175, 176, 229, 228, 175, None),\n",
       " (173, 33687.5, 93362.5, 5, 176, 177, 230, 229, 176, None),\n",
       " (174, 35612.5, 93362.5, 5, 177, 178, 231, 230, 177, None),\n",
       " (175, 37537.5, 93362.5, 5, 178, 179, 232, 231, 178, None),\n",
       " (176, 39462.5, 93362.5, 5, 179, 180, 233, 232, 179, None),\n",
       " (177, 41387.5, 93362.5, 5, 180, 181, 234, 233, 180, None),\n",
       " (178, 43312.5, 93362.5, 5, 181, 182, 235, 234, 181, None),\n",
       " (179, 45237.5, 93362.5, 5, 182, 183, 236, 235, 182, None),\n",
       " (180, 47162.5, 93362.5, 5, 183, 184, 237, 236, 183, None),\n",
       " (181, 49087.5, 93362.5, 5, 184, 185, 238, 237, 184, None),\n",
       " (182, 51012.5, 93362.5, 5, 185, 186, 239, 238, 185, None),\n",
       " (183, 52937.5, 93362.5, 5, 186, 187, 240, 239, 186, None),\n",
       " (184, 54862.5, 93362.5, 5, 187, 188, 241, 240, 187, None),\n",
       " (185, 56787.5, 93362.5, 5, 188, 189, 242, 241, 188, None),\n",
       " (186, 58712.5, 93362.5, 5, 189, 190, 243, 242, 189, None),\n",
       " (187, 60637.5, 93362.5, 5, 190, 191, 244, 243, 190, None),\n",
       " (188, 62562.5, 93362.5, 5, 191, 192, 245, 244, 191, None),\n",
       " (189, 64487.5, 93362.5, 5, 192, 193, 246, 245, 192, None),\n",
       " (190, 66412.5, 93362.5, 5, 193, 194, 247, 246, 193, None),\n",
       " (191, 68337.5, 93362.5, 5, 194, 195, 248, 247, 194, None),\n",
       " (192, 70262.5, 93362.5, 5, 195, 196, 249, 248, 195, None),\n",
       " (193, 72187.5, 93362.5, 5, 196, 197, 250, 249, 196, None),\n",
       " (194, 74112.5, 93362.5, 5, 197, 198, 251, 250, 197, None),\n",
       " (195, 76037.5, 93362.5, 5, 198, 199, 252, 251, 198, None),\n",
       " (196, 77962.5, 93362.5, 5, 199, 200, 253, 252, 199, None),\n",
       " (197, 79887.5, 93362.5, 5, 200, 201, 254, 253, 200, None),\n",
       " (198, 81812.5, 93362.5, 5, 201, 202, 255, 254, 201, None),\n",
       " (199, 83737.5, 93362.5, 5, 202, 203, 256, 255, 202, None),\n",
       " (200, 85662.5, 93362.5, 5, 203, 204, 257, 256, 203, None),\n",
       " (201, 87587.5, 93362.5, 5, 204, 205, 258, 257, 204, None),\n",
       " (202, 89512.5, 93362.5, 5, 205, 206, 259, 258, 205, None),\n",
       " (203, 91437.5, 93362.5, 5, 206, 207, 260, 259, 206, None),\n",
       " (204, 93362.5, 93362.5, 5, 207, 208, 261, 260, 207, None),\n",
       " (205, 95287.5, 93362.5, 5, 208, 209, 262, 261, 208, None),\n",
       " (206, 97212.5, 93362.5, 5, 209, 210, 263, 262, 209, None),\n",
       " (207, 99137.5, 93362.5, 5, 210, 211, 264, 263, 210, None),\n",
       " (208, 962.5, 91437.5, 5, 213, 212, 265, 266, 213, None),\n",
       " (209, 2887.5, 91437.5, 5, 212, 214, 267, 265, 212, None),\n",
       " (210, 4812.5, 91437.5, 5, 214, 215, 268, 267, 214, None),\n",
       " (211, 6737.5, 91437.5, 5, 215, 216, 269, 268, 215, None),\n",
       " (212, 8662.5, 91437.5, 5, 216, 217, 270, 269, 216, None),\n",
       " (213, 10587.5, 91437.5, 5, 217, 218, 271, 270, 217, None),\n",
       " (214, 12512.5, 91437.5, 5, 218, 219, 272, 271, 218, None),\n",
       " (215, 14437.5, 91437.5, 5, 219, 220, 273, 272, 219, None),\n",
       " (216, 16362.5, 91437.5, 5, 220, 221, 274, 273, 220, None),\n",
       " (217, 18287.5, 91437.5, 5, 221, 222, 275, 274, 221, None),\n",
       " (218, 20212.5, 91437.5, 5, 222, 223, 276, 275, 222, None),\n",
       " (219, 22137.5, 91437.5, 5, 223, 224, 277, 276, 223, None),\n",
       " (220, 24062.5, 91437.5, 5, 224, 225, 278, 277, 224, None),\n",
       " (221, 25987.5, 91437.5, 5, 225, 226, 279, 278, 225, None),\n",
       " (222, 27912.5, 91437.5, 5, 226, 227, 280, 279, 226, None),\n",
       " (223, 29837.5, 91437.5, 5, 227, 228, 281, 280, 227, None),\n",
       " (224, 31762.5, 91437.5, 5, 228, 229, 282, 281, 228, None),\n",
       " (225, 33687.5, 91437.5, 5, 229, 230, 283, 282, 229, None),\n",
       " (226, 35612.5, 91437.5, 5, 230, 231, 284, 283, 230, None),\n",
       " (227, 37537.5, 91437.5, 5, 231, 232, 285, 284, 231, None),\n",
       " (228, 39462.5, 91437.5, 5, 232, 233, 286, 285, 232, None),\n",
       " (229, 41387.5, 91437.5, 5, 233, 234, 287, 286, 233, None),\n",
       " (230, 43312.5, 91437.5, 5, 234, 235, 288, 287, 234, None),\n",
       " (231, 45237.5, 91437.5, 5, 235, 236, 289, 288, 235, None),\n",
       " (232, 47162.5, 91437.5, 5, 236, 237, 290, 289, 236, None),\n",
       " (233, 49087.5, 91437.5, 5, 237, 238, 291, 290, 237, None),\n",
       " (234, 51012.5, 91437.5, 5, 238, 239, 292, 291, 238, None),\n",
       " (235, 52937.5, 91437.5, 5, 239, 240, 293, 292, 239, None),\n",
       " (236, 54862.5, 91437.5, 5, 240, 241, 294, 293, 240, None),\n",
       " (237, 56787.5, 91437.5, 5, 241, 242, 295, 294, 241, None),\n",
       " (238, 58712.5, 91437.5, 5, 242, 243, 296, 295, 242, None),\n",
       " (239, 60637.5, 91437.5, 5, 243, 244, 297, 296, 243, None),\n",
       " (240, 62562.5, 91437.5, 5, 244, 245, 298, 297, 244, None),\n",
       " (241, 64487.5, 91437.5, 5, 245, 246, 299, 298, 245, None),\n",
       " (242, 66412.5, 91437.5, 5, 246, 247, 300, 299, 246, None),\n",
       " (243, 68337.5, 91437.5, 5, 247, 248, 301, 300, 247, None),\n",
       " (244, 70262.5, 91437.5, 5, 248, 249, 302, 301, 248, None),\n",
       " (245, 72187.5, 91437.5, 5, 249, 250, 303, 302, 249, None),\n",
       " (246, 74112.5, 91437.5, 5, 250, 251, 304, 303, 250, None),\n",
       " (247, 76037.5, 91437.5, 5, 251, 252, 305, 304, 251, None),\n",
       " (248, 77962.5, 91437.5, 5, 252, 253, 306, 305, 252, None),\n",
       " (249, 79887.5, 91437.5, 5, 253, 254, 307, 306, 253, None),\n",
       " (250, 81812.5, 91437.5, 5, 254, 255, 308, 307, 254, None),\n",
       " (251, 83737.5, 91437.5, 5, 255, 256, 309, 308, 255, None),\n",
       " (252, 85662.5, 91437.5, 5, 256, 257, 310, 309, 256, None),\n",
       " (253, 87587.5, 91437.5, 5, 257, 258, 311, 310, 257, None),\n",
       " (254, 89512.5, 91437.5, 5, 258, 259, 312, 311, 258, None),\n",
       " (255, 91437.5, 91437.5, 5, 259, 260, 313, 312, 259, None),\n",
       " (256, 93362.5, 91437.5, 5, 260, 261, 314, 313, 260, None),\n",
       " (257, 95287.5, 91437.5, 5, 261, 262, 315, 314, 261, None),\n",
       " (258, 97212.5, 91437.5, 5, 262, 263, 316, 315, 262, None),\n",
       " (259, 99137.5, 91437.5, 5, 263, 264, 317, 316, 263, None),\n",
       " (260, 962.5, 89512.5, 5, 266, 265, 318, 319, 266, None),\n",
       " (261, 2887.5, 89512.5, 5, 265, 267, 320, 318, 265, None),\n",
       " (262, 4812.5, 89512.5, 5, 267, 268, 321, 320, 267, None),\n",
       " (263, 6737.5, 89512.5, 5, 268, 269, 322, 321, 268, None),\n",
       " (264, 8662.5, 89512.5, 5, 269, 270, 323, 322, 269, None),\n",
       " (265, 10587.5, 89512.5, 5, 270, 271, 324, 323, 270, None),\n",
       " (266, 12512.5, 89512.5, 5, 271, 272, 325, 324, 271, None),\n",
       " (267, 14437.5, 89512.5, 5, 272, 273, 326, 325, 272, None),\n",
       " (268, 16362.5, 89512.5, 5, 273, 274, 327, 326, 273, None),\n",
       " (269, 18287.5, 89512.5, 5, 274, 275, 328, 327, 274, None),\n",
       " (270, 20212.5, 89512.5, 5, 275, 276, 329, 328, 275, None),\n",
       " (271, 22137.5, 89512.5, 5, 276, 277, 330, 329, 276, None),\n",
       " (272, 24062.5, 89512.5, 5, 277, 278, 331, 330, 277, None),\n",
       " (273, 25987.5, 89512.5, 5, 278, 279, 332, 331, 278, None),\n",
       " (274, 27912.5, 89512.5, 5, 279, 280, 333, 332, 279, None),\n",
       " (275, 29837.5, 89512.5, 5, 280, 281, 334, 333, 280, None),\n",
       " (276, 31762.5, 89512.5, 5, 281, 282, 335, 334, 281, None),\n",
       " (277, 33687.5, 89512.5, 5, 282, 283, 336, 335, 282, None),\n",
       " (278, 35612.5, 89512.5, 5, 283, 284, 337, 336, 283, None),\n",
       " (279, 37537.5, 89512.5, 5, 284, 285, 338, 337, 284, None),\n",
       " (280, 39462.5, 89512.5, 5, 285, 286, 339, 338, 285, None),\n",
       " (281, 41387.5, 89512.5, 5, 286, 287, 340, 339, 286, None),\n",
       " (282, 43312.5, 89512.5, 5, 287, 288, 341, 340, 287, None),\n",
       " (283, 45237.5, 89512.5, 5, 288, 289, 342, 341, 288, None),\n",
       " (284, 47162.5, 89512.5, 5, 289, 290, 343, 342, 289, None),\n",
       " (285, 49087.5, 89512.5, 5, 290, 291, 344, 343, 290, None),\n",
       " (286, 51012.5, 89512.5, 5, 291, 292, 345, 344, 291, None),\n",
       " (287, 52937.5, 89512.5, 5, 292, 293, 346, 345, 292, None),\n",
       " (288, 54862.5, 89512.5, 5, 293, 294, 347, 346, 293, None),\n",
       " (289, 56787.5, 89512.5, 5, 294, 295, 348, 347, 294, None),\n",
       " (290, 58712.5, 89512.5, 5, 295, 296, 349, 348, 295, None),\n",
       " (291, 60637.5, 89512.5, 5, 296, 297, 350, 349, 296, None),\n",
       " (292, 62562.5, 89512.5, 5, 297, 298, 351, 350, 297, None),\n",
       " (293, 64487.5, 89512.5, 5, 298, 299, 352, 351, 298, None),\n",
       " (294, 66412.5, 89512.5, 5, 299, 300, 353, 352, 299, None),\n",
       " (295, 68337.5, 89512.5, 5, 300, 301, 354, 353, 300, None),\n",
       " (296, 70262.5, 89512.5, 5, 301, 302, 355, 354, 301, None),\n",
       " (297, 72187.5, 89512.5, 5, 302, 303, 356, 355, 302, None),\n",
       " (298, 74112.5, 89512.5, 5, 303, 304, 357, 356, 303, None),\n",
       " (299, 76037.5, 89512.5, 5, 304, 305, 358, 357, 304, None),\n",
       " (300, 77962.5, 89512.5, 5, 305, 306, 359, 358, 305, None),\n",
       " (301, 79887.5, 89512.5, 5, 306, 307, 360, 359, 306, None),\n",
       " (302, 81812.5, 89512.5, 5, 307, 308, 361, 360, 307, None),\n",
       " (303, 83737.5, 89512.5, 5, 308, 309, 362, 361, 308, None),\n",
       " (304, 85662.5, 89512.5, 5, 309, 310, 363, 362, 309, None),\n",
       " (305, 87587.5, 89512.5, 5, 310, 311, 364, 363, 310, None),\n",
       " (306, 89512.5, 89512.5, 5, 311, 312, 365, 364, 311, None),\n",
       " (307, 91437.5, 89512.5, 5, 312, 313, 366, 365, 312, None),\n",
       " (308, 93362.5, 89512.5, 5, 313, 314, 367, 366, 313, None),\n",
       " (309, 95287.5, 89512.5, 5, 314, 315, 368, 367, 314, None),\n",
       " (310, 97212.5, 89512.5, 5, 315, 316, 369, 368, 315, None),\n",
       " (311, 99137.5, 89512.5, 5, 316, 317, 370, 369, 316, None),\n",
       " (312, 962.5, 87587.5, 5, 319, 318, 371, 372, 319, None),\n",
       " (313, 2887.5, 87587.5, 5, 318, 320, 373, 371, 318, None),\n",
       " (314, 4812.5, 87587.5, 5, 320, 321, 374, 373, 320, None),\n",
       " (315, 6737.5, 87587.5, 5, 321, 322, 375, 374, 321, None),\n",
       " (316, 8662.5, 87587.5, 5, 322, 323, 376, 375, 322, None),\n",
       " (317, 10587.5, 87587.5, 5, 323, 324, 377, 376, 323, None),\n",
       " (318, 12512.5, 87587.5, 5, 324, 325, 378, 377, 324, None),\n",
       " (319, 14437.5, 87587.5, 5, 325, 326, 379, 378, 325, None),\n",
       " (320, 16362.5, 87587.5, 5, 326, 327, 380, 379, 326, None),\n",
       " (321, 18287.5, 87587.5, 5, 327, 328, 381, 380, 327, None),\n",
       " (322, 20212.5, 87587.5, 5, 328, 329, 382, 381, 328, None),\n",
       " (323, 22137.5, 87587.5, 5, 329, 330, 383, 382, 329, None),\n",
       " (324, 24062.5, 87587.5, 5, 330, 331, 384, 383, 330, None),\n",
       " (325, 25987.5, 87587.5, 5, 331, 332, 385, 384, 331, None),\n",
       " (326, 27912.5, 87587.5, 5, 332, 333, 386, 385, 332, None),\n",
       " (327, 29837.5, 87587.5, 5, 333, 334, 387, 386, 333, None),\n",
       " (328, 31762.5, 87587.5, 5, 334, 335, 388, 387, 334, None),\n",
       " (329, 33687.5, 87587.5, 5, 335, 336, 389, 388, 335, None),\n",
       " (330, 35612.5, 87587.5, 5, 336, 337, 390, 389, 336, None),\n",
       " (331, 37537.5, 87587.5, 5, 337, 338, 391, 390, 337, None),\n",
       " (332, 39462.5, 87587.5, 5, 338, 339, 392, 391, 338, None),\n",
       " (333, 41387.5, 87587.5, 5, 339, 340, 393, 392, 339, None),\n",
       " (334, 43312.5, 87587.5, 5, 340, 341, 394, 393, 340, None),\n",
       " (335, 45237.5, 87587.5, 5, 341, 342, 395, 394, 341, None),\n",
       " (336, 47162.5, 87587.5, 5, 342, 343, 396, 395, 342, None),\n",
       " (337, 49087.5, 87587.5, 5, 343, 344, 397, 396, 343, None),\n",
       " (338, 51012.5, 87587.5, 5, 344, 345, 398, 397, 344, None),\n",
       " (339, 52937.5, 87587.5, 5, 345, 346, 399, 398, 345, None),\n",
       " (340, 54862.5, 87587.5, 5, 346, 347, 400, 399, 346, None),\n",
       " (341, 56787.5, 87587.5, 5, 347, 348, 401, 400, 347, None),\n",
       " (342, 58712.5, 87587.5, 5, 348, 349, 402, 401, 348, None),\n",
       " (343, 60637.5, 87587.5, 5, 349, 350, 403, 402, 349, None),\n",
       " (344, 62562.5, 87587.5, 5, 350, 351, 404, 403, 350, None),\n",
       " (345, 64487.5, 87587.5, 5, 351, 352, 405, 404, 351, None),\n",
       " (346, 66412.5, 87587.5, 5, 352, 353, 406, 405, 352, None),\n",
       " (347, 68337.5, 87587.5, 5, 353, 354, 407, 406, 353, None),\n",
       " (348, 70262.5, 87587.5, 5, 354, 355, 408, 407, 354, None),\n",
       " (349, 72187.5, 87587.5, 5, 355, 356, 409, 408, 355, None),\n",
       " (350, 74112.5, 87587.5, 5, 356, 357, 410, 409, 356, None),\n",
       " (351, 76037.5, 87587.5, 5, 357, 358, 411, 410, 357, None),\n",
       " (352, 77962.5, 87587.5, 5, 358, 359, 412, 411, 358, None),\n",
       " (353, 79887.5, 87587.5, 5, 359, 360, 413, 412, 359, None),\n",
       " (354, 81812.5, 87587.5, 5, 360, 361, 414, 413, 360, None),\n",
       " (355, 83737.5, 87587.5, 5, 361, 362, 415, 414, 361, None),\n",
       " (356, 85662.5, 87587.5, 5, 362, 363, 416, 415, 362, None),\n",
       " (357, 87587.5, 87587.5, 5, 363, 364, 417, 416, 363, None),\n",
       " (358, 89512.5, 87587.5, 5, 364, 365, 418, 417, 364, None),\n",
       " (359, 91437.5, 87587.5, 5, 365, 366, 419, 418, 365, None),\n",
       " (360, 93362.5, 87587.5, 5, 366, 367, 420, 419, 366, None),\n",
       " (361, 95287.5, 87587.5, 5, 367, 368, 421, 420, 367, None),\n",
       " (362, 97212.5, 87587.5, 5, 368, 369, 422, 421, 368, None),\n",
       " (363, 99137.5, 87587.5, 5, 369, 370, 423, 422, 369, None),\n",
       " (364, 962.5, 85662.5, 5, 372, 371, 424, 425, 372, None),\n",
       " (365, 2887.5, 85662.5, 5, 371, 373, 426, 424, 371, None),\n",
       " (366, 4812.5, 85662.5, 5, 373, 374, 427, 426, 373, None),\n",
       " (367, 6737.5, 85662.5, 5, 374, 375, 428, 427, 374, None),\n",
       " (368, 8662.5, 85662.5, 5, 375, 376, 429, 428, 375, None),\n",
       " (369, 10587.5, 85662.5, 5, 376, 377, 430, 429, 376, None),\n",
       " (370, 12512.5, 85662.5, 5, 377, 378, 431, 430, 377, None),\n",
       " (371, 14437.5, 85662.5, 5, 378, 379, 432, 431, 378, None),\n",
       " (372, 16362.5, 85662.5, 5, 379, 380, 433, 432, 379, None),\n",
       " (373, 18287.5, 85662.5, 5, 380, 381, 434, 433, 380, None),\n",
       " (374, 20212.5, 85662.5, 5, 381, 382, 435, 434, 381, None),\n",
       " (375, 22137.5, 85662.5, 5, 382, 383, 436, 435, 382, None),\n",
       " (376, 24062.5, 85662.5, 5, 383, 384, 437, 436, 383, None),\n",
       " (377, 25987.5, 85662.5, 5, 384, 385, 438, 437, 384, None),\n",
       " (378, 27912.5, 85662.5, 5, 385, 386, 439, 438, 385, None),\n",
       " (379, 29837.5, 85662.5, 5, 386, 387, 440, 439, 386, None),\n",
       " (380, 31762.5, 85662.5, 5, 387, 388, 441, 440, 387, None),\n",
       " (381, 33687.5, 85662.5, 5, 388, 389, 442, 441, 388, None),\n",
       " (382, 35612.5, 85662.5, 5, 389, 390, 443, 442, 389, None),\n",
       " (383, 37537.5, 85662.5, 5, 390, 391, 444, 443, 390, None),\n",
       " (384, 39462.5, 85662.5, 5, 391, 392, 445, 444, 391, None),\n",
       " (385, 41387.5, 85662.5, 5, 392, 393, 446, 445, 392, None),\n",
       " (386, 43312.5, 85662.5, 5, 393, 394, 447, 446, 393, None),\n",
       " (387, 45237.5, 85662.5, 5, 394, 395, 448, 447, 394, None),\n",
       " (388, 47162.5, 85662.5, 5, 395, 396, 449, 448, 395, None),\n",
       " (389, 49087.5, 85662.5, 5, 396, 397, 450, 449, 396, None),\n",
       " (390, 51012.5, 85662.5, 5, 397, 398, 451, 450, 397, None),\n",
       " (391, 52937.5, 85662.5, 5, 398, 399, 452, 451, 398, None),\n",
       " (392, 54862.5, 85662.5, 5, 399, 400, 453, 452, 399, None),\n",
       " (393, 56787.5, 85662.5, 5, 400, 401, 454, 453, 400, None),\n",
       " (394, 58712.5, 85662.5, 5, 401, 402, 455, 454, 401, None),\n",
       " (395, 60637.5, 85662.5, 5, 402, 403, 456, 455, 402, None),\n",
       " (396, 62562.5, 85662.5, 5, 403, 404, 457, 456, 403, None),\n",
       " (397, 64487.5, 85662.5, 5, 404, 405, 458, 457, 404, None),\n",
       " (398, 66412.5, 85662.5, 5, 405, 406, 459, 458, 405, None),\n",
       " (399, 68337.5, 85662.5, 5, 406, 407, 460, 459, 406, None),\n",
       " (400, 70262.5, 85662.5, 5, 407, 408, 461, 460, 407, None),\n",
       " (401, 72187.5, 85662.5, 5, 408, 409, 462, 461, 408, None),\n",
       " (402, 74112.5, 85662.5, 5, 409, 410, 463, 462, 409, None),\n",
       " (403, 76037.5, 85662.5, 5, 410, 411, 464, 463, 410, None),\n",
       " (404, 77962.5, 85662.5, 5, 411, 412, 465, 464, 411, None),\n",
       " (405, 79887.5, 85662.5, 5, 412, 413, 466, 465, 412, None),\n",
       " (406, 81812.5, 85662.5, 5, 413, 414, 467, 466, 413, None),\n",
       " (407, 83737.5, 85662.5, 5, 414, 415, 468, 467, 414, None),\n",
       " (408, 85662.5, 85662.5, 5, 415, 416, 469, 468, 415, None),\n",
       " (409, 87587.5, 85662.5, 5, 416, 417, 470, 469, 416, None),\n",
       " (410, 89512.5, 85662.5, 5, 417, 418, 471, 470, 417, None),\n",
       " (411, 91437.5, 85662.5, 5, 418, 419, 472, 471, 418, None),\n",
       " (412, 93362.5, 85662.5, 5, 419, 420, 473, 472, 419, None),\n",
       " (413, 95287.5, 85662.5, 5, 420, 421, 474, 473, 420, None),\n",
       " (414, 97212.5, 85662.5, 5, 421, 422, 475, 474, 421, None),\n",
       " (415, 99137.5, 85662.5, 5, 422, 423, 476, 475, 422, None),\n",
       " (416, 962.5, 83737.5, 5, 425, 424, 477, 478, 425, None),\n",
       " (417, 2887.5, 83737.5, 5, 424, 426, 479, 477, 424, None),\n",
       " (418, 4812.5, 83737.5, 5, 426, 427, 480, 479, 426, None),\n",
       " (419, 6737.5, 83737.5, 5, 427, 428, 481, 480, 427, None),\n",
       " (420, 8662.5, 83737.5, 5, 428, 429, 482, 481, 428, None),\n",
       " (421, 10587.5, 83737.5, 5, 429, 430, 483, 482, 429, None),\n",
       " (422, 12512.5, 83737.5, 5, 430, 431, 484, 483, 430, None),\n",
       " (423, 14437.5, 83737.5, 5, 431, 432, 485, 484, 431, None),\n",
       " (424, 16362.5, 83737.5, 5, 432, 433, 486, 485, 432, None),\n",
       " (425, 18287.5, 83737.5, 5, 433, 434, 487, 486, 433, None),\n",
       " (426, 20212.5, 83737.5, 5, 434, 435, 488, 487, 434, None),\n",
       " (427, 22137.5, 83737.5, 5, 435, 436, 489, 488, 435, None),\n",
       " (428, 24062.5, 83737.5, 5, 436, 437, 490, 489, 436, None),\n",
       " (429, 25987.5, 83737.5, 5, 437, 438, 491, 490, 437, None),\n",
       " (430, 27912.5, 83737.5, 5, 438, 439, 492, 491, 438, None),\n",
       " (431, 29837.5, 83737.5, 5, 439, 440, 493, 492, 439, None),\n",
       " (432, 31762.5, 83737.5, 5, 440, 441, 494, 493, 440, None),\n",
       " (433, 33687.5, 83737.5, 5, 441, 442, 495, 494, 441, None),\n",
       " (434, 35612.5, 83737.5, 5, 442, 443, 496, 495, 442, None),\n",
       " (435, 37537.5, 83737.5, 5, 443, 444, 497, 496, 443, None),\n",
       " (436, 39462.5, 83737.5, 5, 444, 445, 498, 497, 444, None),\n",
       " (437, 41387.5, 83737.5, 5, 445, 446, 499, 498, 445, None),\n",
       " (438, 43312.5, 83737.5, 5, 446, 447, 500, 499, 446, None),\n",
       " (439, 45237.5, 83737.5, 5, 447, 448, 501, 500, 447, None),\n",
       " (440, 47162.5, 83737.5, 5, 448, 449, 502, 501, 448, None),\n",
       " (441, 49087.5, 83737.5, 5, 449, 450, 503, 502, 449, None),\n",
       " (442, 51012.5, 83737.5, 5, 450, 451, 504, 503, 450, None),\n",
       " (443, 52937.5, 83737.5, 5, 451, 452, 505, 504, 451, None),\n",
       " (444, 54862.5, 83737.5, 5, 452, 453, 506, 505, 452, None),\n",
       " (445, 56787.5, 83737.5, 5, 453, 454, 507, 506, 453, None),\n",
       " (446, 58712.5, 83737.5, 5, 454, 455, 508, 507, 454, None),\n",
       " (447, 60637.5, 83737.5, 5, 455, 456, 509, 508, 455, None),\n",
       " (448, 62562.5, 83737.5, 5, 456, 457, 510, 509, 456, None),\n",
       " (449, 64487.5, 83737.5, 5, 457, 458, 511, 510, 457, None),\n",
       " (450, 66412.5, 83737.5, 5, 458, 459, 512, 511, 458, None),\n",
       " (451, 68337.5, 83737.5, 5, 459, 460, 513, 512, 459, None),\n",
       " (452, 70262.5, 83737.5, 5, 460, 461, 514, 513, 460, None),\n",
       " (453, 72187.5, 83737.5, 5, 461, 462, 515, 514, 461, None),\n",
       " (454, 74112.5, 83737.5, 5, 462, 463, 516, 515, 462, None),\n",
       " (455, 76037.5, 83737.5, 5, 463, 464, 517, 516, 463, None),\n",
       " (456, 77962.5, 83737.5, 5, 464, 465, 518, 517, 464, None),\n",
       " (457, 79887.5, 83737.5, 5, 465, 466, 519, 518, 465, None),\n",
       " (458, 81812.5, 83737.5, 5, 466, 467, 520, 519, 466, None),\n",
       " (459, 83737.5, 83737.5, 5, 467, 468, 521, 520, 467, None),\n",
       " (460, 85662.5, 83737.5, 5, 468, 469, 522, 521, 468, None),\n",
       " (461, 87587.5, 83737.5, 5, 469, 470, 523, 522, 469, None),\n",
       " (462, 89512.5, 83737.5, 5, 470, 471, 524, 523, 470, None),\n",
       " (463, 91437.5, 83737.5, 5, 471, 472, 525, 524, 471, None),\n",
       " (464, 93362.5, 83737.5, 5, 472, 473, 526, 525, 472, None),\n",
       " (465, 95287.5, 83737.5, 5, 473, 474, 527, 526, 473, None),\n",
       " (466, 97212.5, 83737.5, 5, 474, 475, 528, 527, 474, None),\n",
       " (467, 99137.5, 83737.5, 5, 475, 476, 529, 528, 475, None),\n",
       " (468, 962.5, 81812.5, 5, 478, 477, 530, 531, 478, None),\n",
       " (469, 2887.5, 81812.5, 5, 477, 479, 532, 530, 477, None),\n",
       " (470, 4812.5, 81812.5, 5, 479, 480, 533, 532, 479, None),\n",
       " (471, 6737.5, 81812.5, 5, 480, 481, 534, 533, 480, None),\n",
       " (472, 8662.5, 81812.5, 5, 481, 482, 535, 534, 481, None),\n",
       " (473, 10587.5, 81812.5, 5, 482, 483, 536, 535, 482, None),\n",
       " (474, 12512.5, 81812.5, 5, 483, 484, 537, 536, 483, None),\n",
       " (475, 14437.5, 81812.5, 5, 484, 485, 538, 537, 484, None),\n",
       " (476, 16362.5, 81812.5, 5, 485, 486, 539, 538, 485, None),\n",
       " (477, 18287.5, 81812.5, 5, 486, 487, 540, 539, 486, None),\n",
       " (478, 20212.5, 81812.5, 5, 487, 488, 541, 540, 487, None),\n",
       " (479, 22137.5, 81812.5, 5, 488, 489, 542, 541, 488, None),\n",
       " (480, 24062.5, 81812.5, 5, 489, 490, 543, 542, 489, None),\n",
       " (481, 25987.5, 81812.5, 5, 490, 491, 544, 543, 490, None),\n",
       " (482, 27912.5, 81812.5, 5, 491, 492, 545, 544, 491, None),\n",
       " (483, 29837.5, 81812.5, 5, 492, 493, 546, 545, 492, None),\n",
       " (484, 31762.5, 81812.5, 5, 493, 494, 547, 546, 493, None),\n",
       " (485, 33687.5, 81812.5, 5, 494, 495, 548, 547, 494, None),\n",
       " (486, 35612.5, 81812.5, 5, 495, 496, 549, 548, 495, None),\n",
       " (487, 37537.5, 81812.5, 5, 496, 497, 550, 549, 496, None),\n",
       " (488, 39462.5, 81812.5, 5, 497, 498, 551, 550, 497, None),\n",
       " (489, 41387.5, 81812.5, 5, 498, 499, 552, 551, 498, None),\n",
       " (490, 43312.5, 81812.5, 5, 499, 500, 553, 552, 499, None),\n",
       " (491, 45237.5, 81812.5, 5, 500, 501, 554, 553, 500, None),\n",
       " (492, 47162.5, 81812.5, 5, 501, 502, 555, 554, 501, None),\n",
       " (493, 49087.5, 81812.5, 5, 502, 503, 556, 555, 502, None),\n",
       " (494, 51012.5, 81812.5, 5, 503, 504, 557, 556, 503, None),\n",
       " (495, 52937.5, 81812.5, 5, 504, 505, 558, 557, 504, None),\n",
       " (496, 54862.5, 81812.5, 5, 505, 506, 559, 558, 505, None),\n",
       " (497, 56787.5, 81812.5, 5, 506, 507, 560, 559, 506, None),\n",
       " (498, 58712.5, 81812.5, 5, 507, 508, 561, 560, 507, None),\n",
       " (499, 60637.5, 81812.5, 5, 508, 509, 562, 561, 508, None),\n",
       " (500, 62562.5, 81812.5, 5, 509, 510, 563, 562, 509, None),\n",
       " (501, 64487.5, 81812.5, 5, 510, 511, 564, 563, 510, None),\n",
       " (502, 66412.5, 81812.5, 5, 511, 512, 565, 564, 511, None),\n",
       " (503, 68337.5, 81812.5, 5, 512, 513, 566, 565, 512, None),\n",
       " (504, 70262.5, 81812.5, 5, 513, 514, 567, 566, 513, None),\n",
       " (505, 72187.5, 81812.5, 5, 514, 515, 568, 567, 514, None),\n",
       " (506, 74112.5, 81812.5, 5, 515, 516, 569, 568, 515, None),\n",
       " (507, 76037.5, 81812.5, 5, 516, 517, 570, 569, 516, None),\n",
       " (508, 77962.5, 81812.5, 5, 517, 518, 571, 570, 517, None),\n",
       " (509, 79887.5, 81812.5, 5, 518, 519, 572, 571, 518, None),\n",
       " (510, 81812.5, 81812.5, 5, 519, 520, 573, 572, 519, None),\n",
       " (511, 83737.5, 81812.5, 5, 520, 521, 574, 573, 520, None),\n",
       " (512, 85662.5, 81812.5, 5, 521, 522, 575, 574, 521, None),\n",
       " (513, 87587.5, 81812.5, 5, 522, 523, 576, 575, 522, None),\n",
       " (514, 89512.5, 81812.5, 5, 523, 524, 577, 576, 523, None),\n",
       " (515, 91437.5, 81812.5, 5, 524, 525, 578, 577, 524, None),\n",
       " (516, 93362.5, 81812.5, 5, 525, 526, 579, 578, 525, None),\n",
       " (517, 95287.5, 81812.5, 5, 526, 527, 580, 579, 526, None),\n",
       " (518, 97212.5, 81812.5, 5, 527, 528, 581, 580, 527, None),\n",
       " (519, 99137.5, 81812.5, 5, 528, 529, 582, 581, 528, None),\n",
       " (520, 962.5, 79887.5, 5, 531, 530, 583, 584, 531, None),\n",
       " (521, 2887.5, 79887.5, 5, 530, 532, 585, 583, 530, None),\n",
       " (522, 4812.5, 79887.5, 5, 532, 533, 586, 585, 532, None),\n",
       " (523, 6737.5, 79887.5, 5, 533, 534, 587, 586, 533, None),\n",
       " (524, 8662.5, 79887.5, 5, 534, 535, 588, 587, 534, None),\n",
       " (525, 10587.5, 79887.5, 5, 535, 536, 589, 588, 535, None),\n",
       " (526, 12512.5, 79887.5, 5, 536, 537, 590, 589, 536, None),\n",
       " (527, 14437.5, 79887.5, 5, 537, 538, 591, 590, 537, None),\n",
       " (528, 16362.5, 79887.5, 5, 538, 539, 592, 591, 538, None),\n",
       " (529, 18287.5, 79887.5, 5, 539, 540, 593, 592, 539, None),\n",
       " (530, 20212.5, 79887.5, 5, 540, 541, 594, 593, 540, None),\n",
       " (531, 22137.5, 79887.5, 5, 541, 542, 595, 594, 541, None),\n",
       " (532, 24062.5, 79887.5, 5, 542, 543, 596, 595, 542, None),\n",
       " (533, 25987.5, 79887.5, 5, 543, 544, 597, 596, 543, None),\n",
       " (534, 27912.5, 79887.5, 5, 544, 545, 598, 597, 544, None),\n",
       " (535, 29837.5, 79887.5, 5, 545, 546, 599, 598, 545, None),\n",
       " (536, 31762.5, 79887.5, 5, 546, 547, 600, 599, 546, None),\n",
       " (537, 33687.5, 79887.5, 5, 547, 548, 601, 600, 547, None),\n",
       " (538, 35612.5, 79887.5, 5, 548, 549, 602, 601, 548, None),\n",
       " (539, 37537.5, 79887.5, 5, 549, 550, 603, 602, 549, None),\n",
       " (540, 39462.5, 79887.5, 5, 550, 551, 604, 603, 550, None),\n",
       " (541, 41387.5, 79887.5, 5, 551, 552, 605, 604, 551, None),\n",
       " (542, 43312.5, 79887.5, 5, 552, 553, 606, 605, 552, None),\n",
       " (543, 45237.5, 79887.5, 5, 553, 554, 607, 606, 553, None),\n",
       " (544, 47162.5, 79887.5, 5, 554, 555, 608, 607, 554, None),\n",
       " (545, 49087.5, 79887.5, 5, 555, 556, 609, 608, 555, None),\n",
       " (546, 51012.5, 79887.5, 5, 556, 557, 610, 609, 556, None),\n",
       " (547, 52937.5, 79887.5, 5, 557, 558, 611, 610, 557, None),\n",
       " (548, 54862.5, 79887.5, 5, 558, 559, 612, 611, 558, None),\n",
       " (549, 56787.5, 79887.5, 5, 559, 560, 613, 612, 559, None),\n",
       " (550, 58712.5, 79887.5, 5, 560, 561, 614, 613, 560, None),\n",
       " (551, 60637.5, 79887.5, 5, 561, 562, 615, 614, 561, None),\n",
       " (552, 62562.5, 79887.5, 5, 562, 563, 616, 615, 562, None),\n",
       " (553, 64487.5, 79887.5, 5, 563, 564, 617, 616, 563, None),\n",
       " (554, 66412.5, 79887.5, 5, 564, 565, 618, 617, 564, None),\n",
       " (555, 68337.5, 79887.5, 5, 565, 566, 619, 618, 565, None),\n",
       " (556, 70262.5, 79887.5, 5, 566, 567, 620, 619, 566, None),\n",
       " (557, 72187.5, 79887.5, 5, 567, 568, 621, 620, 567, None),\n",
       " (558, 74112.5, 79887.5, 5, 568, 569, 622, 621, 568, None),\n",
       " (559, 76037.5, 79887.5, 5, 569, 570, 623, 622, 569, None),\n",
       " (560, 77962.5, 79887.5, 5, 570, 571, 624, 623, 570, None),\n",
       " (561, 79887.5, 79887.5, 5, 571, 572, 625, 624, 571, None),\n",
       " (562, 81812.5, 79887.5, 5, 572, 573, 626, 625, 572, None),\n",
       " (563, 83737.5, 79887.5, 5, 573, 574, 627, 626, 573, None),\n",
       " (564, 85662.5, 79887.5, 5, 574, 575, 628, 627, 574, None),\n",
       " (565, 87587.5, 79887.5, 5, 575, 576, 629, 628, 575, None),\n",
       " (566, 89512.5, 79887.5, 5, 576, 577, 630, 629, 576, None),\n",
       " (567, 91437.5, 79887.5, 5, 577, 578, 631, 630, 577, None),\n",
       " (568, 93362.5, 79887.5, 5, 578, 579, 632, 631, 578, None),\n",
       " (569, 95287.5, 79887.5, 5, 579, 580, 633, 632, 579, None),\n",
       " (570, 97212.5, 79887.5, 5, 580, 581, 634, 633, 580, None),\n",
       " (571, 99137.5, 79887.5, 5, 581, 582, 635, 634, 581, None),\n",
       " (572, 962.5, 77962.5, 5, 584, 583, 636, 637, 584, None),\n",
       " (573, 2887.5, 77962.5, 5, 583, 585, 638, 636, 583, None),\n",
       " (574, 4812.5, 77962.5, 5, 585, 586, 639, 638, 585, None),\n",
       " (575, 6737.5, 77962.5, 5, 586, 587, 640, 639, 586, None),\n",
       " (576, 8662.5, 77962.5, 5, 587, 588, 641, 640, 587, None),\n",
       " (577, 10587.5, 77962.5, 5, 588, 589, 642, 641, 588, None),\n",
       " (578, 12512.5, 77962.5, 5, 589, 590, 643, 642, 589, None),\n",
       " (579, 14437.5, 77962.5, 5, 590, 591, 644, 643, 590, None),\n",
       " (580, 16362.5, 77962.5, 5, 591, 592, 645, 644, 591, None),\n",
       " (581, 18287.5, 77962.5, 5, 592, 593, 646, 645, 592, None),\n",
       " (582, 20212.5, 77962.5, 5, 593, 594, 647, 646, 593, None),\n",
       " (583, 22137.5, 77962.5, 5, 594, 595, 648, 647, 594, None),\n",
       " (584, 24062.5, 77962.5, 5, 595, 596, 649, 648, 595, None),\n",
       " (585, 25987.5, 77962.5, 5, 596, 597, 650, 649, 596, None),\n",
       " (586, 27912.5, 77962.5, 5, 597, 598, 651, 650, 597, None),\n",
       " (587, 29837.5, 77962.5, 5, 598, 599, 652, 651, 598, None),\n",
       " (588, 31762.5, 77962.5, 5, 599, 600, 653, 652, 599, None),\n",
       " (589, 33687.5, 77962.5, 5, 600, 601, 654, 653, 600, None),\n",
       " (590, 35612.5, 77962.5, 5, 601, 602, 655, 654, 601, None),\n",
       " (591, 37537.5, 77962.5, 5, 602, 603, 656, 655, 602, None),\n",
       " (592, 39462.5, 77962.5, 5, 603, 604, 657, 656, 603, None),\n",
       " (593, 41387.5, 77962.5, 5, 604, 605, 658, 657, 604, None),\n",
       " (594, 43312.5, 77962.5, 5, 605, 606, 659, 658, 605, None),\n",
       " (595, 45237.5, 77962.5, 5, 606, 607, 660, 659, 606, None),\n",
       " (596, 47162.5, 77962.5, 5, 607, 608, 661, 660, 607, None),\n",
       " (597, 49087.5, 77962.5, 5, 608, 609, 662, 661, 608, None),\n",
       " (598, 51012.5, 77962.5, 5, 609, 610, 663, 662, 609, None),\n",
       " (599, 52937.5, 77962.5, 5, 610, 611, 664, 663, 610, None),\n",
       " (600, 54862.5, 77962.5, 5, 611, 612, 665, 664, 611, None),\n",
       " (601, 56787.5, 77962.5, 5, 612, 613, 666, 665, 612, None),\n",
       " (602, 58712.5, 77962.5, 5, 613, 614, 667, 666, 613, None),\n",
       " (603, 60637.5, 77962.5, 5, 614, 615, 668, 667, 614, None),\n",
       " (604, 62562.5, 77962.5, 5, 615, 616, 669, 668, 615, None),\n",
       " (605, 64487.5, 77962.5, 5, 616, 617, 670, 669, 616, None),\n",
       " (606, 66412.5, 77962.5, 5, 617, 618, 671, 670, 617, None),\n",
       " (607, 68337.5, 77962.5, 5, 618, 619, 672, 671, 618, None),\n",
       " (608, 70262.5, 77962.5, 5, 619, 620, 673, 672, 619, None),\n",
       " (609, 72187.5, 77962.5, 5, 620, 621, 674, 673, 620, None),\n",
       " (610, 74112.5, 77962.5, 5, 621, 622, 675, 674, 621, None),\n",
       " (611, 76037.5, 77962.5, 5, 622, 623, 676, 675, 622, None),\n",
       " (612, 77962.5, 77962.5, 5, 623, 624, 677, 676, 623, None),\n",
       " (613, 79887.5, 77962.5, 5, 624, 625, 678, 677, 624, None),\n",
       " (614, 81812.5, 77962.5, 5, 625, 626, 679, 678, 625, None),\n",
       " (615, 83737.5, 77962.5, 5, 626, 627, 680, 679, 626, None),\n",
       " (616, 85662.5, 77962.5, 5, 627, 628, 681, 680, 627, None),\n",
       " (617, 87587.5, 77962.5, 5, 628, 629, 682, 681, 628, None),\n",
       " (618, 89512.5, 77962.5, 5, 629, 630, 683, 682, 629, None),\n",
       " (619, 91437.5, 77962.5, 5, 630, 631, 684, 683, 630, None),\n",
       " (620, 93362.5, 77962.5, 5, 631, 632, 685, 684, 631, None),\n",
       " (621, 95287.5, 77962.5, 5, 632, 633, 686, 685, 632, None),\n",
       " (622, 97212.5, 77962.5, 5, 633, 634, 687, 686, 633, None),\n",
       " (623, 99137.5, 77962.5, 5, 634, 635, 688, 687, 634, None),\n",
       " (624, 962.5, 76037.5, 5, 637, 636, 689, 690, 637, None),\n",
       " (625, 2887.5, 76037.5, 5, 636, 638, 691, 689, 636, None),\n",
       " (626, 4812.5, 76037.5, 5, 638, 639, 692, 691, 638, None),\n",
       " (627, 6737.5, 76037.5, 5, 639, 640, 693, 692, 639, None),\n",
       " (628, 8662.5, 76037.5, 5, 640, 641, 694, 693, 640, None),\n",
       " (629, 10587.5, 76037.5, 5, 641, 642, 695, 694, 641, None),\n",
       " (630, 12512.5, 76037.5, 5, 642, 643, 696, 695, 642, None),\n",
       " (631, 14437.5, 76037.5, 5, 643, 644, 697, 696, 643, None),\n",
       " (632, 16362.5, 76037.5, 5, 644, 645, 698, 697, 644, None),\n",
       " (633, 18287.5, 76037.5, 5, 645, 646, 699, 698, 645, None),\n",
       " (634, 20212.5, 76037.5, 5, 646, 647, 700, 699, 646, None),\n",
       " (635, 22137.5, 76037.5, 5, 647, 648, 701, 700, 647, None),\n",
       " (636, 24062.5, 76037.5, 5, 648, 649, 702, 701, 648, None),\n",
       " (637, 25987.5, 76037.5, 5, 649, 650, 703, 702, 649, None),\n",
       " (638, 27912.5, 76037.5, 5, 650, 651, 704, 703, 650, None),\n",
       " (639, 29837.5, 76037.5, 5, 651, 652, 705, 704, 651, None),\n",
       " (640, 31762.5, 76037.5, 5, 652, 653, 706, 705, 652, None),\n",
       " (641, 33687.5, 76037.5, 5, 653, 654, 707, 706, 653, None),\n",
       " (642, 35612.5, 76037.5, 5, 654, 655, 708, 707, 654, None),\n",
       " (643, 37537.5, 76037.5, 5, 655, 656, 709, 708, 655, None),\n",
       " (644, 39462.5, 76037.5, 5, 656, 657, 710, 709, 656, None),\n",
       " (645, 41387.5, 76037.5, 5, 657, 658, 711, 710, 657, None),\n",
       " (646, 43312.5, 76037.5, 5, 658, 659, 712, 711, 658, None),\n",
       " (647, 45237.5, 76037.5, 5, 659, 660, 713, 712, 659, None),\n",
       " (648, 47162.5, 76037.5, 5, 660, 661, 714, 713, 660, None),\n",
       " (649, 49087.5, 76037.5, 5, 661, 662, 715, 714, 661, None),\n",
       " (650, 51012.5, 76037.5, 5, 662, 663, 716, 715, 662, None),\n",
       " (651, 52937.5, 76037.5, 5, 663, 664, 717, 716, 663, None),\n",
       " (652, 54862.5, 76037.5, 5, 664, 665, 718, 717, 664, None),\n",
       " (653, 56787.5, 76037.5, 5, 665, 666, 719, 718, 665, None),\n",
       " (654, 58712.5, 76037.5, 5, 666, 667, 720, 719, 666, None),\n",
       " (655, 60637.5, 76037.5, 5, 667, 668, 721, 720, 667, None),\n",
       " (656, 62562.5, 76037.5, 5, 668, 669, 722, 721, 668, None),\n",
       " (657, 64487.5, 76037.5, 5, 669, 670, 723, 722, 669, None),\n",
       " (658, 66412.5, 76037.5, 5, 670, 671, 724, 723, 670, None),\n",
       " (659, 68337.5, 76037.5, 5, 671, 672, 725, 724, 671, None),\n",
       " (660, 70262.5, 76037.5, 5, 672, 673, 726, 725, 672, None),\n",
       " (661, 72187.5, 76037.5, 5, 673, 674, 727, 726, 673, None),\n",
       " (662, 74112.5, 76037.5, 5, 674, 675, 728, 727, 674, None),\n",
       " (663, 76037.5, 76037.5, 5, 675, 676, 729, 728, 675, None),\n",
       " (664, 77962.5, 76037.5, 5, 676, 677, 730, 729, 676, None),\n",
       " (665, 79887.5, 76037.5, 5, 677, 678, 731, 730, 677, None),\n",
       " (666, 81812.5, 76037.5, 5, 678, 679, 732, 731, 678, None),\n",
       " (667, 83737.5, 76037.5, 5, 679, 680, 733, 732, 679, None),\n",
       " (668, 85662.5, 76037.5, 5, 680, 681, 734, 733, 680, None),\n",
       " (669, 87587.5, 76037.5, 5, 681, 682, 735, 734, 681, None),\n",
       " (670, 89512.5, 76037.5, 5, 682, 683, 736, 735, 682, None),\n",
       " (671, 91437.5, 76037.5, 5, 683, 684, 737, 736, 683, None),\n",
       " (672, 93362.5, 76037.5, 5, 684, 685, 738, 737, 684, None),\n",
       " (673, 95287.5, 76037.5, 5, 685, 686, 739, 738, 685, None),\n",
       " (674, 97212.5, 76037.5, 5, 686, 687, 740, 739, 686, None),\n",
       " (675, 99137.5, 76037.5, 5, 687, 688, 741, 740, 687, None),\n",
       " (676, 962.5, 74112.5, 5, 690, 689, 742, 743, 690, None),\n",
       " (677, 2887.5, 74112.5, 5, 689, 691, 744, 742, 689, None),\n",
       " (678, 4812.5, 74112.5, 5, 691, 692, 745, 744, 691, None),\n",
       " (679, 6737.5, 74112.5, 5, 692, 693, 746, 745, 692, None),\n",
       " (680, 8662.5, 74112.5, 5, 693, 694, 747, 746, 693, None),\n",
       " (681, 10587.5, 74112.5, 5, 694, 695, 748, 747, 694, None),\n",
       " (682, 12512.5, 74112.5, 5, 695, 696, 749, 748, 695, None),\n",
       " (683, 14437.5, 74112.5, 5, 696, 697, 750, 749, 696, None),\n",
       " (684, 16362.5, 74112.5, 5, 697, 698, 751, 750, 697, None),\n",
       " (685, 18287.5, 74112.5, 5, 698, 699, 752, 751, 698, None),\n",
       " (686, 20212.5, 74112.5, 5, 699, 700, 753, 752, 699, None),\n",
       " (687, 22137.5, 74112.5, 5, 700, 701, 754, 753, 700, None),\n",
       " (688, 24062.5, 74112.5, 5, 701, 702, 755, 754, 701, None),\n",
       " (689, 25987.5, 74112.5, 5, 702, 703, 756, 755, 702, None),\n",
       " (690, 27912.5, 74112.5, 5, 703, 704, 757, 756, 703, None),\n",
       " (691, 29837.5, 74112.5, 5, 704, 705, 758, 757, 704, None),\n",
       " (692, 31762.5, 74112.5, 5, 705, 706, 759, 758, 705, None),\n",
       " (693, 33687.5, 74112.5, 5, 706, 707, 760, 759, 706, None),\n",
       " (694, 35612.5, 74112.5, 5, 707, 708, 761, 760, 707, None),\n",
       " (695, 37537.5, 74112.5, 5, 708, 709, 762, 761, 708, None),\n",
       " (696, 39462.5, 74112.5, 5, 709, 710, 763, 762, 709, None),\n",
       " (697, 41387.5, 74112.5, 5, 710, 711, 764, 763, 710, None),\n",
       " (698, 43312.5, 74112.5, 5, 711, 712, 765, 764, 711, None),\n",
       " (699, 45237.5, 74112.5, 5, 712, 713, 766, 765, 712, None),\n",
       " (700, 47162.5, 74112.5, 5, 713, 714, 767, 766, 713, None),\n",
       " (701, 49087.5, 74112.5, 5, 714, 715, 768, 767, 714, None),\n",
       " (702, 51012.5, 74112.5, 5, 715, 716, 769, 768, 715, None),\n",
       " (703, 52937.5, 74112.5, 5, 716, 717, 770, 769, 716, None),\n",
       " (704, 54862.5, 74112.5, 5, 717, 718, 771, 770, 717, None),\n",
       " (705, 56787.5, 74112.5, 5, 718, 719, 772, 771, 718, None),\n",
       " (706, 58712.5, 74112.5, 5, 719, 720, 773, 772, 719, None),\n",
       " (707, 60637.5, 74112.5, 5, 720, 721, 774, 773, 720, None),\n",
       " (708, 62562.5, 74112.5, 5, 721, 722, 775, 774, 721, None),\n",
       " (709, 64487.5, 74112.5, 5, 722, 723, 776, 775, 722, None),\n",
       " (710, 66412.5, 74112.5, 5, 723, 724, 777, 776, 723, None),\n",
       " (711, 68337.5, 74112.5, 5, 724, 725, 778, 777, 724, None),\n",
       " (712, 70262.5, 74112.5, 5, 725, 726, 779, 778, 725, None),\n",
       " (713, 72187.5, 74112.5, 5, 726, 727, 780, 779, 726, None),\n",
       " (714, 74112.5, 74112.5, 5, 727, 728, 781, 780, 727, None),\n",
       " (715, 76037.5, 74112.5, 5, 728, 729, 782, 781, 728, None),\n",
       " (716, 77962.5, 74112.5, 5, 729, 730, 783, 782, 729, None),\n",
       " (717, 79887.5, 74112.5, 5, 730, 731, 784, 783, 730, None),\n",
       " (718, 81812.5, 74112.5, 5, 731, 732, 785, 784, 731, None),\n",
       " (719, 83737.5, 74112.5, 5, 732, 733, 786, 785, 732, None),\n",
       " (720, 85662.5, 74112.5, 5, 733, 734, 787, 786, 733, None),\n",
       " (721, 87587.5, 74112.5, 5, 734, 735, 788, 787, 734, None),\n",
       " (722, 89512.5, 74112.5, 5, 735, 736, 789, 788, 735, None),\n",
       " (723, 91437.5, 74112.5, 5, 736, 737, 790, 789, 736, None),\n",
       " (724, 93362.5, 74112.5, 5, 737, 738, 791, 790, 737, None),\n",
       " (725, 95287.5, 74112.5, 5, 738, 739, 792, 791, 738, None),\n",
       " (726, 97212.5, 74112.5, 5, 739, 740, 793, 792, 739, None),\n",
       " (727, 99137.5, 74112.5, 5, 740, 741, 794, 793, 740, None),\n",
       " (728, 962.5, 72187.5, 5, 743, 742, 795, 796, 743, None),\n",
       " (729, 2887.5, 72187.5, 5, 742, 744, 797, 795, 742, None),\n",
       " (730, 4812.5, 72187.5, 5, 744, 745, 798, 797, 744, None),\n",
       " (731, 6737.5, 72187.5, 5, 745, 746, 799, 798, 745, None),\n",
       " (732, 8662.5, 72187.5, 5, 746, 747, 800, 799, 746, None),\n",
       " (733, 10587.5, 72187.5, 5, 747, 748, 801, 800, 747, None),\n",
       " (734, 12512.5, 72187.5, 5, 748, 749, 802, 801, 748, None),\n",
       " (735, 14437.5, 72187.5, 5, 749, 750, 803, 802, 749, None),\n",
       " (736, 16362.5, 72187.5, 5, 750, 751, 804, 803, 750, None),\n",
       " (737, 18287.5, 72187.5, 5, 751, 752, 805, 804, 751, None),\n",
       " (738, 20212.5, 72187.5, 5, 752, 753, 806, 805, 752, None),\n",
       " (739, 22137.5, 72187.5, 5, 753, 754, 807, 806, 753, None),\n",
       " (740, 24062.5, 72187.5, 5, 754, 755, 808, 807, 754, None),\n",
       " (741, 25987.5, 72187.5, 5, 755, 756, 809, 808, 755, None),\n",
       " (742, 27912.5, 72187.5, 5, 756, 757, 810, 809, 756, None),\n",
       " (743, 29837.5, 72187.5, 5, 757, 758, 811, 810, 757, None),\n",
       " (744, 31762.5, 72187.5, 5, 758, 759, 812, 811, 758, None),\n",
       " (745, 33687.5, 72187.5, 5, 759, 760, 813, 812, 759, None),\n",
       " (746, 35612.5, 72187.5, 5, 760, 761, 814, 813, 760, None),\n",
       " (747, 37537.5, 72187.5, 5, 761, 762, 815, 814, 761, None),\n",
       " (748, 39462.5, 72187.5, 5, 762, 763, 816, 815, 762, None),\n",
       " (749, 41387.5, 72187.5, 5, 763, 764, 817, 816, 763, None),\n",
       " (750, 43312.5, 72187.5, 5, 764, 765, 818, 817, 764, None),\n",
       " (751, 45237.5, 72187.5, 5, 765, 766, 819, 818, 765, None),\n",
       " (752, 47162.5, 72187.5, 5, 766, 767, 820, 819, 766, None),\n",
       " (753, 49087.5, 72187.5, 5, 767, 768, 821, 820, 767, None),\n",
       " (754, 51012.5, 72187.5, 5, 768, 769, 822, 821, 768, None),\n",
       " (755, 52937.5, 72187.5, 5, 769, 770, 823, 822, 769, None),\n",
       " (756, 54862.5, 72187.5, 5, 770, 771, 824, 823, 770, None),\n",
       " (757, 56787.5, 72187.5, 5, 771, 772, 825, 824, 771, None),\n",
       " (758, 58712.5, 72187.5, 5, 772, 773, 826, 825, 772, None),\n",
       " (759, 60637.5, 72187.5, 5, 773, 774, 827, 826, 773, None),\n",
       " (760, 62562.5, 72187.5, 5, 774, 775, 828, 827, 774, None),\n",
       " (761, 64487.5, 72187.5, 5, 775, 776, 829, 828, 775, None),\n",
       " (762, 66412.5, 72187.5, 5, 776, 777, 830, 829, 776, None),\n",
       " (763, 68337.5, 72187.5, 5, 777, 778, 831, 830, 777, None),\n",
       " (764, 70262.5, 72187.5, 5, 778, 779, 832, 831, 778, None),\n",
       " (765, 72187.5, 72187.5, 5, 779, 780, 833, 832, 779, None),\n",
       " (766, 74112.5, 72187.5, 5, 780, 781, 834, 833, 780, None),\n",
       " (767, 76037.5, 72187.5, 5, 781, 782, 835, 834, 781, None),\n",
       " (768, 77962.5, 72187.5, 5, 782, 783, 836, 835, 782, None),\n",
       " (769, 79887.5, 72187.5, 5, 783, 784, 837, 836, 783, None),\n",
       " (770, 81812.5, 72187.5, 5, 784, 785, 838, 837, 784, None),\n",
       " (771, 83737.5, 72187.5, 5, 785, 786, 839, 838, 785, None),\n",
       " (772, 85662.5, 72187.5, 5, 786, 787, 840, 839, 786, None),\n",
       " (773, 87587.5, 72187.5, 5, 787, 788, 841, 840, 787, None),\n",
       " (774, 89512.5, 72187.5, 5, 788, 789, 842, 841, 788, None),\n",
       " (775, 91437.5, 72187.5, 5, 789, 790, 843, 842, 789, None),\n",
       " (776, 93362.5, 72187.5, 5, 790, 791, 844, 843, 790, None),\n",
       " (777, 95287.5, 72187.5, 5, 791, 792, 845, 844, 791, None),\n",
       " (778, 97212.5, 72187.5, 5, 792, 793, 846, 845, 792, None),\n",
       " (779, 99137.5, 72187.5, 5, 793, 794, 847, 846, 793, None),\n",
       " (780, 962.5, 70262.5, 5, 796, 795, 848, 849, 796, None),\n",
       " (781, 2887.5, 70262.5, 5, 795, 797, 850, 848, 795, None),\n",
       " (782, 4812.5, 70262.5, 5, 797, 798, 851, 850, 797, None),\n",
       " (783, 6737.5, 70262.5, 5, 798, 799, 852, 851, 798, None),\n",
       " (784, 8662.5, 70262.5, 5, 799, 800, 853, 852, 799, None),\n",
       " (785, 10587.5, 70262.5, 5, 800, 801, 854, 853, 800, None),\n",
       " (786, 12512.5, 70262.5, 5, 801, 802, 855, 854, 801, None),\n",
       " (787, 14437.5, 70262.5, 5, 802, 803, 856, 855, 802, None),\n",
       " (788, 16362.5, 70262.5, 5, 803, 804, 857, 856, 803, None),\n",
       " (789, 18287.5, 70262.5, 5, 804, 805, 858, 857, 804, None),\n",
       " (790, 20212.5, 70262.5, 5, 805, 806, 859, 858, 805, None),\n",
       " (791, 22137.5, 70262.5, 5, 806, 807, 860, 859, 806, None),\n",
       " (792, 24062.5, 70262.5, 5, 807, 808, 861, 860, 807, None),\n",
       " (793, 25987.5, 70262.5, 5, 808, 809, 862, 861, 808, None),\n",
       " (794, 27912.5, 70262.5, 5, 809, 810, 863, 862, 809, None),\n",
       " (795, 29837.5, 70262.5, 5, 810, 811, 864, 863, 810, None),\n",
       " (796, 31762.5, 70262.5, 5, 811, 812, 865, 864, 811, None),\n",
       " (797, 33687.5, 70262.5, 5, 812, 813, 866, 865, 812, None),\n",
       " (798, 35612.5, 70262.5, 5, 813, 814, 867, 866, 813, None),\n",
       " (799, 37537.5, 70262.5, 5, 814, 815, 868, 867, 814, None),\n",
       " (800, 39462.5, 70262.5, 5, 815, 816, 869, 868, 815, None),\n",
       " (801, 41387.5, 70262.5, 5, 816, 817, 870, 869, 816, None),\n",
       " (802, 43312.5, 70262.5, 5, 817, 818, 871, 870, 817, None),\n",
       " (803, 45237.5, 70262.5, 5, 818, 819, 872, 871, 818, None),\n",
       " (804, 47162.5, 70262.5, 5, 819, 820, 873, 872, 819, None),\n",
       " (805, 49087.5, 70262.5, 5, 820, 821, 874, 873, 820, None),\n",
       " (806, 51012.5, 70262.5, 5, 821, 822, 875, 874, 821, None),\n",
       " (807, 52937.5, 70262.5, 5, 822, 823, 876, 875, 822, None),\n",
       " (808, 54862.5, 70262.5, 5, 823, 824, 877, 876, 823, None),\n",
       " (809, 56787.5, 70262.5, 5, 824, 825, 878, 877, 824, None),\n",
       " (810, 58712.5, 70262.5, 5, 825, 826, 879, 878, 825, None),\n",
       " (811, 60637.5, 70262.5, 5, 826, 827, 880, 879, 826, None),\n",
       " (812, 62562.5, 70262.5, 5, 827, 828, 881, 880, 827, None),\n",
       " (813, 64487.5, 70262.5, 5, 828, 829, 882, 881, 828, None),\n",
       " (814, 66412.5, 70262.5, 5, 829, 830, 883, 882, 829, None),\n",
       " (815, 68337.5, 70262.5, 5, 830, 831, 884, 883, 830, None),\n",
       " (816, 70262.5, 70262.5, 5, 831, 832, 885, 884, 831, None),\n",
       " (817, 72187.5, 70262.5, 5, 832, 833, 886, 885, 832, None),\n",
       " (818, 74112.5, 70262.5, 5, 833, 834, 887, 886, 833, None),\n",
       " (819, 76037.5, 70262.5, 5, 834, 835, 888, 887, 834, None),\n",
       " (820, 77962.5, 70262.5, 5, 835, 836, 889, 888, 835, None),\n",
       " (821, 79887.5, 70262.5, 5, 836, 837, 890, 889, 836, None),\n",
       " (822, 81812.5, 70262.5, 5, 837, 838, 891, 890, 837, None),\n",
       " (823, 83737.5, 70262.5, 5, 838, 839, 892, 891, 838, None),\n",
       " (824, 85662.5, 70262.5, 5, 839, 840, 893, 892, 839, None),\n",
       " (825, 87587.5, 70262.5, 5, 840, 841, 894, 893, 840, None),\n",
       " (826, 89512.5, 70262.5, 5, 841, 842, 895, 894, 841, None),\n",
       " (827, 91437.5, 70262.5, 5, 842, 843, 896, 895, 842, None),\n",
       " (828, 93362.5, 70262.5, 5, 843, 844, 897, 896, 843, None),\n",
       " (829, 95287.5, 70262.5, 5, 844, 845, 898, 897, 844, None),\n",
       " (830, 97212.5, 70262.5, 5, 845, 846, 899, 898, 845, None),\n",
       " (831, 99137.5, 70262.5, 5, 846, 847, 900, 899, 846, None),\n",
       " (832, 962.5, 68337.5, 5, 849, 848, 901, 902, 849, None),\n",
       " (833, 2887.5, 68337.5, 5, 848, 850, 903, 901, 848, None),\n",
       " (834, 4812.5, 68337.5, 5, 850, 851, 904, 903, 850, None),\n",
       " (835, 6737.5, 68337.5, 5, 851, 852, 905, 904, 851, None),\n",
       " (836, 8662.5, 68337.5, 5, 852, 853, 906, 905, 852, None),\n",
       " (837, 10587.5, 68337.5, 5, 853, 854, 907, 906, 853, None),\n",
       " (838, 12512.5, 68337.5, 5, 854, 855, 908, 907, 854, None),\n",
       " (839, 14437.5, 68337.5, 5, 855, 856, 909, 908, 855, None),\n",
       " (840, 16362.5, 68337.5, 5, 856, 857, 910, 909, 856, None),\n",
       " (841, 18287.5, 68337.5, 5, 857, 858, 911, 910, 857, None),\n",
       " (842, 20212.5, 68337.5, 5, 858, 859, 912, 911, 858, None),\n",
       " (843, 22137.5, 68337.5, 5, 859, 860, 913, 912, 859, None),\n",
       " (844, 24062.5, 68337.5, 5, 860, 861, 914, 913, 860, None),\n",
       " (845, 25987.5, 68337.5, 5, 861, 862, 915, 914, 861, None),\n",
       " (846, 27912.5, 68337.5, 5, 862, 863, 916, 915, 862, None),\n",
       " (847, 29837.5, 68337.5, 5, 863, 864, 917, 916, 863, None),\n",
       " (848, 31762.5, 68337.5, 5, 864, 865, 918, 917, 864, None),\n",
       " (849, 33687.5, 68337.5, 5, 865, 866, 919, 918, 865, None),\n",
       " (850, 35612.5, 68337.5, 5, 866, 867, 920, 919, 866, None),\n",
       " (851, 37537.5, 68337.5, 5, 867, 868, 921, 920, 867, None),\n",
       " (852, 39462.5, 68337.5, 5, 868, 869, 922, 921, 868, None),\n",
       " (853, 41387.5, 68337.5, 5, 869, 870, 923, 922, 869, None),\n",
       " (854, 43312.5, 68337.5, 5, 870, 871, 924, 923, 870, None),\n",
       " (855, 45237.5, 68337.5, 5, 871, 872, 925, 924, 871, None),\n",
       " (856, 47162.5, 68337.5, 5, 872, 873, 926, 925, 872, None),\n",
       " (857, 49087.5, 68337.5, 5, 873, 874, 927, 926, 873, None),\n",
       " (858, 51012.5, 68337.5, 5, 874, 875, 928, 927, 874, None),\n",
       " (859, 52937.5, 68337.5, 5, 875, 876, 929, 928, 875, None),\n",
       " (860, 54862.5, 68337.5, 5, 876, 877, 930, 929, 876, None),\n",
       " (861, 56787.5, 68337.5, 5, 877, 878, 931, 930, 877, None),\n",
       " (862, 58712.5, 68337.5, 5, 878, 879, 932, 931, 878, None),\n",
       " (863, 60637.5, 68337.5, 5, 879, 880, 933, 932, 879, None),\n",
       " (864, 62562.5, 68337.5, 5, 880, 881, 934, 933, 880, None),\n",
       " (865, 64487.5, 68337.5, 5, 881, 882, 935, 934, 881, None),\n",
       " (866, 66412.5, 68337.5, 5, 882, 883, 936, 935, 882, None),\n",
       " (867, 68337.5, 68337.5, 5, 883, 884, 937, 936, 883, None),\n",
       " (868, 70262.5, 68337.5, 5, 884, 885, 938, 937, 884, None),\n",
       " (869, 72187.5, 68337.5, 5, 885, 886, 939, 938, 885, None),\n",
       " (870, 74112.5, 68337.5, 5, 886, 887, 940, 939, 886, None),\n",
       " (871, 76037.5, 68337.5, 5, 887, 888, 941, 940, 887, None),\n",
       " (872, 77962.5, 68337.5, 5, 888, 889, 942, 941, 888, None),\n",
       " (873, 79887.5, 68337.5, 5, 889, 890, 943, 942, 889, None),\n",
       " (874, 81812.5, 68337.5, 5, 890, 891, 944, 943, 890, None),\n",
       " (875, 83737.5, 68337.5, 5, 891, 892, 945, 944, 891, None),\n",
       " (876, 85662.5, 68337.5, 5, 892, 893, 946, 945, 892, None),\n",
       " (877, 87587.5, 68337.5, 5, 893, 894, 947, 946, 893, None),\n",
       " (878, 89512.5, 68337.5, 5, 894, 895, 948, 947, 894, None),\n",
       " (879, 91437.5, 68337.5, 5, 895, 896, 949, 948, 895, None),\n",
       " (880, 93362.5, 68337.5, 5, 896, 897, 950, 949, 896, None),\n",
       " (881, 95287.5, 68337.5, 5, 897, 898, 951, 950, 897, None),\n",
       " (882, 97212.5, 68337.5, 5, 898, 899, 952, 951, 898, None),\n",
       " (883, 99137.5, 68337.5, 5, 899, 900, 953, 952, 899, None),\n",
       " (884, 962.5, 66412.5, 5, 902, 901, 954, 955, 902, None),\n",
       " (885, 2887.5, 66412.5, 5, 901, 903, 956, 954, 901, None),\n",
       " (886, 4812.5, 66412.5, 5, 903, 904, 957, 956, 903, None),\n",
       " (887, 6737.5, 66412.5, 5, 904, 905, 958, 957, 904, None),\n",
       " (888, 8662.5, 66412.5, 5, 905, 906, 959, 958, 905, None),\n",
       " (889, 10587.5, 66412.5, 5, 906, 907, 960, 959, 906, None),\n",
       " (890, 12512.5, 66412.5, 5, 907, 908, 961, 960, 907, None),\n",
       " (891, 14437.5, 66412.5, 5, 908, 909, 962, 961, 908, None),\n",
       " (892, 16362.5, 66412.5, 5, 909, 910, 963, 962, 909, None),\n",
       " (893, 18287.5, 66412.5, 5, 910, 911, 964, 963, 910, None),\n",
       " (894, 20212.5, 66412.5, 5, 911, 912, 965, 964, 911, None),\n",
       " (895, 22137.5, 66412.5, 5, 912, 913, 966, 965, 912, None),\n",
       " (896, 24062.5, 66412.5, 5, 913, 914, 967, 966, 913, None),\n",
       " (897, 25987.5, 66412.5, 5, 914, 915, 968, 967, 914, None),\n",
       " (898, 27912.5, 66412.5, 5, 915, 916, 969, 968, 915, None),\n",
       " (899, 29837.5, 66412.5, 5, 916, 917, 970, 969, 916, None),\n",
       " (900, 31762.5, 66412.5, 5, 917, 918, 971, 970, 917, None),\n",
       " (901, 33687.5, 66412.5, 5, 918, 919, 972, 971, 918, None),\n",
       " (902, 35612.5, 66412.5, 5, 919, 920, 973, 972, 919, None),\n",
       " (903, 37537.5, 66412.5, 5, 920, 921, 974, 973, 920, None),\n",
       " (904, 39462.5, 66412.5, 5, 921, 922, 975, 974, 921, None),\n",
       " (905, 41387.5, 66412.5, 5, 922, 923, 976, 975, 922, None),\n",
       " (906, 43312.5, 66412.5, 5, 923, 924, 977, 976, 923, None),\n",
       " (907, 45237.5, 66412.5, 5, 924, 925, 978, 977, 924, None),\n",
       " (908, 47162.5, 66412.5, 5, 925, 926, 979, 978, 925, None),\n",
       " (909, 49087.5, 66412.5, 5, 926, 927, 980, 979, 926, None),\n",
       " (910, 51012.5, 66412.5, 5, 927, 928, 981, 980, 927, None),\n",
       " (911, 52937.5, 66412.5, 5, 928, 929, 982, 981, 928, None),\n",
       " (912, 54862.5, 66412.5, 5, 929, 930, 983, 982, 929, None),\n",
       " (913, 56787.5, 66412.5, 5, 930, 931, 984, 983, 930, None),\n",
       " (914, 58712.5, 66412.5, 5, 931, 932, 985, 984, 931, None),\n",
       " (915, 60637.5, 66412.5, 5, 932, 933, 986, 985, 932, None),\n",
       " (916, 62562.5, 66412.5, 5, 933, 934, 987, 986, 933, None),\n",
       " (917, 64487.5, 66412.5, 5, 934, 935, 988, 987, 934, None),\n",
       " (918, 66412.5, 66412.5, 5, 935, 936, 989, 988, 935, None),\n",
       " (919, 68337.5, 66412.5, 5, 936, 937, 990, 989, 936, None),\n",
       " (920, 70262.5, 66412.5, 5, 937, 938, 991, 990, 937, None),\n",
       " (921, 72187.5, 66412.5, 5, 938, 939, 992, 991, 938, None),\n",
       " (922, 74112.5, 66412.5, 5, 939, 940, 993, 992, 939, None),\n",
       " (923, 76037.5, 66412.5, 5, 940, 941, 994, 993, 940, None),\n",
       " (924, 77962.5, 66412.5, 5, 941, 942, 995, 994, 941, None),\n",
       " (925, 79887.5, 66412.5, 5, 942, 943, 996, 995, 942, None),\n",
       " (926, 81812.5, 66412.5, 5, 943, 944, 997, 996, 943, None),\n",
       " (927, 83737.5, 66412.5, 5, 944, 945, 998, 997, 944, None),\n",
       " (928, 85662.5, 66412.5, 5, 945, 946, 999, 998, 945, None),\n",
       " (929, 87587.5, 66412.5, 5, 946, 947, 1000, 999, 946, None),\n",
       " (930, 89512.5, 66412.5, 5, 947, 948, 1001, 1000, 947, None),\n",
       " (931, 91437.5, 66412.5, 5, 948, 949, 1002, 1001, 948, None),\n",
       " (932, 93362.5, 66412.5, 5, 949, 950, 1003, 1002, 949, None),\n",
       " (933, 95287.5, 66412.5, 5, 950, 951, 1004, 1003, 950, None),\n",
       " (934, 97212.5, 66412.5, 5, 951, 952, 1005, 1004, 951, None),\n",
       " (935, 99137.5, 66412.5, 5, 952, 953, 1006, 1005, 952, None),\n",
       " (936, 962.5, 64487.5, 5, 955, 954, 1007, 1008, 955, None),\n",
       " (937, 2887.5, 64487.5, 5, 954, 956, 1009, 1007, 954, None),\n",
       " (938, 4812.5, 64487.5, 5, 956, 957, 1010, 1009, 956, None),\n",
       " (939, 6737.5, 64487.5, 5, 957, 958, 1011, 1010, 957, None),\n",
       " (940, 8662.5, 64487.5, 5, 958, 959, 1012, 1011, 958, None),\n",
       " (941, 10587.5, 64487.5, 5, 959, 960, 1013, 1012, 959, None),\n",
       " (942, 12512.5, 64487.5, 5, 960, 961, 1014, 1013, 960, None),\n",
       " (943, 14437.5, 64487.5, 5, 961, 962, 1015, 1014, 961, None),\n",
       " (944, 16362.5, 64487.5, 5, 962, 963, 1016, 1015, 962, None),\n",
       " (945, 18287.5, 64487.5, 5, 963, 964, 1017, 1016, 963, None),\n",
       " (946, 20212.5, 64487.5, 5, 964, 965, 1018, 1017, 964, None),\n",
       " (947, 22137.5, 64487.5, 5, 965, 966, 1019, 1018, 965, None),\n",
       " (948, 24062.5, 64487.5, 5, 966, 967, 1020, 1019, 966, None),\n",
       " (949, 25987.5, 64487.5, 5, 967, 968, 1021, 1020, 967, None),\n",
       " (950, 27912.5, 64487.5, 5, 968, 969, 1022, 1021, 968, None),\n",
       " (951, 29837.5, 64487.5, 5, 969, 970, 1023, 1022, 969, None),\n",
       " (952, 31762.5, 64487.5, 5, 970, 971, 1024, 1023, 970, None),\n",
       " (953, 33687.5, 64487.5, 5, 971, 972, 1025, 1024, 971, None),\n",
       " (954, 35612.5, 64487.5, 5, 972, 973, 1026, 1025, 972, None),\n",
       " (955, 37537.5, 64487.5, 5, 973, 974, 1027, 1026, 973, None),\n",
       " (956, 39462.5, 64487.5, 5, 974, 975, 1028, 1027, 974, None),\n",
       " (957, 41387.5, 64487.5, 5, 975, 976, 1029, 1028, 975, None),\n",
       " (958, 43312.5, 64487.5, 5, 976, 977, 1030, 1029, 976, None),\n",
       " (959, 45237.5, 64487.5, 5, 977, 978, 1031, 1030, 977, None),\n",
       " (960, 47162.5, 64487.5, 5, 978, 979, 1032, 1031, 978, None),\n",
       " (961, 49087.5, 64487.5, 5, 979, 980, 1033, 1032, 979, None),\n",
       " (962, 51012.5, 64487.5, 5, 980, 981, 1034, 1033, 980, None),\n",
       " (963, 52937.5, 64487.5, 5, 981, 982, 1035, 1034, 981, None),\n",
       " (964, 54862.5, 64487.5, 5, 982, 983, 1036, 1035, 982, None),\n",
       " (965, 56787.5, 64487.5, 5, 983, 984, 1037, 1036, 983, None),\n",
       " (966, 58712.5, 64487.5, 5, 984, 985, 1038, 1037, 984, None),\n",
       " (967, 60637.5, 64487.5, 5, 985, 986, 1039, 1038, 985, None),\n",
       " (968, 62562.5, 64487.5, 5, 986, 987, 1040, 1039, 986, None),\n",
       " (969, 64487.5, 64487.5, 5, 987, 988, 1041, 1040, 987, None),\n",
       " (970, 66412.5, 64487.5, 5, 988, 989, 1042, 1041, 988, None),\n",
       " (971, 68337.5, 64487.5, 5, 989, 990, 1043, 1042, 989, None),\n",
       " (972, 70262.5, 64487.5, 5, 990, 991, 1044, 1043, 990, None),\n",
       " (973, 72187.5, 64487.5, 5, 991, 992, 1045, 1044, 991, None),\n",
       " (974, 74112.5, 64487.5, 5, 992, 993, 1046, 1045, 992, None),\n",
       " (975, 76037.5, 64487.5, 5, 993, 994, 1047, 1046, 993, None),\n",
       " (976, 77962.5, 64487.5, 5, 994, 995, 1048, 1047, 994, None),\n",
       " (977, 79887.5, 64487.5, 5, 995, 996, 1049, 1048, 995, None),\n",
       " (978, 81812.5, 64487.5, 5, 996, 997, 1050, 1049, 996, None),\n",
       " (979, 83737.5, 64487.5, 5, 997, 998, 1051, 1050, 997, None),\n",
       " (980, 85662.5, 64487.5, 5, 998, 999, 1052, 1051, 998, None),\n",
       " (981, 87587.5, 64487.5, 5, 999, 1000, 1053, 1052, 999, None),\n",
       " (982, 89512.5, 64487.5, 5, 1000, 1001, 1054, 1053, 1000, None),\n",
       " (983, 91437.5, 64487.5, 5, 1001, 1002, 1055, 1054, 1001, None),\n",
       " (984, 93362.5, 64487.5, 5, 1002, 1003, 1056, 1055, 1002, None),\n",
       " (985, 95287.5, 64487.5, 5, 1003, 1004, 1057, 1056, 1003, None),\n",
       " (986, 97212.5, 64487.5, 5, 1004, 1005, 1058, 1057, 1004, None),\n",
       " (987, 99137.5, 64487.5, 5, 1005, 1006, 1059, 1058, 1005, None),\n",
       " (988, 962.5, 62562.5, 5, 1008, 1007, 1060, 1061, 1008, None),\n",
       " (989, 2887.5, 62562.5, 5, 1007, 1009, 1062, 1060, 1007, None),\n",
       " (990, 4812.5, 62562.5, 5, 1009, 1010, 1063, 1062, 1009, None),\n",
       " (991, 6737.5, 62562.5, 5, 1010, 1011, 1064, 1063, 1010, None),\n",
       " (992, 8662.5, 62562.5, 5, 1011, 1012, 1065, 1064, 1011, None),\n",
       " (993, 10587.5, 62562.5, 5, 1012, 1013, 1066, 1065, 1012, None),\n",
       " (994, 12512.5, 62562.5, 5, 1013, 1014, 1067, 1066, 1013, None),\n",
       " (995, 14437.5, 62562.5, 5, 1014, 1015, 1068, 1067, 1014, None),\n",
       " (996, 16362.5, 62562.5, 5, 1015, 1016, 1069, 1068, 1015, None),\n",
       " (997, 18287.5, 62562.5, 5, 1016, 1017, 1070, 1069, 1016, None),\n",
       " (998, 20212.5, 62562.5, 5, 1017, 1018, 1071, 1070, 1017, None),\n",
       " (999, 22137.5, 62562.5, 5, 1018, 1019, 1072, 1071, 1018, None),\n",
       " ...]"
      ]
     },
     "execution_count": 20,
     "metadata": {},
     "output_type": "execute_result"
    }
   ],
   "source": [
    "cell2d"
   ]
  },
  {
   "cell_type": "code",
   "execution_count": 21,
   "metadata": {},
   "outputs": [],
   "source": [
    "chd_spd = [i for i in cell2d if i[1] == delr/2] + \\\n",
    "[i for i in cell2d if i[2] == delr/2] + \\\n",
    "[i for i in cell2d if i[1] == ((nrow * delr-1)+delr/2)] + \\\n",
    "[i for i in cell2d if i[2] == ((nrow * delr-1)+delr/2)] \n"
   ]
  },
  {
   "cell_type": "code",
   "execution_count": 22,
   "metadata": {},
   "outputs": [
    {
     "name": "stdout",
     "output_type": "stream",
     "text": [
      "104\n",
      "103\n"
     ]
    }
   ],
   "source": [
    "print(len(chd_spd))\n",
    "chd_spd = list(set(chd_spd))\n",
    "chd_spd = [[[0,i[0]],0] for i in chd_spd]\n",
    "print(len(chd_spd))\n"
   ]
  },
  {
   "cell_type": "code",
   "execution_count": 23,
   "metadata": {},
   "outputs": [],
   "source": [
    "chd = fp.mf6.ModflowGwfchd(gwf, save_flows=True,stress_period_data = chd_spd)"
   ]
  },
  {
   "cell_type": "code",
   "execution_count": 24,
   "metadata": {},
   "outputs": [],
   "source": [
    "# npf \n",
    "hk=0.3\n",
    "\n",
    "# node property flow\n",
    "npf = fp.mf6.ModflowGwfnpf(gwf, save_specific_discharge=True,\n",
    "                              icelltype=[0], \n",
    "                              k=[hk],\n",
    "                              k33=[hk])"
   ]
  },
  {
   "cell_type": "code",
   "execution_count": 25,
   "metadata": {},
   "outputs": [],
   "source": [
    "# storage\n",
    "ss=0.0008\n",
    "stor = fp.mf6.ModflowGwfsto(gwf, ss=ss, transient=True)"
   ]
  },
  {
   "cell_type": "code",
   "execution_count": 26,
   "metadata": {},
   "outputs": [],
   "source": [
    "x = [i[1] for i in cell2d]\n",
    "y = [i[2] for i in cell2d]\n",
    "xc= x==np.median(x)\n",
    "yc =y==np.median(y)"
   ]
  },
  {
   "cell_type": "code",
   "execution_count": 27,
   "metadata": {},
   "outputs": [
    {
     "data": {
      "text/plain": [
       "1907"
      ]
     },
     "execution_count": 27,
     "metadata": {},
     "output_type": "execute_result"
    }
   ],
   "source": [
    "np.argmin(np.abs(np.array(x)-48500))"
   ]
  },
  {
   "cell_type": "code",
   "execution_count": 28,
   "metadata": {},
   "outputs": [
    {
     "data": {
      "text/plain": [
       "2758"
      ]
     },
     "execution_count": 28,
     "metadata": {},
     "output_type": "execute_result"
    }
   ],
   "source": [
    "np.argmin(np.abs(np.array(y)-48500))"
   ]
  },
  {
   "cell_type": "code",
   "execution_count": 29,
   "metadata": {},
   "outputs": [
    {
     "data": {
      "text/plain": [
       "(1741, 43673.4375, 53057.8125, 5, 1867, 1868, 1870, 1869, 1867, None)"
      ]
     },
     "execution_count": 29,
     "metadata": {},
     "output_type": "execute_result"
    }
   ],
   "source": [
    "cell2d[1741]"
   ]
  },
  {
   "cell_type": "code",
   "execution_count": 30,
   "metadata": {},
   "outputs": [
    {
     "data": {
      "text/plain": [
       "(1716, 42470.3125, 53539.0625, 5, 1839, 1838, 1841, 1826, 1839, None)"
      ]
     },
     "execution_count": 30,
     "metadata": {},
     "output_type": "execute_result"
    }
   ],
   "source": [
    "cell2d[1716]"
   ]
  },
  {
   "cell_type": "code",
   "execution_count": 31,
   "metadata": {},
   "outputs": [],
   "source": [
    "center_cell = gwf.modelgrid.intersect(np.median(x),np.median(y))"
   ]
  },
  {
   "cell_type": "code",
   "execution_count": 32,
   "metadata": {},
   "outputs": [
    {
     "data": {
      "text/plain": [
       "48245.3125"
      ]
     },
     "execution_count": 32,
     "metadata": {},
     "output_type": "execute_result"
    }
   ],
   "source": [
    "np.median(y)"
   ]
  },
  {
   "cell_type": "code",
   "execution_count": 33,
   "metadata": {},
   "outputs": [
    {
     "data": {
      "text/plain": [
       "(array([2760, 2761, 2764, 2765, 2776, 2777, 2780, 2781, 2824, 2825, 2828,\n",
       "        2829, 2840, 2841, 2844, 2845, 3400, 3401, 3404, 3405, 3416, 3417,\n",
       "        3420, 3421, 3464, 3465, 3468, 3469, 3480, 3481, 3484, 3485]),)"
      ]
     },
     "execution_count": 33,
     "metadata": {},
     "output_type": "execute_result"
    }
   ],
   "source": [
    "np.where(y==np.median(y))"
   ]
  },
  {
   "cell_type": "code",
   "execution_count": 34,
   "metadata": {},
   "outputs": [
    {
     "data": {
      "text/plain": [
       "(array([1906, 1908, 1914, 1916, 1938, 1940, 1946, 1948, 2408, 2410, 2416,\n",
       "        2418, 2440, 2442, 2448, 2450, 4682, 4684, 4690, 4692, 4714, 4716,\n",
       "        4722, 4724, 5184, 5186, 5192, 5194, 5216, 5218, 5224, 5226]),)"
      ]
     },
     "execution_count": 34,
     "metadata": {},
     "output_type": "execute_result"
    }
   ],
   "source": [
    "np.where(xc == True)"
   ]
  },
  {
   "cell_type": "code",
   "execution_count": 35,
   "metadata": {},
   "outputs": [
    {
     "data": {
      "text/plain": [
       "(1311, 44996.875, 56546.875, 5, 1406, 1407, 1414, 1413, 1406, None)"
      ]
     },
     "execution_count": 35,
     "metadata": {},
     "output_type": "execute_result"
    }
   ],
   "source": [
    "cell2d[1311]"
   ]
  },
  {
   "cell_type": "code",
   "execution_count": 36,
   "metadata": {},
   "outputs": [
    {
     "data": {
      "text/plain": [
       "array([0])"
      ]
     },
     "execution_count": 36,
     "metadata": {},
     "output_type": "execute_result"
    }
   ],
   "source": [
    "np.unique(xc.astype(int) * yc.astype(int))"
   ]
  },
  {
   "cell_type": "code",
   "execution_count": 37,
   "metadata": {},
   "outputs": [],
   "source": [
    "# single well in the center\n",
    "well_sp = [[(0, center_cell), -1.16]]\n",
    "wel = fp.mf6.ModflowGwfwel(gwf,save_flows=True,stress_period_data=well_sp)"
   ]
  },
  {
   "cell_type": "code",
   "execution_count": 39,
   "metadata": {},
   "outputs": [
    {
     "name": "stdout",
     "output_type": "stream",
     "text": [
      "WARNING: Package with name oc already exists. Replacing existing package.\n"
     ]
    }
   ],
   "source": [
    "# output control\n",
    "oc = fp.mf6.ModflowGwfoc(gwf, pname='oc', budget_filerecord='{}.cbc'.format(model_name),\n",
    "                            head_filerecord='{}.hds'.format(model_name),\n",
    "                            headprintrecord=[('COLUMNS', 10, 'WIDTH', 15,\n",
    "                                              'DIGITS', 6, 'GENERAL')],\n",
    "                            saverecord=[('HEAD', 'ALL'), ('BUDGET', 'ALL')],\n",
    "                            printrecord=[('HEAD', 'ALL'), ('BUDGET', 'ALL')])"
   ]
  },
  {
   "cell_type": "code",
   "execution_count": 40,
   "metadata": {
    "scrolled": false
   },
   "outputs": [
    {
     "name": "stdout",
     "output_type": "stream",
     "text": [
      "writing simulation...\n",
      "  writing simulation name file...\n",
      "  writing simulation tdis package...\n",
      "  writing ims package ims...\n",
      "  writing model theis...\n",
      "    writing model name file...\n",
      "    writing package ic...\n",
      "    writing package disv...\n",
      "    writing package chd_0...\n",
      "INFORMATION: maxbound in ('gwf6', 'chd', 'dimensions') changed to 103 based on size of stress_period_data\n",
      "    writing package npf...\n",
      "    writing package sto...\n",
      "    writing package wel_0...\n",
      "INFORMATION: maxbound in ('gwf6', 'wel', 'dimensions') changed to 1 based on size of stress_period_data\n",
      "    writing package oc...\n",
      "FloPy is using the following  executable to run the model: /Users/mnfienen/Documents/bin/MAC_VERSIONS_USGS/mf6\n",
      "                                   MODFLOW 6\n",
      "                U.S. GEOLOGICAL SURVEY MODULAR HYDROLOGIC MODEL\n",
      "                            VERSION 6.0.4 03/13/2019\n",
      "\n",
      "   MODFLOW 6 compiled Mar 21 2019 13:54:16 with IFORT compiler (ver. 19.0.0)\n",
      "\n",
      "This software has been approved for release by the U.S. Geological \n",
      "Survey (USGS). Although the software has been subjected to rigorous \n",
      "review, the USGS reserves the right to update the software as needed \n",
      "pursuant to further analysis and review. No warranty, expressed or \n",
      "implied, is made by the USGS or the U.S. Government as to the \n",
      "functionality of the software and related material nor shall the \n",
      "fact of release constitute any such warranty. Furthermore, the \n",
      "software is released on condition that neither the USGS nor the U.S. \n",
      "Government shall be held liable for any damages resulting from its \n",
      "authorized or unauthorized use. Also refer to the USGS Water \n",
      "Resources Software User Rights Notice for complete use, copyright, \n",
      "and distribution information.\n",
      "\n",
      " Run start date and time (yyyy/mm/dd hh:mm:ss): 2019/11/14 11:47:55\n",
      "\n",
      " Writing simulation list file: mfsim.lst\n",
      " Using Simulation name file: mfsim.nam\n",
      " Solving:  Stress period:     1    Time step:     1\n",
      " Solving:  Stress period:     1    Time step:     2\n",
      " Solving:  Stress period:     1    Time step:     3\n",
      " Solving:  Stress period:     1    Time step:     4\n",
      " Solving:  Stress period:     1    Time step:     5\n",
      " Solving:  Stress period:     1    Time step:     6\n",
      " Solving:  Stress period:     1    Time step:     7\n",
      " Solving:  Stress period:     1    Time step:     8\n",
      " Solving:  Stress period:     1    Time step:     9\n",
      " Solving:  Stress period:     1    Time step:    10\n",
      " Solving:  Stress period:     1    Time step:    11\n",
      " Solving:  Stress period:     1    Time step:    12\n",
      " Solving:  Stress period:     1    Time step:    13\n",
      " Solving:  Stress period:     1    Time step:    14\n",
      " Solving:  Stress period:     1    Time step:    15\n",
      " Solving:  Stress period:     1    Time step:    16\n",
      " Solving:  Stress period:     1    Time step:    17\n",
      " Solving:  Stress period:     1    Time step:    18\n",
      " Solving:  Stress period:     1    Time step:    19\n",
      " Solving:  Stress period:     1    Time step:    20\n",
      " Solving:  Stress period:     1    Time step:    21\n",
      " Solving:  Stress period:     1    Time step:    22\n",
      " Solving:  Stress period:     1    Time step:    23\n",
      " Solving:  Stress period:     1    Time step:    24\n",
      " Solving:  Stress period:     1    Time step:    25\n",
      " Solving:  Stress period:     1    Time step:    26\n",
      " Solving:  Stress period:     1    Time step:    27\n",
      " Solving:  Stress period:     1    Time step:    28\n",
      " Solving:  Stress period:     1    Time step:    29\n",
      " Solving:  Stress period:     1    Time step:    30\n",
      " Solving:  Stress period:     1    Time step:    31\n",
      " Solving:  Stress period:     1    Time step:    32\n",
      " Solving:  Stress period:     1    Time step:    33\n",
      " Solving:  Stress period:     1    Time step:    34\n",
      " Solving:  Stress period:     1    Time step:    35\n",
      " Solving:  Stress period:     1    Time step:    36\n",
      " Solving:  Stress period:     1    Time step:    37\n",
      " Solving:  Stress period:     1    Time step:    38\n",
      " Solving:  Stress period:     1    Time step:    39\n",
      " Solving:  Stress period:     1    Time step:    40\n",
      " Solving:  Stress period:     1    Time step:    41\n",
      " Solving:  Stress period:     1    Time step:    42\n",
      " Solving:  Stress period:     1    Time step:    43\n",
      " Solving:  Stress period:     1    Time step:    44\n",
      " Solving:  Stress period:     1    Time step:    45\n",
      " Solving:  Stress period:     1    Time step:    46\n",
      " Solving:  Stress period:     1    Time step:    47\n",
      " Solving:  Stress period:     1    Time step:    48\n",
      " Solving:  Stress period:     1    Time step:    49\n",
      " Solving:  Stress period:     1    Time step:    50\n",
      " Solving:  Stress period:     1    Time step:    51\n",
      " Solving:  Stress period:     1    Time step:    52\n",
      " Solving:  Stress period:     1    Time step:    53\n",
      " Solving:  Stress period:     1    Time step:    54\n",
      " Solving:  Stress period:     1    Time step:    55\n",
      " Solving:  Stress period:     1    Time step:    56\n",
      " Solving:  Stress period:     1    Time step:    57\n",
      " Solving:  Stress period:     1    Time step:    58\n",
      " Solving:  Stress period:     1    Time step:    59\n",
      " Solving:  Stress period:     1    Time step:    60\n",
      " Solving:  Stress period:     1    Time step:    61\n",
      " Solving:  Stress period:     1    Time step:    62\n",
      " Solving:  Stress period:     1    Time step:    63\n",
      " Solving:  Stress period:     1    Time step:    64\n",
      " Solving:  Stress period:     1    Time step:    65\n",
      " Solving:  Stress period:     1    Time step:    66\n",
      " Solving:  Stress period:     1    Time step:    67\n",
      " Solving:  Stress period:     1    Time step:    68\n",
      " Solving:  Stress period:     1    Time step:    69\n",
      " Solving:  Stress period:     1    Time step:    70\n",
      " Solving:  Stress period:     1    Time step:    71\n",
      " Solving:  Stress period:     1    Time step:    72\n",
      " Solving:  Stress period:     1    Time step:    73\n",
      " Solving:  Stress period:     1    Time step:    74\n",
      " Solving:  Stress period:     1    Time step:    75\n",
      " Run end date and time (yyyy/mm/dd hh:mm:ss): 2019/11/14 11:47:58\n",
      " Elapsed run time:  3.633 Seconds\n",
      "\n",
      " Normal termination of simulation.\n"
     ]
    },
    {
     "data": {
      "text/plain": [
       "(True, [])"
      ]
     },
     "execution_count": 40,
     "metadata": {},
     "output_type": "execute_result"
    }
   ],
   "source": [
    "sim.write_simulation()\n",
    "sim.run_simulation()"
   ]
  },
  {
   "cell_type": "code",
   "execution_count": 41,
   "metadata": {},
   "outputs": [],
   "source": [
    "fname = os.path.join(model_dir, model_name + '.hds')\n",
    "hdobj = fp.utils.HeadFile(fname)\n",
    "head = hdobj.get_alldata()"
   ]
  },
  {
   "cell_type": "code",
   "execution_count": 42,
   "metadata": {},
   "outputs": [
    {
     "data": {
      "text/plain": [
       "(75, 1, 1, 6988)"
      ]
     },
     "execution_count": 42,
     "metadata": {},
     "output_type": "execute_result"
    }
   ],
   "source": [
    "head.shape"
   ]
  },
  {
   "cell_type": "code",
   "execution_count": 43,
   "metadata": {},
   "outputs": [
    {
     "data": {
      "text/plain": [
       "(1775, 44154.6875, 52335.9375, 5, 1899, 1900, 1906, 1905, 1899, None)"
      ]
     },
     "execution_count": 43,
     "metadata": {},
     "output_type": "execute_result"
    }
   ],
   "source": [
    "cell2d[1775]"
   ]
  },
  {
   "cell_type": "code",
   "execution_count": 44,
   "metadata": {},
   "outputs": [
    {
     "data": {
      "text/plain": [
       "<matplotlib.colorbar.Colorbar at 0x11c6b7780>"
      ]
     },
     "execution_count": 44,
     "metadata": {},
     "output_type": "execute_result"
    },
    {
     "data": {
      "image/png": "[encoded data removed]",
      "text/plain": [
       "<Figure size 576x576 with 2 Axes>"
      ]
     },
     "metadata": {},
     "output_type": "display_data"
    }
   ],
   "source": [
    "fig = plt.figure(figsize=(8, 8))\n",
    "ax = fig.add_subplot(1, 1, 1, aspect='equal')\n",
    "mm = fp.plot.PlotMapView(gwf, ax=ax)\n",
    "xmid,ymid = cell2d[center_cell][1],cell2d[center_cell][2]\n",
    "v=mm.plot_array(head[74,0,0:])\n",
    "plt.xlim((xmid-10050,xmid+10500))\n",
    "plt.ylim((ymid-10000,ymid+11000))\n",
    "plt.colorbar(v)\n"
   ]
  },
  {
   "cell_type": "code",
   "execution_count": 50,
   "metadata": {},
   "outputs": [],
   "source": [
    "# turn on XT3D in npf package to compare results\n",
    "gwf.npf.xt3doptions=True"
   ]
  },
  {
   "cell_type": "code",
   "execution_count": 51,
   "metadata": {},
   "outputs": [
    {
     "data": {
      "text/plain": [
       "package_name = npf\n",
       "filename = theis.npf\n",
       "package_type = npf\n",
       "model_or_simulation_package = model\n",
       "model_name = theis\n",
       "\n",
       "Block options\n",
       "--------------------\n",
       "xt3doptions\n",
       "{internal}\n",
       "([True])\n",
       "\n",
       "save_specific_discharge\n",
       "{internal}\n",
       "(True)\n",
       "\n",
       "\n",
       "Block griddata\n",
       "--------------------\n",
       "icelltype\n",
       "{constant 0}\n",
       "\n",
       "k\n",
       "{constant 0.3}\n",
       "\n",
       "k33\n",
       "{constant 0.3}\n",
       "\n"
      ]
     },
     "execution_count": 51,
     "metadata": {},
     "output_type": "execute_result"
    }
   ],
   "source": [
    "gwf.npf"
   ]
  },
  {
   "cell_type": "code",
   "execution_count": 52,
   "metadata": {},
   "outputs": [
    {
     "name": "stdout",
     "output_type": "stream",
     "text": [
      "writing simulation...\n",
      "  writing simulation name file...\n",
      "  writing simulation tdis package...\n",
      "  writing ims package ims...\n",
      "  writing model theis...\n",
      "    writing model name file...\n",
      "    writing package ic...\n",
      "    writing package disv...\n",
      "    writing package chd_0...\n",
      "    writing package npf...\n",
      "    writing package sto...\n",
      "    writing package wel_0...\n",
      "    writing package oc...\n",
      "FloPy is using the following  executable to run the model: /Users/mnfienen/Documents/bin/MAC_VERSIONS_USGS/mf6\n",
      "                                   MODFLOW 6\n",
      "                U.S. GEOLOGICAL SURVEY MODULAR HYDROLOGIC MODEL\n",
      "                            VERSION 6.0.4 03/13/2019\n",
      "\n",
      "   MODFLOW 6 compiled Mar 21 2019 13:54:16 with IFORT compiler (ver. 19.0.0)\n",
      "\n",
      "This software has been approved for release by the U.S. Geological \n",
      "Survey (USGS). Although the software has been subjected to rigorous \n",
      "review, the USGS reserves the right to update the software as needed \n",
      "pursuant to further analysis and review. No warranty, expressed or \n",
      "implied, is made by the USGS or the U.S. Government as to the \n",
      "functionality of the software and related material nor shall the \n",
      "fact of release constitute any such warranty. Furthermore, the \n",
      "software is released on condition that neither the USGS nor the U.S. \n",
      "Government shall be held liable for any damages resulting from its \n",
      "authorized or unauthorized use. Also refer to the USGS Water \n",
      "Resources Software User Rights Notice for complete use, copyright, \n",
      "and distribution information.\n",
      "\n",
      " Run start date and time (yyyy/mm/dd hh:mm:ss): 2019/11/14 12:02:16\n",
      "\n",
      " Writing simulation list file: mfsim.lst\n",
      " Using Simulation name file: mfsim.nam\n",
      " Solving:  Stress period:     1    Time step:     1\n",
      " Solving:  Stress period:     1    Time step:     2\n",
      " Solving:  Stress period:     1    Time step:     3\n",
      " Solving:  Stress period:     1    Time step:     4\n",
      " Solving:  Stress period:     1    Time step:     5\n",
      " Solving:  Stress period:     1    Time step:     6\n",
      " Solving:  Stress period:     1    Time step:     7\n",
      " Solving:  Stress period:     1    Time step:     8\n",
      " Solving:  Stress period:     1    Time step:     9\n",
      " Solving:  Stress period:     1    Time step:    10\n",
      " Solving:  Stress period:     1    Time step:    11\n",
      " Solving:  Stress period:     1    Time step:    12\n",
      " Solving:  Stress period:     1    Time step:    13\n",
      " Solving:  Stress period:     1    Time step:    14\n",
      " Solving:  Stress period:     1    Time step:    15\n",
      " Solving:  Stress period:     1    Time step:    16\n",
      " Solving:  Stress period:     1    Time step:    17\n",
      " Solving:  Stress period:     1    Time step:    18\n",
      " Solving:  Stress period:     1    Time step:    19\n",
      " Solving:  Stress period:     1    Time step:    20\n",
      " Solving:  Stress period:     1    Time step:    21\n",
      " Solving:  Stress period:     1    Time step:    22\n",
      " Solving:  Stress period:     1    Time step:    23\n",
      " Solving:  Stress period:     1    Time step:    24\n",
      " Solving:  Stress period:     1    Time step:    25\n",
      " Solving:  Stress period:     1    Time step:    26\n",
      " Solving:  Stress period:     1    Time step:    27\n",
      " Solving:  Stress period:     1    Time step:    28\n",
      " Solving:  Stress period:     1    Time step:    29\n",
      " Solving:  Stress period:     1    Time step:    30\n",
      " Solving:  Stress period:     1    Time step:    31\n",
      " Solving:  Stress period:     1    Time step:    32\n",
      " Solving:  Stress period:     1    Time step:    33\n",
      " Solving:  Stress period:     1    Time step:    34\n",
      " Solving:  Stress period:     1    Time step:    35\n",
      " Solving:  Stress period:     1    Time step:    36\n",
      " Solving:  Stress period:     1    Time step:    37\n",
      " Solving:  Stress period:     1    Time step:    38\n",
      " Solving:  Stress period:     1    Time step:    39\n",
      " Solving:  Stress period:     1    Time step:    40\n",
      " Solving:  Stress period:     1    Time step:    41\n",
      " Solving:  Stress period:     1    Time step:    42\n",
      " Solving:  Stress period:     1    Time step:    43\n",
      " Solving:  Stress period:     1    Time step:    44\n",
      " Solving:  Stress period:     1    Time step:    45\n",
      " Solving:  Stress period:     1    Time step:    46\n",
      " Solving:  Stress period:     1    Time step:    47\n",
      " Solving:  Stress period:     1    Time step:    48\n",
      " Solving:  Stress period:     1    Time step:    49\n",
      " Solving:  Stress period:     1    Time step:    50\n",
      " Solving:  Stress period:     1    Time step:    51\n",
      " Solving:  Stress period:     1    Time step:    52\n",
      " Solving:  Stress period:     1    Time step:    53\n",
      " Solving:  Stress period:     1    Time step:    54\n",
      " Solving:  Stress period:     1    Time step:    55\n",
      " Solving:  Stress period:     1    Time step:    56\n",
      " Solving:  Stress period:     1    Time step:    57\n",
      " Solving:  Stress period:     1    Time step:    58\n",
      " Solving:  Stress period:     1    Time step:    59\n",
      " Solving:  Stress period:     1    Time step:    60\n",
      " Solving:  Stress period:     1    Time step:    61\n",
      " Solving:  Stress period:     1    Time step:    62\n",
      " Solving:  Stress period:     1    Time step:    63\n",
      " Solving:  Stress period:     1    Time step:    64\n",
      " Solving:  Stress period:     1    Time step:    65\n",
      " Solving:  Stress period:     1    Time step:    66\n",
      " Solving:  Stress period:     1    Time step:    67\n",
      " Solving:  Stress period:     1    Time step:    68\n",
      " Solving:  Stress period:     1    Time step:    69\n",
      " Solving:  Stress period:     1    Time step:    70\n",
      " Solving:  Stress period:     1    Time step:    71\n",
      " Solving:  Stress period:     1    Time step:    72\n",
      " Solving:  Stress period:     1    Time step:    73\n",
      " Solving:  Stress period:     1    Time step:    74\n",
      " Solving:  Stress period:     1    Time step:    75\n",
      " Run end date and time (yyyy/mm/dd hh:mm:ss): 2019/11/14 12:02:20\n",
      " Elapsed run time:  4.340 Seconds\n",
      "\n",
      " Normal termination of simulation.\n"
     ]
    },
    {
     "data": {
      "text/plain": [
       "(True, [])"
      ]
     },
     "execution_count": 52,
     "metadata": {},
     "output_type": "execute_result"
    }
   ],
   "source": [
    "sim.write_simulation()\n",
    "sim.run_simulation()"
   ]
  },
  {
   "cell_type": "code",
   "execution_count": 53,
   "metadata": {},
   "outputs": [],
   "source": [
    "fname = os.path.join(model_dir, model_name + '.hds')\n",
    "hdobj2 = fp.utils.HeadFile(fname)\n",
    "head2 = hdobj2.get_alldata()"
   ]
  },
  {
   "cell_type": "code",
   "execution_count": 54,
   "metadata": {},
   "outputs": [
    {
     "data": {
      "text/plain": [
       "<matplotlib.colorbar.Colorbar at 0x11c5a30f0>"
      ]
     },
     "execution_count": 54,
     "metadata": {},
     "output_type": "execute_result"
    },
    {
     "data": {
      "image/png": "[encoded data removed]",
      "text/plain": [
       "<Figure size 576x576 with 2 Axes>"
      ]
     },
     "metadata": {},
     "output_type": "display_data"
    }
   ],
   "source": [
    "fig = plt.figure(figsize=(8, 8))\n",
    "ax = fig.add_subplot(1, 1, 1, aspect='equal')\n",
    "mm = fp.plot.PlotMapView(gwf, ax=ax)\n",
    "xmid,ymid = cell2d[center_cell][1],cell2d[center_cell][2]\n",
    "v=mm.plot_array(head[74,0,0:]-head2[74,0,0:])\n",
    "plt.xlim((xmid-10050,xmid+10500))\n",
    "plt.ylim((ymid-10000,ymid+11000))\n",
    "plt.colorbar(v)"
   ]
  },
  {
   "cell_type": "code",
   "execution_count": null,
   "metadata": {},
   "outputs": [],
   "source": [
    "'''\n",
    "with PdfPages('theis_mf.pdf') as pdfout:\n",
    "    for i, chead in enumerate(head):\n",
    "        printhead = np.squeeze(chead)\n",
    "        plt.figure(figsize=(8,8))\n",
    "        plt.imshow(-printhead[490:510,490:510],\n",
    "                  interpolation='nearest',\n",
    "                  vmin=0,\n",
    "                  vmax=2.7)\n",
    "        plt.colorbar()\n",
    "        plt.title('Theis-o-matic --> timestep{0}'.format(i))\n",
    "        pdfout.savefig()\n",
    "        plt.close()\n",
    "'''        "
   ]
  },
  {
   "cell_type": "code",
   "execution_count": 56,
   "metadata": {},
   "outputs": [],
   "source": [
    "alltimes = hdobj.get_times()"
   ]
  },
  {
   "cell_type": "code",
   "execution_count": null,
   "metadata": {},
   "outputs": [],
   "source": [
    "import theis_script2"
   ]
  },
  {
   "cell_type": "code",
   "execution_count": null,
   "metadata": {},
   "outputs": [],
   "source": [
    "dd_analytical = theis_script2.theis_analytical(alltimes)"
   ]
  },
  {
   "cell_type": "code",
   "execution_count": null,
   "metadata": {},
   "outputs": [],
   "source": [
    "with PdfPages('theis_modflow_unstructured_analytical.pdf') as pdfout:\n",
    "    for i in range(len(alltimes)):\n",
    "        fig = plt.figure(figsize=(8,8))\n",
    "        ax = fig.add_subplot(121)\n",
    "        mm = fp.plot.PlotMapView(gwf, ax=ax)\n",
    "        ax.set_aspect('equal')\n",
    "        xmid,ymid = cell2d[center_cell][1],cell2d[center_cell][2]\n",
    "        v=mm.plot_array(-head[i,0,:],vmin=0,vmax=1.7, cmap='magma')\n",
    "        ax.set_xlim((xmid-1050,xmid+1050))\n",
    "        ax.set_ylim((ymid-1050,ymid+1050))\n",
    "\n",
    "        plt.title('MODFLOW6 Unstructured')\n",
    "        fig.add_subplot(122)\n",
    "        plt.imshow(dd_analytical[i], interpolation='nearest',\n",
    "                  vmin=0,\n",
    "                  vmax=1.7, cmap='magma')\n",
    "        plt.title('Analytical')\n",
    "        plt.suptitle('Theis two ways: timestep = {0}'.format(i+1))\n",
    "        plt.tight_layout()\n",
    "        \n",
    "        pdfout.savefig()\n",
    "        plt.close()"
   ]
  },
  {
   "cell_type": "code",
   "execution_count": 57,
   "metadata": {},
   "outputs": [],
   "source": [
    "with PdfPages('errors_rectangular.pdf') as pdfout:\n",
    "    for i in range(len(alltimes)):\n",
    "        fig = plt.figure(figsize=(8, 8))\n",
    "        ax = fig.add_subplot(1, 1, 1, aspect='equal')\n",
    "        mm = fp.plot.PlotMapView(gwf, ax=ax)\n",
    "        xmid,ymid = cell2d[center_cell][1],cell2d[center_cell][2]\n",
    "        v=mm.plot_array(head[i,0,0:]-head2[i,0,0:])\n",
    "        plt.xlim((xmid-10050,xmid+10500))\n",
    "        plt.ylim((ymid-10000,ymid+11000))\n",
    "        plt.colorbar(v, shrink=0.6)\n",
    "        plt.tight_layout()\n",
    "        plt.title('errors')\n",
    "        pdfout.savefig()\n",
    "        plt.close('all')"
   ]
  },
  {
   "cell_type": "code",
   "execution_count": null,
   "metadata": {},
   "outputs": [],
   "source": []
  }
 ],
 "metadata": {
  "kernelspec": {
   "display_name": "Python 3",
   "language": "python",
   "name": "python3"
  },
  "language_info": {
   "codemirror_mode": {
    "name": "ipython",
    "version": 3
   },
   "file_extension": ".py",
   "mimetype": "text/x-python",
   "name": "python",
   "nbconvert_exporter": "python",
   "pygments_lexer": "ipython3",
   "version": "3.6.8"
  }
 },
 "nbformat": 4,
 "nbformat_minor": 2
}
