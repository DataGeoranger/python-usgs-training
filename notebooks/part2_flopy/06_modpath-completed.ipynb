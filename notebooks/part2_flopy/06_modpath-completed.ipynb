{
 "cells": [
  {
   "cell_type": "code",
   "execution_count": null,
   "metadata": {},
   "outputs": [],
   "source": [
    "import os\n",
    "import numpy as np\n",
    "import matplotlib.pyplot as plt\n",
    "import flopy"
   ]
  },
  {
   "cell_type": "markdown",
   "metadata": {},
   "source": [
    "# Groundwater Modeling and Python Programming\n",
    "\n",
    "In this exercise, we will use MODPATH to simulate advective transport with the Freyberg flow model. For this exercise, we will use the flow model created in `03_Intersection-Capabilities.ipynb`. If you did not finish `03_Intersection-Capabilities.ipynb`, open `03_Intersection-Capabilities-completed.ipynb` and run all cells.\n",
    "\n",
    "The location of the contamination patch and the nodes that the define bounding cells of the patch are calculated below."
   ]
  },
  {
   "cell_type": "code",
   "execution_count": null,
   "metadata": {},
   "outputs": [],
   "source": [
    "# patch upper left and lower right\n",
    "xmin, xmax = 250. * 1, 250. * 3\n",
    "ymin, ymax = (40 - 14) * 250., (40 - 11) * 250. \n",
    "csx, csy = [xmin, xmin, xmax, xmax, xmin], [ymin, ymax, ymax, ymin, ymin]\n",
    "(xmin, ymax), (xmax, ymin)"
   ]
  },
  {
   "cell_type": "code",
   "execution_count": null,
   "metadata": {},
   "outputs": [],
   "source": [
    "# patch edge node coordinates\n",
    "xmin_node, xmax_node = xmin + 125, xmax - 125\n",
    "ymin_node, ymax_node = ymin + 125, ymax - 125\n",
    "(xmin_node, ymax_node), (xmax_node, ymin_node)"
   ]
  },
  {
   "cell_type": "markdown",
   "metadata": {},
   "source": [
    "--------------------------\n",
    "\n",
    "### Define the workspace and model names."
   ]
  },
  {
   "cell_type": "code",
   "execution_count": null,
   "metadata": {},
   "outputs": [],
   "source": [
    "ws = 'work/ex03'\n",
    "name = 'ex03'\n",
    "name_mp = name + '_mp'\n",
    "exe_name = 'mf6'"
   ]
  },
  {
   "cell_type": "markdown",
   "metadata": {},
   "source": [
    "## Load the MODFLOW 6 Model\n",
    "\n",
    "Load a simulation object using `flopy.mf6.MFSimulation().load()`."
   ]
  },
  {
   "cell_type": "code",
   "execution_count": null,
   "metadata": {},
   "outputs": [],
   "source": [
    "sim = flopy.mf6.MFSimulation().load(sim_name=name, exe_name=exe_name,\n",
    "                                    sim_ws=ws)"
   ]
  },
  {
   "cell_type": "markdown",
   "metadata": {},
   "source": [
    "Run the simulation."
   ]
  },
  {
   "cell_type": "code",
   "execution_count": null,
   "metadata": {},
   "outputs": [],
   "source": [
    "sim.run_simulation()"
   ]
  },
  {
   "cell_type": "markdown",
   "metadata": {},
   "source": [
    "## Create and Run the MODPATH model\n",
    "\n",
    "Load the groundwater flow model using `sim.get_model()`."
   ]
  },
  {
   "cell_type": "code",
   "execution_count": null,
   "metadata": {},
   "outputs": [],
   "source": [
    "gwf = sim.get_model('freyberg6')"
   ]
  },
  {
   "cell_type": "markdown",
   "metadata": {},
   "source": [
    "Lets plot the model grid and the location of the contamination patch."
   ]
  },
  {
   "cell_type": "code",
   "execution_count": null,
   "metadata": {},
   "outputs": [],
   "source": [
    "mm = flopy.plot.PlotMapView(model=gwf, layer=0)\n",
    "\n",
    "fig = plt.gcf()\n",
    "fig.set_size_inches(3, 6)\n",
    "\n",
    "mm.plot_bc('RIV')\n",
    "mm.plot_bc('WEL')\n",
    "mm.plot_ibound()\n",
    "\n",
    "mm.plot_grid(lw=0.5, color='black')\n",
    "\n",
    "ax = plt.gca()\n",
    "ax.fill(csx, csy, color='#e534eb')"
   ]
  },
  {
   "cell_type": "markdown",
   "metadata": {},
   "source": [
    "Find the row column location of the contamination patch using the groundwater model grid object `modelgrid.intersect()` method. The upper left and lower right node coordinates of the cells containing the contamination patch are (375, 7125) and (625, 6625)."
   ]
  },
  {
   "cell_type": "code",
   "execution_count": null,
   "metadata": {},
   "outputs": [],
   "source": [
    "gwf.modelgrid.intersect(xmin_node, ymax_node), gwf.modelgrid.intersect(xmax_node, ymin_node) "
   ]
  },
  {
   "cell_type": "markdown",
   "metadata": {},
   "source": [
    "### Create the MODPATH particle data"
   ]
  },
  {
   "cell_type": "code",
   "execution_count": null,
   "metadata": {},
   "outputs": [],
   "source": [
    "# create\n",
    "locs = [0, 11, 1, 0, 13, 2]\n",
    "sd = flopy.modpath.FaceDataType()\n",
    "p = flopy.modpath.LRCParticleData(subdivisiondata=[sd],\n",
    "                                  lrcregions=[[locs]])\n",
    "# create forward particle group\n",
    "fpth = name_mp + '.sloc'\n",
    "pg = flopy.modpath.ParticleGroupLRCTemplate(particlegroupname='contaminant',\n",
    "                                            particledata=p,\n",
    "                                            filename=fpth)"
   ]
  },
  {
   "cell_type": "markdown",
   "metadata": {},
   "source": [
    "### Create the MODPATH 7 files"
   ]
  },
  {
   "cell_type": "code",
   "execution_count": null,
   "metadata": {},
   "outputs": [],
   "source": [
    "# create modpath files\n",
    "mp = flopy.modpath.Modpath7(modelname=name_mp, flowmodel=gwf,\n",
    "                            exe_name='mp7', model_ws=ws)\n",
    "mpbas = flopy.modpath.Modpath7Bas(mp, porosity=0.1)\n",
    "mpsim = flopy.modpath.Modpath7Sim(mp, simulationtype='pathline', \n",
    "                                  trackingdirection='forward',\n",
    "                                  weaksinkoption='pass_through',\n",
    "                                  weaksourceoption='pass_through',\n",
    "                                  referencetime=0.,\n",
    "                                  stoptimeoption='extend',\n",
    "                                  particlegroups=pg)"
   ]
  },
  {
   "cell_type": "markdown",
   "metadata": {},
   "source": [
    "### Write MODPATH 7 files and run the model"
   ]
  },
  {
   "cell_type": "code",
   "execution_count": null,
   "metadata": {},
   "outputs": [],
   "source": [
    "# write modpath datasets\n",
    "mp.write_input()\n",
    "\n",
    "# run modpath\n",
    "mp.run_model()"
   ]
  },
  {
   "cell_type": "markdown",
   "metadata": {},
   "source": [
    "## Post-Process the MODFLOW and MODPATH Results\n",
    "\n",
    "\n",
    "### Load MODFLOW and MODPATH results from the heads and pathline files\n",
    "\n",
    "Load the MODFLOW heads"
   ]
  },
  {
   "cell_type": "code",
   "execution_count": null,
   "metadata": {},
   "outputs": [],
   "source": [
    "hname = gwf.oc.head_filerecord.array[0][0]\n",
    "hname"
   ]
  },
  {
   "cell_type": "code",
   "execution_count": null,
   "metadata": {},
   "outputs": [],
   "source": [
    "fpth = os.path.join(ws, hname)\n",
    "hobj = flopy.utils.HeadFile(fpth)\n",
    "hds = hobj.get_data()"
   ]
  },
  {
   "cell_type": "markdown",
   "metadata": {},
   "source": [
    "Load the pathline file"
   ]
  },
  {
   "cell_type": "code",
   "execution_count": null,
   "metadata": {},
   "outputs": [],
   "source": [
    "ppth = os.path.join(ws, name_mp + '.mppth')\n",
    "p = flopy.utils.PathlineFile(ppth)\n",
    "p0 = p.get_alldata()"
   ]
  },
  {
   "cell_type": "markdown",
   "metadata": {},
   "source": [
    "### Plot the heads and pathlines"
   ]
  },
  {
   "cell_type": "code",
   "execution_count": null,
   "metadata": {},
   "outputs": [],
   "source": [
    "mm = flopy.plot.PlotMapView(model=gwf, layer=0)\n",
    "mm.plot_array(hds, masked_values=[1e30])\n",
    "\n",
    "fig = plt.gcf()\n",
    "fig.set_size_inches(3, 6)\n",
    "\n",
    "mm.plot_bc('RIV')\n",
    "mm.plot_bc('WEL')\n",
    "mm.plot_ibound()\n",
    "mm.plot_pathline(p0, layer='all', color='blue', lw=0.75)\n",
    "\n",
    "ax = plt.gca()\n",
    "ax.fill(csx, csy, color='#e534eb', zorder=100, alpha=.75)"
   ]
  },
  {
   "cell_type": "code",
   "execution_count": null,
   "metadata": {},
   "outputs": [],
   "source": []
  },
  {
   "cell_type": "code",
   "execution_count": null,
   "metadata": {},
   "outputs": [],
   "source": []
  }
 ],
 "metadata": {
  "kernelspec": {
   "display_name": "Python 3",
   "language": "python",
   "name": "python3"
  },
  "language_info": {
   "codemirror_mode": {
    "name": "ipython",
    "version": 3
   },
   "file_extension": ".py",
   "mimetype": "text/x-python",
   "name": "python",
   "nbconvert_exporter": "python",
   "pygments_lexer": "ipython3",
   "version": "3.7.3"
  }
 },
 "nbformat": 4,
 "nbformat_minor": 1
}
