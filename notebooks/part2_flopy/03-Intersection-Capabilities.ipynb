{
 "cells": [
  {
   "cell_type": "code",
   "execution_count": null,
   "metadata": {},
   "outputs": [],
   "source": [
    "import os\n",
    "import numpy as np\n",
    "import matplotlib.pyplot as plt\n",
    "import flopy\n",
    "import geopandas as gpd\n",
    "import shapely"
   ]
  },
  {
   "cell_type": "markdown",
   "metadata": {},
   "source": [
    "### Loading and modifying a MODFLOW 6 model\n",
    "\n",
    "A existing MODFLOW 6 model will be loaded and modified to include a river discretized using a shapefile..\n",
    "\n",
    "The model we are using is the model developed by Freyberg () The model domain is into 1 layer, 40 rows, and 20 columns. \n",
    "\n",
    "Before loading the simulation object you should define the simulation workspace (`sim_ws`) where the model files are, the simulation name (`name`), and the name and path of the model executable (`exe_name`).  The `sim_ws` should be set to `'data/ex01b'`, `name` should be set to `ex01b`, and `exe_name` should be set to `bin/mf6`."
   ]
  },
  {
   "cell_type": "code",
   "execution_count": null,
   "metadata": {},
   "outputs": [],
   "source": [
    "ws = 'work/ex03'\n",
    "name = 'ex03'\n",
    "exe_name = 'mf6'\n",
    "load_ws = 'data/freyberg_mf6/'"
   ]
  },
  {
   "cell_type": "markdown",
   "metadata": {},
   "source": [
    "Load a simulation object using `flopy.mf6.MFSimulation().load()`."
   ]
  },
  {
   "cell_type": "code",
   "execution_count": null,
   "metadata": {},
   "outputs": [],
   "source": []
  },
  {
   "cell_type": "markdown",
   "metadata": {},
   "source": [
    "Change the simulation workspace using `sim.set_sim_path()` so that we don't overwrite the original datasets."
   ]
  },
  {
   "cell_type": "code",
   "execution_count": null,
   "metadata": {},
   "outputs": [],
   "source": []
  },
  {
   "cell_type": "markdown",
   "metadata": {},
   "source": [
    "Retrieve the gwf model object using `sim.get_model()`. First use `sim.model_names` to get the name of the groundwater model."
   ]
  },
  {
   "cell_type": "code",
   "execution_count": null,
   "metadata": {},
   "outputs": [],
   "source": []
  },
  {
   "cell_type": "code",
   "execution_count": null,
   "metadata": {},
   "outputs": [],
   "source": []
  },
  {
   "cell_type": "markdown",
   "metadata": {},
   "source": [
    "#### Create the river package\n",
    "\n",
    "Load the river shapefile using geopandas. "
   ]
  },
  {
   "cell_type": "code",
   "execution_count": null,
   "metadata": {},
   "outputs": [],
   "source": [
    "spth = 'data/freyberg/GIS/Flowline_river.shp'\n",
    "rshp = gpd.read_file(spth)"
   ]
  },
  {
   "cell_type": "markdown",
   "metadata": {},
   "source": [
    "Plot the shapefile on the model grid."
   ]
  },
  {
   "cell_type": "code",
   "execution_count": null,
   "metadata": {},
   "outputs": [],
   "source": [
    "ax = rshp.plot()\n",
    "gwf.modelgrid.plot(ax=ax)"
   ]
  },
  {
   "cell_type": "markdown",
   "metadata": {},
   "source": [
    "Determine what is in the geometry with `rshp.geometry`."
   ]
  },
  {
   "cell_type": "code",
   "execution_count": null,
   "metadata": {},
   "outputs": [],
   "source": []
  },
  {
   "cell_type": "markdown",
   "metadata": {},
   "source": [
    "Create a intersection object from the modelgrid"
   ]
  },
  {
   "cell_type": "code",
   "execution_count": null,
   "metadata": {},
   "outputs": [],
   "source": [
    "ixobj = flopy.utils.gridintersect.GridIntersect(gwf.modelgrid, method='structured')"
   ]
  },
  {
   "cell_type": "markdown",
   "metadata": {},
   "source": [
    "Intersect the geometry object and the river shapefile goemetry"
   ]
  },
  {
   "cell_type": "code",
   "execution_count": null,
   "metadata": {},
   "outputs": [],
   "source": [
    "rint = ixobj.intersect_linestring(rshp.geometry[0])"
   ]
  },
  {
   "cell_type": "markdown",
   "metadata": {},
   "source": [
    "Plot the intersected river and the model grid"
   ]
  },
  {
   "cell_type": "code",
   "execution_count": null,
   "metadata": {},
   "outputs": [],
   "source": [
    "ax = ixobj.plot_linestring(rint)\n",
    "gwf.modelgrid.plot(ax=ax)"
   ]
  },
  {
   "cell_type": "markdown",
   "metadata": {},
   "source": [
    "What is in the intersected river object? It is a recarray so lets output the dtype.names."
   ]
  },
  {
   "cell_type": "code",
   "execution_count": null,
   "metadata": {},
   "outputs": [],
   "source": []
  },
  {
   "cell_type": "markdown",
   "metadata": {},
   "source": [
    "The zero-based row and column locations are in the `'cellids'` column. "
   ]
  },
  {
   "cell_type": "code",
   "execution_count": null,
   "metadata": {},
   "outputs": [],
   "source": []
  },
  {
   "cell_type": "markdown",
   "metadata": {},
   "source": [
    "The lengths of each river component are in the `'lengths'` column. Set a `rlen` variable to `rint['lengths']`."
   ]
  },
  {
   "cell_type": "code",
   "execution_count": null,
   "metadata": {},
   "outputs": [],
   "source": []
  },
  {
   "cell_type": "markdown",
   "metadata": {},
   "source": [
    "The river is located in layer 1 and the zero-based row, column locations in `rint['cellids']`. The river stage stage and bottom are at 20.1 and 20.0 in row 1, respectively. The river stage stage and bottom are at 11.25 and 10.25 in row 40, respectively. The river conductance is 0.5e-1.\n",
    "\n",
    "We are going to linearly interpolate the river stage and bottom from the values in row 1 and row 40. For that we will need the total length of the river."
   ]
  },
  {
   "cell_type": "code",
   "execution_count": null,
   "metadata": {},
   "outputs": [],
   "source": [
    "rlentot = rint['lengths'].sum()\n",
    "rlentot"
   ]
  },
  {
   "cell_type": "markdown",
   "metadata": {},
   "source": [
    "The slope of the river stage and river bottom are $\\frac{11.25 - 20.1}{rlentot}$ and $\\frac{10.25 - 20.0}{rlentot}$, respectively. "
   ]
  },
  {
   "cell_type": "code",
   "execution_count": null,
   "metadata": {},
   "outputs": [],
   "source": [
    "rstage_us, rbot_us = 20.1, 20.0\n",
    "rstage_ds, rbot_ds = 11.25, 10.25"
   ]
  },
  {
   "cell_type": "code",
   "execution_count": null,
   "metadata": {},
   "outputs": [],
   "source": [
    "dstage, drbot = (rstage_ds - rstage_us) / rlentot, (rbot_ds - rbot_us) / rlentot\n",
    "dstage, drbot"
   ]
  },
  {
   "cell_type": "markdown",
   "metadata": {},
   "source": [
    "Create numpy arrays for the interpolated river stage and river bottom that will be used to create the river package."
   ]
  },
  {
   "cell_type": "code",
   "execution_count": null,
   "metadata": {},
   "outputs": [],
   "source": [
    "rstage = np.zeros(rint.shape[0], dtype=np.float)\n",
    "rbot = np.zeros(rint.shape[0], dtype=np.float)"
   ]
  },
  {
   "cell_type": "markdown",
   "metadata": {},
   "source": [
    "Calculate interpolated river stage and river bottom."
   ]
  },
  {
   "cell_type": "code",
   "execution_count": null,
   "metadata": {},
   "outputs": [],
   "source": [
    "rlencum = 0.\n",
    "for idx in range(rstage.shape[0]):\n",
    "    if idx == 0:\n",
    "        rlencum = 0.5 * rlen[idx]\n",
    "    else:\n",
    "        rlencum += 0.5 * (rlen[idx-1] + rlen[idx])\n",
    "    rstage[idx] = rstage_us + rlencum * dstage\n",
    "    rbot[idx] = rbot_us + rlencum * drbot"
   ]
  },
  {
   "cell_type": "code",
   "execution_count": null,
   "metadata": {},
   "outputs": [],
   "source": [
    "rstage"
   ]
  },
  {
   "cell_type": "code",
   "execution_count": null,
   "metadata": {},
   "outputs": [],
   "source": [
    "rbot"
   ]
  },
  {
   "cell_type": "markdown",
   "metadata": {},
   "source": [
    "Remove the existing river package. Use `gwf.package_names` to determine the name of the river package."
   ]
  },
  {
   "cell_type": "code",
   "execution_count": null,
   "metadata": {},
   "outputs": [],
   "source": []
  },
  {
   "cell_type": "markdown",
   "metadata": {},
   "source": [
    "Remove the existing river package using `gwf.remove_package()`."
   ]
  },
  {
   "cell_type": "code",
   "execution_count": null,
   "metadata": {},
   "outputs": [],
   "source": []
  },
  {
   "cell_type": "markdown",
   "metadata": {},
   "source": [
    "Create a list of lists with the river package data. The river package data has the form:\n",
    "\n",
    "    [[(k, i, j), rstage, conductance, rbot, iface],\n",
    "                       .\n",
    "                       .\n",
    "                       .\n",
    "     [(k, i, j), rstage, conductance, rbot, iface]]\n",
    "\n",
    "`iface` is an auxillary variable that is used by MODPATH. We will assume that the river is on the top of the model cell (`IFACE` = 6)."
   ]
  },
  {
   "cell_type": "code",
   "execution_count": null,
   "metadata": {},
   "outputs": [],
   "source": []
  },
  {
   "cell_type": "code",
   "execution_count": null,
   "metadata": {},
   "outputs": [],
   "source": []
  },
  {
   "cell_type": "markdown",
   "metadata": {},
   "source": [
    "Create the new river package using `flopy.mf6.ModflowGwfriv()`."
   ]
  },
  {
   "cell_type": "code",
   "execution_count": null,
   "metadata": {},
   "outputs": [],
   "source": []
  },
  {
   "cell_type": "markdown",
   "metadata": {},
   "source": [
    "#### Write the model files and run the model"
   ]
  },
  {
   "cell_type": "code",
   "execution_count": null,
   "metadata": {},
   "outputs": [],
   "source": [
    "sim.write_simulation()\n",
    "sim.run_simulation()"
   ]
  },
  {
   "cell_type": "markdown",
   "metadata": {},
   "source": [
    "#### Post-process the results\n",
    "\n",
    "Load the heads and face flows from the hds and cbc files. The head file can be loaded with the `flopy.utils.HeadFile()` method. The cell-by-cell file can be loaded with the `flopy.utils.CellBudgetFile()` method. MODFLOW 6 creates double precision binary files so `precision='double'` needs to be passed to the `flopy.utils.CellBudgetFile()` method. The `flopy.utils.HeadFile()` method autodetects the precision of the head file. The precision of the head file is a attribute on the head file object (`hobs.precision`) and could be passed as the `precision` parameter."
   ]
  },
  {
   "cell_type": "code",
   "execution_count": null,
   "metadata": {},
   "outputs": [],
   "source": [
    "hname = gwf.oc.head_filerecord.array[0][0]\n",
    "cname = gwf.oc.budget_filerecord.array[0][0]\n",
    "hname, cname"
   ]
  },
  {
   "cell_type": "code",
   "execution_count": null,
   "metadata": {},
   "outputs": [],
   "source": [
    "fpth = os.path.join(ws, hname)\n",
    "hobj = flopy.utils.HeadFile(fpth)"
   ]
  },
  {
   "cell_type": "code",
   "execution_count": null,
   "metadata": {},
   "outputs": [],
   "source": [
    "hds = hobj.get_data()"
   ]
  },
  {
   "cell_type": "code",
   "execution_count": null,
   "metadata": {},
   "outputs": [],
   "source": [
    "fpth = os.path.join(ws, cname)\n",
    "cobj = flopy.utils.CellBudgetFile(fpth, precision=hobj.precision)"
   ]
  },
  {
   "cell_type": "markdown",
   "metadata": {},
   "source": [
    "The entries in the cell-by-cell file can be determined with the `.list_unique_records()` method on the cell budget file object."
   ]
  },
  {
   "cell_type": "code",
   "execution_count": null,
   "metadata": {},
   "outputs": [],
   "source": [
    "cobj.list_unique_records()"
   ]
  },
  {
   "cell_type": "markdown",
   "metadata": {},
   "source": [
    "Retrieve the `'DATA-SPDIS'` data type from the cell-by-cell file."
   ]
  },
  {
   "cell_type": "code",
   "execution_count": null,
   "metadata": {},
   "outputs": [],
   "source": [
    "spd = cobj.get_data(text='DATA-SPDIS')[0]"
   ]
  },
  {
   "cell_type": "markdown",
   "metadata": {},
   "source": [
    "#### Plot the results\n",
    "\n",
    "Plot the results using `flopy.plot.PlotMapView()`. The head results can be plotted using the `.plot_array()` method. The discharge results can be plotted using the `plot_specific_discharge()` method. Boundary conditions can be plotted using the `.plot_bc()` method."
   ]
  },
  {
   "cell_type": "code",
   "execution_count": null,
   "metadata": {},
   "outputs": [],
   "source": [
    "mm = flopy.plot.PlotMapView(model=gwf, layer=0)\n",
    "mm.plot_array(hds, masked_values=[1e30])\n",
    "\n",
    "fig = plt.gcf()\n",
    "fig.set_size_inches(3, 6)\n",
    "\n",
    "mm.plot_bc('RIV')\n",
    "mm.plot_bc('WEL')\n",
    "mm.plot_specific_discharge(spd)\n"
   ]
  },
  {
   "cell_type": "code",
   "execution_count": null,
   "metadata": {},
   "outputs": [],
   "source": []
  }
 ],
 "metadata": {
  "kernelspec": {
   "display_name": "Python 3",
   "language": "python",
   "name": "python3"
  },
  "language_info": {
   "codemirror_mode": {
    "name": "ipython",
    "version": 3
   },
   "file_extension": ".py",
   "mimetype": "text/x-python",
   "name": "python",
   "nbconvert_exporter": "python",
   "pygments_lexer": "ipython3",
   "version": "3.7.3"
  }
 },
 "nbformat": 4,
 "nbformat_minor": 2
}
