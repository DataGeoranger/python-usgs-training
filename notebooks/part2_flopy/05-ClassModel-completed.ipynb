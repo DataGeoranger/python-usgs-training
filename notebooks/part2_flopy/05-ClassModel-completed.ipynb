{
 "cells": [
  {
   "cell_type": "code",
   "execution_count": null,
   "metadata": {},
   "outputs": [],
   "source": [
    "import sys\n",
    "import os\n",
    "import copy\n",
    "\n",
    "import numpy as np\n",
    "import matplotlib.pyplot as plt\n",
    "\n",
    "import flopy\n",
    "\n",
    "exe_name = 'mf6'"
   ]
  },
  {
   "cell_type": "markdown",
   "metadata": {},
   "source": [
    "## Get the data\n",
    "\n",
    "Data files of interest in `data/raw/` are called:\n",
    "\n",
    "1. idomain.dat\n",
    "2. bottom.dat\n",
    "3. hk.dat\n",
    "4. riv.dat\n",
    "5. wel.dat\n",
    "6. chd.dat\n",
    "\n",
    "## Model data\n",
    "\n",
    "Load ibound data and determine the number of rows and columns in the model."
   ]
  },
  {
   "cell_type": "code",
   "execution_count": null,
   "metadata": {},
   "outputs": [],
   "source": [
    "fpth = 'data/raw/idomain.dat'\n",
    "idomain = np.loadtxt(fpth, dtype=np.int)"
   ]
  },
  {
   "cell_type": "code",
   "execution_count": null,
   "metadata": {},
   "outputs": [],
   "source": [
    "nlay, nrow, ncol = 1, idomain.shape[0], idomain.shape[1]"
   ]
  },
  {
   "cell_type": "code",
   "execution_count": null,
   "metadata": {},
   "outputs": [],
   "source": [
    "print(nlay, nrow, ncol)"
   ]
  },
  {
   "cell_type": "code",
   "execution_count": null,
   "metadata": {},
   "outputs": [],
   "source": [
    "msize = (nlay, nrow, ncol)\n",
    "idomain = idomain.reshape(msize)"
   ]
  },
  {
   "cell_type": "markdown",
   "metadata": {},
   "source": [
    "Load model bottom data"
   ]
  },
  {
   "cell_type": "code",
   "execution_count": null,
   "metadata": {},
   "outputs": [],
   "source": [
    "fpth = 'data/raw/bot.dat'\n",
    "bot = np.loadtxt(fpth, dtype=np.float)\n",
    "bot = bot.reshape(msize)\n",
    "bot.shape"
   ]
  },
  {
   "cell_type": "code",
   "execution_count": null,
   "metadata": {},
   "outputs": [],
   "source": [
    "plt.imshow(bot[0, :, :])"
   ]
  },
  {
   "cell_type": "markdown",
   "metadata": {},
   "source": [
    "Create starting head data and set to $16.9$. Make sure starting head is above the bottom of the model."
   ]
  },
  {
   "cell_type": "code",
   "execution_count": null,
   "metadata": {},
   "outputs": [],
   "source": [
    "strt = np.ones(msize, dtype=np.float) * 16.9"
   ]
  },
  {
   "cell_type": "code",
   "execution_count": null,
   "metadata": {},
   "outputs": [],
   "source": [
    "idx = strt < bot\n",
    "strt[idx] = bot[idx] + 0.1\n",
    "plt.imshow(strt[0])"
   ]
  },
  {
   "cell_type": "markdown",
   "metadata": {},
   "source": [
    "Load the hydraulic conductivity"
   ]
  },
  {
   "cell_type": "code",
   "execution_count": null,
   "metadata": {},
   "outputs": [],
   "source": [
    "fpth = 'data/raw/hk.dat'\n",
    "hk = np.loadtxt(fpth, dtype=np.float).reshape(msize)\n",
    "plt.imshow(hk[0])"
   ]
  },
  {
   "cell_type": "markdown",
   "metadata": {},
   "source": [
    "## Boundary data\n",
    "\n",
    "Load the chd data and put it in a list of lists with `[(layer, row, column), head]`."
   ]
  },
  {
   "cell_type": "code",
   "execution_count": null,
   "metadata": {},
   "outputs": [],
   "source": [
    "fpth = 'data/raw/chd.dat'\n",
    "d = np.loadtxt(fpth, dtype=np.float)\n",
    "print(d.shape)\n",
    "print(d)"
   ]
  },
  {
   "cell_type": "code",
   "execution_count": null,
   "metadata": {},
   "outputs": [],
   "source": [
    "dchd = []\n",
    "for i in range(d.shape[0]):\n",
    "    kk, ii, jj = d[i, :3].astype(np.int) - 1\n",
    "    if idomain[kk, ii, jj] < 1:\n",
    "        continue\n",
    "    v = [(kk, ii, jj), d[i, 3]]\n",
    "    dchd.append(v)\n",
    "print(dchd)"
   ]
  },
  {
   "cell_type": "markdown",
   "metadata": {},
   "source": [
    "Load the river data and put it in a list of lists with `[(layer, row, column), stage, cond, rbot]`."
   ]
  },
  {
   "cell_type": "code",
   "execution_count": null,
   "metadata": {},
   "outputs": [],
   "source": [
    "fpth = 'data/raw/riv.dat'\n",
    "dtype = np.dtype([('k', np.int), ('i', np.int), ('j', np.int), \n",
    "                  ('stage', np.float), ('cond', np.float), ('rbot', np.float)])\n",
    "d = np.loadtxt(fpth, dtype=dtype)\n",
    "print(d.shape)"
   ]
  },
  {
   "cell_type": "code",
   "execution_count": null,
   "metadata": {},
   "outputs": [],
   "source": [
    "d['k'] -= 1\n",
    "d['i'] -= 1\n",
    "d['j'] -= 1"
   ]
  },
  {
   "cell_type": "code",
   "execution_count": null,
   "metadata": {},
   "outputs": [],
   "source": [
    "driv = []\n",
    "for dd in d:\n",
    "    v = [(dd['k'], dd['i'], dd['j']), dd['stage'], dd['cond'], dd['rbot']]\n",
    "    driv.append(v)\n",
    "print(driv)"
   ]
  },
  {
   "cell_type": "markdown",
   "metadata": {},
   "source": [
    "Load the well data and put it in a list of lists with `[(layer, row, column), q]`."
   ]
  },
  {
   "cell_type": "code",
   "execution_count": null,
   "metadata": {},
   "outputs": [],
   "source": [
    "fpth = 'data/raw/wel.dat'\n",
    "d = np.loadtxt(fpth, dtype=np.float)"
   ]
  },
  {
   "cell_type": "code",
   "execution_count": null,
   "metadata": {},
   "outputs": [],
   "source": [
    "dwel = []\n",
    "dwelloc = []\n",
    "for n in range(d.shape[0]):\n",
    "    k, i, j = d[n, :3].astype(np.int) - 1\n",
    "    v = [(k, i, j), d[n, 3]]\n",
    "    dwel.append(v)\n",
    "    dwelloc.append((k, i, j))\n",
    "print(dwel)\n",
    "print(dwelloc)"
   ]
  },
  {
   "cell_type": "markdown",
   "metadata": {},
   "source": [
    "## Define remaining data\n",
    "\n",
    "$\\Delta x = \\Delta y = 250$\n",
    "\n",
    "Top = $35$\n",
    "\n",
    "Recharge = $1.6000 \\times 10^{-9}$"
   ]
  },
  {
   "cell_type": "code",
   "execution_count": null,
   "metadata": {},
   "outputs": [],
   "source": [
    "delr = delc = 250.\n",
    "top = 35\n",
    "rch = 1.6e-9"
   ]
  },
  {
   "cell_type": "code",
   "execution_count": null,
   "metadata": {},
   "outputs": [],
   "source": [
    "dchd"
   ]
  },
  {
   "cell_type": "markdown",
   "metadata": {},
   "source": [
    "## Create the model\n",
    "\n",
    "Create a model with 1 steady state-stress period (perlen = 1., nstp=1) and 1 transient stress period (perlen = 3650., nstp = 10). Define the river data in the 1st stress period and define the well data in the 2nd stress period.\n",
    "\n",
    "The simulation will need a `TDIS6` and a `IMS6` Packages.\n",
    "\n",
    "A `GWF` model will be added to the simulation file and will need a `DIS`, `IC`, `NPF`, `CHD`, `RIV`, `WEL`, `RCH`,  and `OC` Package. The `RCH` file can either be a list- or array-based Package.\n",
    "\n",
    "List-based boundary conditions are created as dictionaries. The well package stress period data can be created for stress period 2 as `stress_period_data = {1: wel}`.\n",
    "\n",
    "Save binary head and budget output every time step.\n",
    "\n",
    "Set the model workspace to `'work/ex05a'`."
   ]
  },
  {
   "cell_type": "code",
   "execution_count": null,
   "metadata": {},
   "outputs": [],
   "source": [
    "# Create the Flopy simulation object\n",
    "name = 'mymodel1'\n",
    "ws = 'work/ex05a'\n",
    "sim = flopy.mf6.MFSimulation(sim_name=name, exe_name=exe_name, \n",
    "                             version='mf6', sim_ws=ws)\n",
    "\n",
    "# Create the Flopy temporal discretization object\n",
    "perioddata = [(1., 1, 1.), (3650., 10, 1.)]\n",
    "tdis = flopy.mf6.modflow.mftdis.ModflowTdis(sim, time_units='DAYS', nper=2, \n",
    "                                            perioddata=perioddata)\n",
    "flopy.__version__"
   ]
  },
  {
   "cell_type": "code",
   "execution_count": null,
   "metadata": {
    "scrolled": true
   },
   "outputs": [],
   "source": [
    "# Create the Flopy groundwater flow (gwf) model object\n",
    "model_nam_file = '{}.nam'.format(name)\n",
    "gwf = flopy.mf6.MFModel(sim, model_type='gwf6', modelname=name, \n",
    "                        model_nam_file=model_nam_file)\n",
    "\n",
    "# Create the Flopy iterative model solver (ims) Package object\n",
    "ims = flopy.mf6.modflow.mfims.ModflowIms(sim, complexity='SIMPLE')"
   ]
  },
  {
   "cell_type": "code",
   "execution_count": null,
   "metadata": {},
   "outputs": [],
   "source": [
    "# Create the discretization package\n",
    "dis = flopy.mf6.modflow.mfgwfdis.ModflowGwfdis(gwf, nlay=nlay, nrow=nrow, ncol=ncol,\n",
    "                                               delr=delr, delc=delc, top=top,\n",
    "                                               botm=bot, idomain=idomain)"
   ]
  },
  {
   "cell_type": "code",
   "execution_count": null,
   "metadata": {},
   "outputs": [],
   "source": [
    "# Create the initial conditions package\n",
    "ic = flopy.mf6.modflow.mfgwfic.ModflowGwfic(gwf, strt=strt)"
   ]
  },
  {
   "cell_type": "code",
   "execution_count": null,
   "metadata": {},
   "outputs": [],
   "source": [
    "# Create the node property flow package\n",
    "npf = flopy.mf6.modflow.mfgwfnpf.ModflowGwfnpf(gwf, icelltype=1, k=hk,\n",
    "                                               save_flows=True, save_specific_discharge=True)"
   ]
  },
  {
   "cell_type": "code",
   "execution_count": null,
   "metadata": {},
   "outputs": [],
   "source": [
    "# storage package\n",
    "sto = flopy.mf6.ModflowGwfsto(gwf, save_flows=True, iconvert=1, ss=1e-6, \n",
    "                              sy=0.2, steady_state={0:True},\n",
    "                              transient={1:True})"
   ]
  },
  {
   "cell_type": "code",
   "execution_count": null,
   "metadata": {},
   "outputs": [],
   "source": [
    "# Create the constant head package.\n",
    "chd = flopy.mf6.modflow.mfgwfchd.ModflowGwfchd(gwf, maxbound=len(dchd), \n",
    "                                               stress_period_data=dchd, save_flows=True)"
   ]
  },
  {
   "cell_type": "code",
   "execution_count": null,
   "metadata": {},
   "outputs": [],
   "source": [
    "# wel package\n",
    "wel = flopy.mf6.ModflowGwfwel(gwf, print_input=True, print_flows=True, maxbound=len(dwel),\n",
    "                              stress_period_data={1: dwel}, \n",
    "                              save_flows=True)"
   ]
  },
  {
   "cell_type": "code",
   "execution_count": null,
   "metadata": {},
   "outputs": [],
   "source": [
    "# river package\n",
    "riv = flopy.mf6.ModflowGwfriv(gwf, print_input=True, print_flows=True,\n",
    "                              maxbound=len(driv), stress_period_data=driv)"
   ]
  },
  {
   "cell_type": "code",
   "execution_count": null,
   "metadata": {},
   "outputs": [],
   "source": [
    "# recharge package\n",
    "rch1 = flopy.mf6.ModflowGwfrcha(gwf, recharge=rch, print_input=True)"
   ]
  },
  {
   "cell_type": "code",
   "execution_count": null,
   "metadata": {},
   "outputs": [],
   "source": []
  },
  {
   "cell_type": "code",
   "execution_count": null,
   "metadata": {},
   "outputs": [],
   "source": [
    "# Create the output control package\n",
    "headfile = '{}.hds'.format(name)\n",
    "head_filerecord = [headfile]\n",
    "budgetfile = '{}.cbb'.format(name)\n",
    "budget_filerecord = [budgetfile]\n",
    "saverecord = [('HEAD', 'ALL'), \n",
    "              ('BUDGET', 'ALL')]\n",
    "printrecord = [('HEAD', 'LAST')]\n",
    "oc = flopy.mf6.modflow.mfgwfoc.ModflowGwfoc(gwf, saverecord=saverecord, \n",
    "                                            head_filerecord=head_filerecord,\n",
    "                                            budget_filerecord=budget_filerecord,\n",
    "                                            printrecord=printrecord)"
   ]
  },
  {
   "cell_type": "code",
   "execution_count": null,
   "metadata": {},
   "outputs": [],
   "source": [
    "# write simulation to new location\n",
    "sim.write_simulation()"
   ]
  },
  {
   "cell_type": "markdown",
   "metadata": {},
   "source": [
    "## Run the model"
   ]
  },
  {
   "cell_type": "code",
   "execution_count": null,
   "metadata": {},
   "outputs": [],
   "source": [
    "success, buff = sim.run_simulation()\n",
    "print('\\nSuccess is: ', success)"
   ]
  },
  {
   "cell_type": "markdown",
   "metadata": {
    "collapsed": true
   },
   "source": [
    "## Plot the head data\n",
    "\n",
    "`PlotMapView` can be used to plot the head data on the model grid."
   ]
  },
  {
   "cell_type": "code",
   "execution_count": null,
   "metadata": {},
   "outputs": [],
   "source": [
    "fpth = ws + '/mymodel1.hds'\n",
    "hobj = flopy.utils.HeadFile(fpth)\n",
    "kstpkper = hobj.get_kstpkper()\n",
    "kstpkper\n",
    "dpos = kstpkper[-1]"
   ]
  },
  {
   "cell_type": "code",
   "execution_count": null,
   "metadata": {},
   "outputs": [],
   "source": [
    "h = hobj.get_data(kstpkper=dpos)"
   ]
  },
  {
   "cell_type": "code",
   "execution_count": null,
   "metadata": {},
   "outputs": [],
   "source": [
    "mm = flopy.plot.PlotMapView(model=gwf)\n",
    "fig = plt.gcf()\n",
    "fig.set_figheight(10)\n",
    "fig.set_figwidth(5)\n",
    "ax = plt.gca()\n",
    "ax.set_xlim(0, 5000)\n",
    "ax.set_ylim(0, 10000)\n",
    "mm.plot_array(h, masked_values=[1e30, -1e30])\n",
    "c = mm.contour_array(h, masked_values=[1e30, -1e30], colors='black',\n",
    "                     levels=np.arange(0, 40, 5))\n",
    "plt.clabel(c)\n",
    "mm.plot_ibound(ibound=idomain)"
   ]
  },
  {
   "cell_type": "code",
   "execution_count": null,
   "metadata": {},
   "outputs": [],
   "source": []
  },
  {
   "cell_type": "markdown",
   "metadata": {},
   "source": [
    "## Get cell-by cell data\n",
    "\n",
    "Get cell-by-cell data and use ModelMap to plot heads and vectors on a plot. See flopy github site for the ModelMap example notebook to find code to plot flow vectors."
   ]
  },
  {
   "cell_type": "code",
   "execution_count": null,
   "metadata": {},
   "outputs": [],
   "source": [
    "fpth = ws + '/mymodel1.cbb'\n",
    "cobj = flopy.utils.CellBudgetFile(fpth, precision='double')\n",
    "#cobj.list_records()"
   ]
  },
  {
   "cell_type": "code",
   "execution_count": null,
   "metadata": {},
   "outputs": [],
   "source": [
    "ra = cobj.get_data(kstpkper=dpos, text='DATA-SPDIS')[0]"
   ]
  },
  {
   "cell_type": "code",
   "execution_count": null,
   "metadata": {},
   "outputs": [],
   "source": [
    "mm = flopy.plot.PlotMapView(model=gwf)\n",
    "fig = plt.gcf()\n",
    "fig.set_figheight(10)\n",
    "fig.set_figwidth(5)\n",
    "ax = plt.gca()\n",
    "ax.set_xlim(0, 5000)\n",
    "ax.set_ylim(0, 10000)\n",
    "mm.plot_array(h, masked_values=[1e30, -1e30])\n",
    "c = mm.contour_array(h, masked_values=[1e30, -1e30], colors='black',\n",
    "                     levels=np.arange(0, 40, 5))\n",
    "plt.clabel(c)\n",
    "mm.plot_ibound(ibound=idomain)\n",
    "mm.plot_specific_discharge(ra);"
   ]
  },
  {
   "cell_type": "markdown",
   "metadata": {},
   "source": [
    "## Plot a time series at one of the well locations\n",
    "\n",
    "Use `.get_ts()` to get a time series of water levels at one of the pumping well locations."
   ]
  },
  {
   "cell_type": "code",
   "execution_count": null,
   "metadata": {},
   "outputs": [],
   "source": [
    "hwells = hobj.get_ts(dwelloc)\n",
    "plt.plot(hwells[:, 0], hwells[:, 1:])\n",
    "plt.legend(dwelloc)\n",
    "#print(hwells)"
   ]
  },
  {
   "cell_type": "markdown",
   "metadata": {},
   "source": [
    "## Use flopy to evalute how hydraulic conductivity affects results\n",
    "\n",
    "Wrap the model in a function and call the function in a loop to see how hydraulic conductivity affects water levels at one of the pumping well locations. Think about plotting the mean water level at the observation location.\n",
    "\n",
    "Set the model workspace to `'work/ex05b'`."
   ]
  },
  {
   "cell_type": "code",
   "execution_count": null,
   "metadata": {},
   "outputs": [],
   "source": [
    "def make_hkmodel(kmult=1., loc=(0, 28, 5)):\n",
    "    # Create the Flopy simulation object\n",
    "    name = 'hkmodel'\n",
    "    ws = 'work/ex05b'\n",
    "    sim = flopy.mf6.MFSimulation(sim_name=name, exe_name=exe_name, \n",
    "                                 version='mf6', sim_ws=ws)\n",
    "\n",
    "    # Create the Flopy temporal discretization object\n",
    "    perioddata = [(1., 1, 1.), (3650., 10, 1.)]\n",
    "    tdis = flopy.mf6.modflow.mftdis.ModflowTdis(sim, time_units='DAYS', nper=2, \n",
    "                                                    perioddata=perioddata)    \n",
    "\n",
    "    # Create the Flopy groundwater flow (gwf) model object\n",
    "    model_nam_file = '{}.nam'.format(name)\n",
    "    gwf = flopy.mf6.MFModel(sim, model_type='gwf6', modelname=name, \n",
    "                            model_nam_file=model_nam_file)\n",
    "\n",
    "    # Create the Flopy iterative model solver (ims) Package object\n",
    "    ims = flopy.mf6.modflow.mfims.ModflowIms(sim, complexity='MODERATE')  \n",
    "\n",
    "    # Create the discretization package\n",
    "    dis = flopy.mf6.modflow.mfgwfdis.ModflowGwfdis(gwf, nlay=nlay, nrow=nrow, ncol=ncol,\n",
    "                                                   delr=delr, delc=delc, top=top,\n",
    "                                                   botm=bot, idomain=idomain)\n",
    "    # Create the initial conditions package\n",
    "    ic = flopy.mf6.modflow.mfgwfic.ModflowGwfic(gwf, strt=strt)    \n",
    "\n",
    "    # Create the node property flow package\n",
    "    npf = flopy.mf6.modflow.mfgwfnpf.ModflowGwfnpf(gwf, icelltype=1, k=hk*kmult,\n",
    "                                                   save_flows=True, \n",
    "                                                   save_specific_discharge=True)    \n",
    "    \n",
    "    # storage package\n",
    "    sto = flopy.mf6.ModflowGwfsto(gwf, save_flows=True, iconvert=1, ss=1e-6, \n",
    "                                  sy=0.2, steady_state={0:True},\n",
    "                                  transient={1:True})    \n",
    "    \n",
    "    # Create the constant head package.\n",
    "    chd = flopy.mf6.modflow.mfgwfchd.ModflowGwfchd(gwf, maxbound=len(dchd), \n",
    "                                                   stress_period_data=dchd, save_flows=True)    \n",
    "    \n",
    "    # wel package\n",
    "    wel = flopy.mf6.ModflowGwfwel(gwf, print_input=True, print_flows=True, maxbound=len(dwel),\n",
    "                                  stress_period_data={1: dwel}, \n",
    "                                  save_flows=True)\n",
    "    \n",
    "    # river package\n",
    "    riv = flopy.mf6.ModflowGwfriv(gwf, print_input=True, print_flows=True,\n",
    "                                  maxbound=len(driv), stress_period_data=driv)    \n",
    "    \n",
    "    # recharge package\n",
    "    rch1 = flopy.mf6.ModflowGwfrcha(gwf, recharge=rch, print_input=True)\n",
    "    \n",
    "    # Create the output control package\n",
    "    headfile = '{}.hds'.format(name)\n",
    "    head_filerecord = [headfile]\n",
    "    budgetfile = '{}.cbb'.format(name)\n",
    "    budget_filerecord = [budgetfile]\n",
    "    saverecord = [('HEAD', 'ALL'), \n",
    "                  ('BUDGET', 'ALL')]\n",
    "    printrecord = [('HEAD', 'LAST')]\n",
    "    oc = flopy.mf6.modflow.mfgwfoc.ModflowGwfoc(gwf, saverecord=saverecord, \n",
    "                                                head_filerecord=head_filerecord,\n",
    "                                                budget_filerecord=budget_filerecord,\n",
    "                                                printrecord=printrecord)  \n",
    "    # write simulation to new location\n",
    "    sim.write_simulation(silent=True)\n",
    "\n",
    "    # run the model\n",
    "    success, buff = sim.run_simulation(silent=True)\n",
    "    if not success:\n",
    "        print('kmult \"{}\" model did not terminate successfully'.format(kmult))\n",
    "    \n",
    "    # post-process the results\n",
    "    fpth = ws + '/{}.hds'.format(name)\n",
    "    hobj = flopy.utils.HeadFile(fpth)\n",
    "    hwells = hobj.get_ts(dwelloc)\n",
    "    \n",
    "    return hwells[:, 0], hwells[:, 1:]"
   ]
  },
  {
   "cell_type": "code",
   "execution_count": null,
   "metadata": {},
   "outputs": [],
   "source": [
    "kmult = np.power(10, np.linspace(-1, 1, num=50))\n",
    "hmean = []\n",
    "for kk in kmult:\n",
    "    t, h = make_hkmodel(kmult=kk, loc=dwelloc)\n",
    "    idx = (h == -1e30) | (h == 1e30)\n",
    "    h[idx] = np.nan\n",
    "    v = []\n",
    "    for i in range(h.shape[1]):\n",
    "        v.append(h[:, i].mean())\n",
    "    hmean.append(v)"
   ]
  },
  {
   "cell_type": "code",
   "execution_count": null,
   "metadata": {},
   "outputs": [],
   "source": [
    "plt.semilogx(kmult, hmean)\n",
    "plt.legend(dwelloc)  \n",
    "plt.xlabel('Hydraulic conductivity multipler')\n",
    "plt.ylabel('Mean simulated head')"
   ]
  },
  {
   "cell_type": "code",
   "execution_count": null,
   "metadata": {},
   "outputs": [],
   "source": []
  },
  {
   "cell_type": "markdown",
   "metadata": {},
   "source": [
    "## Use flopy to create a multi-layer model\n",
    "\n",
    "Split the model into three-layers (it is probably easier to recreate the entire model). Turn on the newton-raphson formulation in the `GWF` model and use `BICGSTAB` linear acceleration in the `IMS6` file. Plot the results.\n",
    "\n",
    "Set the model workspace to `'work/ex05c'`."
   ]
  },
  {
   "cell_type": "code",
   "execution_count": null,
   "metadata": {},
   "outputs": [],
   "source": [
    "nlay = 3"
   ]
  },
  {
   "cell_type": "code",
   "execution_count": null,
   "metadata": {},
   "outputs": [],
   "source": [
    "# use the same idomain value in each layer\n",
    "fpth = 'data/raw/idomain.dat'\n",
    "idomain = np.loadtxt(fpth, dtype=np.int)\n",
    "idomain = [idomain for i in range(nlay)]"
   ]
  },
  {
   "cell_type": "code",
   "execution_count": null,
   "metadata": {},
   "outputs": [],
   "source": [
    "# calculate the dz for each layer calculated using top and botm\n",
    "top = np.ones((nrow, ncol), dtype=np.float) * 35.\n",
    "fpth = 'data/raw/bot.dat'\n",
    "bot = np.loadtxt(fpth, dtype=np.float)\n",
    "print(bot.shape, bot.min(), bot.max(), bot.mean())\n",
    "dz = (top - bot) / float(nlay)\n",
    "print(dz.min(), dz.mean(), bot.min(), bot.max())\n",
    "bot = [top - dz * float(i+1) for i in range(nlay)]"
   ]
  },
  {
   "cell_type": "code",
   "execution_count": null,
   "metadata": {},
   "outputs": [],
   "source": [
    "# use the same starting head in each layer\n",
    "strt = np.ones((nrow, ncol), dtype=np.float)\n",
    "idx = strt < bot[-1]\n",
    "strt[idx] =  bot[-1][idx] + 0.1\n",
    "strt = [strt for i in range(nlay)]"
   ]
  },
  {
   "cell_type": "code",
   "execution_count": null,
   "metadata": {},
   "outputs": [],
   "source": [
    "# use same hk value in each layer\n",
    "fpth = 'data/raw/hk.dat'\n",
    "hk = np.loadtxt(fpth, dtype=np.float)\n",
    "hk = [hk for i in range(nlay)]"
   ]
  },
  {
   "cell_type": "code",
   "execution_count": null,
   "metadata": {},
   "outputs": [],
   "source": [
    "# need to move the pumpage to layer 3\n",
    "fpth = 'data/raw/wel.dat'\n",
    "d = np.loadtxt(fpth, dtype=np.float)\n",
    "dwel = []\n",
    "dwelloc = []\n",
    "for n in range(d.shape[0]):\n",
    "    k, i, j = d[n, :3].astype(np.int) - 1\n",
    "    v = [(2, i, j), d[n, 3]]\n",
    "    dwel.append(v)\n",
    "    dwelloc.append((2, i, j))\n",
    "print(dwel)\n",
    "print(dwelloc)"
   ]
  },
  {
   "cell_type": "code",
   "execution_count": null,
   "metadata": {},
   "outputs": [],
   "source": [
    "# need to make sure that chd is in a cell with the bottom of the layer below the specified head\n",
    "fpth = 'data/raw/chd.dat'\n",
    "d = np.loadtxt(fpth, dtype=np.float)\n",
    "dchd = []\n",
    "for n in range(d.shape[0]):\n",
    "    k, i, j = d[n, :3].astype(np.int) - 1\n",
    "    if idomain[k][i, j] < 1:\n",
    "        continue\n",
    "    chd = d[n, 3]\n",
    "    botn = bot[k][i, j]\n",
    "    if chd < botn:\n",
    "        for kk in range(1, nlay):\n",
    "            botn2 = bot[kk][i, j]\n",
    "            if botn2 < chd:\n",
    "                k = kk\n",
    "                break\n",
    "    v = [(k, i, j), chd]\n",
    "    dchd.append(v)\n",
    "print(dchd)"
   ]
  },
  {
   "cell_type": "code",
   "execution_count": null,
   "metadata": {},
   "outputs": [],
   "source": [
    "# need to make sure that river is in a cell with the bottom of the layer below the specified rbot\n",
    "fpth = 'data/raw/riv.dat'\n",
    "dtype = np.dtype([('k', np.int), ('i', np.int), ('j', np.int), \n",
    "                  ('stage', np.float), ('cond', np.float), ('rbot', np.float)])\n",
    "d = np.loadtxt(fpth, dtype=dtype)\n",
    "driv = []\n",
    "d['k'] -= 1\n",
    "d['i'] -= 1\n",
    "d['j'] -= 1\n",
    "for dd in d:\n",
    "    k, i, j = dd['k'], dd['i'], dd['j']\n",
    "    rbot = dd['rbot']\n",
    "    botn = bot[k][i, j]\n",
    "    #print(1, rbot, botn)\n",
    "    if rbot < botn:\n",
    "        for kk in range(1, nlay):\n",
    "            botn2 = bot[kk][i, j]\n",
    "            #print(kk+1, rbot, botn2)\n",
    "            if botn2 < rbot:\n",
    "                #print('-', rbot, botn2)\n",
    "                k = kk\n",
    "                break\n",
    "    v = [(k, i, j), dd['stage'], dd['cond'], rbot]\n",
    "    driv.append(v)\n",
    "print(driv)"
   ]
  },
  {
   "cell_type": "code",
   "execution_count": null,
   "metadata": {},
   "outputs": [],
   "source": [
    "# Create the Flopy simulation object\n",
    "name = 'threelayermodel'\n",
    "exe_name = 'mf6'\n",
    "ws = 'work/ex05c'\n",
    "sim = flopy.mf6.MFSimulation(sim_name=name, exe_name=exe_name, \n",
    "                             version='mf6', sim_ws=ws)\n",
    "\n",
    "# Create the Flopy temporal discretization object\n",
    "perioddata = [(1., 1, 1.), (3650., 10, 1.)]\n",
    "tdis = flopy.mf6.modflow.mftdis.ModflowTdis(sim, time_units='DAYS', nper=2, \n",
    "                                                perioddata=perioddata)    \n",
    "\n",
    "# Create the Flopy groundwater flow (gwf) model object\n",
    "model_nam_file = '{}.nam'.format(name)\n",
    "gwf = flopy.mf6.MFModel(sim, model_type='gwf6', modelname=name, \n",
    "                        model_nam_file=model_nam_file)\n",
    "# turn on Newton-Rephson\n",
    "gwf.name_file.newtonoptions = ('')\n",
    "\n",
    "# Create the Flopy iterative model solver (ims) Package object\n",
    "ims = flopy.mf6.modflow.mfims.ModflowIms(sim, complexity='COMPLEX')  \n",
    "\n",
    "# Create the discretization package\n",
    "dis = flopy.mf6.modflow.mfgwfdis.ModflowGwfdis(gwf, nlay=nlay, nrow=nrow, ncol=ncol,\n",
    "                                               delr=delr, delc=delc, top=top,\n",
    "                                               botm=bot, idomain=idomain)\n",
    "# Create the initial conditions package\n",
    "ic = flopy.mf6.modflow.mfgwfic.ModflowGwfic(gwf, strt=strt)    \n",
    "\n",
    "# Create the node property flow package\n",
    "npf = flopy.mf6.modflow.mfgwfnpf.ModflowGwfnpf(gwf, icelltype=1, k=hk,\n",
    "                                               save_flows=True, save_specific_discharge=True)    \n",
    "\n",
    "# storage package\n",
    "sto = flopy.mf6.ModflowGwfsto(gwf, save_flows=True, iconvert=1, ss=1e-6, \n",
    "                              sy=0.2, steady_state={0:True},\n",
    "                              transient={1:True})    \n",
    "\n",
    "# Create the constant head package.\n",
    "chd = flopy.mf6.modflow.mfgwfchd.ModflowGwfchd(gwf, maxbound=len(dchd), \n",
    "                                               stress_period_data=dchd, save_flows=True)    \n",
    "\n",
    "# wel package\n",
    "wel = flopy.mf6.ModflowGwfwel(gwf, print_input=True, print_flows=True, maxbound=len(dwel),\n",
    "                              stress_period_data={1: dwel}, \n",
    "                              save_flows=True)\n",
    "\n",
    "# river package\n",
    "riv = flopy.mf6.ModflowGwfriv(gwf, print_input=True, print_flows=True,\n",
    "                              maxbound=len(driv), stress_period_data=driv)    \n",
    "\n",
    "# recharge package\n",
    "rch1 = flopy.mf6.ModflowGwfrcha(gwf, recharge=rch, print_input=True)\n",
    "\n",
    "# Create the output control package\n",
    "headfile = '{}.hds'.format(name)\n",
    "head_filerecord = [headfile]\n",
    "budgetfile = '{}.cbb'.format(name)\n",
    "budget_filerecord = [budgetfile]\n",
    "saverecord = [('HEAD', 'ALL'), \n",
    "              ('BUDGET', 'ALL')]\n",
    "printrecord = [('HEAD', 'LAST')]\n",
    "oc = flopy.mf6.modflow.mfgwfoc.ModflowGwfoc(gwf, saverecord=saverecord, \n",
    "                                            head_filerecord=head_filerecord,\n",
    "                                            budget_filerecord=budget_filerecord,\n",
    "                                            printrecord=printrecord)  \n",
    "# write simulation to new location\n",
    "sim.write_simulation()\n",
    "\n",
    "# run the model\n",
    "success, buff = sim.run_simulation()\n",
    "if not success:\n",
    "    print('model did not terminate successfully')"
   ]
  },
  {
   "cell_type": "code",
   "execution_count": null,
   "metadata": {},
   "outputs": [],
   "source": [
    "fpth = ws + '/{}.hds'.format(name)\n",
    "hobj = flopy.utils.HeadFile(fpth)\n",
    "kstpkper = hobj.get_kstpkper()\n",
    "dpos = kstpkper[-1]\n",
    "h = hobj.get_data(kstpkper=dpos)"
   ]
  },
  {
   "cell_type": "code",
   "execution_count": null,
   "metadata": {},
   "outputs": [],
   "source": [
    "fpth = ws + '/{}.cbb'.format(name)\n",
    "cobj = flopy.utils.CellBudgetFile(fpth, precision='double')\n",
    "ra = cobj.get_data(kstpkper=dpos, text='DATA-SPDIS')[0]"
   ]
  },
  {
   "cell_type": "code",
   "execution_count": null,
   "metadata": {},
   "outputs": [],
   "source": [
    "fig, axes = plt.subplots(ncols=nlay, nrows=1, sharey=True)\n",
    "fig.set_figheight(10)\n",
    "fig.set_figwidth(15)\n",
    "for k, ax in enumerate(axes.flatten()):\n",
    "    mm = flopy.plot.PlotMapView(model=gwf, ax=ax, layer=k)\n",
    "    ax.set_title('Layer {}'.format(k+1))\n",
    "    ax.set_aspect('equal')\n",
    "    ax.set_xlim(0, 5000)\n",
    "    ax.set_ylim(0, 10000)\n",
    "    mm.plot_array(h, masked_values=[1e30, -1e30])\n",
    "    c = mm.contour_array(h, masked_values=[1e30, -1e30], colors='black', \n",
    "                         levels=np.arange(0, 40, 5))\n",
    "    plt.clabel(c)\n",
    "    mm.plot_ibound(ibound=np.array(idomain))\n",
    "    mm.plot_specific_discharge(ra);"
   ]
  },
  {
   "cell_type": "code",
   "execution_count": null,
   "metadata": {},
   "outputs": [],
   "source": []
  }
 ],
 "metadata": {
  "kernelspec": {
   "display_name": "Python 3",
   "language": "python",
   "name": "python3"
  },
  "language_info": {
   "codemirror_mode": {
    "name": "ipython",
    "version": 3
   },
   "file_extension": ".py",
   "mimetype": "text/x-python",
   "name": "python",
   "nbconvert_exporter": "python",
   "pygments_lexer": "ipython3",
   "version": "3.7.3"
  }
 },
 "nbformat": 4,
 "nbformat_minor": 1
}
