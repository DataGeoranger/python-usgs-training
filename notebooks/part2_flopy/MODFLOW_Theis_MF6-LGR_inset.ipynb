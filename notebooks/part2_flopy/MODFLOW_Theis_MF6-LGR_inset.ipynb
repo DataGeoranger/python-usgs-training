{
 "cells": [
  {
   "cell_type": "code",
   "execution_count": null,
   "metadata": {},
   "outputs": [],
   "source": [
    "import numpy as np\n",
    "import flopy as fp\n",
    "from flopy.utils.lgrutil import Lgr\n",
    "import matplotlib.pyplot as plt\n",
    "%matplotlib inline\n",
    "import os\n",
    "from matplotlib.backends.backend_pdf import PdfPages"
   ]
  },
  {
   "cell_type": "code",
   "execution_count": null,
   "metadata": {},
   "outputs": [],
   "source": [
    "model_dir = 'theis_flopy_mf6_LGR'\n",
    "model_name = 'theis'\n",
    "if not os.path.exists(model_dir):\n",
    "    os.mkdir(model_dir)"
   ]
  },
  {
   "cell_type": "code",
   "execution_count": null,
   "metadata": {},
   "outputs": [],
   "source": [
    "# create simulation\n",
    "sim = fp.mf6.MFSimulation(sim_name='theis_mf6', version='mf6', exe_name='mf6', \n",
    "                             sim_ws=model_dir)\n"
   ]
  },
  {
   "cell_type": "code",
   "execution_count": null,
   "metadata": {},
   "outputs": [],
   "source": [
    "# create tdis package\n",
    "tdis_rc = [(86400.0, 75, 1.2)]\n",
    "tdis = fp.mf6.ModflowTdis(sim, pname='tdis', time_units='DAYS', \n",
    "                             perioddata=tdis_rc)"
   ]
  },
  {
   "cell_type": "markdown",
   "metadata": {},
   "source": [
    "## create parent model"
   ]
  },
  {
   "cell_type": "code",
   "execution_count": null,
   "metadata": {},
   "outputs": [],
   "source": [
    "# create gwf model\n",
    "gwf = fp.mf6.ModflowGwf(sim, modelname=model_name,\n",
    "                           model_nam_file='{}.nam'.format(model_name))\n",
    "gwf.name_file.save_flows = True"
   ]
  },
  {
   "cell_type": "code",
   "execution_count": null,
   "metadata": {},
   "outputs": [],
   "source": [
    "# create iterative model solution and register the gwf model with it\n",
    "ims = fp.mf6.ModflowIms(sim, pname='ims', print_option='SUMMARY', \n",
    "                           complexity='SIMPLE', outer_hclose=1.e-2, \n",
    "                           outer_maximum=10, under_relaxation='NONE', \n",
    "                           inner_maximum=10, inner_hclose=1.e-4, \n",
    "                           rcloserecord=0.1, linear_acceleration='BICGSTAB', \n",
    "                           scaling_method='NONE', reordering_method='NONE', \n",
    "                           relaxation_factor=0.99)"
   ]
  },
  {
   "cell_type": "code",
   "execution_count": null,
   "metadata": {},
   "outputs": [],
   "source": [
    "sim.register_ims_package(ims, [gwf.name])\n"
   ]
  },
  {
   "cell_type": "code",
   "execution_count": null,
   "metadata": {},
   "outputs": [],
   "source": [
    "# dis\n",
    "nlay = 1\n",
    "nrow = 52\n",
    "ncol = 52\n",
    "delr = 1925\n",
    "delc = 1925\n",
    "top = 0\n",
    "botm = -1"
   ]
  },
  {
   "cell_type": "code",
   "execution_count": null,
   "metadata": {},
   "outputs": [],
   "source": [
    "# Set the idomain of the parent model in order to \n",
    "# define where the child model will be located\n",
    "idomain = np.ones((nlay, nrow, ncol), dtype=np.int)\n",
    "idomain[0, 20:31, 20:31] = 0\n",
    "plt.matshow(idomain[0])"
   ]
  },
  {
   "cell_type": "code",
   "execution_count": null,
   "metadata": {},
   "outputs": [],
   "source": [
    "dis = fp.mf6.ModflowGwfdis(gwf, nlay=nlay, nrow=nrow, ncol=ncol,idomain=idomain,\n",
    "                              delr=delr, delc=delc,\n",
    "                              top=top, botm=botm)"
   ]
  },
  {
   "cell_type": "code",
   "execution_count": null,
   "metadata": {},
   "outputs": [],
   "source": [
    "# initial conditions\n",
    "ic = fp.mf6.ModflowGwfic(gwf, pname='ic', strt=0.)"
   ]
  },
  {
   "cell_type": "code",
   "execution_count": null,
   "metadata": {},
   "outputs": [],
   "source": [
    "# CHD equal to 0 at the boundaries\n",
    "chd_spd = [[(0,0,i),0] for i in range(1,ncol)] + \\\n",
    "          [[(0,i,0),0] for i in range(nrow)] + \\\n",
    "          [[(0,nrow-1,i),0] for i in range(1,ncol)] + \\\n",
    "          [[(0,i,ncol-1),0] for i in range(1,nrow-1)]"
   ]
  },
  {
   "cell_type": "code",
   "execution_count": null,
   "metadata": {},
   "outputs": [],
   "source": [
    "chd = fp.mf6.ModflowGwfchd(gwf, save_flows=True,stress_period_data = chd_spd)"
   ]
  },
  {
   "cell_type": "code",
   "execution_count": null,
   "metadata": {},
   "outputs": [],
   "source": [
    "domain = np.zeros((nrow,ncol))"
   ]
  },
  {
   "cell_type": "code",
   "execution_count": null,
   "metadata": {},
   "outputs": [],
   "source": [
    "for i in chd_spd:\n",
    "    domain[i[0][1],i[0][2]] = 1"
   ]
  },
  {
   "cell_type": "code",
   "execution_count": null,
   "metadata": {},
   "outputs": [],
   "source": [
    "plt.matshow(domain)\n",
    "plt.colorbar()"
   ]
  },
  {
   "cell_type": "code",
   "execution_count": null,
   "metadata": {},
   "outputs": [],
   "source": [
    "# npf \n",
    "hk=0.3\n",
    "\n",
    "# node property flow\n",
    "npf = fp.mf6.ModflowGwfnpf(gwf, \n",
    "                              icelltype=[0], \n",
    "                              k=[hk],\n",
    "                              k33=[hk])"
   ]
  },
  {
   "cell_type": "code",
   "execution_count": null,
   "metadata": {},
   "outputs": [],
   "source": [
    "# storage\n",
    "ss=0.0008\n",
    "stor = fp.mf6.ModflowGwfsto(gwf, ss=ss, transient=True)"
   ]
  },
  {
   "cell_type": "code",
   "execution_count": null,
   "metadata": {},
   "outputs": [],
   "source": []
  },
  {
   "cell_type": "code",
   "execution_count": null,
   "metadata": {},
   "outputs": [],
   "source": [
    "lgr=Lgr(nlay, nrow, ncol,delr,delc,0,-1,idomain,20,1)"
   ]
  },
  {
   "cell_type": "code",
   "execution_count": null,
   "metadata": {},
   "outputs": [],
   "source": [
    "# create child gwf model\n",
    "cmodel_name = 'child'\n",
    "cgwf = fp.mf6.ModflowGwf(sim, modelname=cmodel_name,\n",
    "                           model_nam_file='child.nam')\n",
    "\n",
    "cgwf.name_file.save_flows = True\n",
    "cnlay, cnrow, cncol = lgr.get_shape()\n",
    "cdelr, cdelc = lgr.get_delr_delc()\n",
    "ctop, cbotm = lgr.get_top_botm()\n",
    "xorigin, yorigin = lgr.get_lower_left()\n",
    "cidomain = lgr.get_idomain()\n",
    "cgwf.modelgrid.set_coord_info(xoff=xorigin, yoff=yorigin)\n",
    "cdis = fp.mf6.ModflowGwfdis(cgwf, nlay=cnlay, nrow=cnrow, ncol=cncol,\n",
    "                               delr=cdelr, delc=cdelc,\n",
    "                               top=ctop, botm=cbotm, idomain=cidomain,\n",
    "                               xorigin=xorigin, yorigin=yorigin)\n",
    "cic = fp.mf6.ModflowGwfic(cgwf, pname='ic', strt=0.)\n",
    "cnpf = fp.mf6.ModflowGwfnpf(cgwf,  \n",
    "                              icelltype=[0], \n",
    "                              k=[hk],\n",
    "                              k33=[hk])\n",
    "\n",
    "welspd = [[(cnlay - 1, int(cnrow / 2), int(cncol / 2)), -1.16]]\n",
    "wel = fp.mf6.ModflowGwfwel(cgwf, print_input=True,\n",
    "                              stress_period_data=welspd)\n",
    "oc = fp.mf6.ModflowGwfoc(cgwf, pname='oc', budget_filerecord='{}.cbc'.format(cmodel_name),\n",
    "                            head_filerecord='{}.hds'.format(cmodel_name),\n",
    "                            headprintrecord=[('COLUMNS', 10, 'WIDTH', 15,\n",
    "                                              'DIGITS', 6, 'GENERAL')],\n",
    "                            saverecord=[('HEAD', 'ALL'), ('BUDGET', 'ALL')],\n",
    "                            printrecord=[('HEAD', 'ALL'), ('BUDGET', 'ALL')])\n",
    "stor = fp.mf6.ModflowGwfsto(cgwf, ss=ss, transient=True)\n",
    "\n",
    "# exchange information\n",
    "exchangedata = lgr.get_exchange_data(angldegx=True, cdist=True)\n",
    "nexg = len(exchangedata)\n",
    "gwfe = fp.mf6.ModflowGwfgwf(sim, exgtype='gwf6-gwf6', \n",
    "                               exgmnamea='theis', exgmnameb='child', \n",
    "                               nexg=nexg, auxiliary=[('angldegx', 'cdist')], \n",
    "                               exchangedata=exchangedata)\n",
    "\n",
    "sim.write_simulation()\n",
    "sim.run_simulation()"
   ]
  },
  {
   "cell_type": "code",
   "execution_count": null,
   "metadata": {},
   "outputs": [],
   "source": [
    "fname = os.path.join(model_dir, 'child.hds')\n",
    "hdobj = fp.utils.HeadFile(fname)\n",
    "head = hdobj.get_alldata()"
   ]
  },
  {
   "cell_type": "code",
   "execution_count": null,
   "metadata": {},
   "outputs": [],
   "source": [
    "head.shape"
   ]
  },
  {
   "cell_type": "code",
   "execution_count": null,
   "metadata": {},
   "outputs": [],
   "source": [
    "fig = plt.figure(figsize=(8, 8))\n",
    "ax = fig.add_subplot(1, 1, 1, aspect='equal')\n",
    "mm = fp.plot.PlotMapView(cgwf, ax=ax)\n",
    "v=mm.plot_array(head[10,0,:,:])\n",
    "plt.xlim((48500,50000))\n",
    "plt.ylim((50500,52000))\n",
    "plt.colorbar(v)\n"
   ]
  },
  {
   "cell_type": "code",
   "execution_count": null,
   "metadata": {},
   "outputs": [],
   "source": [
    "with PdfPages('theis_mf_lgr.pdf') as pdfout:\n",
    "    for i, chead in enumerate(head):\n",
    "        printhead = np.squeeze(chead)\n",
    "        plt.figure(figsize=(8,8))\n",
    "        plt.imshow(#-printhead[100:120,100:120],\n",
    "                   -printhead,\n",
    "                  interpolation='nearest',\n",
    "                  vmin=0,\n",
    "                  vmax=2.7)\n",
    "        plt.colorbar()\n",
    "        plt.title('Theis-o-matic --> timestep{0}'.format(i))\n",
    "        pdfout.savefig()\n",
    "        plt.close()\n",
    "        "
   ]
  },
  {
   "cell_type": "code",
   "execution_count": null,
   "metadata": {},
   "outputs": [],
   "source": []
  }
 ],
 "metadata": {
  "kernelspec": {
   "display_name": "Python 3",
   "language": "python",
   "name": "python3"
  },
  "language_info": {
   "codemirror_mode": {
    "name": "ipython",
    "version": 3
   },
   "file_extension": ".py",
   "mimetype": "text/x-python",
   "name": "python",
   "nbconvert_exporter": "python",
   "pygments_lexer": "ipython3",
   "version": "3.6.8"
  }
 },
 "nbformat": 4,
 "nbformat_minor": 2
}
