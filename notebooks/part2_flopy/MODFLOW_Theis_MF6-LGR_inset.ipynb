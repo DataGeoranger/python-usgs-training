{
 "cells": [
  {
   "cell_type": "code",
   "execution_count": 1,
   "metadata": {},
   "outputs": [
    {
     "name": "stdout",
     "output_type": "stream",
     "text": [
      "flopy is installed in /Users/mnfienen/Documents/GIT/flopy/flopy\n"
     ]
    }
   ],
   "source": [
    "import numpy as np\n",
    "import flopy as fp\n",
    "from flopy.utils.lgrutil import Lgr\n",
    "import matplotlib.pyplot as plt\n",
    "%matplotlib inline\n",
    "import os\n",
    "from matplotlib.backends.backend_pdf import PdfPages"
   ]
  },
  {
   "cell_type": "code",
   "execution_count": 2,
   "metadata": {},
   "outputs": [],
   "source": [
    "model_dir = 'theis_flopy_mf6_LGR'\n",
    "model_name = 'theis'\n",
    "if not os.path.exists(model_dir):\n",
    "    os.mkdir(model_dir)"
   ]
  },
  {
   "cell_type": "code",
   "execution_count": 3,
   "metadata": {},
   "outputs": [],
   "source": [
    "# create simulation\n",
    "sim = fp.mf6.MFSimulation(sim_name='theis_mf6', version='mf6', exe_name='mf6', \n",
    "                             sim_ws=model_dir)\n"
   ]
  },
  {
   "cell_type": "code",
   "execution_count": 4,
   "metadata": {},
   "outputs": [],
   "source": [
    "# create tdis package\n",
    "tdis_rc = [(86400.0, 75, 1.2)]\n",
    "tdis = fp.mf6.ModflowTdis(sim, pname='tdis', time_units='DAYS', \n",
    "                             perioddata=tdis_rc)"
   ]
  },
  {
   "cell_type": "markdown",
   "metadata": {},
   "source": [
    "## create parent model"
   ]
  },
  {
   "cell_type": "code",
   "execution_count": 5,
   "metadata": {},
   "outputs": [],
   "source": [
    "# create gwf model\n",
    "gwf = fp.mf6.ModflowGwf(sim, modelname=model_name,\n",
    "                           model_nam_file='{}.nam'.format(model_name))\n",
    "gwf.name_file.save_flows = True"
   ]
  },
  {
   "cell_type": "code",
   "execution_count": 6,
   "metadata": {},
   "outputs": [],
   "source": [
    "# create iterative model solution and register the gwf model with it\n",
    "ims = fp.mf6.ModflowIms(sim, pname='ims', print_option='SUMMARY', \n",
    "                           complexity='SIMPLE', outer_hclose=1.e-2, \n",
    "                           outer_maximum=10, under_relaxation='NONE', \n",
    "                           inner_maximum=10, inner_hclose=1.e-4, \n",
    "                           rcloserecord=0.1, linear_acceleration='BICGSTAB', \n",
    "                           scaling_method='NONE', reordering_method='NONE', \n",
    "                           relaxation_factor=0.99)"
   ]
  },
  {
   "cell_type": "code",
   "execution_count": 7,
   "metadata": {},
   "outputs": [],
   "source": [
    "sim.register_ims_package(ims, [gwf.name])\n"
   ]
  },
  {
   "cell_type": "code",
   "execution_count": 8,
   "metadata": {},
   "outputs": [],
   "source": [
    "# dis\n",
    "nlay = 1\n",
    "nrow = 52\n",
    "ncol = 52\n",
    "delr = 1925\n",
    "delc = 1925\n",
    "top = 0\n",
    "botm = -1"
   ]
  },
  {
   "cell_type": "code",
   "execution_count": 9,
   "metadata": {},
   "outputs": [
    {
     "data": {
      "text/plain": [
       "<matplotlib.image.AxesImage at 0x119c16908>"
      ]
     },
     "execution_count": 9,
     "metadata": {},
     "output_type": "execute_result"
    },
    {
     "data": {
      "image/png": "[encoded data removed]",
      "text/plain": [
       "<Figure size 288x288 with 1 Axes>"
      ]
     },
     "metadata": {},
     "output_type": "display_data"
    }
   ],
   "source": [
    "# Set the idomain of the parent model in order to \n",
    "# define where the child model will be located\n",
    "idomain = np.ones((nlay, nrow, ncol), dtype=np.int)\n",
    "idomain[0, 20:31, 20:31] = 0\n",
    "plt.matshow(idomain[0])"
   ]
  },
  {
   "cell_type": "code",
   "execution_count": 10,
   "metadata": {},
   "outputs": [],
   "source": [
    "dis = fp.mf6.ModflowGwfdis(gwf, nlay=nlay, nrow=nrow, ncol=ncol,idomain=idomain,\n",
    "                              delr=delr, delc=delc,\n",
    "                              top=top, botm=botm)"
   ]
  },
  {
   "cell_type": "code",
   "execution_count": 11,
   "metadata": {},
   "outputs": [],
   "source": [
    "# initial conditions\n",
    "ic = fp.mf6.ModflowGwfic(gwf, pname='ic', strt=0.)"
   ]
  },
  {
   "cell_type": "code",
   "execution_count": 12,
   "metadata": {},
   "outputs": [],
   "source": [
    "# CHD equal to 0 at the boundaries\n",
    "chd_spd = [[(0,0,i),0] for i in range(1,ncol)] + \\\n",
    "          [[(0,i,0),0] for i in range(nrow)] + \\\n",
    "          [[(0,nrow-1,i),0] for i in range(1,ncol)] + \\\n",
    "          [[(0,i,ncol-1),0] for i in range(1,nrow-1)]"
   ]
  },
  {
   "cell_type": "code",
   "execution_count": 13,
   "metadata": {},
   "outputs": [],
   "source": [
    "chd = fp.mf6.ModflowGwfchd(gwf, save_flows=True,stress_period_data = chd_spd)"
   ]
  },
  {
   "cell_type": "code",
   "execution_count": 14,
   "metadata": {},
   "outputs": [],
   "source": [
    "domain = np.zeros((nrow,ncol))"
   ]
  },
  {
   "cell_type": "code",
   "execution_count": 15,
   "metadata": {},
   "outputs": [],
   "source": [
    "for i in chd_spd:\n",
    "    domain[i[0][1],i[0][2]] = 1"
   ]
  },
  {
   "cell_type": "code",
   "execution_count": 16,
   "metadata": {},
   "outputs": [
    {
     "data": {
      "text/plain": [
       "<matplotlib.colorbar.Colorbar at 0x119d01fd0>"
      ]
     },
     "execution_count": 16,
     "metadata": {},
     "output_type": "execute_result"
    },
    {
     "data": {
      "image/png": "[encoded data removed]",
      "text/plain": [
       "<Figure size 288x288 with 2 Axes>"
      ]
     },
     "metadata": {},
     "output_type": "display_data"
    }
   ],
   "source": [
    "plt.matshow(domain)\n",
    "plt.colorbar()"
   ]
  },
  {
   "cell_type": "code",
   "execution_count": 17,
   "metadata": {},
   "outputs": [],
   "source": [
    "# npf \n",
    "hk=0.3\n",
    "\n",
    "# node property flow\n",
    "npf = fp.mf6.ModflowGwfnpf(gwf, \n",
    "                              icelltype=[0], \n",
    "                              k=[hk],\n",
    "                              k33=[hk])"
   ]
  },
  {
   "cell_type": "code",
   "execution_count": 18,
   "metadata": {},
   "outputs": [],
   "source": [
    "# storage\n",
    "ss=0.0008\n",
    "stor = fp.mf6.ModflowGwfsto(gwf, ss=ss, transient=True)"
   ]
  },
  {
   "cell_type": "code",
   "execution_count": null,
   "metadata": {},
   "outputs": [],
   "source": []
  },
  {
   "cell_type": "code",
   "execution_count": 19,
   "metadata": {},
   "outputs": [
    {
     "name": "stderr",
     "output_type": "stream",
     "text": [
      "/Users/mnfienen/Documents/GIT/flopy/flopy/utils/util_array.py:1708: UserWarning: Util2d: setting integer dtype from int64 to int32\n",
      "  .format(dtype))\n"
     ]
    }
   ],
   "source": [
    "lgr=Lgr(nlay, nrow, ncol,delr,delc,0,-1,idomain,20,1)"
   ]
  },
  {
   "cell_type": "code",
   "execution_count": 20,
   "metadata": {},
   "outputs": [
    {
     "name": "stdout",
     "output_type": "stream",
     "text": [
      "writing simulation...\n",
      "  writing simulation name file...\n",
      "  writing simulation tdis package...\n",
      "  writing ims package ims...\n",
      "  writing package theis_mf6.gwfgwf...\n",
      "  writing model theis...\n",
      "    writing model name file...\n",
      "    writing package dis...\n",
      "    writing package ic...\n",
      "    writing package chd_0...\n",
      "INFORMATION: maxbound in ('gwf6', 'chd', 'dimensions') changed to 204 based on size of stress_period_data\n",
      "    writing package npf...\n",
      "    writing package sto...\n",
      "  writing model child...\n",
      "    writing model name file...\n",
      "    writing package dis...\n",
      "    writing package ic...\n",
      "    writing package npf...\n",
      "    writing package wel_0...\n",
      "INFORMATION: maxbound in ('gwf6', 'wel', 'dimensions') changed to 1 based on size of stress_period_data\n",
      "    writing package oc...\n",
      "    writing package sto...\n",
      "FloPy is using the following  executable to run the model: /Users/mnfienen/Documents/bin/MAC_VERSIONS_USGS/mf6\n",
      "                                   MODFLOW 6\n",
      "                U.S. GEOLOGICAL SURVEY MODULAR HYDROLOGIC MODEL\n",
      "                            VERSION 6.0.4 03/13/2019\n",
      "\n",
      "   MODFLOW 6 compiled Mar 21 2019 13:54:16 with IFORT compiler (ver. 19.0.0)\n",
      "\n",
      "This software has been approved for release by the U.S. Geological \n",
      "Survey (USGS). Although the software has been subjected to rigorous \n",
      "review, the USGS reserves the right to update the software as needed \n",
      "pursuant to further analysis and review. No warranty, expressed or \n",
      "implied, is made by the USGS or the U.S. Government as to the \n",
      "functionality of the software and related material nor shall the \n",
      "fact of release constitute any such warranty. Furthermore, the \n",
      "software is released on condition that neither the USGS nor the U.S. \n",
      "Government shall be held liable for any damages resulting from its \n",
      "authorized or unauthorized use. Also refer to the USGS Water \n",
      "Resources Software User Rights Notice for complete use, copyright, \n",
      "and distribution information.\n",
      "\n",
      " Run start date and time (yyyy/mm/dd hh:mm:ss): 2019/10/11 16:59:37\n",
      "\n",
      " Writing simulation list file: mfsim.lst\n",
      " Using Simulation name file: mfsim.nam\n",
      " Solving:  Stress period:     1    Time step:     1\n",
      " Solving:  Stress period:     1    Time step:     2\n",
      " Solving:  Stress period:     1    Time step:     3\n",
      " Solving:  Stress period:     1    Time step:     4\n",
      " Solving:  Stress period:     1    Time step:     5\n",
      " Solving:  Stress period:     1    Time step:     6\n",
      " Solving:  Stress period:     1    Time step:     7\n",
      " Solving:  Stress period:     1    Time step:     8\n",
      " Solving:  Stress period:     1    Time step:     9\n",
      " Solving:  Stress period:     1    Time step:    10\n",
      " Solving:  Stress period:     1    Time step:    11\n",
      " Solving:  Stress period:     1    Time step:    12\n",
      " Solving:  Stress period:     1    Time step:    13\n",
      " Solving:  Stress period:     1    Time step:    14\n",
      " Solving:  Stress period:     1    Time step:    15\n",
      " Solving:  Stress period:     1    Time step:    16\n",
      " Solving:  Stress period:     1    Time step:    17\n",
      " Solving:  Stress period:     1    Time step:    18\n",
      " Solving:  Stress period:     1    Time step:    19\n",
      " Solving:  Stress period:     1    Time step:    20\n",
      " Solving:  Stress period:     1    Time step:    21\n",
      " Solving:  Stress period:     1    Time step:    22\n",
      " Solving:  Stress period:     1    Time step:    23\n",
      " Solving:  Stress period:     1    Time step:    24\n",
      " Solving:  Stress period:     1    Time step:    25\n",
      " Solving:  Stress period:     1    Time step:    26\n",
      " Solving:  Stress period:     1    Time step:    27\n",
      " Solving:  Stress period:     1    Time step:    28\n",
      " Solving:  Stress period:     1    Time step:    29\n",
      " Solving:  Stress period:     1    Time step:    30\n",
      " Solving:  Stress period:     1    Time step:    31\n",
      " Solving:  Stress period:     1    Time step:    32\n",
      " Solving:  Stress period:     1    Time step:    33\n",
      " Solving:  Stress period:     1    Time step:    34\n",
      " Solving:  Stress period:     1    Time step:    35\n",
      " Solving:  Stress period:     1    Time step:    36\n",
      " Solving:  Stress period:     1    Time step:    37\n",
      " Solving:  Stress period:     1    Time step:    38\n",
      " Solving:  Stress period:     1    Time step:    39\n",
      " Solving:  Stress period:     1    Time step:    40\n",
      " Solving:  Stress period:     1    Time step:    41\n",
      " Solving:  Stress period:     1    Time step:    42\n",
      " Solving:  Stress period:     1    Time step:    43\n",
      " Solving:  Stress period:     1    Time step:    44\n",
      " Solving:  Stress period:     1    Time step:    45\n",
      " Solving:  Stress period:     1    Time step:    46\n",
      " Solving:  Stress period:     1    Time step:    47\n",
      " Solving:  Stress period:     1    Time step:    48\n",
      " Solving:  Stress period:     1    Time step:    49\n",
      " Solving:  Stress period:     1    Time step:    50\n",
      " Solving:  Stress period:     1    Time step:    51\n",
      " Solving:  Stress period:     1    Time step:    52\n",
      " Solving:  Stress period:     1    Time step:    53\n",
      " Solving:  Stress period:     1    Time step:    54\n",
      " Solving:  Stress period:     1    Time step:    55\n",
      " Solving:  Stress period:     1    Time step:    56\n",
      " Solving:  Stress period:     1    Time step:    57\n",
      " Solving:  Stress period:     1    Time step:    58\n",
      " Solving:  Stress period:     1    Time step:    59\n",
      " Solving:  Stress period:     1    Time step:    60\n",
      " Solving:  Stress period:     1    Time step:    61\n",
      " Solving:  Stress period:     1    Time step:    62\n",
      " Solving:  Stress period:     1    Time step:    63\n",
      " Solving:  Stress period:     1    Time step:    64\n",
      " Solving:  Stress period:     1    Time step:    65\n",
      " Solving:  Stress period:     1    Time step:    66\n",
      " Solving:  Stress period:     1    Time step:    67\n",
      " Solving:  Stress period:     1    Time step:    68\n",
      " Solving:  Stress period:     1    Time step:    69\n",
      " Solving:  Stress period:     1    Time step:    70\n",
      " Solving:  Stress period:     1    Time step:    71\n",
      " Solving:  Stress period:     1    Time step:    72\n",
      " Solving:  Stress period:     1    Time step:    73\n",
      " Solving:  Stress period:     1    Time step:    74\n",
      " Solving:  Stress period:     1    Time step:    75\n",
      " Run end date and time (yyyy/mm/dd hh:mm:ss): 2019/10/11 16:59:42\n",
      " Elapsed run time:  4.210 Seconds\n",
      "\n",
      " Normal termination of simulation.\n"
     ]
    },
    {
     "data": {
      "text/plain": [
       "(True, [])"
      ]
     },
     "execution_count": 20,
     "metadata": {},
     "output_type": "execute_result"
    }
   ],
   "source": [
    "# create child gwf model\n",
    "cmodel_name = 'child'\n",
    "cgwf = fp.mf6.ModflowGwf(sim, modelname=cmodel_name,\n",
    "                           model_nam_file='child.nam')\n",
    "\n",
    "cgwf.name_file.save_flows = True\n",
    "cnlay, cnrow, cncol = lgr.get_shape()\n",
    "cdelr, cdelc = lgr.get_delr_delc()\n",
    "ctop, cbotm = lgr.get_top_botm()\n",
    "xorigin, yorigin = lgr.get_lower_left()\n",
    "cidomain = lgr.get_idomain()\n",
    "cgwf.modelgrid.set_coord_info(xoff=xorigin, yoff=yorigin)\n",
    "cdis = fp.mf6.ModflowGwfdis(cgwf, nlay=cnlay, nrow=cnrow, ncol=cncol,\n",
    "                               delr=cdelr, delc=cdelc,\n",
    "                               top=ctop, botm=cbotm, idomain=cidomain,\n",
    "                               xorigin=xorigin, yorigin=yorigin)\n",
    "cic = fp.mf6.ModflowGwfic(cgwf, pname='ic', strt=0.)\n",
    "cnpf = fp.mf6.ModflowGwfnpf(cgwf,  \n",
    "                              icelltype=[0], \n",
    "                              k=[hk],\n",
    "                              k33=[hk])\n",
    "\n",
    "welspd = [[(cnlay - 1, int(cnrow / 2), int(cncol / 2)), -1.16]]\n",
    "wel = fp.mf6.ModflowGwfwel(cgwf, print_input=True,\n",
    "                              stress_period_data=welspd)\n",
    "oc = fp.mf6.ModflowGwfoc(cgwf, pname='oc', budget_filerecord='{}.cbc'.format(cmodel_name),\n",
    "                            head_filerecord='{}.hds'.format(cmodel_name),\n",
    "                            headprintrecord=[('COLUMNS', 10, 'WIDTH', 15,\n",
    "                                              'DIGITS', 6, 'GENERAL')],\n",
    "                            saverecord=[('HEAD', 'ALL'), ('BUDGET', 'ALL')],\n",
    "                            printrecord=[('HEAD', 'ALL'), ('BUDGET', 'ALL')])\n",
    "stor = fp.mf6.ModflowGwfsto(cgwf, ss=ss, transient=True)\n",
    "\n",
    "# exchange information\n",
    "exchangedata = lgr.get_exchange_data(angldegx=True, cdist=True)\n",
    "nexg = len(exchangedata)\n",
    "gwfe = fp.mf6.ModflowGwfgwf(sim, exgtype='gwf6-gwf6', \n",
    "                               exgmnamea='theis', exgmnameb='child', \n",
    "                               nexg=nexg, auxiliary=[('angldegx', 'cdist')], \n",
    "                               exchangedata=exchangedata)\n",
    "\n",
    "sim.write_simulation()\n",
    "sim.run_simulation()"
   ]
  },
  {
   "cell_type": "code",
   "execution_count": 21,
   "metadata": {},
   "outputs": [],
   "source": [
    "fname = os.path.join(model_dir, 'child.hds')\n",
    "hdobj = fp.utils.HeadFile(fname)\n",
    "head = hdobj.get_alldata()"
   ]
  },
  {
   "cell_type": "code",
   "execution_count": 22,
   "metadata": {},
   "outputs": [
    {
     "data": {
      "text/plain": [
       "(75, 1, 220, 220)"
      ]
     },
     "execution_count": 22,
     "metadata": {},
     "output_type": "execute_result"
    }
   ],
   "source": [
    "head.shape"
   ]
  },
  {
   "cell_type": "code",
   "execution_count": 23,
   "metadata": {},
   "outputs": [
    {
     "data": {
      "text/plain": [
       "<matplotlib.colorbar.Colorbar at 0x11f0166a0>"
      ]
     },
     "execution_count": 23,
     "metadata": {},
     "output_type": "execute_result"
    },
    {
     "data": {
      "image/png": "[encoded data removed]",
      "text/plain": [
       "<Figure size 576x576 with 2 Axes>"
      ]
     },
     "metadata": {},
     "output_type": "display_data"
    }
   ],
   "source": [
    "fig = plt.figure(figsize=(8, 8))\n",
    "ax = fig.add_subplot(1, 1, 1, aspect='equal')\n",
    "mm = fp.plot.PlotMapView(cgwf, ax=ax)\n",
    "v=mm.plot_array(head[10,0,:,:])\n",
    "plt.xlim((48500,50000))\n",
    "plt.ylim((50500,52000))\n",
    "plt.colorbar(v)\n"
   ]
  },
  {
   "cell_type": "code",
   "execution_count": 24,
   "metadata": {},
   "outputs": [],
   "source": [
    "with PdfPages('theis_mf_lgr.pdf') as pdfout:\n",
    "    for i, chead in enumerate(head):\n",
    "        printhead = np.squeeze(chead)\n",
    "        plt.figure(figsize=(8,8))\n",
    "        plt.imshow(#-printhead[100:120,100:120],\n",
    "                   -printhead,\n",
    "                  interpolation='nearest',\n",
    "                  vmin=0,\n",
    "                  vmax=2.7)\n",
    "        plt.colorbar()\n",
    "        plt.title('Theis-o-matic --> timestep{0}'.format(i))\n",
    "        pdfout.savefig()\n",
    "        plt.close()\n",
    "        "
   ]
  },
  {
   "cell_type": "code",
   "execution_count": null,
   "metadata": {},
   "outputs": [],
   "source": []
  }
 ],
 "metadata": {
  "kernelspec": {
   "display_name": "Python 3",
   "language": "python",
   "name": "python3"
  },
  "language_info": {
   "codemirror_mode": {
    "name": "ipython",
    "version": 3
   },
   "file_extension": ".py",
   "mimetype": "text/x-python",
   "name": "python",
   "nbconvert_exporter": "python",
   "pygments_lexer": "ipython3",
   "version": "3.7.3"
  }
 },
 "nbformat": 4,
 "nbformat_minor": 2
}
