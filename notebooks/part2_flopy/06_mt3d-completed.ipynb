{
 "cells": [
  {
   "cell_type": "code",
   "execution_count": null,
   "metadata": {},
   "outputs": [],
   "source": [
    "import os\n",
    "import numpy as np\n",
    "import matplotlib.pyplot as plt\n",
    "import flopy\n",
    "\n",
    "import shutil"
   ]
  },
  {
   "cell_type": "markdown",
   "metadata": {},
   "source": [
    "# Groundwater Modeling and Python Programming\n",
    "\n",
    "In this exercise, we will use MODPATH to simulate advective transport with the Freyberg flow model. For this exercise, we will use the existing flow model in the `data/freyberg` directory.\n",
    "\n",
    "The location of the contamination patch and the nodes that the define bounding cells of the patch are calculated below."
   ]
  },
  {
   "cell_type": "code",
   "execution_count": null,
   "metadata": {},
   "outputs": [],
   "source": [
    "# patch upper left and lower right\n",
    "xmin, xmax = 250. * 1, 250. * 3\n",
    "ymin, ymax = (40 - 14) * 250., (40 - 11) * 250. \n",
    "csx, csy = [xmin, xmin, xmax, xmax, xmin], [ymin, ymax, ymax, ymin, ymin]\n",
    "(xmin, ymax), (xmax, ymin)"
   ]
  },
  {
   "cell_type": "code",
   "execution_count": null,
   "metadata": {},
   "outputs": [],
   "source": [
    "# patch edge node coordinates\n",
    "xmin_node, xmax_node = xmin + 125, xmax - 125\n",
    "ymin_node, ymax_node = ymin + 125, ymax - 125\n",
    "(xmin_node, ymax_node), (xmax_node, ymin_node)"
   ]
  },
  {
   "cell_type": "markdown",
   "metadata": {},
   "source": [
    "--------------------------\n",
    "\n",
    "### Define the workspace and model names."
   ]
  },
  {
   "cell_type": "code",
   "execution_count": null,
   "metadata": {},
   "outputs": [],
   "source": [
    "ws = 'work/ex06b'\n",
    "load_ws = 'data/freyberg/'\n",
    "name = 'freyberg'\n",
    "name_tran = name + '_tran'\n",
    "exe_name = 'mf2005'"
   ]
  },
  {
   "cell_type": "markdown",
   "metadata": {},
   "source": [
    "### Clean up the existing MODFLOW-2005 and MT3D files"
   ]
  },
  {
   "cell_type": "code",
   "execution_count": null,
   "metadata": {},
   "outputs": [],
   "source": [
    "shutil.rmtree(ws)"
   ]
  },
  {
   "cell_type": "markdown",
   "metadata": {},
   "source": [
    "## Load the MODFLOW-2005 Model\n",
    "\n",
    "Load a MODFLOW-2005 model object using `flopy.modflow.Modflow.load()`."
   ]
  },
  {
   "cell_type": "code",
   "execution_count": null,
   "metadata": {},
   "outputs": [],
   "source": [
    "fnam = name + '.nam'\n",
    "mf = flopy.modflow.Modflow.load(fnam, exe_name=exe_name,\n",
    "                                model_ws='data/freyberg/')"
   ]
  },
  {
   "cell_type": "markdown",
   "metadata": {},
   "source": [
    "### Change the workspace"
   ]
  },
  {
   "cell_type": "code",
   "execution_count": null,
   "metadata": {},
   "outputs": [],
   "source": [
    "mf.change_model_ws(ws)"
   ]
  },
  {
   "cell_type": "code",
   "execution_count": null,
   "metadata": {},
   "outputs": [],
   "source": [
    "dis = mf.get_package('DIS')"
   ]
  },
  {
   "cell_type": "code",
   "execution_count": null,
   "metadata": {},
   "outputs": [],
   "source": [
    "dis.perlen.array, dis.tsmult.array"
   ]
  },
  {
   "cell_type": "code",
   "execution_count": null,
   "metadata": {},
   "outputs": [],
   "source": []
  },
  {
   "cell_type": "code",
   "execution_count": null,
   "metadata": {},
   "outputs": [],
   "source": [
    "perlen = [1e8]\n",
    "tsmult = [1.]\n",
    "dis.perlen = perlen\n",
    "dis.tsmult = tsmult"
   ]
  },
  {
   "cell_type": "code",
   "execution_count": null,
   "metadata": {},
   "outputs": [],
   "source": [
    "dis.perlen.array, dis.tsmult.array"
   ]
  },
  {
   "cell_type": "markdown",
   "metadata": {},
   "source": [
    "### Add the LMT package for MT3DMS"
   ]
  },
  {
   "cell_type": "code",
   "execution_count": null,
   "metadata": {},
   "outputs": [],
   "source": [
    "lmt = flopy.modflow.ModflowLmt(mf, unitnumber=130)"
   ]
  },
  {
   "cell_type": "markdown",
   "metadata": {},
   "source": [
    "### Write the model files"
   ]
  },
  {
   "cell_type": "code",
   "execution_count": null,
   "metadata": {},
   "outputs": [],
   "source": [
    "mf.write_input()"
   ]
  },
  {
   "cell_type": "markdown",
   "metadata": {},
   "source": [
    "### Run the simulation."
   ]
  },
  {
   "cell_type": "code",
   "execution_count": null,
   "metadata": {},
   "outputs": [],
   "source": [
    "mf.run_model()"
   ]
  },
  {
   "cell_type": "markdown",
   "metadata": {},
   "source": [
    "## Create and Run the MT3D model\n",
    "\n",
    "Lets plot the model grid and the location of the contamination patch."
   ]
  },
  {
   "cell_type": "code",
   "execution_count": null,
   "metadata": {},
   "outputs": [],
   "source": [
    "mm = flopy.plot.PlotMapView(model=mf, layer=0)\n",
    "\n",
    "fig = plt.gcf()\n",
    "fig.set_size_inches(3, 6)\n",
    "\n",
    "mm.plot_bc('RIV')\n",
    "mm.plot_bc('WEL')\n",
    "mm.plot_ibound()\n",
    "\n",
    "mm.plot_grid(lw=0.5, color='black')\n",
    "\n",
    "ax = plt.gca()\n",
    "ax.fill(csx, csy, color='#e534eb')"
   ]
  },
  {
   "cell_type": "markdown",
   "metadata": {},
   "source": [
    "Find the row column location of the contamination patch using the groundwater model grid object `modelgrid.intersect()` method. The upper left and lower right node coordinates of the cells containing the contamination patch are (375, 7125) and (625, 6625)."
   ]
  },
  {
   "cell_type": "code",
   "execution_count": null,
   "metadata": {},
   "outputs": [],
   "source": [
    "itmin, jtmin = mf.modelgrid.intersect(xmin_node, ymax_node)\n",
    "itmax, jtmax = mf.modelgrid.intersect(xmax_node, ymin_node) \n",
    "(itmin, jtmin), (itmax, jtmax)"
   ]
  },
  {
   "cell_type": "code",
   "execution_count": null,
   "metadata": {},
   "outputs": [],
   "source": [
    "nlay, nrow, ncol = mf.dis.nlay, mf.dis.nrow, mf.dis.ncol\n",
    "nlay, nrow, ncol"
   ]
  },
  {
   "cell_type": "markdown",
   "metadata": {},
   "source": [
    "## Create the MT3D files"
   ]
  },
  {
   "cell_type": "code",
   "execution_count": null,
   "metadata": {},
   "outputs": [],
   "source": [
    "# set transport values\n",
    "ncomp = 1\n",
    "prsity = 0.01\n",
    "icbund = np.ones((nlay, nrow, ncol), dtype=np.int)\n",
    "sconc = np.zeros((nlay, nrow, ncol), dtype=np.float32)\n",
    "\n",
    "#x_conc = 1000.\n",
    "#y_conc = 9500.\n",
    "#col_conc = int(x_conc / 250.) + 1\n",
    "#row_conc = 40 - int(y_conc / 250.) + 1\n",
    "#icbund[0, row_conc, col_conc] = -1\n",
    "#sconc[0, row_conc, col_conc] = 1.\n",
    "for i in range(itmin, itmax+1):\n",
    "    for j in range(jtmin, jtmax+1):\n",
    "        icbund[0, i, j] = -1\n",
    "        sconc[0, i, j] = 1.\n",
    "        \n",
    "\n",
    "al = 10.\n",
    "trpt = 0.1\n",
    "trpv = 0.1\n",
    "dmcoef = 1.e-9\n",
    "dt0 = 100. #1.e6\n",
    "ttsmult = 1.05\n",
    "ttsmax = 86400\n",
    "nprs = -1  #frequency of saving results\n",
    "\n",
    "# create the model and add packages\n",
    "mtexe = 'mt3dms'\n",
    "tm = flopy.mt3d.Mt3dms(modelname=name_tran,\n",
    "                         modflowmodel=mf,\n",
    "                         exe_name=mtexe,\n",
    "                         model_ws=ws,\n",
    "                         ftlfilename='mt3d_link.ftl')\n",
    "btn = flopy.mt3d.Mt3dBtn(tm, ncomp=ncomp, prsity=prsity, icbund=icbund,\n",
    "                         sconc=sconc, dt0=dt0, ttsmult=ttsmult, ttsmax=ttsmax, nprs=nprs)\n",
    "adv = flopy.mt3d.Mt3dAdv(tm, mixelm=0)\n",
    "dsp = flopy.mt3d.Mt3dDsp(tm, al=al, trpt=trpt, trpv=trpv, dmcoef=dmcoef)\n",
    "ssm = flopy.mt3d.Mt3dSsm(tm, crch={0: 0},\n",
    "                           stress_period_data={0: [[0, 0, 0, 0, 1]]})\n",
    "gcg = flopy.mt3d.Mt3dGcg(tm)"
   ]
  },
  {
   "cell_type": "markdown",
   "metadata": {},
   "source": [
    "### Write the MT3D datasets"
   ]
  },
  {
   "cell_type": "code",
   "execution_count": null,
   "metadata": {},
   "outputs": [],
   "source": [
    "tm.write_input()"
   ]
  },
  {
   "cell_type": "markdown",
   "metadata": {},
   "source": [
    "### Run MT3D"
   ]
  },
  {
   "cell_type": "code",
   "execution_count": null,
   "metadata": {},
   "outputs": [],
   "source": [
    "tm.run_model(silent=True, normal_msg='Program completed')"
   ]
  },
  {
   "cell_type": "markdown",
   "metadata": {},
   "source": [
    "## Post-Process the MODFLOW and MT3D Results\n",
    "\n",
    "### Load MODFLOW and MT3D results from the head and ucn files\n",
    "\n",
    "Load the MODFLOW heads from the hds file"
   ]
  },
  {
   "cell_type": "code",
   "execution_count": null,
   "metadata": {},
   "outputs": [],
   "source": [
    "hname = name + '.hds'\n",
    "hname"
   ]
  },
  {
   "cell_type": "code",
   "execution_count": null,
   "metadata": {},
   "outputs": [],
   "source": [
    "fpth = os.path.join(ws, hname)\n",
    "hobj = flopy.utils.HeadFile(fpth)\n",
    "hds = hobj.get_data()"
   ]
  },
  {
   "cell_type": "markdown",
   "metadata": {},
   "source": [
    "Load the concentrations from the UCN file"
   ]
  },
  {
   "cell_type": "code",
   "execution_count": null,
   "metadata": {},
   "outputs": [],
   "source": [
    "cpth = os.path.join(ws, 'MT3D001.UCN')\n",
    "cobj = flopy.utils.UcnFile(cpth)"
   ]
  },
  {
   "cell_type": "code",
   "execution_count": null,
   "metadata": {},
   "outputs": [],
   "source": [
    "#cobj.get_data(totim=cobj.get_times()[-2])"
   ]
  },
  {
   "cell_type": "markdown",
   "metadata": {},
   "source": [
    "### Plot the heads and pathlines"
   ]
  },
  {
   "cell_type": "code",
   "execution_count": null,
   "metadata": {},
   "outputs": [],
   "source": [
    "ncols = 2 #len(cobj.get_times())\n",
    "\n",
    "times = [cobj.get_times()[0], cobj.get_times()[-1]]\n",
    "\n",
    "figsize = (6, 6)\n",
    "fig, axes = plt.subplots(nrows=1, ncols=ncols, figsize=figsize)\n",
    "\n",
    "for idx, totim in enumerate(times):\n",
    "    ax = axes[idx]\n",
    "    mm = flopy.plot.PlotMapView(model=mf, ax=ax)\n",
    "    concs = cobj.get_data(totim=totim)\n",
    "    #concs[concs < 0] = 0\n",
    "    mm.contour_array(concs, masked_values=[0], levels=[0.05, 0.1, 0.5, 1.],\n",
    "                    linewidths=0.75)\n",
    "\n",
    "\n",
    "    mm.plot_bc('RIV')\n",
    "    mm.plot_bc('WEL')\n",
    "    mm.plot_ibound()\n",
    "    \n",
    "    ax.fill(csx, csy, color='#e534eb', zorder=100, alpha=.75)\n",
    "\n",
    "fig.tight_layout()"
   ]
  },
  {
   "cell_type": "code",
   "execution_count": null,
   "metadata": {},
   "outputs": [],
   "source": []
  },
  {
   "cell_type": "code",
   "execution_count": null,
   "metadata": {},
   "outputs": [],
   "source": []
  }
 ],
 "metadata": {
  "kernelspec": {
   "display_name": "Python 3",
   "language": "python",
   "name": "python3"
  },
  "language_info": {
   "codemirror_mode": {
    "name": "ipython",
    "version": 3
   },
   "file_extension": ".py",
   "mimetype": "text/x-python",
   "name": "python",
   "nbconvert_exporter": "python",
   "pygments_lexer": "ipython3",
   "version": "3.7.3"
  }
 },
 "nbformat": 4,
 "nbformat_minor": 1
}
