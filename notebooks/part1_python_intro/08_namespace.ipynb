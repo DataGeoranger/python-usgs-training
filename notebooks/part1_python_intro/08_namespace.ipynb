{
 "cells": [
  {
   "cell_type": "markdown",
   "metadata": {},
   "source": [
    "# Introduction to python for hydrologists &mdash; namespaces, modules, and packages#\n",
    "\n",
    "There are a variety of ways to import existing code into a Python script or interactive session.\n",
    "\n",
    "There is alot of flexibility in how this is done, but a few suggested practices will be covered here."
   ]
  },
  {
   "cell_type": "code",
   "execution_count": null,
   "metadata": {},
   "outputs": [],
   "source": [
    "import this"
   ]
  },
  {
   "cell_type": "markdown",
   "metadata": {},
   "source": [
    "In the above Easter Egg, we can learn a couple things. First, the end line highlights that namespaces are important!\n",
    "\n",
    "Also, by importing `this`, it actually executed some code (printing out the Zen of Python). This means Python knew where to find a module called `this` and executed it upon import."
   ]
  },
  {
   "cell_type": "markdown",
   "metadata": {},
   "source": [
    "## Namespaces##\n",
    "There's a nice explanation of namespaces [here](http://bytebaker.com/2008/07/30/python-namespaces/). \n",
    "\n",
    "First, we need to understand what is a _name_ in Python. A name is a general container referencing something. Like in many languages, think of a variable:\n"
   ]
  },
  {
   "cell_type": "code",
   "execution_count": null,
   "metadata": {},
   "outputs": [],
   "source": [
    "a=5\n",
    "a"
   ]
  },
  {
   "cell_type": "markdown",
   "metadata": {},
   "source": [
    "But in python, we can also use a name for a function."
   ]
  },
  {
   "cell_type": "code",
   "execution_count": null,
   "metadata": {},
   "outputs": [],
   "source": [
    "def funky(description):\n",
    "    print ('this {0} function is funky!'.format(description))\n",
    "    "
   ]
  },
  {
   "cell_type": "code",
   "execution_count": null,
   "metadata": {},
   "outputs": [],
   "source": [
    "funky"
   ]
  },
  {
   "cell_type": "code",
   "execution_count": null,
   "metadata": {},
   "outputs": [],
   "source": [
    "funky('Town')"
   ]
  },
  {
   "cell_type": "code",
   "execution_count": null,
   "metadata": {},
   "outputs": [],
   "source": [
    "f = funky\n",
    "f"
   ]
  },
  {
   "cell_type": "code",
   "execution_count": null,
   "metadata": {},
   "outputs": [],
   "source": []
  },
  {
   "cell_type": "markdown",
   "metadata": {},
   "source": [
    "So, we assigned f to, in a sense, point to the function `funky`.\n",
    "\n",
    "Names (and therefore variables) can assume various types and get reused without definition."
   ]
  },
  {
   "cell_type": "code",
   "execution_count": null,
   "metadata": {},
   "outputs": [],
   "source": [
    "a=5\n",
    "print (a)\n",
    "a = [12.3, 44.9]\n",
    "print (a)\n",
    "a = 'stuff in quotes'\n",
    "print (a)"
   ]
  },
  {
   "cell_type": "markdown",
   "metadata": {},
   "source": [
    "So, namespace is just a space containing all the names in use during a Python session. \n",
    "\n",
    "__An important caution with names__\n",
    "Since you can think of a name of a variable as a tag, there is a special behavior related to lists that can cause massive grief!\n",
    "\n",
    "First, what happens when a single value is associated with a name (like a variable)"
   ]
  },
  {
   "cell_type": "code",
   "execution_count": null,
   "metadata": {},
   "outputs": [],
   "source": [
    "a = 5\n",
    "b = a\n",
    "print (a)\n",
    "print (b)\n",
    "b = 6\n",
    "print (a)\n",
    "print (b)"
   ]
  },
  {
   "cell_type": "markdown",
   "metadata": {},
   "source": [
    "This starts out fine. But now if we change an element in `b`..."
   ]
  },
  {
   "cell_type": "code",
   "execution_count": null,
   "metadata": {},
   "outputs": [],
   "source": [
    "a=[1.0, 2.0, 3.5, 4.9]\n",
    "print ('a is {0}'.format(a))\n",
    "b=a\n",
    "print ('b is {0}'.format(b))\n",
    "print ('_'*15)\n",
    "b[2]=9999999\n",
    "print ('a is {0}'.format(a))\n",
    "print ('b is {0}'.format(b))"
   ]
  },
  {
   "cell_type": "markdown",
   "metadata": {},
   "source": [
    "Oh no! Changing `b` also changed `a`! The reason for this is that `a` and `b` are both pointing to a location in memory that is storing the information (in this case, starting with the list `[1.0, 2.0, 3.5, 4.9]` and later becoming the list `[1.0, 2.0, 100, 4.9]`). This same behavior happens when using `numpy` arrays.\n",
    "\n",
    "The way around this is to make a full copy of the information (by value rather than by reference). In typical Python, this means importing a module called `copy` and using either the function `copy.copy` or `copy.deepcopy`. In `numpy`, copy is built-in."
   ]
  },
  {
   "cell_type": "code",
   "execution_count": null,
   "metadata": {},
   "outputs": [],
   "source": [
    "import copy\n",
    "a = [1,2,3]\n",
    "b = copy.copy(a)\n",
    "b[2] = 99\n",
    "print (a)\n",
    "print (b)"
   ]
  },
  {
   "cell_type": "code",
   "execution_count": null,
   "metadata": {},
   "outputs": [],
   "source": [
    "import numpy as np\n",
    "a = np.array([1,2,3])\n",
    "print (a)\n",
    "b = a\n",
    "b[1]=99\n",
    "print (a)\n",
    "print (b)"
   ]
  },
  {
   "cell_type": "code",
   "execution_count": null,
   "metadata": {},
   "outputs": [],
   "source": [
    "b = a.copy()\n",
    "b[0] = -9999\n",
    "print (a)\n",
    "print (b)"
   ]
  },
  {
   "cell_type": "markdown",
   "metadata": {},
   "source": [
    "### Here's a brutally insidious example of how this can cause serious trouble!"
   ]
  },
  {
   "cell_type": "code",
   "execution_count": null,
   "metadata": {},
   "outputs": [],
   "source": [
    "import numpy as np\n",
    "rech_list = []\n",
    "nper = 3\n",
    "rech = np.zeros( (4,4), dtype=np.float)\n",
    "for kper in range(nper):\n",
    "    rech += np.random.random((4,4))\n",
    "    rech_list.append(rech)\n",
    "for crech in rech_list:\n",
    "    print (crech)"
   ]
  },
  {
   "cell_type": "markdown",
   "metadata": {},
   "source": [
    "The fix is a little ugly and kludgey, but all we have to do is make a copy to break the connection to the old memory location"
   ]
  },
  {
   "cell_type": "code",
   "execution_count": null,
   "metadata": {},
   "outputs": [],
   "source": [
    "import numpy as np\n",
    "rech_list = []\n",
    "nper = 3\n",
    "rech = np.zeros( (4,4), dtype=np.float)\n",
    "for kper in range(nper):\n",
    "    rech = rech.copy()\n",
    "    rech += np.random.random((4,4))\n",
    "    rech = rech.copy()\n",
    "    rech_list.append(rech)\n",
    "for crech in rech_list:\n",
    "    print (crech)"
   ]
  },
  {
   "cell_type": "markdown",
   "metadata": {},
   "source": [
    "## Modules, Packages, and the Standard Python Library##\n",
    "The [Standard Python Library](https://docs.python.org/3/library/) is the set of functions that are part of Python by default.\n",
    "\n",
    "More technically, names point to \"objects\". a \"module\" is a file (with extension `.py`) that contains python code. If there are functions in that code, they can be accessed using the name of the module and a dot (`.`). \n",
    "\n",
    "Packages are nested modules and are often \"installed\" to be accessible to Python from anywhere. More on that at the end of the lesson.\n",
    "\n",
    "Let's import a module and find a function within it."
   ]
  },
  {
   "cell_type": "code",
   "execution_count": null,
   "metadata": {},
   "outputs": [],
   "source": [
    "import numpy\n"
   ]
  },
  {
   "cell_type": "code",
   "execution_count": null,
   "metadata": {},
   "outputs": [],
   "source": [
    "import numpy\n",
    "numpy.sqrt"
   ]
  },
  {
   "cell_type": "code",
   "execution_count": null,
   "metadata": {},
   "outputs": [],
   "source": [
    "numpy.sqrt(3)"
   ]
  },
  {
   "cell_type": "markdown",
   "metadata": {},
   "source": [
    "## Importing code and handling namespaces##\n",
    "There are several main ways to import a module. \n",
    "\n",
    "The most straightforward way is to just use `import numpy` as we did above."
   ]
  },
  {
   "cell_type": "code",
   "execution_count": null,
   "metadata": {},
   "outputs": [],
   "source": [
    "import numpy\n",
    "numpy"
   ]
  },
  {
   "cell_type": "markdown",
   "metadata": {},
   "source": [
    "This then shows that `numpy` is a module. Whenever you want to use a function from numpy, you just use the dot like `numpy.sqrt`.\n",
    "\n",
    "The main advantage to this approach is you always know the provenance of any function. Also, you could (bad idea!) make your own function called `sqrt`. "
   ]
  },
  {
   "cell_type": "code",
   "execution_count": null,
   "metadata": {},
   "outputs": [],
   "source": [
    "def sqrt(numb):\n",
    "    print ('my dumb function called sqrt actually just ' + \\\n",
    "    'prints the number you provided--> {0}!'.format(numb))\n",
    "sqrt\n"
   ]
  },
  {
   "cell_type": "code",
   "execution_count": null,
   "metadata": {},
   "outputs": [],
   "source": [
    "numpy.sqrt"
   ]
  },
  {
   "cell_type": "code",
   "execution_count": null,
   "metadata": {},
   "outputs": [],
   "source": [
    "sqrt(3)"
   ]
  },
  {
   "cell_type": "code",
   "execution_count": null,
   "metadata": {},
   "outputs": [],
   "source": [
    "numpy.sqrt(3)"
   ]
  },
  {
   "cell_type": "markdown",
   "metadata": {},
   "source": [
    "Another option is to import only some function you need from a module like `from numpy import sqrt`. The problem here is, we don't necessarily know where this came from. Whichever was either imported or created most recently gets that name in the namespace. DANGER!"
   ]
  },
  {
   "cell_type": "code",
   "execution_count": null,
   "metadata": {},
   "outputs": [],
   "source": [
    "from numpy import sqrt\n",
    "sqrt"
   ]
  },
  {
   "cell_type": "markdown",
   "metadata": {},
   "source": [
    "You can also use an alias to import a specific function like `from numpy import sqrt as square_root`. In this case, and in the case above, you can get the provenance from the import statements at the top of the code, but if the code gets really long, this can be hard to keep track of."
   ]
  },
  {
   "cell_type": "code",
   "execution_count": null,
   "metadata": {},
   "outputs": [],
   "source": [
    "from numpy import sqrt as npsquare_root\n",
    "npsquare_root"
   ]
  },
  {
   "cell_type": "markdown",
   "metadata": {},
   "source": [
    "This is like renaming `funky` to `f` above.\n",
    "\n",
    "Living really dangerously, you can import all functions from a module like `from numpy import *`"
   ]
  },
  {
   "cell_type": "code",
   "execution_count": null,
   "metadata": {},
   "outputs": [],
   "source": [
    "import numpy\n",
    "numpy.sqrt"
   ]
  },
  {
   "cell_type": "code",
   "execution_count": null,
   "metadata": {},
   "outputs": [],
   "source": [
    "from numpy import *\n",
    "sqrt"
   ]
  },
  {
   "cell_type": "markdown",
   "metadata": {},
   "source": [
    "The problem here is, you now have access to all these functions, but you also don't know provenance at all. Some modules, like `numpy` are large and have many functions (many of which may have common names that you might use yourself and that you might not be aware of).\n",
    "\n",
    "So.....really, the safest way is like the first way, but that can get long (for example, if you use `import matplotlib`, then every time you use a function from the module you have to type `matplotlib.<some function>` and that gets verbose. A compromise is importing an entire module but assigning it an alias like `import numpy as np`"
   ]
  },
  {
   "cell_type": "code",
   "execution_count": null,
   "metadata": {},
   "outputs": [],
   "source": [
    "import numpy as np\n",
    "np.sqrt"
   ]
  },
  {
   "cell_type": "markdown",
   "metadata": {},
   "source": [
    "There is a commonly accepted set of aliases for some common scientific computing modules that we recommend: \n",
    "\n",
    "* `import matplotlib.pyplot as plt`\n",
    "* `import numpy as np`\n",
    "* `import matplotlib as mpl`\n",
    "* `import pandas as pd`\n",
    "\n",
    "In addition to keeping the provenance straight, adopting this protocol helps make your code more readable by other people (see Zen above!)"
   ]
  },
  {
   "cell_type": "code",
   "execution_count": null,
   "metadata": {},
   "outputs": [],
   "source": [
    "import this"
   ]
  },
  {
   "cell_type": "markdown",
   "metadata": {},
   "source": [
    "## More on Packages##\n",
    "\n",
    "Packages are nested modules, each level of which is accessed by using a dot (`.`). In some cases, submodules from a package must be imported separately like `matplotlib.pyplot`. This behavior is at the discretion of the programmer of the package. In the case of `matplotlib`, importing *everything* would be big and sometimes unnecessary. So, importing the highest level named package just gets you some basic parameters associated with the package overall, but functional capabilities need to be imported individually.\n",
    "\n",
    "Here's an example using matplotlib."
   ]
  },
  {
   "cell_type": "code",
   "execution_count": null,
   "metadata": {},
   "outputs": [],
   "source": [
    "import matplotlib as mpl\n",
    "mpl"
   ]
  },
  {
   "cell_type": "code",
   "execution_count": null,
   "metadata": {},
   "outputs": [],
   "source": [
    "try:\n",
    "    mpl.pyplot\n",
    "except Exception as e:\n",
    "    print(e)"
   ]
  },
  {
   "cell_type": "code",
   "execution_count": null,
   "metadata": {},
   "outputs": [],
   "source": [
    "import matplotlib.pyplot as plt\n"
   ]
  },
  {
   "cell_type": "markdown",
   "metadata": {},
   "source": [
    "# Paths for importing and installation#\n",
    "\n",
    "From the official [documentation](https://docs.python.org/2/tutorial/modules.html), the hierarchy of searching for modules and packages is:\n",
    "\n",
    "* the directory containing the input script (or the current directory).\n",
    "* PYTHONPATH (a list of directory names, with the same syntax as the shell variable PATH).\n",
    "* the installation-dependent default.\n",
    "\n",
    "The PYTHONPATH variable is a system variable on Windows and thus requires an administrative account to change/add to. You can see your search path using the built-in `sys` module."
   ]
  },
  {
   "cell_type": "code",
   "execution_count": null,
   "metadata": {},
   "outputs": [],
   "source": [
    "import sys\n",
    "sys.path"
   ]
  },
  {
   "cell_type": "markdown",
   "metadata": {},
   "source": [
    "blahblah/site-packages is the location where many packages get installed.\n",
    "\n"
   ]
  },
  {
   "cell_type": "markdown",
   "metadata": {},
   "source": [
    "## Where are all the codes living?\n",
    "\n",
    "[PyPi](https://pypi.python.org/pypi) is the Python Package Index\n",
    "\n",
    "[GitHub](http://github.com) is a huge interactive repository of code in many languages\n",
    "\n",
    "[Anaconda](http://docs.continuum.io/anaconda/pkgs.html) Here are the Anaconda packages"
   ]
  },
  {
   "cell_type": "markdown",
   "metadata": {},
   "source": [
    "To install new packages, with Anaconda, you can use `conda install <package name>`. \n",
    "\n",
    "You can also use `pip install <package name>`.\n",
    "\n",
    "More about this later."
   ]
  }
 ],
 "metadata": {
  "kernelspec": {
   "display_name": "Python 3",
   "language": "python",
   "name": "python3"
  },
  "language_info": {
   "codemirror_mode": {
    "name": "ipython",
    "version": 3
   },
   "file_extension": ".py",
   "mimetype": "text/x-python",
   "name": "python",
   "nbconvert_exporter": "python",
   "pygments_lexer": "ipython3",
   "version": "3.6.4"
  }
 },
 "nbformat": 4,
 "nbformat_minor": 1
}
