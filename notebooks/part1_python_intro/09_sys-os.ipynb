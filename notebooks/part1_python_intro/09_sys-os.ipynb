{
 "cells": [
  {
   "cell_type": "markdown",
   "metadata": {},
   "source": [
    "# Introduction to python for hydrologists &mdash; sys, path, shutil, and subprocess\n",
    "These four packages are part of the standard python library and provide very useful functionality for working with your operating system and files.  This notebook will provide explore these packages and demonstrate some of their functionality.  Online documentation is at [sys](https://docs.python.org/2/library/sys.html \"sys doc\"), [os](https://docs.python.org/2/library/os.html \"os doc\"), [shutil](https://docs.python.org/2/library/shutil.html \"shutil doc\"), and [subprocess](https://docs.python.org/2/library/subprocess.html \"subprocess doc\").\n",
    "\n",
    "Import things to cover:\n",
    "* sys: path\n",
    "* os: path, chdir, getcwd, listdir\n",
    "* shutil: copy, copytree, rmtree\n",
    "* subprocess: check_call, check_output"
   ]
  },
  {
   "cell_type": "markdown",
   "metadata": {},
   "source": [
    "## Sys Module\n",
    "\n",
    "System-specific parameters and functions.\n",
    "\n",
    "The following cells simply print some of the sys methods and attributes that you might find useful."
   ]
  },
  {
   "cell_type": "code",
   "execution_count": 1,
   "metadata": {},
   "outputs": [],
   "source": [
    "import sys\n",
    "import os\n",
    "import shutil\n",
    "import subprocess\n",
    "import traceback"
   ]
  },
  {
   "cell_type": "code",
   "execution_count": 2,
   "metadata": {},
   "outputs": [
    {
     "name": "stdout",
     "output_type": "stream",
     "text": [
      "sys.argv:  ['/Users/aleaf/anaconda3/envs/pyclass/lib/python3.7/site-packages/ipykernel_launcher.py', '-f', '/Users/aleaf/Library/Jupyter/runtime/kernel-5ab3e387-06c1-420f-a023-ff852f05dce6.json']\n"
     ]
    }
   ],
   "source": [
    "print('sys.argv: ', sys.argv)"
   ]
  },
  {
   "cell_type": "code",
   "execution_count": 3,
   "metadata": {},
   "outputs": [
    {
     "name": "stdout",
     "output_type": "stream",
     "text": [
      "sys.byteorder:  little\n"
     ]
    }
   ],
   "source": [
    "print('sys.byteorder: ', sys.byteorder)"
   ]
  },
  {
   "cell_type": "code",
   "execution_count": 4,
   "metadata": {},
   "outputs": [
    {
     "name": "stdout",
     "output_type": "stream",
     "text": [
      "sys.copyright:  Copyright (c) 2001-2019 Python Software Foundation.\n",
      "All Rights Reserved.\n",
      "\n",
      "Copyright (c) 2000 BeOpen.com.\n",
      "All Rights Reserved.\n",
      "\n",
      "Copyright (c) 1995-2001 Corporation for National Research Initiatives.\n",
      "All Rights Reserved.\n",
      "\n",
      "Copyright (c) 1991-1995 Stichting Mathematisch Centrum, Amsterdam.\n",
      "All Rights Reserved.\n"
     ]
    }
   ],
   "source": [
    "print('sys.copyright: ', sys.copyright)"
   ]
  },
  {
   "cell_type": "code",
   "execution_count": 5,
   "metadata": {},
   "outputs": [
    {
     "name": "stdout",
     "output_type": "stream",
     "text": [
      "sys.float_info:  sys.float_info(max=1.7976931348623157e+308, max_exp=1024, max_10_exp=308, min=2.2250738585072014e-308, min_exp=-1021, min_10_exp=-307, dig=15, mant_dig=53, epsilon=2.220446049250313e-16, radix=2, rounds=1)\n"
     ]
    }
   ],
   "source": [
    "print('sys.float_info: ', sys.float_info)"
   ]
  },
  {
   "cell_type": "code",
   "execution_count": 6,
   "metadata": {},
   "outputs": [
    {
     "name": "stdout",
     "output_type": "stream",
     "text": [
      "The size of an integer is  28  bytes.\n",
      "The size of a float is  24  bytes.\n",
      "The size of the string \"Goldschlager\" is  61  bytes.\n"
     ]
    }
   ],
   "source": [
    "print('The size of an integer is ', sys.getsizeof(1), ' bytes.')\n",
    "print('The size of a float is ', sys.getsizeof(1.0), ' bytes.')\n",
    "print('The size of the string \"Goldschlager\" is ', sys.getsizeof('Goldschlager'), ' bytes.')"
   ]
  },
  {
   "cell_type": "code",
   "execution_count": 7,
   "metadata": {},
   "outputs": [
    {
     "name": "stdout",
     "output_type": "stream",
     "text": [
      "Why are you against windows?\n"
     ]
    }
   ],
   "source": [
    "try:\n",
    "    print(sys.getwindowsversion())\n",
    "except:\n",
    "    print('Why are you against windows?')"
   ]
  },
  {
   "cell_type": "code",
   "execution_count": 8,
   "metadata": {},
   "outputs": [
    {
     "name": "stdout",
     "output_type": "stream",
     "text": [
      "/Users/aleaf/anaconda3/envs/pyclass\n"
     ]
    }
   ],
   "source": [
    "print(sys.prefix)"
   ]
  },
  {
   "cell_type": "code",
   "execution_count": 9,
   "metadata": {},
   "outputs": [
    {
     "name": "stdout",
     "output_type": "stream",
     "text": [
      "sys.version_info(major=3, minor=7, micro=3, releaselevel='final', serial=0)\n"
     ]
    }
   ],
   "source": [
    "print(sys.version_info)"
   ]
  },
  {
   "cell_type": "code",
   "execution_count": 10,
   "metadata": {},
   "outputs": [
    {
     "data": {
      "text/plain": [
       "'darwin'"
      ]
     },
     "execution_count": 10,
     "metadata": {},
     "output_type": "execute_result"
    }
   ],
   "source": [
    "sys.platform"
   ]
  },
  {
   "cell_type": "markdown",
   "metadata": {},
   "source": [
    "## sys.path\n",
    "\n",
    "If you haven't seen `sys.path` already mentioned in a python script, you will soon.  `sys.path` is a list of directories.  This path list is used by python to search for python modules and packages.  If for some reason, you want to use a python package that is not installed in the main python folder, you can add directory containing your module to sys.path."
   ]
  },
  {
   "cell_type": "code",
   "execution_count": 11,
   "metadata": {},
   "outputs": [
    {
     "name": "stdout",
     "output_type": "stream",
     "text": [
      "['/Users/aleaf/Documents/GitHub/python-usgs-training/notebooks/part1_python_intro', '/Users/aleaf/anaconda3/envs/pyclass/lib/python37.zip', '/Users/aleaf/anaconda3/envs/pyclass/lib/python3.7', '/Users/aleaf/anaconda3/envs/pyclass/lib/python3.7/lib-dynload', '', '/Users/aleaf/anaconda3/envs/pyclass/lib/python3.7/site-packages', '/Users/aleaf/anaconda3/envs/pyclass/lib/python3.7/site-packages/IPython/extensions', '/Users/aleaf/.ipython']\n",
      "/Users/aleaf/Documents/GitHub/python-usgs-training/notebooks/part1_python_intro\n",
      "/Users/aleaf/anaconda3/envs/pyclass/lib/python37.zip\n",
      "/Users/aleaf/anaconda3/envs/pyclass/lib/python3.7\n",
      "/Users/aleaf/anaconda3/envs/pyclass/lib/python3.7/lib-dynload\n",
      "\n",
      "/Users/aleaf/anaconda3/envs/pyclass/lib/python3.7/site-packages\n",
      "/Users/aleaf/anaconda3/envs/pyclass/lib/python3.7/site-packages/IPython/extensions\n",
      "/Users/aleaf/.ipython\n"
     ]
    }
   ],
   "source": [
    "print(sys.path)\n",
    "\n",
    "# Or more elegantly\n",
    "for pth in sys.path:\n",
    "    print(pth)"
   ]
  },
  {
   "cell_type": "markdown",
   "metadata": {},
   "source": [
    "A common way that we add a folder to sys.path is as follows:\n",
    "\n",
    "    pathtomymodule = os.path.join('..')\n",
    "    if pathtomymodule not in sys.path:\n",
    "        sys.path.append(pathtomymodule)\n",
    "\n",
    "This will allow us to import any modules or packages that are up one directory from the current working directory.  Keep this in mind as we use this throughout the class exercises."
   ]
  },
  {
   "cell_type": "markdown",
   "metadata": {},
   "source": [
    "## os Module\n",
    "Module for providing portable operating system functionality."
   ]
  },
  {
   "cell_type": "code",
   "execution_count": 12,
   "metadata": {},
   "outputs": [
    {
     "name": "stdout",
     "output_type": "stream",
     "text": [
      "os.name:  posix\n"
     ]
    }
   ],
   "source": [
    "print('os.name: ', os.name)"
   ]
  },
  {
   "cell_type": "code",
   "execution_count": 13,
   "metadata": {},
   "outputs": [
    {
     "name": "stdout",
     "output_type": "stream",
     "text": [
      "os.environ:  environ({'PROJ_LIB': '/Users/aleaf/anaconda3/envs/pyclass/share/proj', 'TERM_PROGRAM': 'Apple_Terminal', 'SSL_CERT_FILE': '/Users/aleaf/cert.pem', 'TERM': 'xterm-color', 'SHELL': '/bin/bash', 'TMPDIR': '/var/folders/4x/bmhyjcdn3mgfdvkk_jgz6bsr0028s1/T/', 'CONDA_SHLVL': '2', 'Apple_PubSub_Socket_Render': '/private/tmp/com.apple.launchd.wGF13df8Wr/Render', 'CONDA_PROMPT_MODIFIER': '(pyclass) ', 'TERM_PROGRAM_VERSION': '421.2', 'OLDPWD': '/Users/aleaf/Documents/GitHub/python-usgs-training/notebooks', 'TERM_SESSION_ID': '3E1BFE83-D194-424D-B25C-D24FF67F417C', 'USER': 'aleaf', 'CONDA_EXE': '/Users/aleaf/anaconda3/bin/conda', 'SSH_AUTH_SOCK': '/private/tmp/com.apple.launchd.H3l2ZVDS4W/Listeners', '_CE_CONDA': '', 'CONDA_PREFIX_1': '/Users/aleaf/anaconda3/envs/gis', 'CPL_ZIP_ENCODING': 'UTF-8', 'PATH': '/Users/aleaf/anaconda3/envs/pyclass/bin:/Users/aleaf/anaconda3/condabin:/Library/Frameworks/Python.framework/Versions/3.6/bin:/Users/aleaf/anaconda3/bin:/Users/aleaf/anaconda3/bin:/Library/Frameworks/Python.framework/Versions/3.6/bin:/Users/aleaf/anaconda3/bin:/opt/local/bin:/opt/local/sbin:/Users/aleaf/Documents/GitHub/pestpp/bin/mac:/Users/aleaf/Documents/software/pymake_exes:/Users/aleaf/anaconda/bin:/usr/local/bin:/usr/bin:/bin:/usr/sbin:/sbin:/usr/local/sbin:/opt/X11/bin', 'CONDA_PREFIX': '/Users/aleaf/anaconda3/envs/pyclass', 'PWD': '/Users/aleaf', 'LANG': 'en_US.UTF-8', 'XPC_FLAGS': '0x0', 'GDAL_DATA': '/Users/aleaf/anaconda3/envs/pyclass/share/gdal', '_CE_M': '', 'XPC_SERVICE_NAME': '0', 'HOME': '/Users/aleaf', 'SHLVL': '1', 'CONDA_PYTHON_EXE': '/Users/aleaf/anaconda3/bin/python', 'LOGNAME': 'aleaf', 'CONDA_DEFAULT_ENV': 'pyclass', 'DISPLAY': '/private/tmp/com.apple.launchd.4uuKuhFScn/org.macosforge.xquartz:0', '_': '/Users/aleaf/anaconda3/envs/pyclass/bin/jupyter', 'KERNEL_LAUNCH_TIMEOUT': '40', 'JPY_PARENT_PID': '94221', 'CLICOLOR': '1', 'PAGER': 'cat', 'GIT_PAGER': 'cat', 'MPLBACKEND': 'module://ipykernel.pylab.backend_inline'})\n",
      "\n",
      "\n",
      "PROJ_LIB : /Users/aleaf/anaconda3/envs/pyclass/share/proj\n",
      "TERM_PROGRAM : Apple_Terminal\n",
      "SSL_CERT_FILE : /Users/aleaf/cert.pem\n",
      "TERM : xterm-color\n",
      "SHELL : /bin/bash\n",
      "TMPDIR : /var/folders/4x/bmhyjcdn3mgfdvkk_jgz6bsr0028s1/T/\n",
      "CONDA_SHLVL : 2\n",
      "Apple_PubSub_Socket_Render : /private/tmp/com.apple.launchd.wGF13df8Wr/Render\n",
      "CONDA_PROMPT_MODIFIER : (pyclass) \n",
      "TERM_PROGRAM_VERSION : 421.2\n",
      "OLDPWD : /Users/aleaf/Documents/GitHub/python-usgs-training/notebooks\n",
      "TERM_SESSION_ID : 3E1BFE83-D194-424D-B25C-D24FF67F417C\n",
      "USER : aleaf\n",
      "CONDA_EXE : /Users/aleaf/anaconda3/bin/conda\n",
      "SSH_AUTH_SOCK : /private/tmp/com.apple.launchd.H3l2ZVDS4W/Listeners\n",
      "_CE_CONDA : \n",
      "CONDA_PREFIX_1 : /Users/aleaf/anaconda3/envs/gis\n",
      "CPL_ZIP_ENCODING : UTF-8\n",
      "PATH : /Users/aleaf/anaconda3/envs/pyclass/bin:/Users/aleaf/anaconda3/condabin:/Library/Frameworks/Python.framework/Versions/3.6/bin:/Users/aleaf/anaconda3/bin:/Users/aleaf/anaconda3/bin:/Library/Frameworks/Python.framework/Versions/3.6/bin:/Users/aleaf/anaconda3/bin:/opt/local/bin:/opt/local/sbin:/Users/aleaf/Documents/GitHub/pestpp/bin/mac:/Users/aleaf/Documents/software/pymake_exes:/Users/aleaf/anaconda/bin:/usr/local/bin:/usr/bin:/bin:/usr/sbin:/sbin:/usr/local/sbin:/opt/X11/bin\n",
      "CONDA_PREFIX : /Users/aleaf/anaconda3/envs/pyclass\n",
      "PWD : /Users/aleaf\n",
      "LANG : en_US.UTF-8\n",
      "XPC_FLAGS : 0x0\n",
      "GDAL_DATA : /Users/aleaf/anaconda3/envs/pyclass/share/gdal\n",
      "_CE_M : \n",
      "XPC_SERVICE_NAME : 0\n",
      "HOME : /Users/aleaf\n",
      "SHLVL : 1\n",
      "CONDA_PYTHON_EXE : /Users/aleaf/anaconda3/bin/python\n",
      "LOGNAME : aleaf\n",
      "CONDA_DEFAULT_ENV : pyclass\n",
      "DISPLAY : /private/tmp/com.apple.launchd.4uuKuhFScn/org.macosforge.xquartz:0\n",
      "_ : /Users/aleaf/anaconda3/envs/pyclass/bin/jupyter\n",
      "KERNEL_LAUNCH_TIMEOUT : 40\n",
      "JPY_PARENT_PID : 94221\n",
      "CLICOLOR : 1\n",
      "PAGER : cat\n",
      "GIT_PAGER : cat\n",
      "MPLBACKEND : module://ipykernel.pylab.backend_inline\n"
     ]
    }
   ],
   "source": [
    "#environment variables stored in a dictionary\n",
    "print('os.environ: ', os.environ)\n",
    "print('\\n')\n",
    "\n",
    "#or we can look at them in a nicer format\n",
    "for k, v in os.environ.items():\n",
    "    print('{0} : {1}'.format(k, v))"
   ]
  },
  {
   "cell_type": "code",
   "execution_count": 14,
   "metadata": {},
   "outputs": [
    {
     "name": "stdout",
     "output_type": "stream",
     "text": [
      "/Users/aleaf/Documents/GitHub/python-usgs-training/notebooks/part1_python_intro\n"
     ]
    }
   ],
   "source": [
    "cwd = os.getcwd()\n",
    "print(cwd)"
   ]
  },
  {
   "cell_type": "code",
   "execution_count": 15,
   "metadata": {},
   "outputs": [
    {
     "name": "stdout",
     "output_type": "stream",
     "text": [
      "file:  09_sys-os.ipynb\n",
      "file:  02_functions.ipynb\n",
      "file:  TheisExercise.pdf\n",
      "file:  06_numpy.ipynb\n",
      "file:  .DS_Store\n",
      "file:  08_namespace.ipynb\n",
      "file:  Pandas_weather_timeseries_Wunderground.ipynb\n",
      "directory:  images\n",
      "file:  Pandas_NWIS.ipynb\n",
      "file:  04_objects.ipynb\n",
      "file:  Pandas_ColoradoRiver-FFT.ipynb\n",
      "file:  05_files.ipynb\n",
      "file:  TheisExercise.tex\n",
      "file:  03_scripts.ipynb\n",
      "file:  mtsthelens.pdf\n",
      "directory:  .ipynb_checkpoints\n",
      "file:  Matplotlib_StHelens.ipynb\n",
      "file:  Pandas_ColoradoRiver.ipynb\n",
      "directory:  data\n",
      "file:  01_basics.ipynb\n"
     ]
    }
   ],
   "source": [
    "#list all the entries in the specified directory. \n",
    "mylistofitems = os.listdir(os.getcwd())\n",
    "for thingy in mylistofitems:\n",
    "    if os.path.isdir(thingy):\n",
    "        print('directory: ', thingy)\n",
    "    else:\n",
    "        print('file: ', thingy)"
   ]
  },
  {
   "cell_type": "code",
   "execution_count": 16,
   "metadata": {},
   "outputs": [
    {
     "name": "stdout",
     "output_type": "stream",
     "text": [
      "Now in:  /Users/aleaf/Documents/GitHub/python-usgs-training/notebooks\n",
      "Switched back to:  /Users/aleaf/Documents/GitHub/python-usgs-training/notebooks/part1_python_intro\n"
     ]
    }
   ],
   "source": [
    "# Example of changing the working directory\n",
    "old_wd = os.getcwd()\n",
    "\n",
    "# Go up one directory\n",
    "os.chdir('..')\n",
    "cwd = os.getcwd()\n",
    "print ('Now in: ', cwd)\n",
    "\n",
    "# Change back to original\n",
    "os.chdir(old_wd)\n",
    "cwd = os.getcwd()\n",
    "print('Switched back to: ', cwd)"
   ]
  },
  {
   "cell_type": "markdown",
   "metadata": {},
   "source": [
    "## Glob\n",
    "The glob library provides handy shorthand for listing files using patterns and wildcard (*) characters\n",
    "\n",
    "https://en.wikipedia.org/wiki/Glob_(programming)\n",
    "\n",
    "**Note!** Sorting of the files returned by `Glob` is platform-dependent. In general, if your code depends on a specific ordering of a list, it is best to explicitly sort it yourself using `sorted()` or `.sort()`, instead of depending on the behavior of an imported module.  \n",
    "https://arstechnica.com/information-technology/2019/10/chemists-discover-cross-platform-python-scripts-not-so-cross-platform/"
   ]
  },
  {
   "cell_type": "code",
   "execution_count": 17,
   "metadata": {},
   "outputs": [],
   "source": [
    "import glob"
   ]
  },
  {
   "cell_type": "code",
   "execution_count": 18,
   "metadata": {},
   "outputs": [
    {
     "data": {
      "text/plain": [
       "['09_sys-os.ipynb',\n",
       " '02_functions.ipynb',\n",
       " '06_numpy.ipynb',\n",
       " '08_namespace.ipynb',\n",
       " 'Pandas_weather_timeseries_Wunderground.ipynb',\n",
       " 'Pandas_NWIS.ipynb',\n",
       " '04_objects.ipynb',\n",
       " 'Pandas_ColoradoRiver-FFT.ipynb',\n",
       " '05_files.ipynb',\n",
       " '03_scripts.ipynb',\n",
       " 'Matplotlib_StHelens.ipynb',\n",
       " 'Pandas_ColoradoRiver.ipynb',\n",
       " '01_basics.ipynb']"
      ]
     },
     "execution_count": 18,
     "metadata": {},
     "output_type": "execute_result"
    }
   ],
   "source": [
    "# list all of the Jupyter notebooks in the current working directory\n",
    "glob.glob('*.ipynb')"
   ]
  },
  {
   "cell_type": "code",
   "execution_count": 19,
   "metadata": {},
   "outputs": [
    {
     "data": {
      "text/plain": [
       "['01_basics.ipynb',\n",
       " '02_functions.ipynb',\n",
       " '03_scripts.ipynb',\n",
       " '04_objects.ipynb',\n",
       " '05_files.ipynb',\n",
       " '06_numpy.ipynb',\n",
       " '08_namespace.ipynb',\n",
       " '09_sys-os.ipynb',\n",
       " 'Matplotlib_StHelens.ipynb',\n",
       " 'Pandas_ColoradoRiver-FFT.ipynb',\n",
       " 'Pandas_ColoradoRiver.ipynb',\n",
       " 'Pandas_NWIS.ipynb',\n",
       " 'Pandas_weather_timeseries_Wunderground.ipynb']"
      ]
     },
     "execution_count": 19,
     "metadata": {},
     "output_type": "execute_result"
    }
   ],
   "source": [
    "sorted(glob.glob('*.ipynb'))"
   ]
  },
  {
   "cell_type": "markdown",
   "metadata": {},
   "source": [
    "## os.path\n",
    "\n",
    "os.path is a very widely used submodule of os.  In fact we use it in almost all of the class notebooks and scripts to deal with file system paths.  Some common os.path functions are:\n",
    "\n",
    "    os.path.join()\n",
    "    os.path.abspath()\n",
    "    os.path.exists()\n",
    "    os.path.isdir()\n",
    "    os.path.normpath()\n",
    "    os.path.split()\n",
    "    os.path.splitext()\n",
    "    \n",
    "A common attribute of os.path is:\n",
    "\n",
    "    os.path.sep\n",
    "    \n",
    "Experiment with these functions to gain a better understanding of what they do."
   ]
  },
  {
   "cell_type": "code",
   "execution_count": null,
   "metadata": {},
   "outputs": [],
   "source": []
  },
  {
   "cell_type": "markdown",
   "metadata": {},
   "source": [
    "## os.walk\n",
    "\n",
    "os.walk() is a great way to recursively generate all the file names and folders in a directory.  The following shows how it can be used to identify large directories."
   ]
  },
  {
   "cell_type": "code",
   "execution_count": 20,
   "metadata": {},
   "outputs": [
    {
     "name": "stdout",
     "output_type": "stream",
     "text": [
      "..                                                 -->       0.01 megabytes.\n",
      "../part1_python_intro                              -->       2.22 megabytes.\n",
      "../part1_python_intro/images                       -->       0.01 megabytes.\n",
      "../part1_python_intro/.ipynb_checkpoints           -->       0.72 megabytes.\n",
      "../part1_python_intro/data                         -->       1.50 megabytes.\n",
      "../part1_python_intro/data/04_numpy                -->       2.71 megabytes.\n",
      "../part1_python_intro/data/fileio                  -->       0.00 megabytes.\n",
      "../part1_python_intro/data/pandas                  -->       9.97 megabytes.\n",
      "../part2_flopy                                     -->       0.81 megabytes.\n"
     ]
    }
   ],
   "source": [
    "pth = os.path.join('..')\n",
    "for root, dirs, files in os.walk(pth):\n",
    "    mbytes = sum(os.path.getsize(os.path.join(root, name)) for name in files) / 1.e6\n",
    "    print('{:<50} --> {:10.2f} megabytes.'.format(root, mbytes))"
   ]
  },
  {
   "cell_type": "markdown",
   "metadata": {},
   "source": [
    "## shutil Module\n",
    "shutil is a high level file managment module for copying, moving, and deleting files and directories.\n",
    "\n",
    "The functions from shutil that you may find useful are:\n",
    "\n",
    "    shutil.copy()\n",
    "    shutil.copytree()\n",
    "    shutil.move()\n",
    "    shutil.rmtree()  #obviously, you need to be careful with this one!\n",
    "    \n",
    "Give these guys a shot and see what they do.  Remember, you can always get help by typing:\n",
    "\n",
    "    help(shutil.copy)\n"
   ]
  },
  {
   "cell_type": "code",
   "execution_count": 21,
   "metadata": {},
   "outputs": [],
   "source": [
    "#try them here.  Be careful!\n"
   ]
  },
  {
   "cell_type": "code",
   "execution_count": null,
   "metadata": {},
   "outputs": [],
   "source": []
  },
  {
   "cell_type": "markdown",
   "metadata": {},
   "source": [
    "## subprocess Module\n",
    "\n",
    "The subprocess module offers a way to execute system commands.  This is how we will run MODFLOW, for example, but you can also use run any operating system command that you can type at the command line.\n",
    "\n",
    "subprocess.Popen() is the primary underlying function for running system commands, however, it is recommended that you use subprocess.check_output and subprocess.check_call instead.  Both of these functions use Popen.\n",
    "\n",
    "Take a look at the following help descriptions for check_output, and check_call.\n",
    "\n",
    "Note, that on Windows, you may commonly have to specify \"shell=True\" in order to access system commands."
   ]
  },
  {
   "cell_type": "code",
   "execution_count": 22,
   "metadata": {},
   "outputs": [
    {
     "name": "stdout",
     "output_type": "stream",
     "text": [
      "Help on function check_output in module subprocess:\n",
      "\n",
      "check_output(*popenargs, timeout=None, **kwargs)\n",
      "    Run command with arguments and return its output.\n",
      "    \n",
      "    If the exit code was non-zero it raises a CalledProcessError.  The\n",
      "    CalledProcessError object will have the return code in the returncode\n",
      "    attribute and output in the output attribute.\n",
      "    \n",
      "    The arguments are the same as for the Popen constructor.  Example:\n",
      "    \n",
      "    >>> check_output([\"ls\", \"-l\", \"/dev/null\"])\n",
      "    b'crw-rw-rw- 1 root root 1, 3 Oct 18  2007 /dev/null\\n'\n",
      "    \n",
      "    The stdout argument is not allowed as it is used internally.\n",
      "    To capture standard error in the result, use stderr=STDOUT.\n",
      "    \n",
      "    >>> check_output([\"/bin/sh\", \"-c\",\n",
      "    ...               \"ls -l non_existent_file ; exit 0\"],\n",
      "    ...              stderr=STDOUT)\n",
      "    b'ls: non_existent_file: No such file or directory\\n'\n",
      "    \n",
      "    There is an additional optional argument, \"input\", allowing you to\n",
      "    pass a string to the subprocess's stdin.  If you use this argument\n",
      "    you may not also use the Popen constructor's \"stdin\" argument, as\n",
      "    it too will be used internally.  Example:\n",
      "    \n",
      "    >>> check_output([\"sed\", \"-e\", \"s/foo/bar/\"],\n",
      "    ...              input=b\"when in the course of fooman events\\n\")\n",
      "    b'when in the course of barman events\\n'\n",
      "    \n",
      "    By default, all communication is in bytes, and therefore any \"input\"\n",
      "    should be bytes, and the return value wil be bytes.  If in text mode,\n",
      "    any \"input\" should be a string, and the return value will be a string\n",
      "    decoded according to locale encoding, or by \"encoding\" if set. Text mode\n",
      "    is triggered by setting any of text, encoding, errors or universal_newlines.\n",
      "\n"
     ]
    }
   ],
   "source": [
    "help(subprocess.check_output)"
   ]
  },
  {
   "cell_type": "code",
   "execution_count": 23,
   "metadata": {},
   "outputs": [
    {
     "name": "stdout",
     "output_type": "stream",
     "text": [
      "Help on function check_call in module subprocess:\n",
      "\n",
      "check_call(*popenargs, **kwargs)\n",
      "    Run command with arguments.  Wait for command to complete.  If\n",
      "    the exit code was zero then return, otherwise raise\n",
      "    CalledProcessError.  The CalledProcessError object will have the\n",
      "    return code in the returncode attribute.\n",
      "    \n",
      "    The arguments are the same as for the call function.  Example:\n",
      "    \n",
      "    check_call([\"ls\", \"-l\"])\n",
      "\n"
     ]
    }
   ],
   "source": [
    "help(subprocess.check_call)"
   ]
  },
  {
   "cell_type": "code",
   "execution_count": 24,
   "metadata": {},
   "outputs": [
    {
     "data": {
      "text/plain": [
       "b'01_basics.ipynb\\n02_functions.ipynb\\n03_scripts.ipynb\\n04_objects.ipynb\\n05_files.ipynb\\n06_numpy.ipynb\\n08_namespace.ipynb\\n09_sys-os.ipynb\\nMatplotlib_StHelens.ipynb\\nPandas_ColoradoRiver-FFT.ipynb\\nPandas_ColoradoRiver.ipynb\\nPandas_NWIS.ipynb\\nPandas_weather_timeseries_Wunderground.ipynb\\nTheisExercise.pdf\\nTheisExercise.tex\\ndata\\nimages\\nmtsthelens.pdf\\n'"
      ]
     },
     "execution_count": 24,
     "metadata": {},
     "output_type": "execute_result"
    }
   ],
   "source": [
    "# if on mac/unix\n",
    "subprocess.check_output(['ls', '-l'], shell=True)"
   ]
  },
  {
   "cell_type": "code",
   "execution_count": 25,
   "metadata": {},
   "outputs": [
    {
     "name": "stdout",
     "output_type": "stream",
     "text": [
      "Why are you against windows?\n"
     ]
    }
   ],
   "source": [
    "# if on Windows\n",
    "try:\n",
    "    output = subprocess.check_output(['dir'], shell=True)\n",
    "    output\n",
    "except:\n",
    "    print('Why are you against windows?')"
   ]
  },
  {
   "cell_type": "code",
   "execution_count": 27,
   "metadata": {},
   "outputs": [
    {
     "name": "stderr",
     "output_type": "stream",
     "text": [
      "Traceback (most recent call last):\n",
      "  File \"<ipython-input-27-aa18cf219b2e>\", line 3, in <module>\n",
      "    subprocess.check_call(['dir'], shell=True)\n",
      "  File \"/Users/aleaf/anaconda3/envs/pyclass/lib/python3.7/subprocess.py\", line 347, in check_call\n",
      "    raise CalledProcessError(retcode, cmd)\n",
      "subprocess.CalledProcessError: Command '['dir']' returned non-zero exit status 127.\n"
     ]
    }
   ],
   "source": [
    "# What is going on here?\n",
    "try:\n",
    "    subprocess.check_call(['dir'], shell=True)\n",
    "except Exception as e:\n",
    "    traceback.print_exc()"
   ]
  },
  {
   "cell_type": "markdown",
   "metadata": {},
   "source": [
    "## Testing Your Skills\n",
    "\n",
    "1.  Create a new folder called mynumpyarrays\n",
    "2.  Create 20 random numpy arrays of shape (100, 100)\n",
    "3.  Save each array in a different file in the mynumpyarrays folder\n",
    "4.  Make a copy of the mynumpyarrays folder and call it mynumpyarrays2\n",
    "5.  Time permitting, save an image file of the arrays also."
   ]
  },
  {
   "cell_type": "code",
   "execution_count": 25,
   "metadata": {},
   "outputs": [],
   "source": [
    "# Write the code here!\n"
   ]
  },
  {
   "cell_type": "code",
   "execution_count": null,
   "metadata": {},
   "outputs": [],
   "source": []
  },
  {
   "cell_type": "markdown",
   "metadata": {
    "collapsed": true
   },
   "source": [
    "## Bonus -- Determining the location of an executable\n",
    "\n",
    "There are often times that you run an executable that is nested somewhere deep within your system path.  It can often be a good idea to know exactly where that executable is located.  This might help you one day from accidently using an older version of an executable, such as MODFLOW."
   ]
  },
  {
   "cell_type": "code",
   "execution_count": 26,
   "metadata": {},
   "outputs": [],
   "source": [
    "# Define two functions to help determine 'which' program you are using\n",
    "def is_exe(fpath):\n",
    "    \"\"\"\n",
    "    Return True if fpath is an executable, otherwise return False\n",
    "    \"\"\"\n",
    "    return os.path.isfile(fpath) and os.access(fpath, os.X_OK)\n",
    "\n",
    "def which(program):\n",
    "    \"\"\"\n",
    "    Locate the program and return its full path.  Return\n",
    "    None if the program cannot be located.\n",
    "    \"\"\"\n",
    "    fpath, fname = os.path.split(program)\n",
    "    if fpath:\n",
    "        if is_exe(program):\n",
    "            return program\n",
    "    else:\n",
    "        # test for exe in current working directory\n",
    "        if is_exe(program):\n",
    "            return program\n",
    "        # test for exe in path statement\n",
    "        for path in os.environ[\"PATH\"].split(os.pathsep):\n",
    "            path = path.strip('\"')\n",
    "            exe_file = os.path.join(path, program)\n",
    "            if is_exe(exe_file):\n",
    "                return exe_file\n",
    "    return None"
   ]
  },
  {
   "cell_type": "code",
   "execution_count": 27,
   "metadata": {},
   "outputs": [],
   "source": [
    "which('MODFLOW-NWT_64.exe')"
   ]
  },
  {
   "cell_type": "markdown",
   "metadata": {},
   "source": [
    "## TYS answer"
   ]
  },
  {
   "cell_type": "code",
   "execution_count": 28,
   "metadata": {},
   "outputs": [
    {
     "name": "stdout",
     "output_type": "stream",
     "text": [
      "/Users/aleaf/Documents/GitHub/python-usgs-training/notebooks/part1_python_intro\n",
      "Creating array:  0\n",
      "Creating array:  1\n",
      "Creating array:  2\n",
      "Creating array:  3\n",
      "Creating array:  4\n",
      "Creating array:  5\n",
      "Creating array:  6\n",
      "Creating array:  7\n",
      "Creating array:  8\n",
      "Creating array:  9\n",
      "Creating array:  10\n",
      "Creating array:  11\n",
      "Creating array:  12\n",
      "Creating array:  13\n",
      "Creating array:  14\n",
      "Creating array:  15\n",
      "Creating array:  16\n",
      "Creating array:  17\n",
      "Creating array:  18\n",
      "Creating array:  19\n",
      "Using shutil.copytree to copy:  mynumpyarrays to  mynumpyarrays2\n"
     ]
    },
    {
     "data": {
      "text/plain": [
       "'mynumpyarrays2'"
      ]
     },
     "execution_count": 28,
     "metadata": {},
     "output_type": "execute_result"
    }
   ],
   "source": [
    "#Create the mynumpyarrays directory\n",
    "import numpy as np\n",
    "print(os.getcwd())\n",
    "dname = 'mynumpyarrays'\n",
    "\n",
    "if os.path.exists(dname):\n",
    "    print('Using shutil.rmtree to remove: ', dname)\n",
    "    shutil.rmtree(dname)\n",
    "\n",
    "if not os.path.isdir(dname):\n",
    "    os.mkdir(dname)\n",
    "\n",
    "# Create and write 100 arrays to the dname folder\n",
    "for i in range(20):\n",
    "    print('Creating array: ', i)\n",
    "    a = np.random.random((100,100))\n",
    "    fname = 'array' + str(i) + '.dat'\n",
    "    fnamewithpath = os.path.join(dname, fname)\n",
    "    np.savetxt(fnamewithpath, a)\n",
    "    \n",
    "# Now let's make a copy\n",
    "# First delete the folder if it already exists\n",
    "dname2 = 'mynumpyarrays2'\n",
    "if os.path.exists(dname2):\n",
    "    print('Using shutil.rmtree to remove: ', dname2)\n",
    "    shutil.rmtree(dname2)\n",
    "\n",
    "print('Using shutil.copytree to copy: ', dname, 'to ', dname2)\n",
    "shutil.copytree(dname, dname2)"
   ]
  },
  {
   "cell_type": "code",
   "execution_count": 29,
   "metadata": {},
   "outputs": [
    {
     "name": "stdout",
     "output_type": "stream",
     "text": [
      "Attempting to delete:  mynumpyarrays\n",
      "Using shutil.rmtree to remove:  mynumpyarrays\n",
      "Attempting to delete:  mynumpyarrays2\n",
      "Using shutil.rmtree to remove:  mynumpyarrays2\n"
     ]
    }
   ],
   "source": [
    "# clean it up\n",
    "dnamelist = [dname, dname2]\n",
    "for dn in dnamelist:\n",
    "    print('Attempting to delete: ', dn)\n",
    "    if os.path.isdir(dn):\n",
    "        print('Using shutil.rmtree to remove: ', dn)\n",
    "        shutil.rmtree(dn)"
   ]
  }
 ],
 "metadata": {
  "anaconda-cloud": {},
  "kernelspec": {
   "display_name": "python3 (pyclass)",
   "language": "python",
   "name": "pyclass"
  },
  "language_info": {
   "codemirror_mode": {
    "name": "ipython",
    "version": 3
   },
   "file_extension": ".py",
   "mimetype": "text/x-python",
   "name": "python",
   "nbconvert_exporter": "python",
   "pygments_lexer": "ipython3",
   "version": "3.7.3"
  }
 },
 "nbformat": 4,
 "nbformat_minor": 1
}
