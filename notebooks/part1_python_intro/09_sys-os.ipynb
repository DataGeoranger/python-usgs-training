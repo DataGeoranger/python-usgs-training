{
 "cells": [
  {
   "cell_type": "markdown",
   "metadata": {},
   "source": [
    "# Introduction to python for hydrologists &mdash; sys, path, shutil, and subprocess\n",
    "These four packages are part of the standard python library and provide very useful functionality for working with your operating system and files.  This notebook will provide explore these packages and demonstrate some of their functionality.  Online documentation is at [sys](https://docs.python.org/2/library/sys.html \"sys doc\"), [os](https://docs.python.org/2/library/os.html \"os doc\"), [shutil](https://docs.python.org/2/library/shutil.html \"shutil doc\"), and [subprocess](https://docs.python.org/2/library/subprocess.html \"subprocess doc\").\n",
    "\n",
    "Import things to cover:\n",
    "* sys: path\n",
    "* os: path, chdir, getcwd, listdir\n",
    "* shutil: copy, copytree, rmtree\n",
    "* subprocess: check_call, check_output"
   ]
  },
  {
   "cell_type": "markdown",
   "metadata": {},
   "source": [
    "## Sys Module\n",
    "\n",
    "System-specific parameters and functions.\n",
    "\n",
    "The following cells simply print some of the sys methods and attributes that you might find useful."
   ]
  },
  {
   "cell_type": "code",
   "execution_count": 1,
   "metadata": {},
   "outputs": [],
   "source": [
    "import sys\n",
    "import os\n",
    "import shutil\n",
    "import subprocess\n",
    "import traceback\n",
    "import zipfile"
   ]
  },
  {
   "cell_type": "code",
   "execution_count": 2,
   "metadata": {},
   "outputs": [
    {
     "name": "stdout",
     "output_type": "stream",
     "text": [
      "sys.argv:  ['/Users/aleaf/anaconda3/envs/pyclass/lib/python3.7/site-packages/ipykernel_launcher.py', '-f', '/Users/aleaf/Library/Jupyter/runtime/kernel-f553ed43-ff3b-43e8-8df3-80c040705556.json']\n"
     ]
    }
   ],
   "source": [
    "print('sys.argv: ', sys.argv)"
   ]
  },
  {
   "cell_type": "code",
   "execution_count": 3,
   "metadata": {},
   "outputs": [
    {
     "name": "stdout",
     "output_type": "stream",
     "text": [
      "sys.byteorder:  little\n"
     ]
    }
   ],
   "source": [
    "print('sys.byteorder: ', sys.byteorder)"
   ]
  },
  {
   "cell_type": "code",
   "execution_count": 4,
   "metadata": {},
   "outputs": [
    {
     "name": "stdout",
     "output_type": "stream",
     "text": [
      "sys.copyright:  Copyright (c) 2001-2019 Python Software Foundation.\n",
      "All Rights Reserved.\n",
      "\n",
      "Copyright (c) 2000 BeOpen.com.\n",
      "All Rights Reserved.\n",
      "\n",
      "Copyright (c) 1995-2001 Corporation for National Research Initiatives.\n",
      "All Rights Reserved.\n",
      "\n",
      "Copyright (c) 1991-1995 Stichting Mathematisch Centrum, Amsterdam.\n",
      "All Rights Reserved.\n"
     ]
    }
   ],
   "source": [
    "print('sys.copyright: ', sys.copyright)"
   ]
  },
  {
   "cell_type": "code",
   "execution_count": 5,
   "metadata": {},
   "outputs": [
    {
     "name": "stdout",
     "output_type": "stream",
     "text": [
      "sys.float_info:  sys.float_info(max=1.7976931348623157e+308, max_exp=1024, max_10_exp=308, min=2.2250738585072014e-308, min_exp=-1021, min_10_exp=-307, dig=15, mant_dig=53, epsilon=2.220446049250313e-16, radix=2, rounds=1)\n"
     ]
    }
   ],
   "source": [
    "print('sys.float_info: ', sys.float_info)"
   ]
  },
  {
   "cell_type": "code",
   "execution_count": 6,
   "metadata": {},
   "outputs": [
    {
     "name": "stdout",
     "output_type": "stream",
     "text": [
      "The size of an integer is  28  bytes.\n",
      "The size of a float is  24  bytes.\n",
      "The size of the string \"Goldschlager\" is  61  bytes.\n"
     ]
    }
   ],
   "source": [
    "print('The size of an integer is ', sys.getsizeof(1), ' bytes.')\n",
    "print('The size of a float is ', sys.getsizeof(1.0), ' bytes.')\n",
    "print('The size of the string \"Goldschlager\" is ', sys.getsizeof('Goldschlager'), ' bytes.')"
   ]
  },
  {
   "cell_type": "code",
   "execution_count": 7,
   "metadata": {},
   "outputs": [
    {
     "name": "stdout",
     "output_type": "stream",
     "text": [
      "Why are you against windows?\n"
     ]
    }
   ],
   "source": [
    "try:\n",
    "    print(sys.getwindowsversion())\n",
    "except:\n",
    "    print('Why are you against windows?')"
   ]
  },
  {
   "cell_type": "code",
   "execution_count": 8,
   "metadata": {},
   "outputs": [
    {
     "name": "stdout",
     "output_type": "stream",
     "text": [
      "/Users/aleaf/anaconda3/envs/pyclass\n"
     ]
    }
   ],
   "source": [
    "print(sys.prefix)"
   ]
  },
  {
   "cell_type": "code",
   "execution_count": 9,
   "metadata": {},
   "outputs": [
    {
     "name": "stdout",
     "output_type": "stream",
     "text": [
      "sys.version_info(major=3, minor=7, micro=3, releaselevel='final', serial=0)\n"
     ]
    }
   ],
   "source": [
    "print(sys.version_info)"
   ]
  },
  {
   "cell_type": "code",
   "execution_count": 10,
   "metadata": {},
   "outputs": [
    {
     "data": {
      "text/plain": [
       "'darwin'"
      ]
     },
     "execution_count": 10,
     "metadata": {},
     "output_type": "execute_result"
    }
   ],
   "source": [
    "sys.platform"
   ]
  },
  {
   "cell_type": "markdown",
   "metadata": {},
   "source": [
    "## sys.path\n",
    "\n",
    "If you haven't seen `sys.path` already mentioned in a python script, you will soon.  `sys.path` is a list of directories.  This path list is used by python to search for python modules and packages.  If for some reason, you want to use a python package that is not installed in the main python folder, you can add directory containing your module to sys.path."
   ]
  },
  {
   "cell_type": "code",
   "execution_count": 11,
   "metadata": {},
   "outputs": [
    {
     "name": "stdout",
     "output_type": "stream",
     "text": [
      "['/Users/aleaf/Documents/GitHub/python-usgs-training/notebooks/part1_python_intro', '/Users/aleaf/anaconda3/envs/pyclass/lib/python37.zip', '/Users/aleaf/anaconda3/envs/pyclass/lib/python3.7', '/Users/aleaf/anaconda3/envs/pyclass/lib/python3.7/lib-dynload', '', '/Users/aleaf/anaconda3/envs/pyclass/lib/python3.7/site-packages', '/Users/aleaf/Documents/GitHub/flopy', '/Users/aleaf/Documents/GitHub/modflow-export', '/Users/aleaf/Documents/GitHub/gisutils', '/Users/aleaf/anaconda3/envs/pyclass/lib/python3.7/site-packages/IPython/extensions', '/Users/aleaf/.ipython']\n",
      "/Users/aleaf/Documents/GitHub/python-usgs-training/notebooks/part1_python_intro\n",
      "/Users/aleaf/anaconda3/envs/pyclass/lib/python37.zip\n",
      "/Users/aleaf/anaconda3/envs/pyclass/lib/python3.7\n",
      "/Users/aleaf/anaconda3/envs/pyclass/lib/python3.7/lib-dynload\n",
      "\n",
      "/Users/aleaf/anaconda3/envs/pyclass/lib/python3.7/site-packages\n",
      "/Users/aleaf/Documents/GitHub/flopy\n",
      "/Users/aleaf/Documents/GitHub/modflow-export\n",
      "/Users/aleaf/Documents/GitHub/gisutils\n",
      "/Users/aleaf/anaconda3/envs/pyclass/lib/python3.7/site-packages/IPython/extensions\n",
      "/Users/aleaf/.ipython\n"
     ]
    }
   ],
   "source": [
    "print(sys.path)\n",
    "\n",
    "# Or more elegantly\n",
    "for pth in sys.path:\n",
    "    print(pth)"
   ]
  },
  {
   "cell_type": "markdown",
   "metadata": {},
   "source": [
    "A common way that we add a folder to sys.path is as follows:\n",
    "\n",
    "    pathtomymodule = os.path.join('..')\n",
    "    if pathtomymodule not in sys.path:\n",
    "        sys.path.append(pathtomymodule)\n",
    "\n",
    "This will allow us to import any modules or packages that are up one directory from the current working directory.  Keep this in mind as we use this throughout the class exercises."
   ]
  },
  {
   "cell_type": "markdown",
   "metadata": {},
   "source": [
    "## os Module\n",
    "Module for providing portable operating system functionality."
   ]
  },
  {
   "cell_type": "code",
   "execution_count": 12,
   "metadata": {},
   "outputs": [
    {
     "name": "stdout",
     "output_type": "stream",
     "text": [
      "os.name:  posix\n"
     ]
    }
   ],
   "source": [
    "print('os.name: ', os.name)"
   ]
  },
  {
   "cell_type": "code",
   "execution_count": 13,
   "metadata": {},
   "outputs": [
    {
     "name": "stdout",
     "output_type": "stream",
     "text": [
      "os.environ:  environ({'PROJ_LIB': '/Users/aleaf/anaconda3/envs/pyclass/share/proj', 'TERM_PROGRAM': 'Apple_Terminal', 'SSL_CERT_FILE': '/Users/aleaf/cert.pem', 'TERM': 'xterm-color', 'SHELL': '/bin/bash', 'TMPDIR': '/var/folders/4x/bmhyjcdn3mgfdvkk_jgz6bsr0028s1/T/', 'CONDA_SHLVL': '1', 'Apple_PubSub_Socket_Render': '/private/tmp/com.apple.launchd.Qp2MX2UUrU/Render', 'CONDA_PROMPT_MODIFIER': '(pyclass) ', 'TERM_PROGRAM_VERSION': '421.2', 'OLDPWD': '/Users/aleaf/Documents/GitHub/flopy', 'TERM_SESSION_ID': 'B2950181-E15C-44FA-A301-A92BDD220BA9', 'USER': 'aleaf', 'CONDA_EXE': '/Users/aleaf/anaconda3/bin/conda', 'SSH_AUTH_SOCK': '/private/tmp/com.apple.launchd.zWXIuiIJhq/Listeners', '_CE_CONDA': '', 'CPL_ZIP_ENCODING': 'UTF-8', 'PATH': '/Users/aleaf/anaconda3/envs/pyclass/bin:/Users/aleaf/anaconda3/condabin:/Library/Frameworks/Python.framework/Versions/3.6/bin:/Users/aleaf/anaconda3/bin:/Users/aleaf/anaconda3/bin:/Library/Frameworks/Python.framework/Versions/3.6/bin:/Users/aleaf/anaconda3/bin:/opt/local/bin:/opt/local/sbin:/Users/aleaf/Documents/GitHub/pestpp/bin/mac:/Users/aleaf/Documents/software/pymake_exes:/Users/aleaf/anaconda/bin:/usr/local/bin:/usr/bin:/bin:/usr/sbin:/sbin:/usr/local/sbin:/opt/X11/bin', 'CONDA_PREFIX': '/Users/aleaf/anaconda3/envs/pyclass', 'PWD': '/Users/aleaf', 'LANG': 'en_US.UTF-8', 'XPC_FLAGS': '0x0', 'GDAL_DATA': '/Users/aleaf/anaconda3/envs/pyclass/share/gdal', '_CE_M': '', 'XPC_SERVICE_NAME': '0', 'HOME': '/Users/aleaf', 'SHLVL': '1', 'CONDA_PYTHON_EXE': '/Users/aleaf/anaconda3/bin/python', 'LOGNAME': 'aleaf', 'CONDA_DEFAULT_ENV': 'pyclass', 'DISPLAY': '/private/tmp/com.apple.launchd.o9HqDSBHQU/org.macosforge.xquartz:0', 'SECURITYSESSIONID': '186ad', '_': '/Users/aleaf/anaconda3/envs/pyclass/bin/jupyter', 'KERNEL_LAUNCH_TIMEOUT': '40', 'JPY_PARENT_PID': '17459', 'CLICOLOR': '1', 'PAGER': 'cat', 'GIT_PAGER': 'cat', 'MPLBACKEND': 'module://ipykernel.pylab.backend_inline'})\n",
      "\n",
      "\n",
      "PROJ_LIB : /Users/aleaf/anaconda3/envs/pyclass/share/proj\n",
      "TERM_PROGRAM : Apple_Terminal\n",
      "SSL_CERT_FILE : /Users/aleaf/cert.pem\n",
      "TERM : xterm-color\n",
      "SHELL : /bin/bash\n",
      "TMPDIR : /var/folders/4x/bmhyjcdn3mgfdvkk_jgz6bsr0028s1/T/\n",
      "CONDA_SHLVL : 1\n",
      "Apple_PubSub_Socket_Render : /private/tmp/com.apple.launchd.Qp2MX2UUrU/Render\n",
      "CONDA_PROMPT_MODIFIER : (pyclass) \n",
      "TERM_PROGRAM_VERSION : 421.2\n",
      "OLDPWD : /Users/aleaf/Documents/GitHub/flopy\n",
      "TERM_SESSION_ID : B2950181-E15C-44FA-A301-A92BDD220BA9\n",
      "USER : aleaf\n",
      "CONDA_EXE : /Users/aleaf/anaconda3/bin/conda\n",
      "SSH_AUTH_SOCK : /private/tmp/com.apple.launchd.zWXIuiIJhq/Listeners\n",
      "_CE_CONDA : \n",
      "CPL_ZIP_ENCODING : UTF-8\n",
      "PATH : /Users/aleaf/anaconda3/envs/pyclass/bin:/Users/aleaf/anaconda3/condabin:/Library/Frameworks/Python.framework/Versions/3.6/bin:/Users/aleaf/anaconda3/bin:/Users/aleaf/anaconda3/bin:/Library/Frameworks/Python.framework/Versions/3.6/bin:/Users/aleaf/anaconda3/bin:/opt/local/bin:/opt/local/sbin:/Users/aleaf/Documents/GitHub/pestpp/bin/mac:/Users/aleaf/Documents/software/pymake_exes:/Users/aleaf/anaconda/bin:/usr/local/bin:/usr/bin:/bin:/usr/sbin:/sbin:/usr/local/sbin:/opt/X11/bin\n",
      "CONDA_PREFIX : /Users/aleaf/anaconda3/envs/pyclass\n",
      "PWD : /Users/aleaf\n",
      "LANG : en_US.UTF-8\n",
      "XPC_FLAGS : 0x0\n",
      "GDAL_DATA : /Users/aleaf/anaconda3/envs/pyclass/share/gdal\n",
      "_CE_M : \n",
      "XPC_SERVICE_NAME : 0\n",
      "HOME : /Users/aleaf\n",
      "SHLVL : 1\n",
      "CONDA_PYTHON_EXE : /Users/aleaf/anaconda3/bin/python\n",
      "LOGNAME : aleaf\n",
      "CONDA_DEFAULT_ENV : pyclass\n",
      "DISPLAY : /private/tmp/com.apple.launchd.o9HqDSBHQU/org.macosforge.xquartz:0\n",
      "SECURITYSESSIONID : 186ad\n",
      "_ : /Users/aleaf/anaconda3/envs/pyclass/bin/jupyter\n",
      "KERNEL_LAUNCH_TIMEOUT : 40\n",
      "JPY_PARENT_PID : 17459\n",
      "CLICOLOR : 1\n",
      "PAGER : cat\n",
      "GIT_PAGER : cat\n",
      "MPLBACKEND : module://ipykernel.pylab.backend_inline\n"
     ]
    }
   ],
   "source": [
    "#environment variables stored in a dictionary\n",
    "print('os.environ: ', os.environ)\n",
    "print('\\n')\n",
    "\n",
    "#or we can look at them in a nicer format\n",
    "for k, v in os.environ.items():\n",
    "    print('{0} : {1}'.format(k, v))"
   ]
  },
  {
   "cell_type": "code",
   "execution_count": 14,
   "metadata": {},
   "outputs": [
    {
     "name": "stdout",
     "output_type": "stream",
     "text": [
      "/Users/aleaf/Documents/GitHub/python-usgs-training/notebooks/part1_python_intro\n"
     ]
    }
   ],
   "source": [
    "cwd = os.getcwd()\n",
    "print(cwd)"
   ]
  },
  {
   "cell_type": "code",
   "execution_count": 15,
   "metadata": {},
   "outputs": [
    {
     "name": "stdout",
     "output_type": "stream",
     "text": [
      "directory:  extracted_data\n",
      "file:  09_sys-os.ipynb\n",
      "file:  02_functions.ipynb\n",
      "file:  TheisExercise.pdf\n",
      "file:  06_numpy.ipynb\n",
      "file:  .DS_Store\n",
      "file:  08_namespace.ipynb\n",
      "file:  Pandas_weather_timeseries_Wunderground.ipynb\n",
      "directory:  images\n",
      "file:  Untitled.ipynb\n",
      "file:  Pandas_NWIS.ipynb\n",
      "file:  04_objects.ipynb\n",
      "file:  Pandas_ColoradoRiver-FFT.ipynb\n",
      "file:  gis_vector_msn_crime.ipynb\n",
      "file:  05_files.ipynb\n",
      "file:  TheisExercise.tex\n",
      "file:  03_scripts.ipynb\n",
      "file:  mtsthelens.pdf\n",
      "directory:  .ipynb_checkpoints\n",
      "file:  Matplotlib_StHelens.ipynb\n",
      "file:  gis_raster_mt_rainier_glaciers.ipynb\n",
      "file:  xarray_mt_rainier_precip.ipynb\n",
      "file:  Pandas_ColoradoRiver.ipynb\n",
      "directory:  data\n",
      "file:  tmp\n",
      "file:  01_basics.ipynb\n",
      "file:  junk.zip\n",
      "file:  LeesFerryOnePlot.pdf\n"
     ]
    }
   ],
   "source": [
    "#list all the entries in the specified directory. \n",
    "mylistofitems = os.listdir(os.getcwd())\n",
    "for thingy in mylistofitems:\n",
    "    if os.path.isdir(thingy):\n",
    "        print('directory: ', thingy)\n",
    "    else:\n",
    "        print('file: ', thingy)"
   ]
  },
  {
   "cell_type": "code",
   "execution_count": 16,
   "metadata": {},
   "outputs": [
    {
     "name": "stdout",
     "output_type": "stream",
     "text": [
      "Now in:  /Users/aleaf/Documents/GitHub/python-usgs-training/notebooks\n",
      "Switched back to:  /Users/aleaf/Documents/GitHub/python-usgs-training/notebooks/part1_python_intro\n"
     ]
    }
   ],
   "source": [
    "# Example of changing the working directory\n",
    "old_wd = os.getcwd()\n",
    "\n",
    "# Go up one directory\n",
    "os.chdir('..')\n",
    "cwd = os.getcwd()\n",
    "print ('Now in: ', cwd)\n",
    "\n",
    "# Change back to original\n",
    "os.chdir(old_wd)\n",
    "cwd = os.getcwd()\n",
    "print('Switched back to: ', cwd)"
   ]
  },
  {
   "cell_type": "markdown",
   "metadata": {},
   "source": [
    "## Glob\n",
    "The glob library provides handy shorthand for listing files using patterns and wildcard (*) characters\n",
    "\n",
    "https://en.wikipedia.org/wiki/Glob_(programming)\n",
    "\n",
    "**Note!** Sorting of the files returned by `Glob` is platform-dependent. In general, if your code depends on a specific ordering of a list, it is best to explicitly sort it yourself using `sorted()` or `.sort()`, instead of depending on the behavior of an imported module.  \n",
    "https://arstechnica.com/information-technology/2019/10/chemists-discover-cross-platform-python-scripts-not-so-cross-platform/"
   ]
  },
  {
   "cell_type": "code",
   "execution_count": 17,
   "metadata": {},
   "outputs": [],
   "source": [
    "import glob"
   ]
  },
  {
   "cell_type": "code",
   "execution_count": 18,
   "metadata": {},
   "outputs": [
    {
     "data": {
      "text/plain": [
       "['09_sys-os.ipynb',\n",
       " '02_functions.ipynb',\n",
       " '06_numpy.ipynb',\n",
       " '08_namespace.ipynb',\n",
       " 'Pandas_weather_timeseries_Wunderground.ipynb',\n",
       " 'Untitled.ipynb',\n",
       " 'Pandas_NWIS.ipynb',\n",
       " '04_objects.ipynb',\n",
       " 'Pandas_ColoradoRiver-FFT.ipynb',\n",
       " 'gis_vector_msn_crime.ipynb',\n",
       " '05_files.ipynb',\n",
       " '03_scripts.ipynb',\n",
       " 'Matplotlib_StHelens.ipynb',\n",
       " 'gis_raster_mt_rainier_glaciers.ipynb',\n",
       " 'xarray_mt_rainier_precip.ipynb',\n",
       " 'Pandas_ColoradoRiver.ipynb',\n",
       " '01_basics.ipynb']"
      ]
     },
     "execution_count": 18,
     "metadata": {},
     "output_type": "execute_result"
    }
   ],
   "source": [
    "# list all of the Jupyter notebooks in the current working directory\n",
    "glob.glob('*.ipynb')"
   ]
  },
  {
   "cell_type": "code",
   "execution_count": 19,
   "metadata": {},
   "outputs": [
    {
     "data": {
      "text/plain": [
       "['01_basics.ipynb',\n",
       " '02_functions.ipynb',\n",
       " '03_scripts.ipynb',\n",
       " '04_objects.ipynb',\n",
       " '05_files.ipynb',\n",
       " '06_numpy.ipynb',\n",
       " '08_namespace.ipynb',\n",
       " '09_sys-os.ipynb',\n",
       " 'Matplotlib_StHelens.ipynb',\n",
       " 'Pandas_ColoradoRiver-FFT.ipynb',\n",
       " 'Pandas_ColoradoRiver.ipynb',\n",
       " 'Pandas_NWIS.ipynb',\n",
       " 'Pandas_weather_timeseries_Wunderground.ipynb',\n",
       " 'Untitled.ipynb',\n",
       " 'gis_raster_mt_rainier_glaciers.ipynb',\n",
       " 'gis_vector_msn_crime.ipynb',\n",
       " 'xarray_mt_rainier_precip.ipynb']"
      ]
     },
     "execution_count": 19,
     "metadata": {},
     "output_type": "execute_result"
    }
   ],
   "source": [
    "sorted(glob.glob('*.ipynb'))"
   ]
  },
  {
   "cell_type": "markdown",
   "metadata": {},
   "source": [
    "## os.path\n",
    "\n",
    "os.path is a very widely used submodule of os.  In fact we use it in almost all of the class notebooks and scripts to deal with file system paths.  Some common os.path functions are:\n",
    "\n",
    "    os.path.join()\n",
    "    os.path.abspath()\n",
    "    os.path.exists()\n",
    "    os.path.isdir()\n",
    "    os.path.normpath()\n",
    "    os.path.split()\n",
    "    os.path.splitext()\n",
    "    \n",
    "A common attribute of os.path is:\n",
    "\n",
    "    os.path.sep\n",
    "    \n",
    "Experiment with these functions to gain a better understanding of what they do."
   ]
  },
  {
   "cell_type": "code",
   "execution_count": null,
   "metadata": {},
   "outputs": [],
   "source": []
  },
  {
   "cell_type": "markdown",
   "metadata": {},
   "source": [
    "## os.walk\n",
    "\n",
    "os.walk() is a great way to recursively generate all the file names and folders in a directory.  The following shows how it can be used to identify large directories."
   ]
  },
  {
   "cell_type": "code",
   "execution_count": 20,
   "metadata": {},
   "outputs": [
    {
     "name": "stdout",
     "output_type": "stream",
     "text": [
      "..                                                 -->       0.01 megabytes.\n",
      "../part1_python_intro                              -->       7.35 megabytes.\n",
      "../part1_python_intro/extracted_data               -->       0.00 megabytes.\n",
      "../part1_python_intro/images                       -->       0.01 megabytes.\n",
      "../part1_python_intro/.ipynb_checkpoints           -->       6.70 megabytes.\n",
      "../part1_python_intro/data                         -->       1.50 megabytes.\n",
      "../part1_python_intro/data/04_numpy                -->       2.71 megabytes.\n",
      "../part1_python_intro/data/fileio                  -->       0.03 megabytes.\n",
      "../part1_python_intro/data/fileio/netcdf_data      -->       0.00 megabytes.\n",
      "../part1_python_intro/data/fileio/netcdf_data/zipped -->       0.00 megabytes.\n",
      "../part1_python_intro/data/fileio/netcdf_data/zipped/zipped_1991 -->       0.00 megabytes.\n",
      "../part1_python_intro/data/fileio/netcdf_data/zipped/zipped_1996 -->       0.00 megabytes.\n",
      "../part1_python_intro/data/fileio/netcdf_data/zipped/zipped_1998 -->       0.00 megabytes.\n",
      "../part1_python_intro/data/fileio/netcdf_data/zipped/zipped_1999 -->       0.00 megabytes.\n",
      "../part1_python_intro/data/fileio/netcdf_data/zipped/zipped_1997 -->       0.00 megabytes.\n",
      "../part1_python_intro/data/fileio/netcdf_data/zipped/zipped_1990 -->       0.00 megabytes.\n",
      "../part1_python_intro/data/fileio/netcdf_data/zipped/zipped_2003 -->       0.00 megabytes.\n",
      "../part1_python_intro/data/fileio/netcdf_data/zipped/zipped_2004 -->       0.00 megabytes.\n",
      "../part1_python_intro/data/fileio/netcdf_data/zipped/zipped_2005 -->       0.00 megabytes.\n",
      "../part1_python_intro/data/fileio/netcdf_data/zipped/zipped_2002 -->       0.00 megabytes.\n",
      "../part1_python_intro/data/fileio/netcdf_data/zipped/zipped_2011 -->       0.00 megabytes.\n",
      "../part1_python_intro/data/fileio/netcdf_data/zipped/zipped_2016 -->       0.00 megabytes.\n",
      "../part1_python_intro/data/fileio/netcdf_data/zipped/zipped_2017 -->       0.00 megabytes.\n",
      "../part1_python_intro/data/fileio/netcdf_data/zipped/zipped_2010 -->       0.00 megabytes.\n",
      "../part1_python_intro/data/fileio/netcdf_data/zipped/zipped_1983 -->       0.00 megabytes.\n",
      "../part1_python_intro/data/fileio/netcdf_data/zipped/zipped_1984 -->       0.00 megabytes.\n",
      "../part1_python_intro/data/fileio/netcdf_data/zipped/zipped_1985 -->       0.00 megabytes.\n",
      "../part1_python_intro/data/fileio/netcdf_data/zipped/zipped_1982 -->       0.00 megabytes.\n",
      "../part1_python_intro/data/fileio/netcdf_data/zipped/zipped_1995 -->       0.00 megabytes.\n",
      "../part1_python_intro/data/fileio/netcdf_data/zipped/zipped_1992 -->       0.00 megabytes.\n",
      "../part1_python_intro/data/fileio/netcdf_data/zipped/zipped_1993 -->       0.00 megabytes.\n",
      "../part1_python_intro/data/fileio/netcdf_data/zipped/zipped_1994 -->       0.00 megabytes.\n",
      "../part1_python_intro/data/fileio/netcdf_data/zipped/zipped_2009 -->       0.00 megabytes.\n",
      "../part1_python_intro/data/fileio/netcdf_data/zipped/zipped_2007 -->       0.00 megabytes.\n",
      "../part1_python_intro/data/fileio/netcdf_data/zipped/zipped_2000 -->       0.00 megabytes.\n",
      "../part1_python_intro/data/fileio/netcdf_data/zipped/zipped_2001 -->       0.00 megabytes.\n",
      "../part1_python_intro/data/fileio/netcdf_data/zipped/zipped_2006 -->       0.00 megabytes.\n",
      "../part1_python_intro/data/fileio/netcdf_data/zipped/zipped_2008 -->       0.00 megabytes.\n",
      "../part1_python_intro/data/fileio/netcdf_data/zipped/zipped_2015 -->       0.00 megabytes.\n",
      "../part1_python_intro/data/fileio/netcdf_data/zipped/zipped_2012 -->       0.00 megabytes.\n",
      "../part1_python_intro/data/fileio/netcdf_data/zipped/zipped_2013 -->       0.00 megabytes.\n",
      "../part1_python_intro/data/fileio/netcdf_data/zipped/zipped_2014 -->       0.00 megabytes.\n",
      "../part1_python_intro/data/fileio/netcdf_data/zipped/zipped_1989 -->       0.00 megabytes.\n",
      "../part1_python_intro/data/fileio/netcdf_data/zipped/zipped_1987 -->       0.00 megabytes.\n",
      "../part1_python_intro/data/fileio/netcdf_data/zipped/zipped_1980 -->       0.00 megabytes.\n",
      "../part1_python_intro/data/fileio/netcdf_data/zipped/zipped_1981 -->       0.00 megabytes.\n",
      "../part1_python_intro/data/fileio/netcdf_data/zipped/zipped_1986 -->       0.00 megabytes.\n",
      "../part1_python_intro/data/fileio/netcdf_data/zipped/zipped_1988 -->       0.00 megabytes.\n",
      "../part1_python_intro/data/gis                     -->     363.05 megabytes.\n",
      "../part1_python_intro/data/gis/ZillowNeighborhoods-WI -->       0.30 megabytes.\n",
      "../part1_python_intro/data/gis/.ipynb_checkpoints  -->       0.09 megabytes.\n",
      "../part1_python_intro/data/pandas                  -->     109.96 megabytes.\n",
      "../part2_flopy                                     -->       1.22 megabytes.\n",
      "../part2_flopy/.ipynb_checkpoints                  -->       0.55 megabytes.\n",
      "../part2_flopy/data                                -->       0.01 megabytes.\n",
      "../part2_flopy/data/lpr_inset                      -->       1.11 megabytes.\n",
      "../part2_flopy/data/lpr_inset/figs                 -->       0.75 megabytes.\n",
      "../part2_flopy/data/lpr_inset/external             -->      10.14 megabytes.\n"
     ]
    }
   ],
   "source": [
    "pth = os.path.join('..')\n",
    "for root, dirs, files in os.walk(pth):\n",
    "    mbytes = sum(os.path.getsize(os.path.join(root, name)) for name in files) / 1.e6\n",
    "    print('{:<50} --> {:10.2f} megabytes.'.format(root, mbytes))"
   ]
  },
  {
   "cell_type": "markdown",
   "metadata": {},
   "source": [
    "## shutil Module\n",
    "shutil is a high level file managment module for copying, moving, and deleting files and directories.\n",
    "\n",
    "The functions from shutil that you may find useful are:\n",
    "\n",
    "    shutil.copy()\n",
    "    shutil.copytree()\n",
    "    shutil.move()\n",
    "    shutil.rmtree()  #obviously, you need to be careful with this one!\n",
    "    \n",
    "Give these guys a shot and see what they do.  Remember, you can always get help by typing:\n",
    "\n",
    "    help(shutil.copy)\n"
   ]
  },
  {
   "cell_type": "code",
   "execution_count": 21,
   "metadata": {},
   "outputs": [],
   "source": [
    "#try them here.  Be careful!\n"
   ]
  },
  {
   "cell_type": "code",
   "execution_count": null,
   "metadata": {},
   "outputs": [],
   "source": []
  },
  {
   "cell_type": "markdown",
   "metadata": {},
   "source": [
    "## subprocess Module\n",
    "\n",
    "The subprocess module offers a way to execute system commands.  This is how we will run MODFLOW, for example, but you can also use run any operating system command that you can type at the command line.\n",
    "\n",
    "subprocess.Popen() is the primary underlying function for running system commands, however, it is recommended that you use subprocess.check_output and subprocess.check_call instead.  Both of these functions use Popen.\n",
    "\n",
    "Take a look at the following help descriptions for check_output, and check_call.\n",
    "\n",
    "Note, that on Windows, you may commonly have to specify \"shell=True\" in order to access system commands."
   ]
  },
  {
   "cell_type": "code",
   "execution_count": 22,
   "metadata": {},
   "outputs": [
    {
     "name": "stdout",
     "output_type": "stream",
     "text": [
      "Help on function check_output in module subprocess:\n",
      "\n",
      "check_output(*popenargs, timeout=None, **kwargs)\n",
      "    Run command with arguments and return its output.\n",
      "    \n",
      "    If the exit code was non-zero it raises a CalledProcessError.  The\n",
      "    CalledProcessError object will have the return code in the returncode\n",
      "    attribute and output in the output attribute.\n",
      "    \n",
      "    The arguments are the same as for the Popen constructor.  Example:\n",
      "    \n",
      "    >>> check_output([\"ls\", \"-l\", \"/dev/null\"])\n",
      "    b'crw-rw-rw- 1 root root 1, 3 Oct 18  2007 /dev/null\\n'\n",
      "    \n",
      "    The stdout argument is not allowed as it is used internally.\n",
      "    To capture standard error in the result, use stderr=STDOUT.\n",
      "    \n",
      "    >>> check_output([\"/bin/sh\", \"-c\",\n",
      "    ...               \"ls -l non_existent_file ; exit 0\"],\n",
      "    ...              stderr=STDOUT)\n",
      "    b'ls: non_existent_file: No such file or directory\\n'\n",
      "    \n",
      "    There is an additional optional argument, \"input\", allowing you to\n",
      "    pass a string to the subprocess's stdin.  If you use this argument\n",
      "    you may not also use the Popen constructor's \"stdin\" argument, as\n",
      "    it too will be used internally.  Example:\n",
      "    \n",
      "    >>> check_output([\"sed\", \"-e\", \"s/foo/bar/\"],\n",
      "    ...              input=b\"when in the course of fooman events\\n\")\n",
      "    b'when in the course of barman events\\n'\n",
      "    \n",
      "    By default, all communication is in bytes, and therefore any \"input\"\n",
      "    should be bytes, and the return value wil be bytes.  If in text mode,\n",
      "    any \"input\" should be a string, and the return value will be a string\n",
      "    decoded according to locale encoding, or by \"encoding\" if set. Text mode\n",
      "    is triggered by setting any of text, encoding, errors or universal_newlines.\n",
      "\n"
     ]
    }
   ],
   "source": [
    "help(subprocess.check_output)"
   ]
  },
  {
   "cell_type": "code",
   "execution_count": 23,
   "metadata": {},
   "outputs": [
    {
     "name": "stdout",
     "output_type": "stream",
     "text": [
      "Help on function check_call in module subprocess:\n",
      "\n",
      "check_call(*popenargs, **kwargs)\n",
      "    Run command with arguments.  Wait for command to complete.  If\n",
      "    the exit code was zero then return, otherwise raise\n",
      "    CalledProcessError.  The CalledProcessError object will have the\n",
      "    return code in the returncode attribute.\n",
      "    \n",
      "    The arguments are the same as for the call function.  Example:\n",
      "    \n",
      "    check_call([\"ls\", \"-l\"])\n",
      "\n"
     ]
    }
   ],
   "source": [
    "help(subprocess.check_call)"
   ]
  },
  {
   "cell_type": "code",
   "execution_count": 24,
   "metadata": {},
   "outputs": [
    {
     "data": {
      "text/plain": [
       "b'01_basics.ipynb\\n02_functions.ipynb\\n03_scripts.ipynb\\n04_objects.ipynb\\n05_files.ipynb\\n06_numpy.ipynb\\n08_namespace.ipynb\\n09_sys-os.ipynb\\nLeesFerryOnePlot.pdf\\nMatplotlib_StHelens.ipynb\\nPandas_ColoradoRiver-FFT.ipynb\\nPandas_ColoradoRiver.ipynb\\nPandas_NWIS.ipynb\\nPandas_weather_timeseries_Wunderground.ipynb\\nTheisExercise.pdf\\nTheisExercise.tex\\nUntitled.ipynb\\ndata\\nextracted_data\\ngis_raster_mt_rainier_glaciers.ipynb\\ngis_vector_msn_crime.ipynb\\nimages\\njunk.zip\\nmtsthelens.pdf\\ntmp\\nxarray_mt_rainier_precip.ipynb\\n'"
      ]
     },
     "execution_count": 24,
     "metadata": {},
     "output_type": "execute_result"
    }
   ],
   "source": [
    "# if on mac/unix\n",
    "subprocess.check_output(['ls', '-l'], shell=True)"
   ]
  },
  {
   "cell_type": "code",
   "execution_count": 25,
   "metadata": {},
   "outputs": [
    {
     "name": "stdout",
     "output_type": "stream",
     "text": [
      "Why are you against windows?\n"
     ]
    }
   ],
   "source": [
    "# if on Windows\n",
    "try:\n",
    "    output = subprocess.check_output(['dir'], shell=True)\n",
    "    output\n",
    "except:\n",
    "    print('Why are you against windows?')"
   ]
  },
  {
   "cell_type": "code",
   "execution_count": 26,
   "metadata": {},
   "outputs": [
    {
     "name": "stderr",
     "output_type": "stream",
     "text": [
      "Traceback (most recent call last):\n",
      "  File \"<ipython-input-26-aa18cf219b2e>\", line 3, in <module>\n",
      "    subprocess.check_call(['dir'], shell=True)\n",
      "  File \"/Users/aleaf/anaconda3/envs/pyclass/lib/python3.7/subprocess.py\", line 347, in check_call\n",
      "    raise CalledProcessError(retcode, cmd)\n",
      "subprocess.CalledProcessError: Command '['dir']' returned non-zero exit status 127.\n"
     ]
    }
   ],
   "source": [
    "# What is going on here?\n",
    "try:\n",
    "    subprocess.check_call(['dir'], shell=True)\n",
    "except Exception as e:\n",
    "    traceback.print_exc()"
   ]
  },
  {
   "cell_type": "markdown",
   "metadata": {},
   "source": [
    "## Zipfiles\n",
    "\n",
    "#### zip up one of the files in data/"
   ]
  },
  {
   "cell_type": "code",
   "execution_count": 27,
   "metadata": {},
   "outputs": [],
   "source": [
    "with zipfile.ZipFile('junk.zip', 'w') as dest:\n",
    "    dest.write('data/430429089230301.dat')"
   ]
  },
  {
   "cell_type": "markdown",
   "metadata": {},
   "source": [
    "#### now extract it"
   ]
  },
  {
   "cell_type": "code",
   "execution_count": 28,
   "metadata": {},
   "outputs": [],
   "source": [
    "with zipfile.ZipFile('junk.zip') as src:\n",
    "    src.extract('data/430429089230301.dat', path='data/extracted_data')"
   ]
  },
  {
   "cell_type": "markdown",
   "metadata": {},
   "source": [
    "## Testing Your Skills with a truly awful example:\n",
    "\n",
    "#### the problem:\n",
    "Pretend that the file `data/fileio/netcdf_data.zip` contains some climate data that we downloaded. If you open `data/fileio/netcdf_data.zip`, you'll see that within a subfolder `zipped` are a bunch of additional subfolders, each for a different year. Within each subfolder is another zipfile. Within each of these zipfiles is yet another subfolder, inside of which is the actual data file we want (`prcp.nc`). \n",
    "\n",
    "#### the goal:\n",
    "To extract all of these `prcp.nc` files into a single folder, after renaming them with their respective years (obtained from their enclosing folders or zip files). e.g.  \n",
    "```\n",
    "prcp_1980.nc\n",
    "prcp_1981.nc\n",
    "...\n",
    "```\n",
    "This will allow us to open them together as a dataset in `xarray` (more on that later). Does this sound awful? I'm not making this up. This is the kind of structure you get if when downloading tiles of climate data with the [Daymet Tile Selection Tool](https://daymet.ornl.gov/gridded/)\n",
    "\n",
    "#### hint:\n",
    "you might find these functions helpful:\n",
    "```\n",
    "glob.glob\n",
    "os.path.isdir\n",
    "os.makedirs\n",
    "zipfile.ZipFile\n",
    "os.path.split\n",
    "os.path.splitext\n",
    "os.path.join\n",
    "shutil.move\n",
    "os.rename\n",
    "os.rmdir\n",
    "```"
   ]
  },
  {
   "cell_type": "markdown",
   "metadata": {},
   "source": [
    "### solution\n",
    "\n",
    "First, extract the master zipfile"
   ]
  },
  {
   "cell_type": "code",
   "execution_count": 29,
   "metadata": {},
   "outputs": [],
   "source": [
    "with zipfile.ZipFile('data/fileio/netcdf_data.zip') as src:\n",
    "    src.extractall('data/fileio/')"
   ]
  },
  {
   "cell_type": "markdown",
   "metadata": {},
   "source": [
    "Make a list of the zipfiles"
   ]
  },
  {
   "cell_type": "code",
   "execution_count": 30,
   "metadata": {},
   "outputs": [
    {
     "data": {
      "text/plain": [
       "['data/fileio/netcdf_data/zipped/zipped_1980/12270_1980.zip',\n",
       " 'data/fileio/netcdf_data/zipped/zipped_1981/12270_1981.zip',\n",
       " 'data/fileio/netcdf_data/zipped/zipped_1982/12270_1982.zip',\n",
       " 'data/fileio/netcdf_data/zipped/zipped_1983/12270_1983.zip',\n",
       " 'data/fileio/netcdf_data/zipped/zipped_1984/12270_1984.zip']"
      ]
     },
     "execution_count": 30,
     "metadata": {},
     "output_type": "execute_result"
    }
   ],
   "source": [
    "zipfiles = sorted(glob.glob('data/fileio/netcdf_data/zipped/*/*.zip'))\n",
    "zipfiles[:5]"
   ]
  },
  {
   "cell_type": "code",
   "execution_count": 31,
   "metadata": {},
   "outputs": [
    {
     "name": "stdout",
     "output_type": "stream",
     "text": [
      "data/fileio/netcdf_data/zipped/zipped_1980/12270_1980.zip/12270_1980/prcp.nc --> extracted_data/prcp_1980.nc\n",
      "data/fileio/netcdf_data/zipped/zipped_1981/12270_1981.zip/12270_1981/prcp.nc --> extracted_data/prcp_1981.nc\n",
      "data/fileio/netcdf_data/zipped/zipped_1982/12270_1982.zip/12270_1982/prcp.nc --> extracted_data/prcp_1982.nc\n",
      "data/fileio/netcdf_data/zipped/zipped_1983/12270_1983.zip/12270_1983/prcp.nc --> extracted_data/prcp_1983.nc\n",
      "data/fileio/netcdf_data/zipped/zipped_1984/12270_1984.zip/12270_1984/prcp.nc --> extracted_data/prcp_1984.nc\n",
      "data/fileio/netcdf_data/zipped/zipped_1985/12270_1985.zip/12270_1985/prcp.nc --> extracted_data/prcp_1985.nc\n",
      "data/fileio/netcdf_data/zipped/zipped_1986/12270_1986.zip/12270_1986/prcp.nc --> extracted_data/prcp_1986.nc\n",
      "data/fileio/netcdf_data/zipped/zipped_1987/12270_1987.zip/12270_1987/prcp.nc --> extracted_data/prcp_1987.nc\n",
      "data/fileio/netcdf_data/zipped/zipped_1988/12270_1988.zip/12270_1988/prcp.nc --> extracted_data/prcp_1988.nc\n",
      "data/fileio/netcdf_data/zipped/zipped_1989/12270_1989.zip/12270_1989/prcp.nc --> extracted_data/prcp_1989.nc\n",
      "data/fileio/netcdf_data/zipped/zipped_1990/12270_1990.zip/12270_1990/prcp.nc --> extracted_data/prcp_1990.nc\n",
      "data/fileio/netcdf_data/zipped/zipped_1991/12270_1991.zip/12270_1991/prcp.nc --> extracted_data/prcp_1991.nc\n",
      "data/fileio/netcdf_data/zipped/zipped_1992/12270_1992.zip/12270_1992/prcp.nc --> extracted_data/prcp_1992.nc\n",
      "data/fileio/netcdf_data/zipped/zipped_1993/12270_1993.zip/12270_1993/prcp.nc --> extracted_data/prcp_1993.nc\n",
      "data/fileio/netcdf_data/zipped/zipped_1994/12270_1994.zip/12270_1994/prcp.nc --> extracted_data/prcp_1994.nc\n",
      "data/fileio/netcdf_data/zipped/zipped_1995/12270_1995.zip/12270_1995/prcp.nc --> extracted_data/prcp_1995.nc\n",
      "data/fileio/netcdf_data/zipped/zipped_1996/12270_1996.zip/12270_1996/prcp.nc --> extracted_data/prcp_1996.nc\n",
      "data/fileio/netcdf_data/zipped/zipped_1997/12270_1997.zip/12270_1997/prcp.nc --> extracted_data/prcp_1997.nc\n",
      "data/fileio/netcdf_data/zipped/zipped_1998/12270_1998.zip/12270_1998/prcp.nc --> extracted_data/prcp_1998.nc\n",
      "data/fileio/netcdf_data/zipped/zipped_1999/12270_1999.zip/12270_1999/prcp.nc --> extracted_data/prcp_1999.nc\n",
      "data/fileio/netcdf_data/zipped/zipped_2000/12270_2000.zip/12270_2000/prcp.nc --> extracted_data/prcp_2000.nc\n",
      "data/fileio/netcdf_data/zipped/zipped_2001/12270_2001.zip/12270_2001/prcp.nc --> extracted_data/prcp_2001.nc\n",
      "data/fileio/netcdf_data/zipped/zipped_2002/12270_2002.zip/12270_2002/prcp.nc --> extracted_data/prcp_2002.nc\n",
      "data/fileio/netcdf_data/zipped/zipped_2003/12270_2003.zip/12270_2003/prcp.nc --> extracted_data/prcp_2003.nc\n",
      "data/fileio/netcdf_data/zipped/zipped_2004/12270_2004.zip/12270_2004/prcp.nc --> extracted_data/prcp_2004.nc\n",
      "data/fileio/netcdf_data/zipped/zipped_2005/12270_2005.zip/12270_2005/prcp.nc --> extracted_data/prcp_2005.nc\n",
      "data/fileio/netcdf_data/zipped/zipped_2006/12270_2006.zip/12270_2006/prcp.nc --> extracted_data/prcp_2006.nc\n",
      "data/fileio/netcdf_data/zipped/zipped_2007/12270_2007.zip/12270_2007/prcp.nc --> extracted_data/prcp_2007.nc\n",
      "data/fileio/netcdf_data/zipped/zipped_2008/12270_2008.zip/12270_2008/prcp.nc --> extracted_data/prcp_2008.nc\n",
      "data/fileio/netcdf_data/zipped/zipped_2009/12270_2009.zip/12270_2009/prcp.nc --> extracted_data/prcp_2009.nc\n",
      "data/fileio/netcdf_data/zipped/zipped_2010/12270_2010.zip/12270_2010/prcp.nc --> extracted_data/prcp_2010.nc\n",
      "data/fileio/netcdf_data/zipped/zipped_2011/12270_2011.zip/12270_2011/prcp.nc --> extracted_data/prcp_2011.nc\n",
      "data/fileio/netcdf_data/zipped/zipped_2012/12270_2012.zip/12270_2012/prcp.nc --> extracted_data/prcp_2012.nc\n",
      "data/fileio/netcdf_data/zipped/zipped_2013/12270_2013.zip/12270_2013/prcp.nc --> extracted_data/prcp_2013.nc\n",
      "data/fileio/netcdf_data/zipped/zipped_2014/12270_2014.zip/12270_2014/prcp.nc --> extracted_data/prcp_2014.nc\n",
      "data/fileio/netcdf_data/zipped/zipped_2015/12270_2015.zip/12270_2015/prcp.nc --> extracted_data/prcp_2015.nc\n",
      "data/fileio/netcdf_data/zipped/zipped_2016/12270_2016.zip/12270_2016/prcp.nc --> extracted_data/prcp_2016.nc\n",
      "data/fileio/netcdf_data/zipped/zipped_2017/12270_2017.zip/12270_2017/prcp.nc --> extracted_data/prcp_2017.nc\n"
     ]
    }
   ],
   "source": [
    "# declare a destination path\n",
    "dest_path = 'extracted_data'\n",
    "variable = 'prcp'\n",
    "\n",
    "for f in zipfiles:\n",
    "    with zipfile.ZipFile(f) as src:\n",
    "        # get the path to the source file and the year\n",
    "        _, fname = os.path.split(f)\n",
    "        name = os.path.splitext(fname)[0].replace('.tar', '')\n",
    "        srcfile = '{}/{}.nc'.format(name, variable)\n",
    "        year = name.split('_')[1]\n",
    "\n",
    "        # where we want the extracted .nc file to end up\n",
    "        destfile = os.path.join(dest_path, '{}_{}.nc'.format(variable, year))\n",
    "\n",
    "        # extract the srcfile path to the /daymet folder\n",
    "        # unfortunately this extracts the whole path, not just the file\n",
    "        src.extract(srcfile, dest_path)\n",
    "        # move the file up from subfolders to /daymet\n",
    "        shutil.move(os.path.join(dest_path, srcfile), dest_path)\n",
    "        # rename to include year\n",
    "        os.rename(os.path.join(dest_path, '{}.nc'.format(variable)),\n",
    "                  destfile)\n",
    "        # trash subfolders that were extracted\n",
    "        os.rmdir(os.path.join(dest_path, name))\n",
    "        print('{}/{} --> {}'.format(f, srcfile, destfile))"
   ]
  },
  {
   "cell_type": "code",
   "execution_count": null,
   "metadata": {},
   "outputs": [],
   "source": []
  },
  {
   "cell_type": "markdown",
   "metadata": {
    "collapsed": true
   },
   "source": [
    "## Bonus -- Determining the location of an executable\n",
    "\n",
    "There are often times that you run an executable that is nested somewhere deep within your system path.  It can often be a good idea to know exactly where that executable is located.  This might help you one day from accidently using an older version of an executable, such as MODFLOW."
   ]
  },
  {
   "cell_type": "code",
   "execution_count": 32,
   "metadata": {},
   "outputs": [],
   "source": [
    "# Define two functions to help determine 'which' program you are using\n",
    "def is_exe(fpath):\n",
    "    \"\"\"\n",
    "    Return True if fpath is an executable, otherwise return False\n",
    "    \"\"\"\n",
    "    return os.path.isfile(fpath) and os.access(fpath, os.X_OK)\n",
    "\n",
    "def which(program):\n",
    "    \"\"\"\n",
    "    Locate the program and return its full path.  Return\n",
    "    None if the program cannot be located.\n",
    "    \"\"\"\n",
    "    fpath, fname = os.path.split(program)\n",
    "    if fpath:\n",
    "        if is_exe(program):\n",
    "            return program\n",
    "    else:\n",
    "        # test for exe in current working directory\n",
    "        if is_exe(program):\n",
    "            return program\n",
    "        # test for exe in path statement\n",
    "        for path in os.environ[\"PATH\"].split(os.pathsep):\n",
    "            path = path.strip('\"')\n",
    "            exe_file = os.path.join(path, program)\n",
    "            if is_exe(exe_file):\n",
    "                return exe_file\n",
    "    return None"
   ]
  },
  {
   "cell_type": "code",
   "execution_count": 33,
   "metadata": {},
   "outputs": [],
   "source": [
    "which('MODFLOW-NWT_64.exe')"
   ]
  }
 ],
 "metadata": {
  "anaconda-cloud": {},
  "kernelspec": {
   "display_name": "python3 (pyclass)",
   "language": "python",
   "name": "pyclass"
  },
  "language_info": {
   "codemirror_mode": {
    "name": "ipython",
    "version": 3
   },
   "file_extension": ".py",
   "mimetype": "text/x-python",
   "name": "python",
   "nbconvert_exporter": "python",
   "pygments_lexer": "ipython3",
   "version": "3.7.3"
  }
 },
 "nbformat": 4,
 "nbformat_minor": 1
}
