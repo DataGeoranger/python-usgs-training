{
 "cells": [
  {
   "cell_type": "markdown",
   "metadata": {},
   "source": [
    "# Introduction to python for hydrologists &mdash; sys, path, shutil, and subprocess\n",
    "These four packages are part of the standard python library and provide very useful functionality for working with your operating system and files.  This notebook will provide explore these packages and demonstrate some of their functionality.  Online documentation is at [sys](https://docs.python.org/2/library/sys.html \"sys doc\"), [os](https://docs.python.org/2/library/os.html \"os doc\"), [shutil](https://docs.python.org/2/library/shutil.html \"shutil doc\"), and [subprocess](https://docs.python.org/2/library/subprocess.html \"subprocess doc\").\n",
    "\n",
    "Import things to cover:\n",
    "* sys: path\n",
    "* os: path, chdir, getcwd, listdir\n",
    "* shutil: copy, copytree, rmtree\n",
    "* subprocess: check_call, check_output"
   ]
  },
  {
   "cell_type": "markdown",
   "metadata": {},
   "source": [
    "## Sys Module\n",
    "\n",
    "System-specific parameters and functions.\n",
    "\n",
    "The following cells simply print some of the sys methods and attributes that you might find useful."
   ]
  },
  {
   "cell_type": "code",
   "execution_count": null,
   "metadata": {},
   "outputs": [],
   "source": [
    "import sys\n",
    "import os\n",
    "import shutil\n",
    "import subprocess\n",
    "import traceback\n",
    "import zipfile"
   ]
  },
  {
   "cell_type": "code",
   "execution_count": null,
   "metadata": {},
   "outputs": [],
   "source": [
    "print('sys.argv: ', sys.argv)"
   ]
  },
  {
   "cell_type": "code",
   "execution_count": null,
   "metadata": {},
   "outputs": [],
   "source": [
    "print('sys.byteorder: ', sys.byteorder)"
   ]
  },
  {
   "cell_type": "code",
   "execution_count": null,
   "metadata": {},
   "outputs": [],
   "source": [
    "print('sys.copyright: ', sys.copyright)"
   ]
  },
  {
   "cell_type": "code",
   "execution_count": null,
   "metadata": {},
   "outputs": [],
   "source": [
    "print('sys.float_info: ', sys.float_info)"
   ]
  },
  {
   "cell_type": "code",
   "execution_count": null,
   "metadata": {},
   "outputs": [],
   "source": [
    "print('The size of an integer is ', sys.getsizeof(1), ' bytes.')\n",
    "print('The size of a float is ', sys.getsizeof(1.0), ' bytes.')\n",
    "print('The size of the string \"Goldschlager\" is ', sys.getsizeof('Goldschlager'), ' bytes.')"
   ]
  },
  {
   "cell_type": "code",
   "execution_count": null,
   "metadata": {},
   "outputs": [],
   "source": [
    "try:\n",
    "    print(sys.getwindowsversion())\n",
    "except:\n",
    "    print('Why are you against windows?')"
   ]
  },
  {
   "cell_type": "code",
   "execution_count": null,
   "metadata": {},
   "outputs": [],
   "source": [
    "print(sys.prefix)"
   ]
  },
  {
   "cell_type": "code",
   "execution_count": null,
   "metadata": {},
   "outputs": [],
   "source": [
    "print(sys.version_info)"
   ]
  },
  {
   "cell_type": "code",
   "execution_count": null,
   "metadata": {},
   "outputs": [],
   "source": [
    "sys.platform"
   ]
  },
  {
   "cell_type": "markdown",
   "metadata": {},
   "source": [
    "## sys.path\n",
    "\n",
    "If you haven't seen `sys.path` already mentioned in a python script, you will soon.  `sys.path` is a list of directories.  This path list is used by python to search for python modules and packages.  If for some reason, you want to use a python package that is not installed in the main python folder, you can add directory containing your module to sys.path."
   ]
  },
  {
   "cell_type": "code",
   "execution_count": null,
   "metadata": {},
   "outputs": [],
   "source": [
    "print(sys.path)\n",
    "\n",
    "# Or more elegantly\n",
    "for pth in sys.path:\n",
    "    print(pth)"
   ]
  },
  {
   "cell_type": "markdown",
   "metadata": {},
   "source": [
    "A common way that we add a folder to sys.path is as follows:\n",
    "\n",
    "    pathtomymodule = os.path.join('..')\n",
    "    if pathtomymodule not in sys.path:\n",
    "        sys.path.append(pathtomymodule)\n",
    "\n",
    "This will allow us to import any modules or packages that are up one directory from the current working directory.  Keep this in mind as we use this throughout the class exercises."
   ]
  },
  {
   "cell_type": "markdown",
   "metadata": {},
   "source": [
    "## os Module\n",
    "Module for providing portable operating system functionality."
   ]
  },
  {
   "cell_type": "code",
   "execution_count": null,
   "metadata": {},
   "outputs": [],
   "source": [
    "print('os.name: ', os.name)"
   ]
  },
  {
   "cell_type": "code",
   "execution_count": null,
   "metadata": {},
   "outputs": [],
   "source": [
    "#environment variables stored in a dictionary\n",
    "print('os.environ: ', os.environ)\n",
    "print('\\n')\n",
    "\n",
    "#or we can look at them in a nicer format\n",
    "for k, v in os.environ.items():\n",
    "    print('{0} : {1}'.format(k, v))"
   ]
  },
  {
   "cell_type": "code",
   "execution_count": null,
   "metadata": {},
   "outputs": [],
   "source": [
    "cwd = os.getcwd()\n",
    "print(cwd)"
   ]
  },
  {
   "cell_type": "code",
   "execution_count": null,
   "metadata": {},
   "outputs": [],
   "source": [
    "#list all the entries in the specified directory. \n",
    "mylistofitems = os.listdir(os.getcwd())\n",
    "for thingy in mylistofitems:\n",
    "    if os.path.isdir(thingy):\n",
    "        print('directory: ', thingy)\n",
    "    else:\n",
    "        print('file: ', thingy)"
   ]
  },
  {
   "cell_type": "code",
   "execution_count": null,
   "metadata": {},
   "outputs": [],
   "source": [
    "# Example of changing the working directory\n",
    "old_wd = os.getcwd()\n",
    "\n",
    "# Go up one directory\n",
    "os.chdir('..')\n",
    "cwd = os.getcwd()\n",
    "print ('Now in: ', cwd)\n",
    "\n",
    "# Change back to original\n",
    "os.chdir(old_wd)\n",
    "cwd = os.getcwd()\n",
    "print('Switched back to: ', cwd)"
   ]
  },
  {
   "cell_type": "markdown",
   "metadata": {},
   "source": [
    "## Glob\n",
    "The glob library provides handy shorthand for listing files using patterns and wildcard (*) characters\n",
    "\n",
    "https://en.wikipedia.org/wiki/Glob_(programming)\n",
    "\n",
    "**Note!** Sorting of the files returned by `Glob` is platform-dependent. In general, if your code depends on a specific ordering of a list, it is best to explicitly sort it yourself using `sorted()` or `.sort()`, instead of depending on the behavior of an imported module.  \n",
    "https://arstechnica.com/information-technology/2019/10/chemists-discover-cross-platform-python-scripts-not-so-cross-platform/"
   ]
  },
  {
   "cell_type": "code",
   "execution_count": null,
   "metadata": {},
   "outputs": [],
   "source": [
    "import glob"
   ]
  },
  {
   "cell_type": "code",
   "execution_count": null,
   "metadata": {},
   "outputs": [],
   "source": [
    "# list all of the Jupyter notebooks in the current working directory\n",
    "glob.glob('*.ipynb')"
   ]
  },
  {
   "cell_type": "code",
   "execution_count": null,
   "metadata": {},
   "outputs": [],
   "source": [
    "sorted(glob.glob('*.ipynb'))"
   ]
  },
  {
   "cell_type": "markdown",
   "metadata": {},
   "source": [
    "## os.path\n",
    "\n",
    "os.path is a very widely used submodule of os.  In fact we use it in almost all of the class notebooks and scripts to deal with file system paths.  Some common os.path functions are:\n",
    "\n",
    "    os.path.join()\n",
    "    os.path.abspath()\n",
    "    os.path.exists()\n",
    "    os.path.isdir()\n",
    "    os.path.normpath()\n",
    "    os.path.split()\n",
    "    os.path.splitext()\n",
    "    \n",
    "A common attribute of os.path is:\n",
    "\n",
    "    os.path.sep\n",
    "    \n",
    "Experiment with these functions to gain a better understanding of what they do."
   ]
  },
  {
   "cell_type": "code",
   "execution_count": null,
   "metadata": {},
   "outputs": [],
   "source": []
  },
  {
   "cell_type": "markdown",
   "metadata": {},
   "source": [
    "## os.walk\n",
    "\n",
    "os.walk() is a great way to recursively generate all the file names and folders in a directory.  The following shows how it can be used to identify large directories."
   ]
  },
  {
   "cell_type": "code",
   "execution_count": null,
   "metadata": {},
   "outputs": [],
   "source": [
    "pth = os.path.join('..')\n",
    "for root, dirs, files in os.walk(pth):\n",
    "    mbytes = sum(os.path.getsize(os.path.join(root, name)) for name in files) / 1.e6\n",
    "    print('{:<50} --> {:10.2f} megabytes.'.format(root, mbytes))"
   ]
  },
  {
   "cell_type": "markdown",
   "metadata": {},
   "source": [
    "## shutil Module\n",
    "shutil is a high level file managment module for copying, moving, and deleting files and directories.\n",
    "\n",
    "The functions from shutil that you may find useful are:\n",
    "\n",
    "    shutil.copy()\n",
    "    shutil.copytree()\n",
    "    shutil.move()\n",
    "    shutil.rmtree()  #obviously, you need to be careful with this one!\n",
    "    \n",
    "Give these guys a shot and see what they do.  Remember, you can always get help by typing:\n",
    "\n",
    "    help(shutil.copy)\n"
   ]
  },
  {
   "cell_type": "code",
   "execution_count": null,
   "metadata": {},
   "outputs": [],
   "source": [
    "#try them here.  Be careful!\n"
   ]
  },
  {
   "cell_type": "code",
   "execution_count": null,
   "metadata": {},
   "outputs": [],
   "source": []
  },
  {
   "cell_type": "markdown",
   "metadata": {},
   "source": [
    "## subprocess Module\n",
    "\n",
    "The subprocess module offers a way to execute system commands.  This is how we will run MODFLOW, for example, but you can also use run any operating system command that you can type at the command line.\n",
    "\n",
    "subprocess.Popen() is the primary underlying function for running system commands, however, it is recommended that you use subprocess.check_output and subprocess.check_call instead.  Both of these functions use Popen.\n",
    "\n",
    "Take a look at the following help descriptions for check_output, and check_call.\n",
    "\n",
    "Note, that on Windows, you may commonly have to specify \"shell=True\" in order to access system commands."
   ]
  },
  {
   "cell_type": "code",
   "execution_count": null,
   "metadata": {},
   "outputs": [],
   "source": [
    "help(subprocess.check_output)"
   ]
  },
  {
   "cell_type": "code",
   "execution_count": null,
   "metadata": {},
   "outputs": [],
   "source": [
    "help(subprocess.check_call)"
   ]
  },
  {
   "cell_type": "code",
   "execution_count": null,
   "metadata": {},
   "outputs": [],
   "source": [
    "# if on mac/unix\n",
    "subprocess.check_output(['ls', '-l'], shell=True)"
   ]
  },
  {
   "cell_type": "code",
   "execution_count": null,
   "metadata": {},
   "outputs": [],
   "source": [
    "# if on Windows\n",
    "try:\n",
    "    output = subprocess.check_output(['dir'], shell=True)\n",
    "    output\n",
    "except:\n",
    "    print('Why are you against windows?')"
   ]
  },
  {
   "cell_type": "code",
   "execution_count": null,
   "metadata": {},
   "outputs": [],
   "source": [
    "# What is going on here?\n",
    "try:\n",
    "    subprocess.check_call(['dir'], shell=True)\n",
    "except Exception as e:\n",
    "    traceback.print_exc()"
   ]
  },
  {
   "cell_type": "markdown",
   "metadata": {},
   "source": [
    "## Zipfiles\n",
    "\n",
    "#### zip up one of the files in data/"
   ]
  },
  {
   "cell_type": "code",
   "execution_count": null,
   "metadata": {},
   "outputs": [],
   "source": [
    "with zipfile.ZipFile('junk.zip', 'w') as dest:\n",
    "    dest.write('data/430429089230301.dat')"
   ]
  },
  {
   "cell_type": "markdown",
   "metadata": {},
   "source": [
    "#### now extract it"
   ]
  },
  {
   "cell_type": "code",
   "execution_count": null,
   "metadata": {},
   "outputs": [],
   "source": [
    "with zipfile.ZipFile('junk.zip') as src:\n",
    "    src.extract('data/430429089230301.dat', path='data/extracted_data')"
   ]
  },
  {
   "cell_type": "markdown",
   "metadata": {},
   "source": [
    "## Testing Your Skills with a truly awful example:\n",
    "\n",
    "#### the problem:\n",
    "Pretend that the file `data/fileio/netcdf_data.zip` contains some climate data that we downloaded. If you open `data/fileio/netcdf_data.zip`, you'll see that within a subfolder `zipped` are a bunch of additional subfolders, each for a different year. Within each subfolder is another zipfile. Within each of these zipfiles is yet another subfolder, inside of which is the actual data file we want (`prcp.nc`). \n",
    "\n",
    "#### the goal:\n",
    "To extract all of these `prcp.nc` files into a single folder, after renaming them with their respective years (obtained from their enclosing folders or zip files). e.g.  \n",
    "```\n",
    "prcp_1980.nc\n",
    "prcp_1981.nc\n",
    "...\n",
    "```\n",
    "This will allow us to open them together as a dataset in `xarray` (more on that later). Does this sound awful? I'm not making this up. This is the kind of structure you get if when downloading tiles of climate data with the [Daymet Tile Selection Tool](https://daymet.ornl.gov/gridded/)\n",
    "\n",
    "#### hint:\n",
    "you might find these functions helpful:\n",
    "```\n",
    "glob.glob\n",
    "os.path.isdir\n",
    "os.makedirs\n",
    "zipfile.ZipFile\n",
    "os.path.split\n",
    "os.path.splitext\n",
    "os.path.join\n",
    "shutil.move\n",
    "os.rename\n",
    "os.rmdir\n",
    "```"
   ]
  },
  {
   "cell_type": "code",
   "execution_count": null,
   "metadata": {},
   "outputs": [],
   "source": [
    "# Write the code here!\n"
   ]
  },
  {
   "cell_type": "code",
   "execution_count": null,
   "metadata": {},
   "outputs": [],
   "source": []
  },
  {
   "cell_type": "markdown",
   "metadata": {
    "collapsed": true
   },
   "source": [
    "## Bonus -- Determining the location of an executable\n",
    "\n",
    "There are often times that you run an executable that is nested somewhere deep within your system path.  It can often be a good idea to know exactly where that executable is located.  This might help you one day from accidently using an older version of an executable, such as MODFLOW."
   ]
  },
  {
   "cell_type": "code",
   "execution_count": null,
   "metadata": {},
   "outputs": [],
   "source": [
    "# Define two functions to help determine 'which' program you are using\n",
    "def is_exe(fpath):\n",
    "    \"\"\"\n",
    "    Return True if fpath is an executable, otherwise return False\n",
    "    \"\"\"\n",
    "    return os.path.isfile(fpath) and os.access(fpath, os.X_OK)\n",
    "\n",
    "def which(program):\n",
    "    \"\"\"\n",
    "    Locate the program and return its full path.  Return\n",
    "    None if the program cannot be located.\n",
    "    \"\"\"\n",
    "    fpath, fname = os.path.split(program)\n",
    "    if fpath:\n",
    "        if is_exe(program):\n",
    "            return program\n",
    "    else:\n",
    "        # test for exe in current working directory\n",
    "        if is_exe(program):\n",
    "            return program\n",
    "        # test for exe in path statement\n",
    "        for path in os.environ[\"PATH\"].split(os.pathsep):\n",
    "            path = path.strip('\"')\n",
    "            exe_file = os.path.join(path, program)\n",
    "            if is_exe(exe_file):\n",
    "                return exe_file\n",
    "    return None"
   ]
  },
  {
   "cell_type": "code",
   "execution_count": null,
   "metadata": {},
   "outputs": [],
   "source": [
    "which('MODFLOW-NWT_64.exe')"
   ]
  }
 ],
 "metadata": {
  "anaconda-cloud": {},
  "kernelspec": {
   "display_name": "python3 (pyclass)",
   "language": "python",
   "name": "pyclass"
  },
  "language_info": {
   "codemirror_mode": {
    "name": "ipython",
    "version": 3
   },
   "file_extension": ".py",
   "mimetype": "text/x-python",
   "name": "python",
   "nbconvert_exporter": "python",
   "pygments_lexer": "ipython3",
   "version": "3.7.3"
  }
 },
 "nbformat": 4,
 "nbformat_minor": 1
}
