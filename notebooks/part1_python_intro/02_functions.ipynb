{
 "cells": [
  {
   "cell_type": "markdown",
   "metadata": {},
   "source": [
    "# Introduction to python for hydrologists &mdash; functions"
   ]
  },
  {
   "cell_type": "markdown",
   "metadata": {},
   "source": [
    "## Why use functions?\n",
    "\n",
    "functions are a great coding tool!  They allow to setup reusable bits of code that you might need over and over.  Using functions, you only have the write the code once, and, if you need to change it, only change it once.  \n",
    "\n",
    "We can create a function that writes the Fibonacci series to an arbitrary boundary:"
   ]
  },
  {
   "cell_type": "code",
   "execution_count": null,
   "metadata": {},
   "outputs": [],
   "source": [
    "def fib(n):    \n",
    "     \"\"\"Print a Fibonacci series up to n.\"\"\"\n",
    "     a, b = 0, 1\n",
    "     while a < n:\n",
    "        print(a)\n",
    "        a, b = b, a+b\n"
   ]
  },
  {
   "cell_type": "code",
   "execution_count": null,
   "metadata": {},
   "outputs": [],
   "source": [
    "a, b = 0, 1"
   ]
  },
  {
   "cell_type": "code",
   "execution_count": null,
   "metadata": {},
   "outputs": [],
   "source": [
    "help(fib)"
   ]
  },
  {
   "cell_type": "markdown",
   "metadata": {},
   "source": [
    "Now call the function we just defined:"
   ]
  },
  {
   "cell_type": "code",
   "execution_count": null,
   "metadata": {},
   "outputs": [],
   "source": [
    "fib(2000)"
   ]
  },
  {
   "cell_type": "markdown",
   "metadata": {},
   "source": [
    "The keyword ```def``` introduces a function definition. It must be followed by the function name and the parenthesized list of formal parameters or arguments. The statements that form the body of the function start at the next line, and must be indented.\n"
   ]
  },
  {
   "cell_type": "markdown",
   "metadata": {},
   "source": [
    "The first statement of the function body can optionally be a string literal; this string literal is the function’s documentation string, or docstring. (More about docstrings can be found in the section Documentation Strings.) There are tools which use docstrings to automatically produce online or printed documentation, or to let the user interactively browse through code; it’s good practice to include docstrings in code that you write, so make a habit of it.\n"
   ]
  },
  {
   "cell_type": "code",
   "execution_count": null,
   "metadata": {},
   "outputs": [],
   "source": []
  },
  {
   "cell_type": "markdown",
   "metadata": {},
   "source": [
    "The execution of a function introduces a new symbol table used for the local variables of the function. More precisely, all variable assignments in a function store the value in the local symbol table; whereas variable references first look in the local symbol table, then in the local symbol tables of enclosing functions, then in the global symbol table, and finally in the table of built-in names. Thus, global variables cannot be directly assigned a value within a function (unless named in a global statement), although they may be referenced.  In plain english, that means the varaibles that are formed and used within a function can only be used within the function, unless they are ```return```-ed - they are sent back.\n"
   ]
  },
  {
   "cell_type": "markdown",
   "metadata": {},
   "source": [
    "The actual parameters (arguments) to a function call are introduced in the local symbol table of the called function when it is called; thus, arguments are passed using call by value (where the value is always an object reference, not the value of the object). [1] When a function calls another function, a new local symbol table is created for that call.\n"
   ]
  },
  {
   "cell_type": "markdown",
   "metadata": {},
   "source": [
    "A function definition introduces the function name in the current symbol table. The value of the function name has a type that is recognized by the interpreter as a user-defined function. This value can be assigned to another name which can then also be used as a function. This serves as a general renaming mechanism:\n"
   ]
  },
  {
   "cell_type": "code",
   "execution_count": null,
   "metadata": {},
   "outputs": [],
   "source": [
    "fib"
   ]
  },
  {
   "cell_type": "code",
   "execution_count": null,
   "metadata": {},
   "outputs": [],
   "source": [
    "fib?"
   ]
  },
  {
   "cell_type": "code",
   "execution_count": null,
   "metadata": {},
   "outputs": [],
   "source": [
    "f = fib"
   ]
  },
  {
   "cell_type": "code",
   "execution_count": null,
   "metadata": {},
   "outputs": [],
   "source": [
    "f(200)"
   ]
  },
  {
   "cell_type": "markdown",
   "metadata": {},
   "source": [
    "Coming from other languages, you might object that fib is not a function but a procedure since it doesn’t return a value. In fact, even functions without a return statement do return a value, albeit a rather boring one. This value is called ```None``` (it’s a built-in name equivalent to null or not defined). Writing the value ```None``` is normally suppressed by the interpreter if it would be the only value written. You can see it if you really want to using print:\n"
   ]
  },
  {
   "cell_type": "code",
   "execution_count": null,
   "metadata": {},
   "outputs": [],
   "source": [
    "fib(0)\n",
    "print(fib(0))"
   ]
  },
  {
   "cell_type": "markdown",
   "metadata": {},
   "source": [
    "It is simple to write a function that returns a list of the numbers of the Fibonacci series, instead of printing it:"
   ]
  },
  {
   "cell_type": "code",
   "execution_count": null,
   "metadata": {},
   "outputs": [],
   "source": [
    " def fib2(n): # return Fibonacci series up to n\n",
    "     \"\"\"Return a list containing the Fibonacci series up to n.\"\"\"\n",
    "     result = []\n",
    "     a, b = 0, 1\n",
    "     while a < n:\n",
    "         result.append(a)    # see below\n",
    "         a, b = b, a+b\n",
    "     return result\n"
   ]
  },
  {
   "cell_type": "code",
   "execution_count": null,
   "metadata": {},
   "outputs": [],
   "source": [
    "fib2(100)"
   ]
  },
  {
   "cell_type": "code",
   "execution_count": null,
   "metadata": {},
   "outputs": [],
   "source": [
    "f100 = fib2(100)    # call it\n",
    "f100                # write the result"
   ]
  },
  {
   "cell_type": "markdown",
   "metadata": {},
   "source": [
    "This example, as usual, demonstrates some new Python features:\n",
    "\n",
    "The ```return``` statement returns with a value from a function. return without an expression argument returns None. Falling off the end of a function also returns None.\n",
    "\n",
    "## An object oriented preview aside: <span style=\"color:red\">terminology alert!!!</span>\n",
    "\n",
    "The statement ```result.append(a)``` calls a method of the ```list``` type object instance ```result```. A method is simply a function that ‘belongs’ to an object and is named obj.methodname, where obj is some object (this may be an expression), and methodname is the name of a method that is defined by the object’s type. Different types define different methods. Methods of different types may have the same name without causing ambiguity. (It is possible to define your own object types and methods, using classes, see Classes) The method append() shown in the example is defined for list objects; it adds a new element at the end of the list. In this example it is equivalent to result = result + [a], but more efficient."
   ]
  },
  {
   "cell_type": "markdown",
   "metadata": {},
   "source": [
    "<br><br>\n",
    "## back to functions\n",
    "\n",
    "It is also possible to define functions with a variable number of arguments. In ```python```, there are three forms function arguments which can be combined. Each of these forms get used a lot.\n",
    "\n",
    "The most user-friendly form of a function argument is to specify an argument which has a default value. This creates a function that can be called with fewer arguments, but that also allows greater flexility in controlling the behaviro within the function itself. \n",
    "\n",
    "For example:"
   ]
  },
  {
   "cell_type": "code",
   "execution_count": null,
   "metadata": {},
   "outputs": [],
   "source": [
    "import math\n",
    "\n",
    "def thiem(T, r, Q=1000., R=1.e+10, h0=0.0):\n",
    "    \"\"\"\n",
    "    A very simple example function\n",
    "    with a mixture of argument types.  \n",
    "    Solves the Thiem equation:\n",
    "    \n",
    "    h = (Q/2piT)*(ln(R/r)) + h0\n",
    "    \n",
    "    Parameters\n",
    "    ----------\n",
    "    \n",
    "    T: transmissivity\n",
    "    r: distance from pumping to observation\n",
    "    Q: pumping rate\n",
    "    R: distance to \"zero\" influence\n",
    "    h0: initial head\n",
    "    \n",
    "    Returns\n",
    "    -------\n",
    "    h: head\n",
    "    \"\"\"\n",
    "    first_term = Q/(2.0 * 3.14159 * T)\n",
    "    second_term = math.log(R/r)\n",
    "    return (first_term * second_term) + h0\n"
   ]
  },
  {
   "cell_type": "code",
   "execution_count": null,
   "metadata": {},
   "outputs": [],
   "source": [
    "help(thiem)"
   ]
  },
  {
   "cell_type": "markdown",
   "metadata": {},
   "source": [
    "This function *requires* both ```T``` and ```r```.  All the rest use the defaults if not explicitly passed in. The default values are evaluated at the point of function definition in the defining scope.\n",
    "\n",
    "Giving only mandatory arguments: `T`=100.0, `r`=300.0"
   ]
  },
  {
   "cell_type": "code",
   "execution_count": null,
   "metadata": {},
   "outputs": [],
   "source": [
    "thiem(100.0, 300.0)"
   ]
  },
  {
   "cell_type": "markdown",
   "metadata": {},
   "source": [
    "Giving one of the optional arguments using the implied position of `Q`: `T`=100.0, `r`=300.0, `Q`=500.0"
   ]
  },
  {
   "cell_type": "code",
   "execution_count": null,
   "metadata": {},
   "outputs": [],
   "source": [
    "thiem(100.0, 300.0, 10)"
   ]
  },
  {
   "cell_type": "markdown",
   "metadata": {},
   "source": [
    "Giving one of the optional arguments using the explicit argument name: `T`=100.0, `r`=300.0, `Q`=500.0"
   ]
  },
  {
   "cell_type": "code",
   "execution_count": null,
   "metadata": {},
   "outputs": [],
   "source": [
    "thiem(100.0, 300.0, Q=500.0)"
   ]
  },
  {
   "cell_type": "markdown",
   "metadata": {},
   "source": [
    "## Your turn\n",
    "\n",
    "1.) What is the thiem solution for `T`=1000.0, `r`=20.0?"
   ]
  },
  {
   "cell_type": "code",
   "execution_count": null,
   "metadata": {},
   "outputs": [],
   "source": []
  },
  {
   "cell_type": "markdown",
   "metadata": {},
   "source": [
    "2.) What is the Thiem solution for `T`=1000.0, `r`=20.0, `h0`=40.0?"
   ]
  },
  {
   "cell_type": "code",
   "execution_count": null,
   "metadata": {},
   "outputs": [],
   "source": []
  },
  {
   "cell_type": "markdown",
   "metadata": {},
   "source": [
    "3.) What is the Thiem solution for `T`=1000.0, `r`=20.0, `Q`=2000.0, `h0`=40.0"
   ]
  },
  {
   "cell_type": "code",
   "execution_count": null,
   "metadata": {},
   "outputs": [],
   "source": []
  },
  {
   "cell_type": "markdown",
   "metadata": {},
   "source": [
    "4.) What is the Thiem solution for `T`=1000.0, `r`=20.0, `Q`=2000.0, `h0`=40.0 if there is a lake 2000.0 units away?"
   ]
  },
  {
   "cell_type": "code",
   "execution_count": null,
   "metadata": {},
   "outputs": [],
   "source": []
  },
  {
   "cell_type": "markdown",
   "metadata": {},
   "source": [
    "5.) using a loop to accumulate Thiem results for `T`=1000.0, `r`=3000.0 for `Q` values ranging from 100.0 to 2000.0 by 100.0"
   ]
  },
  {
   "cell_type": "code",
   "execution_count": null,
   "metadata": {},
   "outputs": [],
   "source": []
  },
  {
   "cell_type": "markdown",
   "metadata": {},
   "source": [
    "6.) redefine the Thiem function to take a list as the `Q` argument and return a list of ```h``` results.  Call the new function ```thiem_list()```.  Then call ```thiem_list()``` using the same Q as in 5.) above"
   ]
  },
  {
   "cell_type": "code",
   "execution_count": null,
   "metadata": {},
   "outputs": [],
   "source": [
    "def thiem_list(T, r, Q=[1000.], R=1.e+10, h0=0.0):\n",
    "    \"\"\"\n",
    "    A very simple example function\n",
    "    with a mixture of argument types.  \n",
    "    Solves the Thiem equation:\n",
    "    \n",
    "    h = (Q/2piT)*(ln(R/r)) + h0\n",
    "    \n",
    "    Parameters\n",
    "    ----------\n",
    "    \n",
    "    T: transmissivity\n",
    "    r: distance from pumping to observation\n",
    "    Q: pumping rate\n",
    "    R: distance to \"zero\" influence\n",
    "    h0: initial head\n",
    "    \n",
    "    Returns\n",
    "    -------\n",
    "    h: list of head s\n",
    "    \"\"\"\n",
    "    h = []\n",
    "    for q in Q:\n",
    "        first_term = q/(2.0 * 3.14159 * T)\n",
    "        second_term = math.log(R/r)\n",
    "        result = (first_term * second_term) + h0\n",
    "        h.append(result)\n",
    "    return h\n"
   ]
  },
  {
   "cell_type": "code",
   "execution_count": null,
   "metadata": {},
   "outputs": [],
   "source": [
    "thiem_list(1000, 100, Q=[10, 20, 30])"
   ]
  },
  {
   "cell_type": "markdown",
   "metadata": {},
   "source": [
    "<br><br>\n",
    "# More on functions: ```lambda``` functions\n",
    "\n",
    "```lambda``` functions are a special type of function known as an \"in-line\" function.  They are present in virtually all modern programming langauges (not Fortran, that's not modern) and are usually high-optimized.  They allow you to quickly define a simple-ish function that can only accept a single, *required* argument.  The only reason to introduce them is because they appear frequently when using a python library named ```pandas``` that we will cover later."
   ]
  },
  {
   "cell_type": "markdown",
   "metadata": {},
   "source": [
    "The variable ```square``` is actually a function that squares (or attempts to) the single required argument that it is given"
   ]
  },
  {
   "cell_type": "code",
   "execution_count": null,
   "metadata": {},
   "outputs": [],
   "source": [
    "square = lambda x: x*x\n",
    "square"
   ]
  },
  {
   "cell_type": "code",
   "execution_count": null,
   "metadata": {},
   "outputs": [],
   "source": [
    "square(100)"
   ]
  },
  {
   "cell_type": "code",
   "execution_count": null,
   "metadata": {},
   "outputs": [],
   "source": [
    "square(\"not gonna work\")"
   ]
  },
  {
   "cell_type": "markdown",
   "metadata": {},
   "source": [
    "## Your turn\n",
    "\n",
    "*Define a* ```lambda``` *function that raises a number to the power of 3 then divides by 3*"
   ]
  },
  {
   "cell_type": "code",
   "execution_count": null,
   "metadata": {},
   "outputs": [],
   "source": [
    "power3 = lambda x: x**3/3"
   ]
  },
  {
   "cell_type": "code",
   "execution_count": null,
   "metadata": {},
   "outputs": [],
   "source": [
    "power3(3)"
   ]
  },
  {
   "cell_type": "markdown",
   "metadata": {},
   "source": [
    "*In a loop, pass you function all integers from 1 to 100*"
   ]
  },
  {
   "cell_type": "code",
   "execution_count": null,
   "metadata": {},
   "outputs": [],
   "source": []
  },
  {
   "cell_type": "markdown",
   "metadata": {},
   "source": [
    "*Rewrite the Thiem function from above as a* ```lambda``` *function that only accepts an argument for one variable (you chose) then \"sweep\" over that varaible with a* ```range``` *of values in loop*"
   ]
  },
  {
   "cell_type": "code",
   "execution_count": null,
   "metadata": {},
   "outputs": [],
   "source": [
    " "
   ]
  }
 ],
 "metadata": {
  "anaconda-cloud": {},
  "kernelspec": {
   "display_name": "Python 3",
   "language": "python",
   "name": "python3"
  },
  "language_info": {
   "codemirror_mode": {
    "name": "ipython",
    "version": 3
   },
   "file_extension": ".py",
   "mimetype": "text/x-python",
   "name": "python",
   "nbconvert_exporter": "python",
   "pygments_lexer": "ipython3",
   "version": "3.7.3"
  }
 },
 "nbformat": 4,
 "nbformat_minor": 1
}
