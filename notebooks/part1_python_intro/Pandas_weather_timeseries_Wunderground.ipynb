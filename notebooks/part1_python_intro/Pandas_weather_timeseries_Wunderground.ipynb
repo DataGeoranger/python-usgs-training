{
 "cells": [
  {
   "cell_type": "markdown",
   "metadata": {},
   "source": [
    "# Introduction to python for hydrologists &mdash; pandas\n",
    "\n",
    "## Exploring historical time series from Weather Underground"
   ]
  },
  {
   "cell_type": "code",
   "execution_count": null,
   "metadata": {},
   "outputs": [],
   "source": [
    "import os\n",
    "import shutil\n",
    "import pandas as pd\n",
    "import numpy as np\n",
    "import zipfile\n",
    "import datetime as dt\n",
    "import matplotlib.pyplot as plt\n",
    "%matplotlib inline\n",
    "\n",
    "from matplotlib.backends.backend_pdf import PdfPages"
   ]
  },
  {
   "cell_type": "markdown",
   "metadata": {
    "collapsed": true
   },
   "source": [
    "# Weather Underground Serves Local Weather data from Airports -- like SFO\n",
    "## We can pull it using historical data API, although currently offline....      :(\n",
    "\n",
    "## But....we can read it in from an Excel file we saved earlier"
   ]
  },
  {
   "cell_type": "code",
   "execution_count": null,
   "metadata": {},
   "outputs": [],
   "source": [
    "sfo_weather = pd.read_excel(os.path.join('data','pandas','wug_SFO.xlsx'),sheet_name='weather_data',\n",
    "                          index_col=[0])"
   ]
  },
  {
   "cell_type": "markdown",
   "metadata": {},
   "source": [
    "## We are going to need to convert the time index - formats described at:\n",
    "\n",
    "https://docs.python.org/3/library/datetime.html"
   ]
  },
  {
   "cell_type": "code",
   "execution_count": null,
   "metadata": {},
   "outputs": [],
   "source": [
    "sfo_weather.index = pd.to_datetime(sfo_weather.index, \n",
    "                                   format='%Y-%m-%d %H:%M:%S')"
   ]
  },
  {
   "cell_type": "code",
   "execution_count": null,
   "metadata": {},
   "outputs": [],
   "source": [
    "sfo_weather.index[0]"
   ]
  },
  {
   "cell_type": "code",
   "execution_count": null,
   "metadata": {},
   "outputs": [],
   "source": [
    "sfo_weather.resample('M').max().PrecipitationIn.plot()"
   ]
  },
  {
   "cell_type": "markdown",
   "metadata": {},
   "source": [
    "## We can aggregate over various times and calculate statistics"
   ]
  },
  {
   "cell_type": "code",
   "execution_count": null,
   "metadata": {},
   "outputs": [],
   "source": [
    "g = sfo_weather.groupby(sfo_weather.index.year)"
   ]
  },
  {
   "cell_type": "code",
   "execution_count": null,
   "metadata": {},
   "outputs": [],
   "source": [
    "g.aggregate([np.min, np.mean, np.max])['PrecipitationIn'].plot()"
   ]
  },
  {
   "cell_type": "code",
   "execution_count": null,
   "metadata": {},
   "outputs": [],
   "source": [
    "sfo_weather.columns"
   ]
  },
  {
   "cell_type": "code",
   "execution_count": null,
   "metadata": {},
   "outputs": [],
   "source": [
    "sfo_weather['Wind Direction'].unique()"
   ]
  },
  {
   "cell_type": "markdown",
   "metadata": {},
   "source": [
    "## let's convert these to degrees and radians and make a rose plot\n",
    "\n",
    "Conversions:\n",
    "http://blog.weatherflow.com/degrees-of-wind-direction-along-south-carolina-onshore-vs-offshore/"
   ]
  },
  {
   "cell_type": "code",
   "execution_count": null,
   "metadata": {},
   "outputs": [],
   "source": [
    "dir_str = ['WNW', 'Calm', 'NNW', 'NNE', 'North', 'NW', 'South', 'West', 'SSW',\n",
    "       'Variable', 'WSW', 'SW', 'NE', 'SSE', 'SE', 'East', 'ENE', 'ESE']\n",
    "dir_deg = np.array([52, 0, 60, 20, 64, 56, 32, 48, 36,\n",
    "               0, 44, 40, 8, 28, 24, 16, 12, 20])*360/64"
   ]
  },
  {
   "cell_type": "code",
   "execution_count": null,
   "metadata": {},
   "outputs": [],
   "source": [
    "wind_lookup = dict(zip(dir_str,dir_deg))"
   ]
  },
  {
   "cell_type": "code",
   "execution_count": null,
   "metadata": {},
   "outputs": [],
   "source": [
    "sfo_weather['wind_deg'] = [wind_lookup[i] for i in sfo_weather['Wind Direction']]"
   ]
  },
  {
   "cell_type": "markdown",
   "metadata": {},
   "source": [
    "### Convert to Radians"
   ]
  },
  {
   "cell_type": "code",
   "execution_count": null,
   "metadata": {},
   "outputs": [],
   "source": [
    "sfo_weather['wind_rad'] = sfo_weather.wind_deg* np.pi/180"
   ]
  },
  {
   "cell_type": "code",
   "execution_count": null,
   "metadata": {},
   "outputs": [],
   "source": [
    "sfo_weather['wind_deg'].hist(bins=50)"
   ]
  },
  {
   "cell_type": "code",
   "execution_count": null,
   "metadata": {},
   "outputs": [],
   "source": [
    "sfo_weather['wind_rad'].hist(bins=50)"
   ]
  },
  {
   "cell_type": "code",
   "execution_count": null,
   "metadata": {},
   "outputs": [],
   "source": [
    "counts, bins = np.histogram(sfo_weather['wind_rad'], bins=50)"
   ]
  },
  {
   "cell_type": "code",
   "execution_count": null,
   "metadata": {},
   "outputs": [],
   "source": [
    "counts"
   ]
  },
  {
   "cell_type": "code",
   "execution_count": null,
   "metadata": {},
   "outputs": [],
   "source": [
    "bins"
   ]
  },
  {
   "cell_type": "code",
   "execution_count": null,
   "metadata": {},
   "outputs": [],
   "source": [
    "bins=(bins[1:]+bins[:-1])/2"
   ]
  },
  {
   "cell_type": "code",
   "execution_count": null,
   "metadata": {},
   "outputs": [],
   "source": [
    "fig = plt.figure(figsize=(6,6))\n",
    "ax = fig.add_axes([0.1, 0.1, 0.8, 0.8], polar=True)\n",
    "ax.set_theta_zero_location(\"N\")\n",
    "ax.set_theta_direction(-1)\n",
    "widths = np.pi/4e5*counts\n",
    "bars = ax.bar(bins,counts, width=widths)\n"
   ]
  },
  {
   "cell_type": "markdown",
   "metadata": {},
   "source": [
    "## Cool -- is it seasonal?"
   ]
  },
  {
   "cell_type": "code",
   "execution_count": null,
   "metadata": {},
   "outputs": [],
   "source": [
    "# let's grab the calendar module to convert month numbers to names\n",
    "import calendar"
   ]
  },
  {
   "cell_type": "code",
   "execution_count": null,
   "metadata": {
    "scrolled": false
   },
   "outputs": [],
   "source": [
    "with PdfPages(os.path.join('data','monthly_wind_dir.pdf')) as outpdf:\n",
    "    for cn, cg in sfo_weather.groupby(sfo_weather.index.month):\n",
    "        print('plotting for {0}'.format(calendar.month_name[cn]))\n",
    "        counts, bins = np.histogram(cg['wind_rad'], bins=50)\n",
    "        bins = (bins[1:]+bins[:-1])/2\n",
    "        fig = plt.figure()\n",
    "        ax = fig.add_axes([0.1, 0.1, 0.8, 0.8], polar=True)\n",
    "        ax.set_theta_zero_location(\"N\")\n",
    "        ax.set_theta_direction(-1)\n",
    "        widths = np.pi/4e4*counts\n",
    "        bars = ax.bar(bins,counts, width=widths)\n",
    "        plt.title(calendar.month_name[cn])\n",
    "        outpdf.savefig()\n",
    "        plt.close()"
   ]
  },
  {
   "cell_type": "markdown",
   "metadata": {},
   "source": [
    "## Look at wind speed --- needs some cleaning"
   ]
  },
  {
   "cell_type": "code",
   "execution_count": null,
   "metadata": {},
   "outputs": [],
   "source": [
    "sfo_weather['Wind SpeedMPH'].unique()"
   ]
  },
  {
   "cell_type": "code",
   "execution_count": null,
   "metadata": {},
   "outputs": [],
   "source": [
    "sfo_weather.dtypes"
   ]
  },
  {
   "cell_type": "code",
   "execution_count": null,
   "metadata": {},
   "outputs": [],
   "source": [
    "sfo_weather['Wind SpeedMPH'] = [0 if i == 'Calm' else float(i) for i in sfo_weather['Wind SpeedMPH']]"
   ]
  },
  {
   "cell_type": "code",
   "execution_count": null,
   "metadata": {},
   "outputs": [],
   "source": [
    "sfo_weather['Wind SpeedMPH'].hist(bins=50)"
   ]
  },
  {
   "cell_type": "code",
   "execution_count": null,
   "metadata": {},
   "outputs": [],
   "source": [
    "len(sfo_weather.loc[sfo_weather['Wind SpeedMPH']>50])"
   ]
  },
  {
   "cell_type": "code",
   "execution_count": null,
   "metadata": {},
   "outputs": [],
   "source": [
    "sfo_weather['Wind SpeedMPH'] = [0 if i == 'Calm' else np.nan if float(i) > 55 else float(i) for i in sfo_weather['Wind SpeedMPH']]"
   ]
  },
  {
   "cell_type": "code",
   "execution_count": null,
   "metadata": {},
   "outputs": [],
   "source": [
    "sfo_weather['Wind SpeedMPH'].describe()"
   ]
  },
  {
   "cell_type": "markdown",
   "metadata": {},
   "source": [
    "## Is there fog at SFO?"
   ]
  },
  {
   "cell_type": "code",
   "execution_count": null,
   "metadata": {},
   "outputs": [],
   "source": [
    "sfo_weather.VisibilityMPH.unique()"
   ]
  },
  {
   "cell_type": "code",
   "execution_count": null,
   "metadata": {},
   "outputs": [],
   "source": [
    "sfo_weather.VisibilityMPH[sfo_weather.VisibilityMPH>50].count()"
   ]
  },
  {
   "cell_type": "code",
   "execution_count": null,
   "metadata": {},
   "outputs": [],
   "source": [
    "sfo_weather.loc[sfo_weather.VisibilityMPH>50,'VisibilityMPH'] = np.nan"
   ]
  },
  {
   "cell_type": "code",
   "execution_count": null,
   "metadata": {},
   "outputs": [],
   "source": [
    "sfo_weather.VisibilityMPH[sfo_weather.VisibilityMPH>50].count()"
   ]
  },
  {
   "cell_type": "code",
   "execution_count": null,
   "metadata": {},
   "outputs": [],
   "source": [
    "sfo_weather.VisibilityMPH.hist()"
   ]
  },
  {
   "cell_type": "code",
   "execution_count": null,
   "metadata": {},
   "outputs": [],
   "source": [
    "for cn, cg in sfo_weather.groupby(sfo_weather.index.month):\n",
    "    plt.figure()\n",
    "    cg.VisibilityMPH.hist()\n",
    "    plt.title(calendar.month_name[cn])\n",
    "    "
   ]
  },
  {
   "cell_type": "markdown",
   "metadata": {},
   "source": [
    "## Let's look at Gusts. More data cleaning!"
   ]
  },
  {
   "cell_type": "code",
   "execution_count": null,
   "metadata": {},
   "outputs": [],
   "source": [
    "sfo_weather['Gust SpeedMPH'].unique()"
   ]
  },
  {
   "cell_type": "code",
   "execution_count": null,
   "metadata": {},
   "outputs": [],
   "source": [
    "sfo_weather.loc[sfo_weather['Gust SpeedMPH']=='-','Gust SpeedMPH'] = np.nan\n",
    "sfo_weather['Gust SpeedMPH'] = sfo_weather['Gust SpeedMPH'].astype(float)"
   ]
  },
  {
   "cell_type": "code",
   "execution_count": null,
   "metadata": {},
   "outputs": [],
   "source": [
    "sfo_weather['Gust SpeedMPH'].hist()"
   ]
  },
  {
   "cell_type": "code",
   "execution_count": null,
   "metadata": {},
   "outputs": [],
   "source": [
    "sfo_weather['Gust SpeedMPH'].groupby(sfo_weather.index.year).aggregate([np.min, np.mean, np.max]).plot(kind='bar')"
   ]
  },
  {
   "cell_type": "code",
   "execution_count": null,
   "metadata": {},
   "outputs": [],
   "source": [
    "sfo_weather['Gust SpeedMPH'].groupby(sfo_weather.index.month).aggregate([np.min, np.mean, np.max]).plot(kind='bar')"
   ]
  },
  {
   "cell_type": "markdown",
   "metadata": {},
   "source": [
    "## Which is the most variable month for gusts"
   ]
  },
  {
   "cell_type": "code",
   "execution_count": null,
   "metadata": {},
   "outputs": [],
   "source": [
    "fig = plt.figure(figsize=(10,4))\n",
    "ax = fig.add_axes([0.1, 0.1, 0.8, 0.8])\n",
    "sfo_weather['Gust SpeedMPH'].groupby(sfo_weather.index.month).aggregate(np.std).plot(kind='bar')\n",
    "ax.set_xticklabels([calendar.month_name[i] for i in list(range(1,13))]);"
   ]
  },
  {
   "cell_type": "code",
   "execution_count": null,
   "metadata": {},
   "outputs": [],
   "source": [
    "sfo_weather['Gust SpeedMPH'].groupby(sfo_weather.index.day).aggregate(\n",
    "    [np.min, np.mean, np.max]).plot(kind='bar', figsize=(10,4))"
   ]
  },
  {
   "cell_type": "code",
   "execution_count": null,
   "metadata": {},
   "outputs": [],
   "source": []
  },
  {
   "cell_type": "code",
   "execution_count": null,
   "metadata": {},
   "outputs": [],
   "source": []
  }
 ],
 "metadata": {
  "kernelspec": {
   "display_name": "Python 3",
   "language": "python",
   "name": "python3"
  },
  "language_info": {
   "codemirror_mode": {
    "name": "ipython",
    "version": 3
   },
   "file_extension": ".py",
   "mimetype": "text/x-python",
   "name": "python",
   "nbconvert_exporter": "python",
   "pygments_lexer": "ipython3",
   "version": "3.6.4"
  }
 },
 "nbformat": 4,
 "nbformat_minor": 2
}
