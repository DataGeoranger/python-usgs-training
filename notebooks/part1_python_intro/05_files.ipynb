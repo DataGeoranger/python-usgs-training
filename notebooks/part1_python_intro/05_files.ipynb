{
 "cells": [
  {
   "cell_type": "markdown",
   "metadata": {},
   "source": [
    "# Introduction to python for hydrologists &mdash; file input and output\n",
    "\n",
    "In this exercise we will be learning about using python to work with file input and output. We will also learn a little about reading and writing formatted ascii files, binary files, and retrieving data from the web to creat plots and data files. \n",
    "\n",
    "### Initialization of Notebook\n",
    "Populate the interactive namespace from numpy and matplotlib."
   ]
  },
  {
   "cell_type": "code",
   "execution_count": null,
   "metadata": {},
   "outputs": [],
   "source": [
    "import sys\n",
    "import os\n",
    "import traceback\n",
    "import numpy as np\n",
    "import matplotlib.pyplot as plt\n",
    "\n",
    "pthnb = os.path.join('data', 'fileio')\n",
    "if not os.path.exists(pthnb):\n",
    "    os.makedirs(pthnb)"
   ]
  },
  {
   "cell_type": "markdown",
   "metadata": {},
   "source": [
    "### Exercise sources\n",
    "http://openbookproject.net/thinkcs/python/english3e/files.html"
   ]
  },
  {
   "cell_type": "markdown",
   "metadata": {},
   "source": [
    "### About files\n",
    "While a program is running, its data is stored in random access memory (RAM). RAM is fast and inexpensive, but it is also **volatile**, which means that when the program ends, or the computer shuts down, data in RAM disappears. To make data available the next time the computer is turned on and the program is started, it has to be written to a non-volatile storage medium, such a hard drive, usb drive, or CD-RW.\n",
    "\n",
    "Data on **non-volatile** storage media is stored in named locations on the media called **files**. By reading and writing files, programs can save information between program runs.\n",
    "\n",
    "Working with files is a lot like working with a notebook. To use a notebook, it has to be opened. When done, it has to be closed. While the notebook is open, it can either be read from or written to. In either case, the notebook holder knows where they are. They can read the whole notebook in its natural order or they can skip around.\n",
    "\n",
    "All of this applies to files as well. To open a file, we specify its name and indicate whether we want to read or write.\n",
    "\n",
    "### Writing our first file\n",
    "Let’s begin with a simple program that writes three lines of text into a file:"
   ]
  },
  {
   "cell_type": "code",
   "execution_count": null,
   "metadata": {},
   "outputs": [],
   "source": [
    "fname = os.path.join(pthnb,'test.txt')\n",
    "myfile = open(fname, 'w')\n",
    "myfile.write('My first file written from Python\\n')\n",
    "myfile.write('---------------------------------\\n')\n",
    "myfile.write('Hello, world!\\n')\n",
    "myfile.close()"
   ]
  },
  {
   "cell_type": "markdown",
   "metadata": {},
   "source": [
    "Opening a file creates what we call a file **handle**. In this example, the variable myfile refers to the new handle object. Our program calls methods on the handle, and this makes changes to the actual file which is usually located on our disk.\n",
    "\n",
    "On line 1, the open function takes two arguments. The first is the name of the file, and the second is the mode. Mode \"w\" means that we are opening the file for writing.\n",
    "\n",
    "With mode \"w\", if there is no file named test.txt on the disk, it will be created. If there already is one, it will be replaced by the file we are writing.\n",
    "\n",
    "To put data in the file we invoke the write method on the handle, shown in lines 2, 3 and 4 above. In bigger programs, lines 2–4 will usually be replaced by a loop that writes many more lines into the file.\n",
    "\n",
    "Closing the file handle (line 5) tells the system that we are done writing and makes the disk file available for reading by other programs (or by our own program)."
   ]
  },
  {
   "cell_type": "markdown",
   "metadata": {},
   "source": [
    "### Reading a file line-at-a-time\n",
    "Now that the file exists on our disk, we can open it, this time for reading, and read all the lines in the file, one at a time. This time, the mode argument is `'r'` for reading:"
   ]
  },
  {
   "cell_type": "code",
   "execution_count": null,
   "metadata": {},
   "outputs": [],
   "source": [
    "mynewhandle = open(fname, 'r')\n",
    "while True:                            # Keep reading forever\n",
    "    theline = mynewhandle.readline()   # Try to read next line\n",
    "    if len(theline) == 0:              # If there are no more lines\n",
    "        break                          #     leave the loop\n",
    "    # Now process the line we've just read\n",
    "    print(theline.rstrip())\n",
    "mynewhandle.close()"
   ]
  },
  {
   "cell_type": "markdown",
   "metadata": {},
   "source": [
    "In bigger programs, we’d squeeze more extensive logic into the body of the loop at the `print` statement. For example, if each line of the file contained the name and email address of one of our friends, perhaps we’d split the line into some pieces and call a function to send the friend a party invitation.\n",
    "\n",
    "We suppress the newline character (`'\\n'`) in the string `theline` using `.rstrip()`. Why? \n",
    "\n",
    "This is because the string already has its own newline : the `readline` method in line 3 returns everything up to and including the newline character. This also explains the end-of-file detection logic: when there are no more lines to be read from the file, `readline` returns an empty string — one that does not even have a newline at the end, hence its length is 0.\n",
    "\n",
    "See https://docs.python.org/2/library/string.html for more information on common string operations."
   ]
  },
  {
   "cell_type": "markdown",
   "metadata": {},
   "source": [
    "### What if we open a file that does not exist\n",
    "If we try to open a file that does not exist, we get an error:"
   ]
  },
  {
   "cell_type": "code",
   "execution_count": null,
   "metadata": {},
   "outputs": [],
   "source": [
    "try:\n",
    "    mynewhandle = open('wharrah.txt', 'r')\n",
    "except Exception as e:\n",
    "    traceback.print_exc()    "
   ]
  },
  {
   "cell_type": "markdown",
   "metadata": {},
   "source": [
    "### Class Activity 1\n",
    "\n",
    "Write and read your own file. Use the completed code blocks above as a template. **Don't be ashamed to adapt code you got from someone else or on the internet to accomplish something useful.**"
   ]
  },
  {
   "cell_type": "code",
   "execution_count": null,
   "metadata": {},
   "outputs": [],
   "source": []
  },
  {
   "cell_type": "code",
   "execution_count": null,
   "metadata": {},
   "outputs": [],
   "source": []
  },
  {
   "cell_type": "markdown",
   "metadata": {},
   "source": [
    "### File paths\n",
    "Files on non-volatile storage media are organized by a set of rules known as a **file system**. File systems are made up of files and **directories**, which are containers for both files and other directories.\n",
    "\n",
    "By default, when we create a new file by opening it goes in the current directory (wherever we were when we ran the program). Similarly, when we open a file for reading, Python looks for it in the current directory. In the above example, we have used `os.path.join()` to write the file to a specific directory rather than the directory we are running this notebook from. If `'test.txt'` was used in the `open` statement, the file would have been written to the current working directory. The current working directory can be determined using:"
   ]
  },
  {
   "cell_type": "code",
   "execution_count": null,
   "metadata": {},
   "outputs": [],
   "source": [
    "os.getcwd()"
   ]
  },
  {
   "cell_type": "markdown",
   "metadata": {},
   "source": [
    "Determine the directory that we wrote `'test.txt'` (`fname`) to in the blank code block below using `os.path.abspath()`:"
   ]
  },
  {
   "cell_type": "code",
   "execution_count": null,
   "metadata": {},
   "outputs": [],
   "source": [
    "os.path.abspath(fname)"
   ]
  },
  {
   "cell_type": "markdown",
   "metadata": {},
   "source": [
    "On Windows, a full path could look like `'C:\\\\temp\\\\somefile.txt'`, while on MacOSX, Linux, and Unix systems the full path could be `'/home/jimmy/somefile.txt'`. Because backslashes are used to escape things like newlines and tabs, we need to write two backslashes in a literal string to get one! So the length of these two strings is the same!\n",
    "\n",
    "We cannot use `/` or `\\` as part of a filename; they are reserved as a delimiter between directory and filenames.\n",
    "\n",
    "`os.path` includes a number of useful methods for manipulating pathnames. For example, `os.path.normpath(path)` can be used to take Unix style paths into paths that can be used with Windows.\n",
    "\n",
    "Take a look at https://docs.python.org/2/library/os.path.html for more information of `os.path` methods."
   ]
  },
  {
   "cell_type": "markdown",
   "metadata": {},
   "source": [
    "### Turning a file into a list of lines\n",
    "It is often useful to fetch data from a disk file and turn it into a list of lines. Suppose we have a file containing our friends and their email addresses, one per line in the file. But we’d like the lines sorted into alphabetical order. A good plan is to read everything into a list of lines, then sort the list, then write the sorted list back to another file, and then read the sorted file and print the data from the file:"
   ]
  },
  {
   "cell_type": "code",
   "execution_count": null,
   "metadata": {},
   "outputs": [],
   "source": [
    "fname = os.path.join(pthnb, 'friends.txt')\n",
    "f = open(fname, 'r')\n",
    "xs = f.readlines()\n",
    "f.close()\n",
    "\n",
    "xs.sort()\n",
    "\n",
    "gname = os.path.join(pthnb, 'sortedfriends.txt')\n",
    "g = open(gname, 'w')\n",
    "for v in xs:\n",
    "    g.write(v)\n",
    "g.close()\n",
    "\n",
    "mynewhandle = open(gname, 'r')\n",
    "while True:                            # Keep reading forever\n",
    "    theline = mynewhandle.readline()   # Try to read next line\n",
    "    if len(theline) == 0:              # If there are no more lines\n",
    "        break                          #     leave the loop\n",
    "    # Now process the line we've just read\n",
    "    print(theline.rstrip())\n",
    "mynewhandle.close()"
   ]
  },
  {
   "cell_type": "markdown",
   "metadata": {},
   "source": [
    "### Adding data from a file to a list of select data\n",
    "It is also useful to fetch data from a disk file, extracting the data from the lines read from the disk file, and add select data to a list. We will read the the names of our friends from the sorted file we just created, and add the last name, the first name and the email address to a list. We will then print the list:"
   ]
  },
  {
   "cell_type": "code",
   "execution_count": null,
   "metadata": {},
   "outputs": [],
   "source": [
    "mynewhandle = open(gname, 'r')\n",
    "mylist = []\n",
    "for theline in mynewhandle: \n",
    "    t = theline.strip().split(',')\n",
    "    mylist.append([t[0].strip(), t[1].strip(), t[3].strip()])\n",
    "mynewhandle.close()\n",
    "\n",
    "for [ln, fn, e] in mylist:\n",
    "    print('{0:20s}, {1:1s}.: {2}'.format(ln, fn[0], e))"
   ]
  },
  {
   "cell_type": "markdown",
   "metadata": {},
   "source": [
    "### Class Activity 2\n",
    "\n",
    "1. What does the `split()` method do?\n",
    "2. What does `fn[0]` do? What would `fn[:2]` do? What is `mylist[2]`?\n",
    "\n",
    "Use the empty code blocks below to answer these questions. **Remember it os ok to use the internet as a crutch.**"
   ]
  },
  {
   "cell_type": "code",
   "execution_count": null,
   "metadata": {},
   "outputs": [],
   "source": []
  },
  {
   "cell_type": "code",
   "execution_count": null,
   "metadata": {},
   "outputs": [],
   "source": []
  },
  {
   "cell_type": "markdown",
   "metadata": {},
   "source": [
    "### String format statements\n",
    "\n",
    "“Format specifications” are used within replacement fields contained within a format string to define how individual values are presented. They can also be passed directly to the built-in `format()` function. Each formattable type may define how the format specification is to be interpreted.\n",
    "\n",
    "Most built-in types implement the following options for format specifications, although some of the formatting options are only supported by the numeric types.\n",
    "\n",
    "A general convention is that an empty format string (`''`) produces the same result as if you had called `str()` on the value. A non-empty format string typically modifies the result.\n",
    "\n",
    "**The general form of a standard format specifier is:**\n",
    "\n",
    "* format_spec :   `[[fill]align][sign][#][0][width][,][.precision][type]`\n",
    "\n",
    "* fill        :   `<any character> `\n",
    "\n",
    "* align       :   `'<'.  '>'.  '='.  '^'`\n",
    "\n",
    "* sign        :   `'+', '-', ' '` \n",
    "\n",
    "* width       :   `integer`\n",
    "\n",
    "* precision   :   `integer`\n",
    "\n",
    "* type        :  `'b', 'c', 'd', 'e', 'E', 'f', 'F', 'g', 'G', 'n', 'o', 's', 'x', 'X', ,'%'`\n",
    "\n",
    "If a valid *align* value is specified, it can be preceded by a *fill* character that can be any character and defaults to a space if omitted. Note that it is not possible to use { and } as *fill* `char` while using the `str.format()` method; this limitation however doesn’t affect the `format()` function.\n",
    "\n",
    "**The meaning of the various alignment options is as follows:**\n",
    "\n",
    "**Option**\n",
    "\n",
    "* `'<'`\t: Forces the field to be left-aligned within the available space (this is the default for most objects).\n",
    "* `'>'`\t: Forces the field to be right-aligned within the available space (this is the default for numbers).\n",
    "* `'='`\t: Forces the padding to be placed after the sign (if any) but before the digits. This is used for printing fields in the form ‘+000000120’. : This alignment option is only valid for numeric types.\n",
    "* `'^'`\t: Forces the field to be centered within the available space.\n",
    "\n",
    "Note that unless a minimum field width is defined, the field width will always be the same size as the data to fill it, so that the alignment option has no meaning in this case.\n",
    "\n",
    "The sign option is only valid for number types, and can be one of the following:\n",
    "\n",
    "**Option**\n",
    "\n",
    "* `'+'`\t: indicates that a sign should be used for both positive as well as negative numbers.\n",
    "* `'-'`\t: indicates that a sign should be used only for negative numbers (this is the default behavior).\n",
    "* `space`\t: indicates that a leading space should be used on positive numbers, and a minus sign on negative numbers.\n",
    "\n",
    "The `','` option signals the use of a comma for a thousands separator.\n"
   ]
  },
  {
   "cell_type": "markdown",
   "metadata": {},
   "source": [
    "Accessing arguments by position:"
   ]
  },
  {
   "cell_type": "code",
   "execution_count": null,
   "metadata": {},
   "outputs": [],
   "source": [
    "print('{0}, {1}, {2}'.format('a', 'b', 'c'))\n",
    "print('{}, {}, {}'.format('a', 'b', 'c'))  # 2.7+ only\n",
    "print('{2}, {1}, {0}'.format('a', 'b', 'c'))\n",
    "print('{2}, {1}, {0}'.format(*'abc'))      # unpacking argument sequence\n",
    "print('{0}{1}{0}'.format('abra', 'cad'))   # arguments' indices can be repeated"
   ]
  },
  {
   "cell_type": "markdown",
   "metadata": {},
   "source": [
    "Accessing arguments by name:"
   ]
  },
  {
   "cell_type": "code",
   "execution_count": null,
   "metadata": {},
   "outputs": [],
   "source": [
    "print('Coordinates: {latitude}, {longitude}'.format(latitude='37.24N', longitude='-115.81W'))\n",
    "coord = {'latitude': '37.24N', 'longitude': '-115.81W'}\n",
    "print('Coordinates: {latitude}, {longitude}'.format(**coord))"
   ]
  },
  {
   "cell_type": "markdown",
   "metadata": {},
   "source": [
    "Accessing arguments’ items:"
   ]
  },
  {
   "cell_type": "code",
   "execution_count": null,
   "metadata": {},
   "outputs": [],
   "source": [
    "coord = (3, 5)\n",
    "print('X: {0[0]};  Y: {0[1]}'.format(coord))"
   ]
  },
  {
   "cell_type": "markdown",
   "metadata": {},
   "source": [
    "Aligning the text and specifying a width:"
   ]
  },
  {
   "cell_type": "code",
   "execution_count": null,
   "metadata": {},
   "outputs": [],
   "source": [
    "print('{:<30}'.format('left aligned'))\n",
    "print('{:>30}'.format('right aligned'))\n",
    "print('{:^30}'.format('centered'))\n",
    "print('{:*^30}'.format('centered'))  # use '*' as a fill char"
   ]
  },
  {
   "cell_type": "markdown",
   "metadata": {},
   "source": [
    "Replacing %+f, %-f, and % f and specifying a sign:"
   ]
  },
  {
   "cell_type": "code",
   "execution_count": null,
   "metadata": {},
   "outputs": [],
   "source": [
    "print('{:+f}; {:+f}'.format(3.14, -3.14))  # show it always\n",
    "print('{: f}; {: f}'.format(3.14, -3.14))  # show a space for positive numbers\n",
    "print(' {:-f}; {:-f}'.format(3.14, -3.14))  # show only the minus -- same as '{:f}; {:f}'"
   ]
  },
  {
   "cell_type": "markdown",
   "metadata": {},
   "source": [
    "Using the comma as a thousands separator:"
   ]
  },
  {
   "cell_type": "code",
   "execution_count": null,
   "metadata": {},
   "outputs": [],
   "source": [
    "print('{:,}'.format(1234567890))"
   ]
  },
  {
   "cell_type": "markdown",
   "metadata": {},
   "source": [
    "Expressing a percentage:"
   ]
  },
  {
   "cell_type": "code",
   "execution_count": null,
   "metadata": {},
   "outputs": [],
   "source": [
    "points = 19.5\n",
    "total = 22\n",
    "print('Correct answers: {:.2%}'.format(points/total))"
   ]
  },
  {
   "cell_type": "markdown",
   "metadata": {},
   "source": [
    "Using type-specific formatting:"
   ]
  },
  {
   "cell_type": "code",
   "execution_count": null,
   "metadata": {},
   "outputs": [],
   "source": [
    "import datetime\n",
    "d = datetime.datetime(2010, 7, 4, 12, 15, 58)\n",
    "print('{:%Y-%m-%d %H:%M:%S}'.format(d))"
   ]
  },
  {
   "cell_type": "markdown",
   "metadata": {},
   "source": [
    "These string formatting examples are from https://docs.python.org/2/library/string.html#formatstrings.\n",
    "\n",
    "### Class Activity 3\n",
    "Use the empty code blocks below to write the following:\n",
    "\n",
    "1. print `'MODFLOW', 1., 1999'`. Enter them in this order in the format method but print them in reverse order.\n",
    "2. print `'MODFLOW', 'SUTRA'` left and right justified in 25 character strings.\n",
    "3. print `'MODFLOW'` three times and centered in a 10 character string but only include it once in the format method."
   ]
  },
  {
   "cell_type": "code",
   "execution_count": null,
   "metadata": {},
   "outputs": [],
   "source": []
  },
  {
   "cell_type": "code",
   "execution_count": null,
   "metadata": {},
   "outputs": [],
   "source": []
  },
  {
   "cell_type": "markdown",
   "metadata": {},
   "source": [
    "#### Reading and interpreting fixed format data from a string\n",
    "\n",
    "The following example shows how python can be used to parse a fixed format string with touching numbers. This can be difficult to do in other programming languages."
   ]
  },
  {
   "cell_type": "code",
   "execution_count": null,
   "metadata": {},
   "outputs": [],
   "source": [
    "d = '01.1102.2203.3304.4405.5506.6607.7708.8809.9910.1011.1112.1213.1314.1415.1516.1617.1718.1819.1920.20'\n",
    "rawdata = []\n",
    "width = 5\n",
    "istart, istop = 0, width\n",
    "for idx in range(0, len(d), width):\n",
    "    rawdata.append(d[istart:istop])\n",
    "    istart = istop\n",
    "    istop += width\n",
    "fd = np.empty((len(rawdata)), np.float)\n",
    "for idx, raw in enumerate(rawdata):\n",
    "    fd[idx] = float(raw)\n",
    "print(fd)"
   ]
  },
  {
   "cell_type": "markdown",
   "metadata": {},
   "source": [
    "### Reading the whole file at once\n",
    "Another way of working with text files is to read the complete contents of the file into a string, and then to use our string-processing skills to work with the contents.\n",
    "\n",
    "We’d normally use this method of processing files if we were not interested in the line structure of the file. Prior to the `split()`, we replace all commas (`','`) in the line with no space (`''`) and double spaces (`'  '`) with a single space (`' '`). And finally, we replace the line termination string (`'\\n'`) with a comma and a space (`', '`). So here is how we might count the number of words in a file:"
   ]
  },
  {
   "cell_type": "code",
   "execution_count": null,
   "metadata": {},
   "outputs": [],
   "source": [
    "f = open(gname)\n",
    "content = f.read()\n",
    "f.close()\n",
    "\n",
    "# remove commas and double spaces from line\n",
    "content = content.replace(',','')\n",
    "content = content.replace('  ',' ')\n",
    "# replace line ending with \", \"\n",
    "content = content.replace('\\n',', ')\n",
    "\n",
    "words = content.split()\n",
    "print('There are {0} words in the file.'.format(len(words)))\n",
    "\n",
    "print('{0}'.format(content))"
   ]
  },
  {
   "cell_type": "markdown",
   "metadata": {},
   "source": [
    "Notice here that we left out the `'r'` mode in the `open()` statement. By default, if we don’t supply the mode, Python opens the file for reading."
   ]
  },
  {
   "cell_type": "markdown",
   "metadata": {},
   "source": [
    "### Working with binary files\n",
    "Files that hold photographs, videos, zip files, executable programs, etc. are called binary files. Binary files are not organized into lines, and cannot be opened with a normal text editor. MODFLOW and MT3DMS commonly write output data as binary files. So being able to use python to work with binary files can be a useful skill.\n",
    "\n",
    "We will use the numpy library to create a random data array (100 rows x 50 columns), write the binary data, and read the binary data back in. We will learn more about these the numpy library in subsequent exercises."
   ]
  },
  {
   "cell_type": "code",
   "execution_count": null,
   "metadata": {},
   "outputs": [],
   "source": [
    "# create the random array\n",
    "arr = np.random.random(size=(100, 50))\n",
    "# create a file name\n",
    "fname = os.path.join(pthnb, 'random.dat')\n",
    "\n",
    "# open the file for writing\n",
    "f = open(fname, 'wb')\n",
    "# save arr to a binary file\n",
    "arr.tofile(f)\n",
    "# close the file\n",
    "f.close()\n",
    "\n",
    "\n",
    "# open the file for reading\n",
    "f = open(fname, 'rb')\n",
    "# read the data back in\n",
    "arr2 = np.fromfile(f)\n",
    "# reshape for comparison\n",
    "arr2 = arr2.reshape((100, 50))\n",
    "print(arr2.shape)\n",
    "# close the file\n",
    "f.close()"
   ]
  },
  {
   "cell_type": "markdown",
   "metadata": {},
   "source": [
    "In the open statement we added a **\"b\"** to the mode to tell Python that the files are binary rather than text files. The `np.fromfile()` method returns a one-dimensional vector which must be reshaped in order to compar it with the original two-dimensional array.\n",
    "\n",
    "the `np.ndarray.tofile()` and `np.fromfile()` methods can also handle the file opening and closing. A simpler version of the code block above is:\n",
    "\n",
    "```python\n",
    "# create the random array\n",
    "arr = np.random.random(size=(100, 50))\n",
    "# create a file name\n",
    "fname = os.path.join(pthnb, 'random.dat')\n",
    "\n",
    "# save arr to a binary file\n",
    "arr.tofile(fname)\n",
    "\n",
    "# read the data back in\n",
    "arr2 = np.fromfile(fname)\n",
    "```\n",
    "You can compare `arr` and `arr2` to confirm that the contents written to and read from `random.dat` are the same by entering the following the the blank code block below.\n",
    "\n",
    "```python\n",
    "np.array_equal(arr, arr2)\n",
    "```"
   ]
  },
  {
   "cell_type": "code",
   "execution_count": null,
   "metadata": {},
   "outputs": [],
   "source": []
  },
  {
   "cell_type": "markdown",
   "metadata": {},
   "source": [
    "For working with MODFLOW-based model results, flopy includes methods for reading data from binary files. We will learn more about flopy post-processing functionality in subsequent exercises.\n",
    "\n",
    "### An example\n",
    "Many useful line-processing programs will read a text file line-at-a-time and do some minor processing as they write the lines to an output file. They might number the lines in the output file, or insert extra blank lines after every 60 lines to make it convenient for printing on sheets of paper, or extract some specific columns only from each line in the source file, or only print lines that contain a specific substring. We call this kind of program a filter.\n",
    "\n",
    "Here is a filter that copies one file to another, omitting any lines that begin with #:"
   ]
  },
  {
   "cell_type": "code",
   "execution_count": null,
   "metadata": {},
   "outputs": [],
   "source": [
    "def filter(oldfile, newfile):\n",
    "     infile = open(oldfile, 'r')\n",
    "     outfile = open(newfile, 'w')\n",
    "     while True:\n",
    "         text = infile.readline()\n",
    "         if len(text) == 0:\n",
    "            break\n",
    "         if text[0] == '#':\n",
    "            continue\n",
    "\n",
    "         # Put any more processing logic here\n",
    "         outfile.write(text)\n",
    "\n",
    "     infile.close()\n",
    "     outfile.close()"
   ]
  },
  {
   "cell_type": "markdown",
   "metadata": {},
   "source": [
    "The `continue` statement skips over the remaining lines in the current iteration of the loop, but the loop will still iterate. This style looks a bit contrived here, but it is often useful to say *“get the lines we’re not concerned with out of the way early, so that we have cleaner more focused logic in the meaty part of the loop that might be written around line 11.”*\n",
    "\n",
    "Thus, if `text` is the empty string, the loop exits. If the first character of `text` is a hash mark, the flow of execution goes to the top of the loop, ready to start processing the next line. Only if both conditions fail do we fall through to do the processing at line 11, in this example, writing the line into the new file.\n",
    "\n",
    "Let’s consider one more case: suppose our original file contained empty lines. At the  `if len(text) == 0` line, would this program find the first empty line in the file, and terminate immediately? No! Recall that `readline` always includes the newline character in the string it returns. It is only when we try to read beyond the end of the file that we get back the empty string of length 0.\n",
    "\n",
    "### Class Activity 4\n",
    "Let's use the `filter` function to remove the comment lines from `'FileWithComments.txt'` and create `'FileWithOutComments.txt'`. Use one of the approaches discussed above to open, read, and print data in both files after calling the `filter` function. Use the Remember to use `os.path.join` to access the file in the `pthnb` directory. \n",
    "\n",
    "An example of how to do it this is:\n",
    "\n",
    "    fname = os.path.join(pthnb, 'FileWithComments.txt')\n",
    "    gname = os.path.join(pthnb, 'FileWithOutComments.txt')\n",
    "    filter(fname,gname)\n",
    "\n",
    "    names = [fname, gname]\n",
    "    for name in names:\n",
    "        print('processing...{0}'.format(os.path.basename(name)))\n",
    "        mynewhandle = open(name, 'r')\n",
    "        for theline in mynewhandle:\n",
    "            print(theline.rstrip())\n",
    "        mynewhandle.close()\n",
    "\n",
    "Use the blank code block below to complete this activity."
   ]
  },
  {
   "cell_type": "code",
   "execution_count": null,
   "metadata": {},
   "outputs": [],
   "source": []
  },
  {
   "cell_type": "markdown",
   "metadata": {},
   "source": [
    "### Retrieving data from the web\n",
    "You can access the web to copy content from a web URL file into memory or to a local file.\n",
    "\n",
    "First we will install a new python package from the web (more on this later). To do this open a command line and type\n",
    "\n",
    "```\n",
    "pip install hydrofunctions\n",
    "```\n",
    "\n",
    "This python class is a simple wrapper around the USGS Water Information System JSON API.\n",
    "\n",
    "Next we will import the hydrofunctions python class, and pandas so we can retrieve NWIS data and plot it. We will be using pandas since it provides an easy way to plot the data with matplotlib. We will learn more about these two python libraries in subsequent exercises."
   ]
  },
  {
   "cell_type": "code",
   "execution_count": null,
   "metadata": {},
   "outputs": [],
   "source": [
    "import hydrofunctions as hf\n",
    "import pandas as pd"
   ]
  },
  {
   "cell_type": "markdown",
   "metadata": {},
   "source": [
    "Next we will pull discharge data for the Mississippi River at St. Louis, MO (site number 07010000) for water year 2016 and then plot the data."
   ]
  },
  {
   "cell_type": "code",
   "execution_count": null,
   "metadata": {},
   "outputs": [],
   "source": [
    "site = '07010000'\n",
    "start = '2015-10-01'\n",
    "end = '2016-09-30'\n",
    "stl = hf.get_nwis(site, 'dv', start, end)\n",
    "stl.ok"
   ]
  },
  {
   "cell_type": "code",
   "execution_count": null,
   "metadata": {},
   "outputs": [],
   "source": [
    "# get the NWIS discharge data \n",
    "Q = hf.extract_nwis_df(stl.json())\n",
    "\n",
    "# plot the discharge data\n",
    "Q.plot()"
   ]
  },
  {
   "cell_type": "markdown",
   "metadata": {},
   "source": [
    "We can get stage data for the same gage by creating an instance of the usgs class and passing the '00065' parameterCd url parameneter."
   ]
  },
  {
   "cell_type": "code",
   "execution_count": null,
   "metadata": {},
   "outputs": [],
   "source": [
    "stl = hf.get_nwis(site, 'dv', start, end, parameterCd='00065')\n",
    "stl.ok"
   ]
  },
  {
   "cell_type": "code",
   "execution_count": null,
   "metadata": {},
   "outputs": [],
   "source": [
    "# get the NWIS stage data \n",
    "h = hf.extract_nwis_df(stl.json())\n",
    "\n",
    "# plot the stage data\n",
    "h.plot()"
   ]
  },
  {
   "cell_type": "markdown",
   "metadata": {},
   "source": [
    "### Class Activity 5 - *get data for another gage*\n",
    "In the blank code block below retrieve discharge and/or stage from the **CLEAR CREEK NEAR LAWSON, CO (USGS 06716500)** gage (or another gage of your choosing) and plot it up."
   ]
  },
  {
   "cell_type": "code",
   "execution_count": null,
   "metadata": {},
   "outputs": [],
   "source": []
  },
  {
   "cell_type": "markdown",
   "metadata": {},
   "source": [
    "Save the discharge or stage data for the gage you extracted to a csv file. One approach for doing this is:\n",
    "\n",
    "```python\n",
    "fname = os.path.join(pthnb, 'ClearCreekNearLawsonStage.csv')\n",
    "f = open(fname, 'w')\n",
    "for idx in range(h['value'].shape[0]):\n",
    "    f.write('{},{}\\n'.format(h.index[idx], h['value'][idx]))\n",
    "f.close()\n",
    "```"
   ]
  },
  {
   "cell_type": "code",
   "execution_count": null,
   "metadata": {},
   "outputs": [],
   "source": []
  },
  {
   "cell_type": "markdown",
   "metadata": {},
   "source": [
    "Information on how to specify different lengths of time to extract data using the `period` string can be found in the USGS time period documentation at <http://waterservices.usgs.gov/rest/IV-Service.html#Specifying>. The `period` parameter only accepts \"period\" values as explained in that documentation. A time range can be specified using `startDT` and `endDT` items in the `url_params` argument. See <http://waterservices.usgs.gov/rest/IV-Service.html> for a full list of parameters that can be specified in the `url_params` argument.\n",
    "\n",
    "Modify your script to extract 5 years of data using either the `period` or `url_params` argument."
   ]
  },
  {
   "cell_type": "code",
   "execution_count": null,
   "metadata": {},
   "outputs": [],
   "source": []
  }
 ],
 "metadata": {
  "kernelspec": {
   "display_name": "Python 3",
   "language": "python",
   "name": "python3"
  },
  "language_info": {
   "codemirror_mode": {
    "name": "ipython",
    "version": 3
   },
   "file_extension": ".py",
   "mimetype": "text/x-python",
   "name": "python",
   "nbconvert_exporter": "python",
   "pygments_lexer": "ipython3",
   "version": "3.7.3"
  }
 },
 "nbformat": 4,
 "nbformat_minor": 1
}
