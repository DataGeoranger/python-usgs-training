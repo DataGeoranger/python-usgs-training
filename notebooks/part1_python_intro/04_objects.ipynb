{
 "cells": [
  {
   "cell_type": "markdown",
   "metadata": {},
   "source": [
    "# Introduction to python for hydrologists &mdash; objects\n",
    "\n",
    "\n",
    "Python supports object-oriented programming. This is, in fact, *awesome*! It can, however, be confusing at first. Let's break it down...\n",
    "\n",
    "Staring with a few definitions. First of all, basically everything in Python is an object. You can think of the word \"object\" to mean \"thing\". Any of these things--or objects--has both `attributes` and `methods`. \n",
    "\n",
    "**Attributes** are just data associated with (or stored by) an object\n",
    "\n",
    "**Methods** are functions that do something with that data (or with other data).\n",
    "\n",
    "A **class** is a set of definitions for the data structure and methods of an object. You can think of this like a blueprint.\n",
    "\n",
    "An **instance** is an object using the definitions of a class. You can think of this as a building made from the blueprint.\n",
    "\n",
    "Let's try out some examples.\n",
    "\n",
    "## Attributes and Methods##"
   ]
  },
  {
   "cell_type": "code",
   "execution_count": null,
   "metadata": {},
   "outputs": [],
   "source": [
    "def hola():\n",
    "    print ('hello world')\n",
    "    return 42, 99"
   ]
  },
  {
   "cell_type": "code",
   "execution_count": null,
   "metadata": {},
   "outputs": [],
   "source": [
    "hola"
   ]
  },
  {
   "cell_type": "code",
   "execution_count": null,
   "metadata": {},
   "outputs": [],
   "source": [
    "meaning_of_life, almost_100 =hola()"
   ]
  },
  {
   "cell_type": "code",
   "execution_count": null,
   "metadata": {},
   "outputs": [],
   "source": [
    "meaning_of_life"
   ]
  },
  {
   "cell_type": "code",
   "execution_count": null,
   "metadata": {},
   "outputs": [],
   "source": [
    "almost_100"
   ]
  },
  {
   "cell_type": "code",
   "execution_count": null,
   "metadata": {},
   "outputs": [],
   "source": []
  },
  {
   "cell_type": "code",
   "execution_count": null,
   "metadata": {},
   "outputs": [],
   "source": [
    "class Person(object):\n",
    "    def __init__(self, input_name, input_fav):\n",
    "        self.name = input_name\n",
    "        self.fav = input_fav\n",
    "    def introduce_yourself(self):\n",
    "        print (\"Hi, I'm {0}. I like {1}\".format(self.name, self.fav))"
   ]
  },
  {
   "cell_type": "code",
   "execution_count": null,
   "metadata": {},
   "outputs": [],
   "source": [
    "Person"
   ]
  },
  {
   "cell_type": "code",
   "execution_count": null,
   "metadata": {},
   "outputs": [],
   "source": [
    "Fred = Person('Fredrick', 'beer')\n",
    "Fred.name"
   ]
  },
  {
   "cell_type": "code",
   "execution_count": null,
   "metadata": {},
   "outputs": [],
   "source": [
    "Fred"
   ]
  },
  {
   "cell_type": "code",
   "execution_count": null,
   "metadata": {},
   "outputs": [],
   "source": [
    "Fred.fav"
   ]
  },
  {
   "cell_type": "code",
   "execution_count": null,
   "metadata": {},
   "outputs": [],
   "source": [
    "Fred.introduce_yourself()"
   ]
  },
  {
   "cell_type": "markdown",
   "metadata": {},
   "source": [
    "## A More Useful Class*\n",
    "\\*marginally more useful"
   ]
  },
  {
   "cell_type": "code",
   "execution_count": null,
   "metadata": {},
   "outputs": [],
   "source": [
    "class rectangle(object):\n",
    "    \"\"\"\n",
    "    this is a doc string\n",
    "    \"\"\"\n",
    "    #this is just a comment\n",
    "    def __init__(self, x, y, ID):\n",
    "        self.length = x\n",
    "        self.width = y\n",
    "        self.ID = ID\n",
    "        \n",
    "print (rectangle)"
   ]
  },
  {
   "cell_type": "code",
   "execution_count": null,
   "metadata": {},
   "outputs": [],
   "source": [
    "r1 = rectangle(2,3,'f')\n",
    "print(r1.length)\n",
    "print(r1.ID)\n",
    "r2 = rectangle(5,5,'dd')"
   ]
  },
  {
   "cell_type": "code",
   "execution_count": null,
   "metadata": {},
   "outputs": [],
   "source": [
    "r2.length"
   ]
  },
  {
   "cell_type": "code",
   "execution_count": null,
   "metadata": {},
   "outputs": [],
   "source": [
    "all_my_rectangles = [r1,r2]\n"
   ]
  },
  {
   "cell_type": "code",
   "execution_count": null,
   "metadata": {},
   "outputs": [],
   "source": [
    "all_my_rectangles[0].length"
   ]
  },
  {
   "cell_type": "code",
   "execution_count": null,
   "metadata": {},
   "outputs": [],
   "source": []
  },
  {
   "cell_type": "code",
   "execution_count": null,
   "metadata": {},
   "outputs": [],
   "source": []
  },
  {
   "cell_type": "markdown",
   "metadata": {},
   "source": [
    "Here, we've set up a class from which we can create instances later. Note that the syntax looks like a function. There are a couple strange things that deserve an explanation.\n",
    "\n",
    "* The argument `object` is technically optional and has to do with inheritence (which we will not really cover in this class). \n",
    "* It is common to include at least one method\n",
    "* `__init__` is a special operator that initializes the class. \n",
    "* The first argument of `__init__` and really any method of a class is `self`.\n",
    "\n",
    "### More about `self`###\n",
    "`self` is the instance of the class that is being operated on. One could use a different name, but it is convention (deeply seated!!) to use `self`. A nice explanation is found on [Stack Overflow](http://stackoverflow.com/questions/2709821/python-self-explained) and Guido van Rossum wrote an essay on [why explicit self can't go away](http://neopythonic.blogspot.com/2008/10/why-explicit-self-has-to-stay.html). \n",
    "\n",
    "Here's one more explanation of the use and need for `self` [self history](https://docs.python.org/2/faq/design.html#why-must-self-be-used-explicitly-in-method-definitions-and-calls).\n",
    "\n",
    "Basically, it comes down to `Explicit is better then implicit`. We want to know explicitly that we are working on an a property of the object we are defining rather than some other function or variable that might be globally defined.\n",
    "\n",
    "Now let's make an instance and try all this out."
   ]
  },
  {
   "cell_type": "code",
   "execution_count": null,
   "metadata": {},
   "outputs": [],
   "source": [
    "big_rectangle = rectangle(25, 35, 'rectangle one')\n",
    "big_rectangle\n",
    "vars(big_rectangle)"
   ]
  },
  {
   "cell_type": "code",
   "execution_count": null,
   "metadata": {},
   "outputs": [],
   "source": [
    "big_rectangle.length\n"
   ]
  },
  {
   "cell_type": "markdown",
   "metadata": {},
   "source": [
    "We see now that we've made an instance and it is of the type `rectangle`. We can check out the attributes using a dot (`.`)."
   ]
  },
  {
   "cell_type": "code",
   "execution_count": null,
   "metadata": {},
   "outputs": [],
   "source": [
    "print(big_rectangle.width)\n",
    "print(big_rectangle.length)\n",
    "print(big_rectangle.ID)"
   ]
  },
  {
   "cell_type": "markdown",
   "metadata": {},
   "source": [
    "We can use this set of attributes as a kind of database.\n",
    "\n",
    "### Questions### \n",
    "* How could we make a group of rectangles of varying lengths and widths?\n",
    "    * We could make each attribute a list.\n",
    "    * We could make a list of instances with a member for each rectangle."
   ]
  },
  {
   "cell_type": "code",
   "execution_count": null,
   "metadata": {},
   "outputs": [],
   "source": [
    "myrectangles = rectangle([25,78], [44,42], ['r1','r2'])\n",
    "print(myrectangles)\n",
    "myrectangles.width[0]\n"
   ]
  },
  {
   "cell_type": "code",
   "execution_count": null,
   "metadata": {},
   "outputs": [],
   "source": [
    "myrectangles_better = list()\n",
    "myrectangles_better.append(rectangle(25,44,'r1'))\n",
    "myrectangles_better.append(rectangle(78,42,'r2'))\n",
    "myrectangles_better"
   ]
  },
  {
   "cell_type": "code",
   "execution_count": null,
   "metadata": {},
   "outputs": [],
   "source": [
    "myrectangles_better[1].length"
   ]
  },
  {
   "cell_type": "markdown",
   "metadata": {},
   "source": [
    "### Test your skills###\n",
    "Could we do this is a dictionary rather than a list?"
   ]
  },
  {
   "cell_type": "markdown",
   "metadata": {},
   "source": [
    "\n",
    "keys ---> 'R1'   'R2'"
   ]
  },
  {
   "cell_type": "code",
   "execution_count": null,
   "metadata": {},
   "outputs": [],
   "source": []
  },
  {
   "cell_type": "code",
   "execution_count": null,
   "metadata": {},
   "outputs": [],
   "source": []
  },
  {
   "cell_type": "code",
   "execution_count": null,
   "metadata": {},
   "outputs": [],
   "source": []
  },
  {
   "cell_type": "code",
   "execution_count": null,
   "metadata": {},
   "outputs": [],
   "source": []
  },
  {
   "cell_type": "markdown",
   "metadata": {},
   "source": [
    "There are advantages to both approaches. It would also be possible to define each attribute as a list or dictionary and make a single class. This is a bit more cumbersome, though, and part of the flexibility of dynamic lists and dictionaries is the ability to define multiple objects within them on the fly."
   ]
  },
  {
   "cell_type": "markdown",
   "metadata": {},
   "source": [
    "## Methods##\n",
    "\n",
    "Now say we want to operate on these data, like to calculate the area of each rectangle."
   ]
  },
  {
   "cell_type": "markdown",
   "metadata": {},
   "source": [
    "### Test your skills###\n",
    "In the blank code block below, calculate the areas for each rectangle using a loop."
   ]
  },
  {
   "cell_type": "code",
   "execution_count": null,
   "metadata": {},
   "outputs": [],
   "source": []
  },
  {
   "cell_type": "code",
   "execution_count": null,
   "metadata": {},
   "outputs": [],
   "source": []
  },
  {
   "cell_type": "code",
   "execution_count": null,
   "metadata": {},
   "outputs": [],
   "source": []
  },
  {
   "cell_type": "markdown",
   "metadata": {},
   "source": [
    "Is there a more efficient way do this if we know, for example, that area will be of interest?\n",
    "\n",
    "We can create a method at definition of the class that uses the attributes of `length` and `width` to derive area if called and store it as an additional attribute."
   ]
  },
  {
   "cell_type": "code",
   "execution_count": null,
   "metadata": {},
   "outputs": [],
   "source": [
    "class rectangle(object):\n",
    "    def __init__(self, x, y, ID):\n",
    "        self.length = x\n",
    "        self.width = y\n",
    "        self.ID = ID\n",
    "    \n",
    "    def calc_area(self):\n",
    "        # we only pass self because there are no additional attributes of concern\n",
    "        self.area = self.length * self.width"
   ]
  },
  {
   "cell_type": "code",
   "execution_count": null,
   "metadata": {},
   "outputs": [],
   "source": [
    "rr = rectangle(3,4,'this')\n",
    "vars(rr)"
   ]
  },
  {
   "cell_type": "code",
   "execution_count": null,
   "metadata": {},
   "outputs": [],
   "source": [
    "rr.calc_area()\n",
    "rr.__dict__"
   ]
  },
  {
   "cell_type": "markdown",
   "metadata": {},
   "source": [
    "Let's make our list of `rectangle` objects again, but use a method to calculate the areas."
   ]
  },
  {
   "cell_type": "code",
   "execution_count": null,
   "metadata": {},
   "outputs": [],
   "source": [
    "all_rectangles = list()\n",
    "all_rectangles.append(rectangle(35,25,'rectangle one'))\n",
    "all_rectangles.append(rectangle(150, 1000, 'big dog'))\n",
    "vars(all_rectangles[0])\n",
    "all_rectangles[0].__dict__"
   ]
  },
  {
   "cell_type": "code",
   "execution_count": null,
   "metadata": {},
   "outputs": [],
   "source": [
    "for csqr in all_rectangles:\n",
    "    csqr.calc_area()"
   ]
  },
  {
   "cell_type": "code",
   "execution_count": null,
   "metadata": {},
   "outputs": [],
   "source": [
    "\n",
    "    \n",
    "# let's loop over again to show the area\n",
    "for csqr in all_rectangles:\n",
    "    print (csqr.area)\n",
    "vars(all_rectangles[0])"
   ]
  },
  {
   "cell_type": "markdown",
   "metadata": {},
   "source": [
    "We could even incorporate calculations into the `__init__` consrtructor so the area is calculated on instantiation. "
   ]
  },
  {
   "cell_type": "code",
   "execution_count": null,
   "metadata": {},
   "outputs": [],
   "source": [
    "class rectangle(object):\n",
    "    def __init__(self, x, y, ID):\n",
    "        self.length = x\n",
    "        self.width = y\n",
    "        self.area = x*y\n",
    "        self.ID = ID\n",
    "    "
   ]
  },
  {
   "cell_type": "code",
   "execution_count": null,
   "metadata": {},
   "outputs": [],
   "source": [
    "rr = rectangle(4,5,'bummer')\n",
    "rr.__dict__"
   ]
  },
  {
   "cell_type": "code",
   "execution_count": null,
   "metadata": {},
   "outputs": [],
   "source": [
    "rr.length=100\n",
    "rr.__dict__"
   ]
  },
  {
   "cell_type": "code",
   "execution_count": null,
   "metadata": {},
   "outputs": [],
   "source": [
    "all_rectangles = list()\n",
    "all_rectangles.append(rectangle(35,25,'rectangle one'))\n",
    "all_rectangles.append(rectangle(150, 1000, 'big dog'))\n",
    "vars(all_rectangles[0])"
   ]
  },
  {
   "cell_type": "markdown",
   "metadata": {},
   "source": [
    "Explaining why an object might be better than a function (in pseudocode land--don't run it!)\n",
    "```python\n",
    "def read_file(filename):\n",
    "    lasjdhlaslkjfw\n",
    "    return minx, miny, dx, ncol\n",
    "minx,miny,dx,ncol = read_file('input.dat')\n",
    "\n",
    "class file_reader:\n",
    "    def __init__(self,filename):\n",
    "        # read a file and do stuff\n",
    "        self.minx = 5\n",
    "        self.miny = 50\n",
    "        ...\n",
    "        \n",
    "inputstuff = file_reader('input.dat')\n",
    "inputstuff.minx \n",
    "```        "
   ]
  },
  {
   "cell_type": "code",
   "execution_count": null,
   "metadata": {},
   "outputs": [],
   "source": [
    "def stupid_function(a,b,c):\n",
    "    d = a*2\n",
    "    e = b-3\n",
    "    g = c**7\n",
    "    print (d)\n",
    "    return d,e,g"
   ]
  },
  {
   "cell_type": "code",
   "execution_count": null,
   "metadata": {},
   "outputs": [],
   "source": [
    "oute, outd, outg = stupid_function(3,4,5)"
   ]
  },
  {
   "cell_type": "code",
   "execution_count": null,
   "metadata": {},
   "outputs": [],
   "source": [
    "class rad(object):\n",
    "    def __init__(self, a, b, c):\n",
    "        self.d = a*2\n",
    "        self.e = b-3\n",
    "        self.g = c**7\n",
    "        print (self.d)        "
   ]
  },
  {
   "cell_type": "code",
   "execution_count": null,
   "metadata": {},
   "outputs": [],
   "source": [
    "this_instance = rad(3,4,5)"
   ]
  },
  {
   "cell_type": "code",
   "execution_count": null,
   "metadata": {},
   "outputs": [],
   "source": [
    "vars(this_instance)"
   ]
  },
  {
   "cell_type": "code",
   "execution_count": null,
   "metadata": {},
   "outputs": [],
   "source": [
    "this_instance.g"
   ]
  },
  {
   "cell_type": "code",
   "execution_count": null,
   "metadata": {},
   "outputs": [],
   "source": []
  },
  {
   "cell_type": "code",
   "execution_count": null,
   "metadata": {},
   "outputs": [],
   "source": []
  },
  {
   "cell_type": "code",
   "execution_count": null,
   "metadata": {},
   "outputs": [],
   "source": []
  },
  {
   "cell_type": "markdown",
   "metadata": {},
   "source": [
    "## Operator and Special Method Overloading\\*##\n",
    "\n",
    "One special thing we can do is overload operators. This means we can customize the behavior that an object (as an instance of a class) will exhibit when called. The `__init__` constructor was an example of this which we have done something similar already. When an instance is made from a class, whatever is defined in `__init__` is performed as part of creating the instance which is effectively _overloading_ the special method `__init__`.\n",
    "\n",
    "Another really common example is `__str__`. This function provides a string for Python to display when `print` of `str` is called on an object.\n",
    "\n",
    "Looking at the example of `rectangle` objects we used above. \n",
    "\n",
    "\\*N.B. --> The concept of `overloading` is different in Python than in FORTRAN. Also, there appears to be a lack of precision about the use of the terms `overload` and `override`. I'm using the terminology from the _O' Reilly_ book here, but note that you might find other people using `override` instead. The concept in this case is the same."
   ]
  },
  {
   "cell_type": "code",
   "execution_count": null,
   "metadata": {},
   "outputs": [],
   "source": [
    "# define the rectangle class\n",
    "class rectangle(object):\n",
    "    def __init__(self, x, y):\n",
    "        self.length = x\n",
    "        self.width = y\n",
    "        self.area = x*y\n",
    "    \n",
    "    def __str__(self):\n",
    "        return 'I am a rectangle object and, therefore, AWESOME!'\n",
    "\n",
    "# create an instance\n",
    "this_rectangle = rectangle(5,5)\n",
    "print (this_rectangle)\n",
    "this_rectangle\n",
    "\n"
   ]
  },
  {
   "cell_type": "code",
   "execution_count": null,
   "metadata": {},
   "outputs": [],
   "source": [
    "print (all_rectangles[0])"
   ]
  },
  {
   "cell_type": "markdown",
   "metadata": {},
   "source": [
    "Notice that this prints out a default string telling us the `rectangle` is an object in this code (e.g. under `__main__`). But, we can _overload_ and provide a more useful return string using `__repr__`. This serves the same purpose as `__str__` but also returns the string in other circumstances.\n",
    "\n",
    "What's the difference between `__repr__` and `__str__`? The Diet Mountain Dew crew has discussed this [here](http://stackoverflow.com/questions/1436703/difference-between-str-and-repr-in-python)"
   ]
  },
  {
   "cell_type": "code",
   "execution_count": null,
   "metadata": {},
   "outputs": [],
   "source": [
    "# define the rectangle class (with ID again)\n",
    "class rectangle(object):\n",
    "    def __init__(self, x, y, ID):\n",
    "        self.length = x\n",
    "        self.width = y\n",
    "        self.area = x*y\n",
    "        self.name = ID\n",
    "\n",
    "    def __repr__(self):\n",
    "         return 'This rectangle is named: {3} x = {0}, y = {1}, and area = {2}'.format(self.length,\n",
    "                                                        self.width,\n",
    "                                                        self.area,\n",
    "                                                        self.name)"
   ]
  },
  {
   "cell_type": "code",
   "execution_count": null,
   "metadata": {},
   "outputs": [],
   "source": [
    "# create an instance\n",
    "this_rectangle = rectangle(5,5, 'square!')\n",
    "that_rectangle = rectangle(25,35, 'square_isnot!')"
   ]
  },
  {
   "cell_type": "code",
   "execution_count": null,
   "metadata": {},
   "outputs": [],
   "source": [
    "print (this_rectangle)\n",
    "this_rectangle"
   ]
  },
  {
   "cell_type": "markdown",
   "metadata": {},
   "source": [
    "We can even overload other operators like `__add__` which will control what happens when this object is added to another.\n",
    "\n",
    "A complete list of which special methods and operators can be overloaded is found [here](https://docs.python.org/2/reference/datamodel.html) or [here](http://rgruet.free.fr/PQR26/PQR2.6.html#SpecialMethods)."
   ]
  },
  {
   "cell_type": "code",
   "execution_count": null,
   "metadata": {},
   "outputs": [],
   "source": [
    "this_rectangle + that_rectangle"
   ]
  },
  {
   "cell_type": "code",
   "execution_count": null,
   "metadata": {},
   "outputs": [],
   "source": [
    "# define the rectangle class (with ID again)\n",
    "class rectangle(object):\n",
    "    def __init__(self, x, y, ID):\n",
    "        self.length = x\n",
    "        self.width = y\n",
    "        self.area = x*y\n",
    "        self.name = ID\n",
    "        self.trash = None\n",
    "        \n",
    "    def __repr__(self):\n",
    "         return 'This rectangle is: {3} x = {0}, y = {1}, and area = {2}'.format(self.length,\n",
    "                                                        self.width,\n",
    "                                                        self.area,\n",
    "                                                        self.name)\n",
    "    def __add__(self,other):\n",
    "        print ('that is a stooopid idea!')\n",
    "    "
   ]
  },
  {
   "cell_type": "code",
   "execution_count": null,
   "metadata": {},
   "outputs": [],
   "source": [
    "    # create an instance\n",
    "this_rectangle = rectangle(5,5, 'square!')\n",
    "print (this_rectangle)\n",
    "that_rectangle = rectangle(6,7, 'notasquare')\n",
    "print (that_rectangle)"
   ]
  },
  {
   "cell_type": "code",
   "execution_count": null,
   "metadata": {},
   "outputs": [],
   "source": [
    "this_rectangle + that_rectangle"
   ]
  },
  {
   "cell_type": "markdown",
   "metadata": {},
   "source": [
    "### Test your skills -- overload `__add__` so that adding two rectangles adds their areas###\n",
    "Start with the definition we just made. HINT: you will need to represent the other object with `other`."
   ]
  },
  {
   "cell_type": "code",
   "execution_count": null,
   "metadata": {},
   "outputs": [],
   "source": [
    "# define the rectangle class (with ID again)\n",
    "class rectangle(object):\n",
    "    def __init__(self, x, y, ID):\n",
    "        self.length = x\n",
    "        self.width = y\n",
    "        self.area = x*y\n",
    "        self.name = ID\n",
    "        self.trash = None\n",
    "        \n",
    "    def __repr__(self):\n",
    "         return 'This rectangle is: {3} x = {0}, y = {1}, and area = {2}'.format(self.length,\n",
    "                                                        self.width,\n",
    "                                                        self.area,\n",
    "                                                        self.name)\n",
    "    def __add__(self,other):\n",
    "        print (self.area + other.area)"
   ]
  },
  {
   "cell_type": "code",
   "execution_count": null,
   "metadata": {},
   "outputs": [],
   "source": [
    "    # create an instance\n",
    "this_rectangle = rectangle(5,5, 'square!')\n",
    "print (this_rectangle)\n",
    "that_rectangle = rectangle(6,7, 'notasquare')\n",
    "print (that_rectangle)"
   ]
  },
  {
   "cell_type": "code",
   "execution_count": null,
   "metadata": {},
   "outputs": [],
   "source": [
    "this_rectangle + that_rectangle"
   ]
  },
  {
   "cell_type": "markdown",
   "metadata": {},
   "source": [
    "Operator overloading is **powerful!!** Use with caution!"
   ]
  },
  {
   "cell_type": "markdown",
   "metadata": {},
   "source": [
    "# Object-oriented programming (OOP)#\n",
    "\n",
    "In the O'Reilly book _Learning Python, 5th Edition_ is a great discussion about Object-Oriented Programming. The author makes ths distinction that much of what we are doing with Python is _object-based_ but to truly be object-oriented, we need to also use something called inheritence.\n",
    "\n"
   ]
  },
  {
   "cell_type": "markdown",
   "metadata": {},
   "source": [
    "# Inheritence#\n",
    "Let's revisit our class for rectangles without the overloading of `__add__`"
   ]
  },
  {
   "cell_type": "code",
   "execution_count": null,
   "metadata": {},
   "outputs": [],
   "source": [
    "class rectangle(object):\n",
    "    def __init__(self, x, y, ID):\n",
    "        self.length = x\n",
    "        self.width = y\n",
    "        self.name = ID\n",
    "        self.area = x*y\n",
    "\n",
    "    def calc_area(self):\n",
    "        # we only pass self because there are no additional attributes of concern\n",
    "        self.area = self.length * self.width\n",
    "    \n",
    "    \n",
    "    def __repr__(self):\n",
    "         return 'This rectangle is named: {3} x = {0}, y = {1}, and area = {2}'.format(self.length,\n",
    "                                                        self.width,\n",
    "                                                        self.area,\n",
    "                                                        self.name)        "
   ]
  },
  {
   "cell_type": "markdown",
   "metadata": {},
   "source": [
    "We can _inherit_ these characteristics (the methods and properties) in a new kind of class that has a custom bit of functionality. Say we would like to add to the `__init__` constructor the ability to calculate the perimiter.\n",
    "\n",
    "We can redefine a new class _inheriting_ the rectangle attributes and methods, but then add the new functionality on top of it."
   ]
  },
  {
   "cell_type": "code",
   "execution_count": null,
   "metadata": {},
   "outputs": [],
   "source": [
    "class rect_w_perim(rectangle):\n",
    "    def calc_perim(self):\n",
    "        self.perim = 2*self.width + 2*self.length\n",
    "        return 'junk'\n",
    "    def __repr__(self):\n",
    "        return 'This rectangle is: {3} x = {0}, y = {1}, and perimeter = {2}'.format(self.length,\n",
    "                                                    self.width,\n",
    "                                                    self.perim,\n",
    "                                                    self.name)   "
   ]
  },
  {
   "cell_type": "markdown",
   "metadata": {},
   "source": [
    "Notice a couple things here:\n",
    "\n",
    "1. We didn't make an `__init__` method, but that was inherited from the super class `rectangle`\n",
    "2. The previous methods `calc_area` and `__repr__` were inherited as well\n",
    "3. We added the `calc_perim` method and the result has all attributes and methods of both the super class and this sub class we derived from it."
   ]
  },
  {
   "cell_type": "code",
   "execution_count": null,
   "metadata": {},
   "outputs": [],
   "source": [
    "p = rect_w_perim(4,5,'notasquare')\n",
    "p.__dict__\n",
    "dir(rect_w_perim)\n",
    "p"
   ]
  },
  {
   "cell_type": "code",
   "execution_count": null,
   "metadata": {},
   "outputs": [],
   "source": [
    "p.calc_perim()"
   ]
  },
  {
   "cell_type": "code",
   "execution_count": null,
   "metadata": {},
   "outputs": [],
   "source": [
    "p"
   ]
  },
  {
   "cell_type": "markdown",
   "metadata": {},
   "source": [
    "The error calling `__repr__` was because we hadn't called the `calc_perim()` method yet. So we can update `__init__` to include calculating the perimeter.\n",
    "\n"
   ]
  },
  {
   "cell_type": "code",
   "execution_count": null,
   "metadata": {},
   "outputs": [],
   "source": [
    "class rect_w_perim(rectangle):\n",
    "    def __init__(self, *args):\n",
    "        super(self.__class__, self).__init__(*args)\n",
    "        self.calc_perim()\n",
    "    def calc_perim(self):\n",
    "        self.perim = 2*self.width + 2*self.length\n",
    "        return 'junk'\n",
    "    def __repr__(self):\n",
    "        return 'This rectangle is: {3} x = {0}, y = {1}, and perimeter = {2}'.format(self.length,\n",
    "                                                    self.width,\n",
    "                                                    self.perim,\n",
    "                                                    self.name)   "
   ]
  },
  {
   "cell_type": "code",
   "execution_count": null,
   "metadata": {},
   "outputs": [],
   "source": [
    "p = rect_w_perim(4,5,'notasquare')\n",
    "p.__dict__\n",
    "dir(rect_w_perim)\n",
    "p"
   ]
  },
  {
   "cell_type": "code",
   "execution_count": null,
   "metadata": {},
   "outputs": [],
   "source": [
    "p.__class__"
   ]
  },
  {
   "cell_type": "code",
   "execution_count": null,
   "metadata": {},
   "outputs": [],
   "source": []
  }
 ],
 "metadata": {
  "anaconda-cloud": {},
  "kernelspec": {
   "display_name": "Python 3",
   "language": "python",
   "name": "python3"
  },
  "language_info": {
   "codemirror_mode": {
    "name": "ipython",
    "version": 3
   },
   "file_extension": ".py",
   "mimetype": "text/x-python",
   "name": "python",
   "nbconvert_exporter": "python",
   "pygments_lexer": "ipython3",
   "version": "3.6.4"
  }
 },
 "nbformat": 4,
 "nbformat_minor": 1
}
