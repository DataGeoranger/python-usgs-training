{
 "cells": [
  {
   "cell_type": "code",
   "execution_count": 1,
   "metadata": {},
   "outputs": [
    {
     "name": "stdout",
     "output_type": "stream",
     "text": [
      "hello world!\n"
     ]
    }
   ],
   "source": [
    "print('hello world!')"
   ]
  },
  {
   "cell_type": "code",
   "execution_count": 2,
   "metadata": {},
   "outputs": [],
   "source": [
    "import numpy as np\n",
    "import flopy\n",
    "%matplotlib inline\n",
    "\n",
    "# Assign name and create modflow model object\n",
    "modelname = 'tutorial1'\n",
    "mf = flopy.modflow.Modflow(modelname, exe_name='mf2005')\n",
    "\n",
    "# Model domain and grid definition\n",
    "Lx = 1000.\n",
    "Ly = 1000.\n",
    "ztop = 0.\n",
    "zbot = -50.\n",
    "nlay = 1\n",
    "nrow = 10\n",
    "ncol = 10\n",
    "delr = Lx/ncol\n",
    "delc = Ly/nrow\n",
    "delv = (ztop - zbot) / nlay\n",
    "botm = np.linspace(ztop, zbot, nlay + 1)\n",
    "\n",
    "# Create the discretization object\n",
    "dis = flopy.modflow.ModflowDis(mf, nlay, nrow, ncol, delr=delr, delc=delc,\n",
    "                               top=ztop, botm=botm[1:])\n",
    "\n",
    "# Variables for the BAS package\n",
    "ibound = np.ones((nlay, nrow, ncol), dtype=np.int32)\n",
    "ibound[:, :, 0] = -1\n",
    "ibound[:, :, -1] = -1\n",
    "strt = np.ones((nlay, nrow, ncol), dtype=np.float32)\n",
    "strt[:, :, 0] = 10.\n",
    "strt[:, :, -1] = 0.\n",
    "bas = flopy.modflow.ModflowBas(mf, ibound=ibound, strt=strt)\n",
    "\n",
    "# Add LPF package to the MODFLOW model\n",
    "lpf = flopy.modflow.ModflowLpf(mf, hk=10., vka=10., ipakcb=53)\n",
    "\n",
    "# Add OC package to the MODFLOW model\n",
    "spd = {(0, 0): ['print head', 'print budget', 'save head', 'save budget']}\n",
    "oc = flopy.modflow.ModflowOc(mf, stress_period_data=spd, compact=True)\n",
    "\n",
    "# Add PCG package to the MODFLOW model\n",
    "pcg = flopy.modflow.ModflowPcg(mf)\n",
    "\n",
    "# Write the MODFLOW model input files\n",
    "mf.write_input()\n",
    "\n",
    "# Run the MODFLOW model\n",
    "success, buff = mf.run_model()\n",
    "\n",
    "# Post process the results\n",
    "import matplotlib.pyplot as plt\n",
    "import flopy.utils.binaryfile as bf\n",
    "\n",
    "plt.subplot(1, 1, 1, aspect='equal')\n",
    "hds = bf.HeadFile(modelname + '.hds')\n",
    "head = hds.get_data(totim=1.0)\n",
    "levels = np.arange(1, 10, 1)\n",
    "extent = (delr / 2., Lx - delr / 2., Ly - delc / 2., delc / 2.)\n",
    "plt.contour(head[0, :, :], levels=levels, extent=extent)\n",
    "plt.savefig('tutorial1a.png')\n",
    "\n",
    "fig = plt.figure(figsize=(10,10))\n",
    "ax = fig.add_subplot(1, 1, 1, aspect='equal')\n",
    "\n",
    "hds = bf.HeadFile(modelname+'.hds')\n",
    "times = hds.get_times()\n",
    "head = hds.get_data(totim=times[-1])\n",
    "levels = np.linspace(0, 10, 11)\n",
    "\n",
    "cbb = bf.CellBudgetFile(modelname+'.cbc')\n",
    "kstpkper_list = cbb.get_kstpkper()\n",
    "frf = cbb.get_data(text='FLOW RIGHT FACE', totim=times[-1])[0]\n",
    "fff = cbb.get_data(text='FLOW FRONT FACE', totim=times[-1])[0]\n",
    "\n",
    "modelmap = flopy.plot.ModelMap(model=mf, layer=0)\n",
    "qm = modelmap.plot_ibound()\n",
    "lc = modelmap.plot_grid()\n",
    "cs = modelmap.contour_array(head, levels=levels)\n",
    "quiver = modelmap.plot_discharge(frf, fff, head=head)\n",
    "plt.savefig('tutorial1b.png')"
   ]
  },
  {
   "cell_type": "code",
   "execution_count": null,
   "metadata": {},
   "outputs": [],
   "source": []
  }
 ],
 "metadata": {
  "kernelspec": {
   "display_name": "Python 3",
   "language": "python",
   "name": "python3"
  },
  "language_info": {
   "codemirror_mode": {
    "name": "ipython",
    "version": 3
   },
   "file_extension": ".py",
   "mimetype": "text/x-python",
   "name": "python",
   "nbconvert_exporter": "python",
   "pygments_lexer": "ipython3",
   "version": "3.6.8"
  }
 },
 "nbformat": 4,
 "nbformat_minor": 2
}
